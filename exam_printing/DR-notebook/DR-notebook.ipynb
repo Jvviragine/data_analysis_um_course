{
 "cells": [
  {
   "cell_type": "markdown",
   "id": "badbeb4d",
   "metadata": {
    "colab_type": "text",
    "id": "i_f5u2x9nn6I",
    "slideshow": {
     "slide_type": "slide"
    }
   },
   "source": [
    "# Dimensionality Reduction (Notebook accompanying the lecture)"
   ]
  },
  {
   "cell_type": "code",
   "execution_count": 1,
   "id": "66f4a23c",
   "metadata": {
    "slideshow": {
     "slide_type": "skip"
    }
   },
   "outputs": [],
   "source": [
    "import pandas as pd\n",
    "import numpy as np\n",
    "import scipy as sp\n",
    "import matplotlib.pyplot as plt\n",
    "import plotly.express as px\n",
    "import plotly.io as pio\n",
    "import seaborn as sns\n",
    "pio.renderers.default = \"iframe\"\n",
    "#to get numbers in a nice format\n",
    "np.set_printoptions(suppress=True)"
   ]
  },
  {
   "cell_type": "markdown",
   "id": "083d758d",
   "metadata": {
    "slideshow": {
     "slide_type": "slide"
    }
   },
   "source": [
    "# 1. Visualization motivation\n",
    "\n",
    "In the following cells we will use visualization tools to push as far as we can in visualizing the MPG dataset in high-dimensional space:"
   ]
  },
  {
   "cell_type": "code",
   "execution_count": 2,
   "id": "ce592fb8",
   "metadata": {
    "scrolled": true,
    "slideshow": {
     "slide_type": "subslide"
    }
   },
   "outputs": [
    {
     "data": {
      "text/html": [
       "<div>\n",
       "<style scoped>\n",
       "    .dataframe tbody tr th:only-of-type {\n",
       "        vertical-align: middle;\n",
       "    }\n",
       "\n",
       "    .dataframe tbody tr th {\n",
       "        vertical-align: top;\n",
       "    }\n",
       "\n",
       "    .dataframe thead th {\n",
       "        text-align: right;\n",
       "    }\n",
       "</style>\n",
       "<table border=\"1\" class=\"dataframe\">\n",
       "  <thead>\n",
       "    <tr style=\"text-align: right;\">\n",
       "      <th></th>\n",
       "      <th>mpg</th>\n",
       "      <th>cylinders</th>\n",
       "      <th>displacement</th>\n",
       "      <th>horsepower</th>\n",
       "      <th>weight</th>\n",
       "      <th>acceleration</th>\n",
       "      <th>model_year</th>\n",
       "      <th>origin</th>\n",
       "      <th>name</th>\n",
       "    </tr>\n",
       "  </thead>\n",
       "  <tbody>\n",
       "    <tr>\n",
       "      <th>0</th>\n",
       "      <td>18.0</td>\n",
       "      <td>8</td>\n",
       "      <td>307.0</td>\n",
       "      <td>130.0</td>\n",
       "      <td>3504</td>\n",
       "      <td>12.0</td>\n",
       "      <td>70</td>\n",
       "      <td>usa</td>\n",
       "      <td>chevrolet chevelle malibu</td>\n",
       "    </tr>\n",
       "    <tr>\n",
       "      <th>1</th>\n",
       "      <td>15.0</td>\n",
       "      <td>8</td>\n",
       "      <td>350.0</td>\n",
       "      <td>165.0</td>\n",
       "      <td>3693</td>\n",
       "      <td>11.5</td>\n",
       "      <td>70</td>\n",
       "      <td>usa</td>\n",
       "      <td>buick skylark 320</td>\n",
       "    </tr>\n",
       "    <tr>\n",
       "      <th>2</th>\n",
       "      <td>18.0</td>\n",
       "      <td>8</td>\n",
       "      <td>318.0</td>\n",
       "      <td>150.0</td>\n",
       "      <td>3436</td>\n",
       "      <td>11.0</td>\n",
       "      <td>70</td>\n",
       "      <td>usa</td>\n",
       "      <td>plymouth satellite</td>\n",
       "    </tr>\n",
       "    <tr>\n",
       "      <th>3</th>\n",
       "      <td>16.0</td>\n",
       "      <td>8</td>\n",
       "      <td>304.0</td>\n",
       "      <td>150.0</td>\n",
       "      <td>3433</td>\n",
       "      <td>12.0</td>\n",
       "      <td>70</td>\n",
       "      <td>usa</td>\n",
       "      <td>amc rebel sst</td>\n",
       "    </tr>\n",
       "    <tr>\n",
       "      <th>4</th>\n",
       "      <td>17.0</td>\n",
       "      <td>8</td>\n",
       "      <td>302.0</td>\n",
       "      <td>140.0</td>\n",
       "      <td>3449</td>\n",
       "      <td>10.5</td>\n",
       "      <td>70</td>\n",
       "      <td>usa</td>\n",
       "      <td>ford torino</td>\n",
       "    </tr>\n",
       "  </tbody>\n",
       "</table>\n",
       "</div>"
      ],
      "text/plain": [
       "    mpg  cylinders  displacement  horsepower  weight  acceleration  \\\n",
       "0  18.0          8         307.0       130.0    3504          12.0   \n",
       "1  15.0          8         350.0       165.0    3693          11.5   \n",
       "2  18.0          8         318.0       150.0    3436          11.0   \n",
       "3  16.0          8         304.0       150.0    3433          12.0   \n",
       "4  17.0          8         302.0       140.0    3449          10.5   \n",
       "\n",
       "   model_year origin                       name  \n",
       "0          70    usa  chevrolet chevelle malibu  \n",
       "1          70    usa          buick skylark 320  \n",
       "2          70    usa         plymouth satellite  \n",
       "3          70    usa              amc rebel sst  \n",
       "4          70    usa                ford torino  "
      ]
     },
     "execution_count": 2,
     "metadata": {},
     "output_type": "execute_result"
    }
   ],
   "source": [
    "mpg = sns.load_dataset(\"mpg\").dropna()\n",
    "mpg.head()"
   ]
  },
  {
   "cell_type": "markdown",
   "id": "98bf2727",
   "metadata": {
    "slideshow": {
     "slide_type": "slide"
    }
   },
   "source": [
    "## Visualizing 1 Dimensional Data\n",
    "\n",
    "Easy!"
   ]
  },
  {
   "cell_type": "code",
   "execution_count": 3,
   "id": "31589199",
   "metadata": {
    "scrolled": false,
    "slideshow": {
     "slide_type": "fragment"
    }
   },
   "outputs": [
    {
     "data": {
      "text/html": [
       "<iframe\n",
       "    scrolling=\"no\"\n",
       "    width=\"100%\"\n",
       "    height=\"545px\"\n",
       "    src=\"iframe_figures/figure_3.html\"\n",
       "    frameborder=\"0\"\n",
       "    allowfullscreen\n",
       "></iframe>\n"
      ]
     },
     "metadata": {},
     "output_type": "display_data"
    }
   ],
   "source": [
    "px.histogram(mpg, x=\"displacement\")"
   ]
  },
  {
   "cell_type": "markdown",
   "id": "a04f0964",
   "metadata": {
    "slideshow": {
     "slide_type": "slide"
    }
   },
   "source": [
    "## Visualizing 2 Dimensional Data\n",
    "\n",
    "Easy!!"
   ]
  },
  {
   "cell_type": "code",
   "execution_count": 4,
   "id": "d871abf3",
   "metadata": {
    "scrolled": false,
    "slideshow": {
     "slide_type": "fragment"
    }
   },
   "outputs": [
    {
     "data": {
      "text/html": [
       "<iframe\n",
       "    scrolling=\"no\"\n",
       "    width=\"100%\"\n",
       "    height=\"545px\"\n",
       "    src=\"iframe_figures/figure_4.html\"\n",
       "    frameborder=\"0\"\n",
       "    allowfullscreen\n",
       "></iframe>\n"
      ]
     },
     "metadata": {},
     "output_type": "display_data"
    }
   ],
   "source": [
    "px.scatter(mpg, x=\"mpg\", y=\"horsepower\")"
   ]
  },
  {
   "cell_type": "markdown",
   "id": "6ec6e282",
   "metadata": {
    "slideshow": {
     "slide_type": "slide"
    }
   },
   "source": [
    "## Visualizing 3 Dimensional Data\n",
    "\n",
    "Easy?! 😬😬😬"
   ]
  },
  {
   "cell_type": "code",
   "execution_count": 5,
   "id": "b7760cf6",
   "metadata": {
    "scrolled": false,
    "slideshow": {
     "slide_type": "fragment"
    }
   },
   "outputs": [
    {
     "data": {
      "text/html": [
       "<iframe\n",
       "    scrolling=\"no\"\n",
       "    width=\"100%\"\n",
       "    height=\"545px\"\n",
       "    src=\"iframe_figures/figure_5.html\"\n",
       "    frameborder=\"0\"\n",
       "    allowfullscreen\n",
       "></iframe>\n"
      ]
     },
     "metadata": {},
     "output_type": "display_data"
    }
   ],
   "source": [
    "fig = px.scatter(mpg, x=\"mpg\", y=\"horsepower\", color=\"weight\")\n",
    "fig.update_traces(marker=dict(size=5))"
   ]
  },
  {
   "cell_type": "markdown",
   "id": "2d98345e",
   "metadata": {
    "slideshow": {
     "slide_type": "slide"
    }
   },
   "source": [
    "## Visualizing 4 Dimensional Data\n",
    "\n",
    "Really?"
   ]
  },
  {
   "cell_type": "code",
   "execution_count": 6,
   "id": "f442a420",
   "metadata": {
    "scrolled": false,
    "slideshow": {
     "slide_type": "fragment"
    }
   },
   "outputs": [
    {
     "data": {
      "text/html": [
       "<iframe\n",
       "    scrolling=\"no\"\n",
       "    width=\"820px\"\n",
       "    height=\"820\"\n",
       "    src=\"iframe_figures/figure_6.html\"\n",
       "    frameborder=\"0\"\n",
       "    allowfullscreen\n",
       "></iframe>\n"
      ]
     },
     "metadata": {},
     "output_type": "display_data"
    }
   ],
   "source": [
    "fig = px.scatter_3d(mpg, x=\"mpg\", \n",
    "                    y=\"horsepower\", \n",
    "                    z=\"weight\", \n",
    "                    color=\"model_year\",\n",
    "                    width=800, height=800, \n",
    "                    opacity=.7)\n",
    "fig.update_traces(marker=dict(size=5))"
   ]
  },
  {
   "cell_type": "markdown",
   "id": "252c6a9d",
   "metadata": {
    "slideshow": {
     "slide_type": "slide"
    }
   },
   "source": [
    "## Visualizing 6 Dimensional Data\n",
    "\n",
    "Really now??!"
   ]
  },
  {
   "cell_type": "code",
   "execution_count": 7,
   "id": "cb2284b2",
   "metadata": {
    "scrolled": false,
    "slideshow": {
     "slide_type": "fragment"
    }
   },
   "outputs": [
    {
     "data": {
      "text/html": [
       "<iframe\n",
       "    scrolling=\"no\"\n",
       "    width=\"920px\"\n",
       "    height=\"820\"\n",
       "    src=\"iframe_figures/figure_7.html\"\n",
       "    frameborder=\"0\"\n",
       "    allowfullscreen\n",
       "></iframe>\n"
      ]
     },
     "metadata": {},
     "output_type": "display_data"
    }
   ],
   "source": [
    "fig = px.scatter_3d(mpg, x=\"displacement\", \n",
    "                    y=\"horsepower\", \n",
    "                    z=\"weight\", \n",
    "                    color=\"model_year\",\n",
    "                    size=\"mpg\",\n",
    "                    symbol=\"origin\",\n",
    "                    width=900, height=800, \n",
    "                    opacity=.7)\n",
    "# remove heat map legend and freeze the axes\n",
    "fig.update_layout(coloraxis_showscale=False,\n",
    "                  scene=(dict(xaxis_range=[50, 500], \n",
    "                              yaxis_range=[40, 250], \n",
    "                              zaxis_range=[1000, 5000])))"
   ]
  },
  {
   "cell_type": "markdown",
   "id": "ca0e7add",
   "metadata": {
    "slideshow": {
     "slide_type": "slide"
    }
   },
   "source": [
    "Visualizing data in high-dimensional space is challenging. In general, the plots we made here can be *sometimes* helpful for *interactive* visualizations but can be difficult (if not impossible) to interpret in a static form.\n",
    "\n",
    "One common approach to visualizing high-dimensional data is to use dimensionality reduction techniques. These techniques aim to find a lower-dimensional representation of the data that captures the most important information."
   ]
  },
  {
   "cell_type": "code",
   "execution_count": 8,
   "id": "3f337d7d",
   "metadata": {
    "slideshow": {
     "slide_type": "slide"
    }
   },
   "outputs": [
    {
     "data": {
      "text/html": [
       "<div>\n",
       "<style scoped>\n",
       "    .dataframe tbody tr th:only-of-type {\n",
       "        vertical-align: middle;\n",
       "    }\n",
       "\n",
       "    .dataframe tbody tr th {\n",
       "        vertical-align: top;\n",
       "    }\n",
       "\n",
       "    .dataframe thead th {\n",
       "        text-align: right;\n",
       "    }\n",
       "</style>\n",
       "<table border=\"1\" class=\"dataframe\">\n",
       "  <thead>\n",
       "    <tr style=\"text-align: right;\">\n",
       "      <th></th>\n",
       "      <th>mpg</th>\n",
       "      <th>cylinders</th>\n",
       "      <th>displacement</th>\n",
       "      <th>horsepower</th>\n",
       "      <th>weight</th>\n",
       "      <th>acceleration</th>\n",
       "      <th>model_year</th>\n",
       "      <th>origin</th>\n",
       "      <th>name</th>\n",
       "      <th>z1</th>\n",
       "      <th>z2</th>\n",
       "    </tr>\n",
       "  </thead>\n",
       "  <tbody>\n",
       "    <tr>\n",
       "      <th>0</th>\n",
       "      <td>18.0</td>\n",
       "      <td>8</td>\n",
       "      <td>307.0</td>\n",
       "      <td>130.0</td>\n",
       "      <td>3504</td>\n",
       "      <td>12.0</td>\n",
       "      <td>70</td>\n",
       "      <td>usa</td>\n",
       "      <td>chevrolet chevelle malibu</td>\n",
       "      <td>2.156154</td>\n",
       "      <td>0.366757</td>\n",
       "    </tr>\n",
       "    <tr>\n",
       "      <th>1</th>\n",
       "      <td>15.0</td>\n",
       "      <td>8</td>\n",
       "      <td>350.0</td>\n",
       "      <td>165.0</td>\n",
       "      <td>3693</td>\n",
       "      <td>11.5</td>\n",
       "      <td>70</td>\n",
       "      <td>usa</td>\n",
       "      <td>buick skylark 320</td>\n",
       "      <td>2.969628</td>\n",
       "      <td>0.417516</td>\n",
       "    </tr>\n",
       "    <tr>\n",
       "      <th>2</th>\n",
       "      <td>18.0</td>\n",
       "      <td>8</td>\n",
       "      <td>318.0</td>\n",
       "      <td>150.0</td>\n",
       "      <td>3436</td>\n",
       "      <td>11.0</td>\n",
       "      <td>70</td>\n",
       "      <td>usa</td>\n",
       "      <td>plymouth satellite</td>\n",
       "      <td>2.382068</td>\n",
       "      <td>0.372249</td>\n",
       "    </tr>\n",
       "    <tr>\n",
       "      <th>3</th>\n",
       "      <td>16.0</td>\n",
       "      <td>8</td>\n",
       "      <td>304.0</td>\n",
       "      <td>150.0</td>\n",
       "      <td>3433</td>\n",
       "      <td>12.0</td>\n",
       "      <td>70</td>\n",
       "      <td>usa</td>\n",
       "      <td>amc rebel sst</td>\n",
       "      <td>2.428994</td>\n",
       "      <td>0.414621</td>\n",
       "    </tr>\n",
       "    <tr>\n",
       "      <th>4</th>\n",
       "      <td>17.0</td>\n",
       "      <td>8</td>\n",
       "      <td>302.0</td>\n",
       "      <td>140.0</td>\n",
       "      <td>3449</td>\n",
       "      <td>10.5</td>\n",
       "      <td>70</td>\n",
       "      <td>usa</td>\n",
       "      <td>ford torino</td>\n",
       "      <td>2.267887</td>\n",
       "      <td>0.392414</td>\n",
       "    </tr>\n",
       "  </tbody>\n",
       "</table>\n",
       "</div>"
      ],
      "text/plain": [
       "    mpg  cylinders  displacement  horsepower  weight  acceleration  \\\n",
       "0  18.0          8         307.0       130.0    3504          12.0   \n",
       "1  15.0          8         350.0       165.0    3693          11.5   \n",
       "2  18.0          8         318.0       150.0    3436          11.0   \n",
       "3  16.0          8         304.0       150.0    3433          12.0   \n",
       "4  17.0          8         302.0       140.0    3449          10.5   \n",
       "\n",
       "   model_year origin                       name        z1        z2  \n",
       "0          70    usa  chevrolet chevelle malibu  2.156154  0.366757  \n",
       "1          70    usa          buick skylark 320  2.969628  0.417516  \n",
       "2          70    usa         plymouth satellite  2.382068  0.372249  \n",
       "3          70    usa              amc rebel sst  2.428994  0.414621  \n",
       "4          70    usa                ford torino  2.267887  0.392414  "
      ]
     },
     "execution_count": 8,
     "metadata": {},
     "output_type": "execute_result"
    }
   ],
   "source": [
    "from sklearn.preprocessing import StandardScaler\n",
    "from sklearn.decomposition import PCA\n",
    "pca = PCA(n_components=2,)\n",
    "\n",
    "X = pd.get_dummies(mpg[[\"displacement\", \"horsepower\", \"weight\", \"model_year\", \"origin\", \"mpg\"]])\n",
    "zs = pca.fit_transform(StandardScaler().fit_transform(X))\n",
    "#zs = pca.fit_transform(X)\n",
    "mpg[[\"z1\", \"z2\"]] = zs\n",
    "mpg.head()"
   ]
  },
  {
   "cell_type": "code",
   "execution_count": 9,
   "id": "ea3977c4",
   "metadata": {
    "scrolled": false,
    "slideshow": {
     "slide_type": "slide"
    }
   },
   "outputs": [
    {
     "data": {
      "text/html": [
       "<iframe\n",
       "    scrolling=\"no\"\n",
       "    width=\"100%\"\n",
       "    height=\"545px\"\n",
       "    src=\"iframe_figures/figure_9.html\"\n",
       "    frameborder=\"0\"\n",
       "    allowfullscreen\n",
       "></iframe>\n"
      ]
     },
     "metadata": {},
     "output_type": "display_data"
    }
   ],
   "source": [
    "fig = px.scatter(mpg, x=\"z1\", y=\"z2\", color=\"model_year\", symbol=\"origin\", \n",
    "                 hover_data=[\"displacement\", \"horsepower\", \"weight\", \"name\"])\n",
    "fig.update_layout(legend=dict(x=.92, y=1), xaxis_range=[-5, 5], yaxis_range=[-5, 5])"
   ]
  },
  {
   "cell_type": "markdown",
   "id": "a6cfb92b",
   "metadata": {
    "slideshow": {
     "slide_type": "slide"
    }
   },
   "source": [
    "# 2. PCA\n",
    "\n",
    "PCA is a simple yet popular and useful linear transformation technique that is used in numerous applications, such as stock market predictions, the  analysis of gene expression data and many more. We will break down PCA (to see that it is not just a \"black box\") and then see nice applications.\n",
    "\n",
    "Before we get into the mathematical description of Principal Component Analysis (PCA), we can gain a lot of intuition by taking a look at [this visual overview](http://setosa.io/ev/principal-component-analysis/) by Victor Powell."
   ]
  },
  {
   "cell_type": "markdown",
   "id": "f6e54424",
   "metadata": {},
   "source": [
    "### 2.1 Introduction to PCA\n",
    "\n",
    "The main goal of a PCA analysis is to identify patterns in data; PCA aims to detect the correlation between variables. \n",
    "\n",
    "If a strong correlation between variables exists, the attempt to reduce the dimensionality only makes sense.\n",
    "\n",
    "In a nutshell, this is what PCA is all about: Finding the directions of **maximum variance** in high-dimensional data and project it onto a smaller dimensional subspace while **retaining most of the information**."
   ]
  },
  {
   "cell_type": "markdown",
   "id": "d92707f0",
   "metadata": {
    "slideshow": {
     "slide_type": "slide"
    }
   },
   "source": [
    "Often, the desired goal is to reduce the dimensions of a $d$-dimensional dataset by projecting it onto a $k$-dimensional subspace (where $k\\;<\\;d$) in order to increase the computational efficiency while retaining most of the information.\n",
    "\n",
    "An important question is \"what is the size of $k$ that represents the data 'well'?\"\n",
    "\n",
    "+ We will compute eigenvectors (the principal components) of a dataset and collect them in a projection matrix.\n",
    "+ Each of those eigenvectors is associated with an eigenvalue which can be interpreted as the \"length\" or \"magnitude\" of the corresponding eigenvector.\n",
    "+ If some eigenvalues have a significantly larger magnitude than others that the reduction of the dataset via PCA onto a smaller dimensional subspace by dropping the \"less informative\" eigenpairs is reasonable.\n"
   ]
  },
  {
   "cell_type": "markdown",
   "id": "4dc8c5b3",
   "metadata": {
    "slideshow": {
     "slide_type": "slide"
    }
   },
   "source": [
    "PCA can be summarized in the following steps:\n",
    "\n",
    "1.  Center (or standardize) the data. Will see why!\n",
    "1.  Obtain the Eigenvectors and Eigenvalues from the covariance matrix or correlation matrix (or perform Singular Vector Decomposition as we will see later).\n",
    "1.  Sort eigenvalues in descending order and choose the $k$ eigenvectors that correspond to the $k$ largest eigenvalues where $k$ is the number of dimensions of the new feature subspace ($k \\le d$).\n",
    "1.  Construct the projection matrix $\\mathbf{W}$ from the selected $k$ eigenvectors.\n",
    "1. Transform the original dataset $\\mathbf{X}$ via $\\mathbf{W}$ to obtain a $k$-dimensional feature subspace $\\mathbf{Y}$."
   ]
  },
  {
   "cell_type": "markdown",
   "id": "909df98a",
   "metadata": {
    "slideshow": {
     "slide_type": "slide"
    }
   },
   "source": [
    "### 2.3 Eigendecomposition - Computing Eigenvectors and Eigenvalues\n",
    "\n",
    "#### Step 1: Standardizing\n",
    "\n",
    "Whether to standardize the data prior to a PCA on the covariance matrix depends on the measurement scales of the original features. Since PCA yields a feature subspace that maximizes the variance along the axes, it makes sense to standardize the data, especially, if it was measured on different scales.\n",
    "\n",
    "For example, in the rectangle data we are working with, the area and the perimeter have (naturally) larger variance, therefore it is a good idea to transform the data onto unit scale (mean=0 and variance=1)."
   ]
  },
  {
   "cell_type": "code",
   "execution_count": 10,
   "id": "478797d3",
   "metadata": {
    "scrolled": true,
    "slideshow": {
     "slide_type": "fragment"
    }
   },
   "outputs": [
    {
     "name": "stdout",
     "output_type": "stream",
     "text": [
      "(100, 4)\n"
     ]
    },
    {
     "data": {
      "text/html": [
       "<div>\n",
       "<style scoped>\n",
       "    .dataframe tbody tr th:only-of-type {\n",
       "        vertical-align: middle;\n",
       "    }\n",
       "\n",
       "    .dataframe tbody tr th {\n",
       "        vertical-align: top;\n",
       "    }\n",
       "\n",
       "    .dataframe thead th {\n",
       "        text-align: right;\n",
       "    }\n",
       "</style>\n",
       "<table border=\"1\" class=\"dataframe\">\n",
       "  <thead>\n",
       "    <tr style=\"text-align: right;\">\n",
       "      <th></th>\n",
       "      <th>width</th>\n",
       "      <th>height</th>\n",
       "      <th>area</th>\n",
       "      <th>perimeter</th>\n",
       "    </tr>\n",
       "  </thead>\n",
       "  <tbody>\n",
       "    <tr>\n",
       "      <th>0</th>\n",
       "      <td>8</td>\n",
       "      <td>6</td>\n",
       "      <td>48</td>\n",
       "      <td>28</td>\n",
       "    </tr>\n",
       "    <tr>\n",
       "      <th>1</th>\n",
       "      <td>2</td>\n",
       "      <td>4</td>\n",
       "      <td>8</td>\n",
       "      <td>12</td>\n",
       "    </tr>\n",
       "    <tr>\n",
       "      <th>2</th>\n",
       "      <td>1</td>\n",
       "      <td>3</td>\n",
       "      <td>3</td>\n",
       "      <td>8</td>\n",
       "    </tr>\n",
       "    <tr>\n",
       "      <th>3</th>\n",
       "      <td>9</td>\n",
       "      <td>3</td>\n",
       "      <td>27</td>\n",
       "      <td>24</td>\n",
       "    </tr>\n",
       "    <tr>\n",
       "      <th>4</th>\n",
       "      <td>9</td>\n",
       "      <td>8</td>\n",
       "      <td>72</td>\n",
       "      <td>34</td>\n",
       "    </tr>\n",
       "    <tr>\n",
       "      <th>5</th>\n",
       "      <td>3</td>\n",
       "      <td>1</td>\n",
       "      <td>3</td>\n",
       "      <td>8</td>\n",
       "    </tr>\n",
       "    <tr>\n",
       "      <th>6</th>\n",
       "      <td>4</td>\n",
       "      <td>2</td>\n",
       "      <td>8</td>\n",
       "      <td>12</td>\n",
       "    </tr>\n",
       "    <tr>\n",
       "      <th>7</th>\n",
       "      <td>6</td>\n",
       "      <td>5</td>\n",
       "      <td>30</td>\n",
       "      <td>22</td>\n",
       "    </tr>\n",
       "    <tr>\n",
       "      <th>8</th>\n",
       "      <td>7</td>\n",
       "      <td>1</td>\n",
       "      <td>7</td>\n",
       "      <td>16</td>\n",
       "    </tr>\n",
       "    <tr>\n",
       "      <th>9</th>\n",
       "      <td>8</td>\n",
       "      <td>2</td>\n",
       "      <td>16</td>\n",
       "      <td>20</td>\n",
       "    </tr>\n",
       "  </tbody>\n",
       "</table>\n",
       "</div>"
      ],
      "text/plain": [
       "   width  height  area  perimeter\n",
       "0      8       6    48         28\n",
       "1      2       4     8         12\n",
       "2      1       3     3          8\n",
       "3      9       3    27         24\n",
       "4      9       8    72         34\n",
       "5      3       1     3          8\n",
       "6      4       2     8         12\n",
       "7      6       5    30         22\n",
       "8      7       1     7         16\n",
       "9      8       2    16         20"
      ]
     },
     "execution_count": 10,
     "metadata": {},
     "output_type": "execute_result"
    }
   ],
   "source": [
    "rectangle = pd.read_csv(\"data/rectangle_data.csv\")\n",
    "print(rectangle.shape)\n",
    "rectangle.head(10)"
   ]
  },
  {
   "cell_type": "code",
   "execution_count": 11,
   "id": "0331247b",
   "metadata": {
    "slideshow": {
     "slide_type": "fragment"
    }
   },
   "outputs": [],
   "source": [
    "#create function to center data\n",
    "#center_data = lambda x: x - x.mean()\n",
    "\n",
    "X=rectangle\n",
    "\n",
    "#X_cnt = center_data(X) #this only centers the data\n",
    "\n",
    "from sklearn.preprocessing import StandardScaler\n",
    "X_std = StandardScaler().fit_transform(X)"
   ]
  },
  {
   "cell_type": "code",
   "execution_count": 12,
   "id": "47ddf36e",
   "metadata": {
    "slideshow": {
     "slide_type": "fragment"
    }
   },
   "outputs": [
    {
     "data": {
      "text/plain": [
       "array([[ 1.07107207,  0.58379231,  1.34639796,  1.21233579],\n",
       "       [-1.09270989, -0.28108519, -0.82696437, -1.03273049],\n",
       "       [-1.45334022, -0.71352394, -1.09863466, -1.59399706],\n",
       "       [ 1.4317024 , -0.71352394,  0.20538274,  0.65106922],\n",
       "       [ 1.4317024 ,  1.44866981,  2.65041536,  2.05423564],\n",
       "       [-0.73207956, -1.57840144, -1.09863466, -1.59399706],\n",
       "       [-0.37144924, -1.14596269, -0.82696437, -1.03273049],\n",
       "       [ 0.34981142,  0.15135356,  0.36838491,  0.37043594],\n",
       "       [ 0.71044174, -1.57840144, -0.88129842, -0.47146392],\n",
       "       [ 1.07107207, -1.14596269, -0.3922919 ,  0.08980265],\n",
       "       [-0.01081891,  0.15135356,  0.09671462,  0.08980265],\n",
       "       [ 1.4317024 ,  0.15135356,  1.18339579,  1.21233579],\n",
       "       [ 1.07107207, -0.28108519,  0.47705303,  0.65106922],\n",
       "       [-1.45334022, -1.14596269, -1.15296871, -1.87463034],\n",
       "       [-1.09270989,  1.88110856, -0.28362378,  0.37043594],\n",
       "       [ 0.71044174,  1.44866981,  1.78107043,  1.49296907],\n",
       "       [ 0.71044174,  0.15135356,  0.64005521,  0.65106922],\n",
       "       [-1.09270989, -0.28108519, -0.82696437, -1.03273049],\n",
       "       [-1.09270989,  0.15135356, -0.71829625, -0.7520972 ],\n",
       "       [-0.37144924, -0.71352394, -0.60962813, -0.7520972 ],\n",
       "       [ 1.07107207, -1.57840144, -0.82696437, -0.19083063],\n",
       "       [ 1.07107207,  0.15135356,  0.9117255 ,  0.9317025 ],\n",
       "       [ 1.4317024 ,  1.44866981,  2.65041536,  2.05423564],\n",
       "       [ 0.71044174, -0.71352394, -0.12062161,  0.08980265],\n",
       "       [ 1.07107207, -0.71352394,  0.04238057,  0.37043594],\n",
       "       [ 0.34981142,  0.58379231,  0.69438926,  0.65106922],\n",
       "       [ 0.34981142, -0.28108519,  0.04238057,  0.08980265],\n",
       "       [ 1.07107207, -0.28108519,  0.47705303,  0.65106922],\n",
       "       [ 0.71044174, -1.14596269, -0.50096002, -0.19083063],\n",
       "       [-0.37144924, -0.28108519, -0.3922919 , -0.47146392],\n",
       "       [-0.37144924, -1.57840144, -1.0443006 , -1.31336377],\n",
       "       [ 1.4317024 ,  1.01623106,  2.16140883,  1.77360236],\n",
       "       [-0.37144924, -1.14596269, -0.82696437, -1.03273049],\n",
       "       [-1.45334022, -1.14596269, -1.15296871, -1.87463034],\n",
       "       [ 1.07107207, -1.57840144, -0.82696437, -0.19083063],\n",
       "       [-0.01081891, -0.28108519, -0.17495567, -0.19083063],\n",
       "       [ 1.4317024 ,  0.15135356,  1.18339579,  1.21233579],\n",
       "       [ 0.34981142,  1.88110856,  1.67240231,  1.49296907],\n",
       "       [-0.73207956,  1.01623106, -0.12062161,  0.08980265],\n",
       "       [ 0.71044174, -0.71352394, -0.12062161,  0.08980265],\n",
       "       [ 0.71044174,  1.01623106,  1.40073202,  1.21233579],\n",
       "       [-0.73207956, -0.71352394, -0.77263031, -1.03273049],\n",
       "       [-0.01081891,  0.15135356,  0.09671462,  0.08980265],\n",
       "       [ 0.71044174, -0.71352394, -0.12062161,  0.08980265],\n",
       "       [ 1.07107207, -1.14596269, -0.3922919 ,  0.08980265],\n",
       "       [-1.09270989,  0.58379231, -0.60962813, -0.47146392],\n",
       "       [ 0.71044174, -1.57840144, -0.88129842, -0.47146392],\n",
       "       [-1.45334022, -1.14596269, -1.15296871, -1.87463034],\n",
       "       [-0.73207956,  0.15135356, -0.44662596, -0.47146392],\n",
       "       [-1.09270989,  0.58379231, -0.60962813, -0.47146392],\n",
       "       [-0.01081891,  0.58379231,  0.36838491,  0.37043594],\n",
       "       [ 1.4317024 , -1.57840144, -0.77263031,  0.08980265],\n",
       "       [ 0.34981142, -0.71352394, -0.28362378, -0.19083063],\n",
       "       [-1.09270989,  0.58379231, -0.60962813, -0.47146392],\n",
       "       [ 0.34981142,  1.44866981,  1.34639796,  1.21233579],\n",
       "       [ 1.4317024 , -1.57840144, -0.77263031,  0.08980265],\n",
       "       [-1.09270989,  1.44866981, -0.3922919 ,  0.08980265],\n",
       "       [-0.73207956,  1.01623106, -0.12062161,  0.08980265],\n",
       "       [ 0.34981142,  0.15135356,  0.36838491,  0.37043594],\n",
       "       [ 1.07107207,  0.58379231,  1.34639796,  1.21233579],\n",
       "       [ 1.4317024 , -1.14596269, -0.28362378,  0.37043594],\n",
       "       [-0.73207956,  1.88110856,  0.20538274,  0.65106922],\n",
       "       [-1.09270989,  0.15135356, -0.71829625, -0.7520972 ],\n",
       "       [-1.45334022, -0.28108519, -1.0443006 , -1.31336377],\n",
       "       [-0.73207956, -0.71352394, -0.77263031, -1.03273049],\n",
       "       [-1.09270989,  1.88110856, -0.28362378,  0.37043594],\n",
       "       [ 0.34981142, -0.28108519,  0.04238057,  0.08980265],\n",
       "       [-0.01081891, -1.14596269, -0.71829625, -0.7520972 ],\n",
       "       [-1.09270989,  0.58379231, -0.60962813, -0.47146392],\n",
       "       [-1.09270989,  0.15135356, -0.71829625, -0.7520972 ],\n",
       "       [-1.45334022, -0.71352394, -1.09863466, -1.59399706],\n",
       "       [-1.45334022, -0.71352394, -1.09863466, -1.59399706],\n",
       "       [ 0.34981142,  1.01623106,  1.02039361,  0.9317025 ],\n",
       "       [ 1.07107207,  0.58379231,  1.34639796,  1.21233579],\n",
       "       [-1.09270989,  1.01623106, -0.50096002, -0.19083063],\n",
       "       [-0.37144924,  0.58379231,  0.04238057,  0.08980265],\n",
       "       [-1.45334022, -1.57840144, -1.20730277, -2.15526362],\n",
       "       [ 1.4317024 ,  1.44866981,  2.65041536,  2.05423564],\n",
       "       [-0.01081891,  0.15135356,  0.09671462,  0.08980265],\n",
       "       [-0.73207956,  1.88110856,  0.20538274,  0.65106922],\n",
       "       [-1.09270989,  1.44866981, -0.3922919 ,  0.08980265],\n",
       "       [-1.09270989, -1.14596269, -1.0443006 , -1.59399706],\n",
       "       [ 1.07107207, -0.71352394,  0.04238057,  0.37043594],\n",
       "       [-1.45334022,  1.44866981, -0.82696437, -0.19083063],\n",
       "       [-0.01081891, -1.57840144, -0.98996654, -1.03273049],\n",
       "       [-0.01081891,  1.01623106,  0.64005521,  0.65106922],\n",
       "       [ 1.4317024 ,  0.15135356,  1.18339579,  1.21233579],\n",
       "       [-0.73207956, -1.57840144, -1.09863466, -1.59399706],\n",
       "       [ 1.4317024 ,  1.01623106,  2.16140883,  1.77360236],\n",
       "       [ 1.07107207,  0.15135356,  0.9117255 ,  0.9317025 ],\n",
       "       [ 1.4317024 ,  1.44866981,  2.65041536,  2.05423564],\n",
       "       [-0.37144924,  0.15135356, -0.17495567, -0.19083063],\n",
       "       [-0.37144924,  0.15135356, -0.17495567, -0.19083063],\n",
       "       [-1.45334022,  0.15135356, -0.98996654, -1.03273049],\n",
       "       [ 0.34981142,  0.58379231,  0.69438926,  0.65106922],\n",
       "       [ 1.07107207,  0.15135356,  0.9117255 ,  0.9317025 ],\n",
       "       [ 1.07107207,  1.01623106,  1.78107043,  1.49296907],\n",
       "       [-1.45334022, -0.28108519, -1.0443006 , -1.31336377],\n",
       "       [-1.45334022,  0.58379231, -0.93563248, -0.7520972 ],\n",
       "       [-1.09270989,  0.58379231, -0.60962813, -0.47146392]])"
      ]
     },
     "execution_count": 12,
     "metadata": {},
     "output_type": "execute_result"
    }
   ],
   "source": [
    "X_std"
   ]
  },
  {
   "cell_type": "markdown",
   "id": "6e11f7bc",
   "metadata": {
    "slideshow": {
     "slide_type": "slide"
    }
   },
   "source": [
    "The eigenvectors and eigenvalues of a covariance (or correlation) matrix represent the \"core\" of PCA: The eigenvectors (principal components) determine the directions of the new feature space, and the eigenvalues determine their magnitude. In other words, the eigenvalues explain the variance of the data along the new feature axes. You have covered eigenvectors and eigenvalues in Linear Algebra but for a nice reminder check [this](http://setosa.io/ev/eigenvectors-and-eigenvalues/)."
   ]
  },
  {
   "cell_type": "markdown",
   "id": "3a135f5a",
   "metadata": {},
   "source": [
    "#### Step 2a: Get the Covariance Matrix\n",
    "\n",
    "The classic approach to PCA is to perform the eigendecomposition on the covariance matrix $\\Sigma$, which is a $d \\times d$ matrix where each element represents the covariance between two features. The covariance between two features is calculated as follows:\n",
    "\n",
    "$\\sigma_{jk} = \\frac{1}{n-1}\\sum_{i=1}^{N}\\left(  x_{ij}-\\bar{x}_j \\right)  \\left( x_{ik}-\\bar{x}_k \\right).$\n",
    "\n",
    "We can summarize the calculation of the covariance matrix via the following matrix equation:  \n",
    "\n",
    "$\\Sigma = \\frac{1}{n-1} \\left( (\\mathbf{X} - \\mathbf{\\bar{x}})^T\\;(\\mathbf{X} - \\mathbf{\\bar{x}}) \\right) = \\mathbf{X^T} \\mathbf{X}$  \n",
    "\n",
    "where $\\mathbf{\\bar{x}}$ is the mean vector \n",
    "$\\mathbf{\\bar{x}} = \\sum\\limits_{i=1}^n x_{i}.$  \n",
    "The mean vector is a $d$-dimensional vector where each value in this vector represents the sample mean of a feature column in the dataset."
   ]
  },
  {
   "cell_type": "code",
   "execution_count": 13,
   "id": "275841bb",
   "metadata": {
    "scrolled": true,
    "slideshow": {
     "slide_type": "fragment"
    }
   },
   "outputs": [
    {
     "name": "stdout",
     "output_type": "stream",
     "text": [
      "Covariance matrix \n",
      "[[ 1.01010101 -0.02670062  0.69121907  0.76870724]\n",
      " [-0.02670062  1.01010101  0.62435684  0.63473235]\n",
      " [ 0.69121907  0.62435684  1.01010101  0.94306847]\n",
      " [ 0.76870724  0.63473235  0.94306847  1.01010101]]\n"
     ]
    }
   ],
   "source": [
    "import numpy as np\n",
    "mean_vec = np.mean(X_std, axis=0)\n",
    "cov_mat = (X_std - mean_vec).T.dot((X_std - mean_vec)) / (X_std.shape[0]-1)\n",
    "print('Covariance matrix \\n%s' %cov_mat)"
   ]
  },
  {
   "cell_type": "markdown",
   "id": "1112a282",
   "metadata": {
    "slideshow": {
     "slide_type": "fragment"
    }
   },
   "source": [
    "The more verbose way above was simply used for demonstration purposes, equivalently, we could have used the numpy `cov` function:"
   ]
  },
  {
   "cell_type": "code",
   "execution_count": 14,
   "id": "6bb79d10",
   "metadata": {
    "scrolled": true,
    "slideshow": {
     "slide_type": "fragment"
    }
   },
   "outputs": [
    {
     "name": "stdout",
     "output_type": "stream",
     "text": [
      "NumPy covariance matrix: \n",
      "[[ 1.01010101 -0.02670062  0.69121907  0.76870724]\n",
      " [-0.02670062  1.01010101  0.62435684  0.63473235]\n",
      " [ 0.69121907  0.62435684  1.01010101  0.94306847]\n",
      " [ 0.76870724  0.63473235  0.94306847  1.01010101]]\n"
     ]
    }
   ],
   "source": [
    "print('NumPy covariance matrix: \\n%s' %np.cov(X_std.T))"
   ]
  },
  {
   "cell_type": "markdown",
   "id": "290a466c",
   "metadata": {},
   "source": [
    "What does the covariance matrix show us?\n",
    "\n",
    "+ The diagonal is the variance of each variable. The sum of this diagonal is called \"trace\" and shows us the total variance in the data\n",
    "+ The values outside the diagonal (notice that it's a symmetric matrix) shows us the degree to which variables are correlated"
   ]
  },
  {
   "cell_type": "markdown",
   "id": "84d8aa6d",
   "metadata": {
    "slideshow": {
     "slide_type": "slide"
    }
   },
   "source": [
    "#### Step 2b: Perform an eigendecomposition on the covariance matrix\n",
    "\n",
    "How do we do that? By doing an eigenanalysis on the covariance matrix. We look for the eigenvalues ($\\lambda$) and eigenvectors $v$ that satisfy this equation.\n",
    "\n",
    "$$\\Sigma v = \\lambda v$$\n",
    "\n",
    "We can find the $\\lambda$ by solving the characteristic equation.\n",
    "\n",
    "$$\n",
    "det(\\Sigma - \\lambda I)= 0\n",
    "$$\n",
    "\n",
    "That is an *easy* equation to solve if we have 2 variables (because the matrices are going to be $2 \\times 2$ but it's becoming more challenging with more variables)."
   ]
  },
  {
   "cell_type": "code",
   "execution_count": 15,
   "id": "ee970df2",
   "metadata": {
    "scrolled": false
   },
   "outputs": [
    {
     "name": "stdout",
     "output_type": "stream",
     "text": [
      "Eigenvectors \n",
      "[[ 0.43759561 -0.65472309  0.5466161   0.28470791]\n",
      " [ 0.37560774  0.75521251  0.45584801  0.28421027]\n",
      " [ 0.57100602  0.02481468  0.         -0.82057075]\n",
      " [ 0.58427822 -0.01938982 -0.70243394  0.40599208]]\n",
      "\n",
      "Eigenvalues \n",
      "[ 2.9155136   1.03746732 -0.          0.08742311]\n"
     ]
    }
   ],
   "source": [
    "#cov_mat = np.cov(X.T) #try it without scaling\n",
    "cov_mat = np.cov(X_std.T)\n",
    "\n",
    "eig_vals, eig_vecs = np.linalg.eig(cov_mat)\n",
    "\n",
    "print('Eigenvectors \\n%s' %eig_vecs)\n",
    "print('\\nEigenvalues \\n%s' %eig_vals)"
   ]
  },
  {
   "cell_type": "markdown",
   "id": "a0ebceb9",
   "metadata": {
    "slideshow": {
     "slide_type": "fragment"
    }
   },
   "source": [
    "What did we achieve now? You will be amazed!\n",
    "\n",
    "+ The eigenvalues show the variances of the coordinates of each *new* principal component axis\n",
    "\n",
    "You will notice that the total variance remains the same! Why? Because we keep all data, we just stretch the original dimensions, so that their covariance is minimized."
   ]
  },
  {
   "cell_type": "code",
   "execution_count": 16,
   "id": "ab8243bc",
   "metadata": {
    "slideshow": {
     "slide_type": "-"
    }
   },
   "outputs": [
    {
     "name": "stdout",
     "output_type": "stream",
     "text": [
      "4.040404040404041\n",
      "4.04040404040404\n"
     ]
    }
   ],
   "source": [
    "#print(sum(np.diagonal(np.cov(X.T))))\n",
    "print(sum(eig_vals))\n",
    "print(sum(np.diagonal(np.cov(X_std.T))))"
   ]
  },
  {
   "cell_type": "markdown",
   "id": "984a5808",
   "metadata": {
    "slideshow": {
     "slide_type": "fragment"
    }
   },
   "source": [
    "+ Each eigenvector consists of 4 values which represent the “contribution” (or else called \"loading\") of each variable to the new principal component axis.\n",
    "+ Eigenvectors are uncorrelated (orthogonal) meaning that their cross-product is zero. Why? Because that's what we wanted: New axes that are independent."
   ]
  },
  {
   "cell_type": "code",
   "execution_count": 17,
   "id": "1ced1863",
   "metadata": {
    "slideshow": {
     "slide_type": "-"
    }
   },
   "outputs": [
    {
     "name": "stdout",
     "output_type": "stream",
     "text": [
      "6.765421556309548e-17\n",
      "-8.881784197001252e-16\n"
     ]
    }
   ],
   "source": [
    "print(sum(eig_vecs[:,0]*eig_vecs[:,1]))\n",
    "print(sum(eig_vecs[:,2]*eig_vecs[:,3]))"
   ]
  },
  {
   "cell_type": "markdown",
   "id": "f54427f7",
   "metadata": {
    "slideshow": {
     "slide_type": "skip"
    }
   },
   "source": [
    "#### A note aside: Correlation Matrix\n",
    "\n",
    "In some fields (like Finance), the correlation matrix typically used instead of the covariance matrix. However, the eigendecomposition of the covariance matrix (if the input data was standardized) yields the same results as a eigendecomposition on the correlation matrix, since the correlation matrix can be understood as the normalized covariance matrix.\n",
    "\n",
    "Eigendecomposition of the standardized data based on the correlation matrix:"
   ]
  },
  {
   "cell_type": "code",
   "execution_count": 18,
   "id": "bdfda329",
   "metadata": {
    "scrolled": true,
    "slideshow": {
     "slide_type": "skip"
    }
   },
   "outputs": [
    {
     "name": "stdout",
     "output_type": "stream",
     "text": [
      "Eigenvectors \n",
      "[[ 0.43759561 -0.65472309  0.5466161   0.28470791]\n",
      " [ 0.37560774  0.75521251  0.45584801  0.28421027]\n",
      " [ 0.57100602  0.02481468  0.         -0.82057075]\n",
      " [ 0.58427822 -0.01938982 -0.70243394  0.40599208]]\n",
      "\n",
      "Eigenvalues \n",
      "[2.88635847 1.02709265 0.         0.08654888]\n"
     ]
    }
   ],
   "source": [
    "cor_mat1 = np.corrcoef(X_std.T)\n",
    "\n",
    "eig_vals, eig_vecs = np.linalg.eig(cor_mat1)\n",
    "\n",
    "print('Eigenvectors \\n%s' %eig_vecs)\n",
    "print('\\nEigenvalues \\n%s' %eig_vals)"
   ]
  },
  {
   "cell_type": "markdown",
   "id": "5f12b5fc",
   "metadata": {
    "slideshow": {
     "slide_type": "skip"
    }
   },
   "source": [
    "Eigendecomposition of the raw data based on the correlation matrix:"
   ]
  },
  {
   "cell_type": "code",
   "execution_count": 19,
   "id": "0702097b",
   "metadata": {
    "slideshow": {
     "slide_type": "skip"
    }
   },
   "outputs": [
    {
     "name": "stdout",
     "output_type": "stream",
     "text": [
      "Eigenvectors \n",
      "[[ 0.43759561 -0.65472309  0.5466161   0.28470791]\n",
      " [ 0.37560774  0.75521251  0.45584801  0.28421027]\n",
      " [ 0.57100602  0.02481468 -0.         -0.82057075]\n",
      " [ 0.58427822 -0.01938982 -0.70243394  0.40599208]]\n",
      "\n",
      "Eigenvalues \n",
      "[2.88635847 1.02709265 0.         0.08654888]\n"
     ]
    }
   ],
   "source": [
    "cor_mat2 = np.corrcoef(X.T)\n",
    "\n",
    "eig_vals, eig_vecs = np.linalg.eig(cor_mat2)\n",
    "\n",
    "print('Eigenvectors \\n%s' %eig_vecs)\n",
    "print('\\nEigenvalues \\n%s' %eig_vals)"
   ]
  },
  {
   "cell_type": "markdown",
   "id": "914129d1",
   "metadata": {
    "slideshow": {
     "slide_type": "skip"
    }
   },
   "source": [
    "We can clearly see that all three approaches yield the same eigenvectors and eigenvalue pairs:\n",
    "    \n",
    "- Eigendecomposition of the covariance matrix after standardizing the data.\n",
    "- Eigendecomposition of the correlation matrix.\n",
    "- Eigendecomposition of the correlation matrix after standardizing the data."
   ]
  },
  {
   "cell_type": "markdown",
   "id": "8fc56a5a",
   "metadata": {
    "slideshow": {
     "slide_type": "slide"
    }
   },
   "source": [
    "### 2.4 Selecting Principal Components\n",
    "\n",
    "#### Sorting Eigenvectors by their Eigenvalues\n",
    "\n",
    "The typical goal of PCA is to reduce the dimensionality of the original feature space by projecting it onto a smaller subspace, where the **eigenvectors will form the axes**. Note that the eigenvectors only define the directions of the new axis, since they have all the same unit length 1.\n",
    "\n",
    "In order to decide which eigenvector(s) can be dropped without losing too much information\n",
    "for the construction of lower-dimensional subspace, we need to inspect the corresponding eigenvalues: The eigenvectors with the lowest eigenvalues bear the least information about the distribution of the data; those are the ones can be dropped.  \n",
    "\n",
    "In order to do so, the common approach is to rank the eigenvalues from highest to lowest in order choose the top $k$ eigenvectors."
   ]
  },
  {
   "cell_type": "code",
   "execution_count": 20,
   "id": "b3089f2c",
   "metadata": {},
   "outputs": [
    {
     "name": "stdout",
     "output_type": "stream",
     "text": [
      "Eigenvalues in descending order:\n"
     ]
    },
    {
     "data": {
      "text/plain": [
       "array([2.88635847, 1.02709265, 0.08654888, 0.        ])"
      ]
     },
     "execution_count": 20,
     "metadata": {},
     "output_type": "execute_result"
    }
   ],
   "source": [
    "# Make a list of (eigenvalue, eigenvector) tuples\n",
    "eig_pairs = [(np.abs(eig_vals[i]), eig_vecs[:,i]) for i in range(len(eig_vals))]\n",
    "\n",
    "# Sort the (eigenvalue, eigenvector) tuples from high to low\n",
    "eig_pairs.sort(key=lambda x: x[0], reverse=True)\n",
    "\n",
    "# Visually confirm that the list is correctly sorted by decreasing eigenvalues\n",
    "sorted_eig_values = np.array([pair[0] for pair in eig_pairs])\n",
    "\n",
    "print('Eigenvalues in descending order:')\n",
    "sorted_eig_values\n",
    "#for i in eig_pairs:\n",
    "#    print(i[0])"
   ]
  },
  {
   "cell_type": "markdown",
   "id": "99709b3c",
   "metadata": {
    "slideshow": {
     "slide_type": "slide"
    }
   },
   "source": [
    "#### Explained Variance\n",
    "\n",
    "After sorting the eigenpairs, the next question is \"how many principal components are we going to choose for our new feature subspace?\" A useful measure is the so-called \"explained variance,\" which can be calculated from the eigenvalues. The explained variance tells us how much information (variance) can be attributed to each of the principal components."
   ]
  },
  {
   "cell_type": "code",
   "execution_count": 21,
   "id": "00eee8ac",
   "metadata": {},
   "outputs": [
    {
     "data": {
      "text/plain": [
       "array([0.72, 0.26, 0.02, 0.  ])"
      ]
     },
     "execution_count": 21,
     "metadata": {},
     "output_type": "execute_result"
    }
   ],
   "source": [
    "np.round(sorted_eig_values / sum(sorted_eig_values), 2)"
   ]
  },
  {
   "cell_type": "markdown",
   "id": "2828c047",
   "metadata": {},
   "source": [
    "We can also show this in the form of what is usually called a \"scree plot\"."
   ]
  },
  {
   "cell_type": "code",
   "execution_count": 22,
   "id": "4664c28e",
   "metadata": {
    "scrolled": false
   },
   "outputs": [
    {
     "data": {
      "image/png": "[encoded data removed]",
      "text/plain": [
       "<Figure size 640x480 with 1 Axes>"
      ]
     },
     "metadata": {},
     "output_type": "display_data"
    }
   ],
   "source": [
    "plt.plot(sorted_eig_values);"
   ]
  },
  {
   "cell_type": "code",
   "execution_count": 23,
   "id": "fa88bfab",
   "metadata": {},
   "outputs": [],
   "source": [
    "tot = sum(sorted_eig_values)\n",
    "var_exp = [(i / tot)*100 for i in sorted(sorted_eig_values, reverse=True)]\n",
    "cum_var_exp = np.cumsum(var_exp)"
   ]
  },
  {
   "cell_type": "code",
   "execution_count": 24,
   "id": "bd171967",
   "metadata": {},
   "outputs": [
    {
     "name": "stdout",
     "output_type": "stream",
     "text": [
      "[ 72.15896165  97.8362779  100.         100.        ]\n"
     ]
    }
   ],
   "source": [
    "print(cum_var_exp)"
   ]
  },
  {
   "cell_type": "code",
   "execution_count": 25,
   "id": "2d0adb74",
   "metadata": {},
   "outputs": [
    {
     "data": {
      "image/png": "[encoded data removed]",
      "text/plain": [
       "<Figure size 600x400 with 1 Axes>"
      ]
     },
     "metadata": {},
     "output_type": "display_data"
    }
   ],
   "source": [
    "with plt.style.context('seaborn-whitegrid'):\n",
    "    plt.figure(figsize=(6, 4))\n",
    "    x_positions=range(1,5)\n",
    "\n",
    "    plt.bar(x_positions, var_exp, alpha=0.5, align='center',\n",
    "            label='individual explained variance')\n",
    "    plt.step(x_positions, cum_var_exp, where='mid',\n",
    "             label='cumulative explained variance')\n",
    "    plt.ylabel('Explained variance ratio')\n",
    "    plt.xlabel('Principal components')\n",
    "    plt.xticks(x_positions, labels=[1, 2, 3, 4])  # Ensure correct x-tick labels\n",
    "    plt.legend(loc='best')\n",
    "    plt.tight_layout()"
   ]
  },
  {
   "cell_type": "markdown",
   "id": "c7f557e7",
   "metadata": {},
   "source": [
    "The plot above clearly shows that most of the variance (88.7% of the variance to be precise) can be explained by the first principal component alone. The second principal component still bears some information (around 11%) while the third and fourth principal components can safely be dropped without losing too much (or any?) information."
   ]
  },
  {
   "cell_type": "markdown",
   "id": "16180492",
   "metadata": {
    "slideshow": {
     "slide_type": "slide"
    }
   },
   "source": [
    "#### Projection Matrix\n",
    "\n",
    "It's about time to get to the really interesting part: The construction of the projection matrix that will be used to transform the Iris data onto the new feature subspace. Although, the name \"projection matrix\" has a nice ring to it, it is basically just a matrix of our concatenated top *k* eigenvectors.\n",
    "\n",
    "Here, we are reducing the 4-dimensional feature space to a 2-dimensional feature subspace, by choosing the \"top 2\" eigenvectors with the highest eigenvalues to construct our $d \\times k$-dimensional eigenvector matrix $\\mathbf{W}$."
   ]
  },
  {
   "cell_type": "code",
   "execution_count": 26,
   "id": "705dfa4b",
   "metadata": {
    "scrolled": true
   },
   "outputs": [
    {
     "name": "stdout",
     "output_type": "stream",
     "text": [
      "Matrix W:\n",
      " [[ 0.43759561 -0.65472309]\n",
      " [ 0.37560774  0.75521251]\n",
      " [ 0.57100602  0.02481468]\n",
      " [ 0.58427822 -0.01938982]]\n"
     ]
    }
   ],
   "source": [
    "matrix_w = np.hstack((eig_pairs[0][1].reshape(4,1), \n",
    "                      eig_pairs[1][1].reshape(4,1)))\n",
    "\n",
    "#if i took all 4 eigenvectors\n",
    "#matrix_w = np.hstack((eig_pairs[0][1].reshape(4,1), \n",
    "#                      eig_pairs[1][1].reshape(4,1),\n",
    "#                      eig_pairs[2][1].reshape(4,1),\n",
    "#                      eig_pairs[3][1].reshape(4,1)))\n",
    "\n",
    "print('Matrix W:\\n', matrix_w)"
   ]
  },
  {
   "cell_type": "markdown",
   "id": "41b16cf2",
   "metadata": {
    "slideshow": {
     "slide_type": "slide"
    }
   },
   "source": [
    "### 2.5 Projection Onto the New Feature Space\n",
    "\n",
    "In this last step we will use the $4 \\times 2$-dimensional projection matrix $\\mathbf{W}$ to transform our samples onto the new subspace via the equation  \n",
    "$\\mathbf{Y} = \\mathbf{X} \\times  \\mathbf{W}$, where $\\mathbf{Y}$ is a $100\\times 2$ matrix of our transformed samples. Recall that our original data is a $100 \\times 4$-dimensional matrix."
   ]
  },
  {
   "cell_type": "code",
   "execution_count": 27,
   "id": "14a3366a",
   "metadata": {},
   "outputs": [
    {
     "name": "stdout",
     "output_type": "stream",
     "text": [
      "[[ 2.16511608 -0.2504649 ]\n",
      " [-1.65934638  0.50264695]\n",
      " [-2.46264517  0.41631825]\n",
      " [ 0.85618191 -1.48375843]\n",
      " [ 3.88428654  0.18262289]\n",
      " [-2.47187936 -0.70907407]\n",
      " [-1.66858057 -0.62274536]\n",
      " [ 0.63671316 -0.11276684]\n",
      " [-1.06066642 -1.66989867]\n",
      " [-0.13326733 -1.57817683]\n",
      " [ 0.15980963  0.12204618]\n",
      " [ 2.06742376 -0.8172059 ]\n",
      " [ 1.01592437 -0.91432087]\n",
      " [-2.8200655   0.09382824]\n",
      " [ 0.28288066  2.1218384 ]\n",
      " [ 2.74432903  0.64415924]\n",
      " [ 1.11361669 -0.34757986]\n",
      " [-1.65934638  0.50264695]\n",
      " [-1.27090097  0.82648524]\n",
      " [-1.21808502 -0.29621051]\n",
      " [-0.70786318 -1.91010482]\n",
      " [ 1.59052023 -0.58239288]\n",
      " [ 3.88428654  0.18262289]\n",
      " [ 0.02647514 -1.00873926]\n",
      " [ 0.44132852 -1.24624885]\n",
      " [ 1.14925886  0.21646458]\n",
      " [ 0.12416746 -0.44199826]\n",
      " [ 1.01592437 -0.91432087]\n",
      " [-0.51709564 -1.33931897]\n",
      " [-0.76758946  0.03032435]\n",
      " [-2.11907613 -0.94928022]\n",
      " [ 3.27866561 -0.15065337]\n",
      " [-1.66858057 -0.62274536]\n",
      " [-2.8200655   0.09382824]\n",
      " [-0.70786318 -1.91010482]\n",
      " [-0.321711   -0.20583696]\n",
      " [ 2.06742376 -0.8172059 ]\n",
      " [ 2.68689597  1.20415883]\n",
      " [ 0.04494352  1.24204537]\n",
      " [ 0.02647514 -1.00873926]\n",
      " [ 2.20075825  0.31357954]\n",
      " [-1.6329384  -0.05870092]\n",
      " [ 0.15980963  0.12204618]\n",
      " [ 0.02647514 -1.00873926]\n",
      " [-0.13326733 -1.57817683]\n",
      " [-0.88245556  1.15032353]\n",
      " [-1.06066642 -1.66989867]\n",
      " [-2.8200655   0.09382824]\n",
      " [-0.79399744  0.59167222]\n",
      " [-0.88245556  1.15032353]\n",
      " [ 0.64133026  0.44992932]\n",
      " [-0.35505995 -2.15031097]\n",
      " [-0.38837825 -0.77122968]\n",
      " [-0.88245556  1.15032353]\n",
      " [ 2.17435027  0.87492742]\n",
      " [-0.35505995 -2.15031097]\n",
      " [-0.10556475  1.79800011]\n",
      " [ 0.04494352  1.24204537]\n",
      " [ 0.63671316 -0.11276684]\n",
      " [ 2.16511608 -0.2504649 ]\n",
      " [ 0.25056098 -1.8170347 ]\n",
      " [ 0.88388449  1.89241851]\n",
      " [-1.27090097  0.82648524]\n",
      " [-2.10522484  0.73880825]\n",
      " [-1.6329384  -0.05870092]\n",
      " [ 0.28288066  2.1218384 ]\n",
      " [ 0.12416746 -0.44199826]\n",
      " [-1.28475226 -0.86160323]\n",
      " [-0.88245556  1.15032353]\n",
      " [-1.27090097  0.82648524]\n",
      " [-2.46264517  0.41631825]\n",
      " [-2.46264517  0.41631825]\n",
      " [ 1.66180457  0.545696  ]\n",
      " [ 2.16511608 -0.2504649 ]\n",
      " [-0.49401016  1.47416182]\n",
      " [ 0.13340165  0.68339405]\n",
      " [-3.17748583 -0.22866177]\n",
      " [ 3.88428654  0.18262289]\n",
      " [ 0.15980963  0.12204618]\n",
      " [ 0.88388449  1.89241851]\n",
      " [-0.10556475  1.79800011]\n",
      " [-2.43623719 -0.14502963]\n",
      " [ 0.44132852 -1.24624885]\n",
      " [-0.67554351  2.02876829]\n",
      " [-1.76627289 -1.18948637]\n",
      " [ 1.12285089  0.77781245]\n",
      " [ 2.06742376 -0.8172059 ]\n",
      " [-2.47187936 -0.70907407]\n",
      " [ 3.27866561 -0.15065337]\n",
      " [ 1.59052023 -0.58239288]\n",
      " [ 3.88428654  0.18262289]\n",
      " [-0.31709391  0.3568592 ]\n",
      " [-0.31709391  0.3568592 ]\n",
      " [-1.7478045   1.06129826]\n",
      " [ 1.14925886  0.21646458]\n",
      " [ 1.59052023 -0.58239288]\n",
      " [ 2.73971193  0.08146308]\n",
      " [-2.10522484  0.73880825]\n",
      " [-1.39038417  1.38378827]\n",
      " [-0.88245556  1.15032353]]\n"
     ]
    }
   ],
   "source": [
    "Y = X_std.dot(matrix_w)\n",
    "print(Y)"
   ]
  },
  {
   "cell_type": "markdown",
   "id": "4b09cf39",
   "metadata": {
    "slideshow": {
     "slide_type": "slide"
    }
   },
   "source": [
    "### 2.6 Back-projection Onto the Original Space\n",
    "\n",
    "By projecting our data ono the new feature space (by using $\\mathbf{Y} = \\mathbf{X} \\times  \\mathbf{W}$) we obviously will lose some information (but hopefully not too much). One interesting question is how much information we lose. That can be answered by the so called \"reconstruction error\", i.e. how much different is my original matrix ($\\mathbf{X}$) if I re-project my transformed (projected) data ($\\mathbf{Y}$) back to the original space.\n",
    "\n",
    "In math terms, what we want to do is the following:\n",
    "\n",
    "$\\mathbf{X'} = \\mathbf{Y} \\times \\mathbf{W^T}$\n",
    "\n",
    "In this example, $\\mathbf{Y}$ is $150 \\times 2$ matrix, $\\mathbf{W^T}$ is $2 \\times 4$ matrix so the $\\mathbf{X'}$ is going to be $150 \\times 4$ matrix.\n",
    "\n",
    "Then the reconstruction error is simply:\n",
    "\n",
    "error = $\\sum_{i}({X'_i}-{X_i})^2$, where $i$ goes over all the elements of the matrix.\n",
    "\n",
    "Pay attention that if standardization has taken place, then $\\mathbf{X}$ should be the standardized matrix."
   ]
  },
  {
   "cell_type": "code",
   "execution_count": 28,
   "id": "4903bab2",
   "metadata": {
    "scrolled": true
   },
   "outputs": [
    {
     "name": "stdout",
     "output_type": "stream",
     "text": [
      "[[ 1.11143044  0.62408014  1.23007911  1.26988663]\n",
      " [-1.05521725 -0.24365808 -0.93502375 -0.97926617]\n",
      " [-1.35021588 -0.61057985 -1.39585441 -1.44694226]\n",
      " [ 1.34611235 -0.79896438  0.45206604  0.52901824]\n",
      " [ 1.5801793   1.5968872   2.22248272  2.26596298]\n",
      " [-0.61743638 -1.46395864 -1.42905344 -1.43051645]\n",
      " [-0.32243776 -1.09703688 -0.96822277 -0.96284036]\n",
      " [ 0.35245394  0.15399146  0.36076877  0.37420416]\n",
      " [ 0.62917826 -1.65952289 -0.6470849  -0.58734525]\n",
      " [ 0.97495162 -1.24191513 -0.1152584  -0.04726464]\n",
      " [-0.00997446  0.15219654  0.0942808   0.09100683]\n",
      " [ 1.43973913  0.15937625  1.16023271  1.22379614]\n",
      " [ 1.04319103 -0.30891749  0.55741035  0.61131099]\n",
      " [-1.29547979 -0.98837818 -1.60794606 -1.64952215]\n",
      " [-1.26542927  1.70869107  0.21417929  0.12413895]\n",
      " [ 0.7791604   1.51726835  1.58301299  1.59096154]\n",
      " [ 0.71488234  0.15578639  0.62725675  0.65740148]\n",
      " [-1.05521725 -0.24365808 -0.93502375 -0.97926617]\n",
      " [-1.09725966  0.14681175 -0.70518314 -0.75858515]\n",
      " [-0.33909279 -0.68122405 -0.70288424 -0.70595707]\n",
      " [ 0.94083192 -1.70841395 -0.45159277 -0.37655245]\n",
      " [ 1.07731074  0.15758132  0.89374473  0.94059881]\n",
      " [ 1.5801793   1.5968872   2.22248272  2.26596298]\n",
      " [ 0.6720303  -0.75186825 -0.00991408  0.03502812]\n",
      " [ 1.00907133 -0.77541631  0.22107598  0.28202318]\n",
      " [ 0.36118627  0.59514729  0.66160523  0.66728971]\n",
      " [ 0.3437216  -0.28716436  0.05993232  0.08111861]\n",
      " [ 1.04319103 -0.30891749  0.55741035  0.61131099]\n",
      " [ 0.65060428 -1.20569557 -0.32849949 -0.27615857]\n",
      " [-0.35574783 -0.26541122 -0.43754571 -0.44907378]\n",
      " [-0.30578272 -1.5128497  -1.2335613  -1.21972365]\n",
      " [ 1.53336591  1.11771688  1.86839938  1.91857403]\n",
      " [-0.32243776 -1.09703688 -0.96822277 -0.96284036]\n",
      " [-1.29547979 -0.98837818 -1.60794606 -1.64952215]\n",
      " [ 0.94083192 -1.70841395 -0.45159277 -0.37655245]\n",
      " [-0.00601311 -0.27628779 -0.1888067  -0.18397759]\n",
      " [ 1.43973913  0.15937625  1.16023271  1.22379614]\n",
      " [ 0.38738328  1.91861475  1.56411458  1.54654637]\n",
      " [-0.7935287   0.95488934  0.05648398  0.00217649]\n",
      " [ 0.6720303  -0.75186825 -0.00991408  0.03502812]\n",
      " [ 0.75773438  1.06344103  1.26442758  1.27977485]\n",
      " [-0.67613382 -0.65767598 -0.9338743  -0.95295213]\n",
      " [-0.00997446  0.15219654  0.0942808   0.09100683]\n",
      " [ 0.6720303  -0.75186825 -0.00991408  0.03502812]\n",
      " [ 0.97495162 -1.24191513 -0.1152584  -0.04726464]\n",
      " [-1.13930206  0.53728158 -0.47534253 -0.53790412]\n",
      " [ 0.62917826 -1.65952289 -0.6470849  -0.58734525]\n",
      " [-1.29547979 -0.98837818 -1.60794606 -1.64952215]\n",
      " [-0.73483126  0.14860668 -0.43869516 -0.47538782]\n",
      " [-1.13930206  0.53728158 -0.47534253 -0.53790412]\n",
      " [-0.01393581  0.58068086  0.37736829  0.36599125]\n",
      " [ 1.25248558 -1.75730501 -0.25610064 -0.16575966]\n",
      " [ 0.33498927 -0.72832018 -0.24090413 -0.21196695]\n",
      " [-1.13930206  0.53728158 -0.47534253 -0.53790412]\n",
      " [ 0.37865094  1.47745893  1.26327813  1.25346081]\n",
      " [ 1.25248558 -1.75730501 -0.25610064 -0.16575966]\n",
      " [-1.22338687  1.31822124 -0.01566132 -0.09654208]\n",
      " [-0.7935287   0.95488934  0.05648398  0.00217649]\n",
      " [ 0.35245394  0.15399146  0.36076877  0.37420416]\n",
      " [ 1.11143044  0.62408014  1.23007911  1.26988663]\n",
      " [ 1.29929897 -1.27813469  0.0979827   0.18162929]\n",
      " [-0.85222613  1.76117199  0.55166311  0.4797408 ]\n",
      " [-1.09725966  0.14681175 -0.70518314 -0.75858515]\n",
      " [-1.40495197 -0.23278152 -1.18376276 -1.24436237]\n",
      " [-0.67613382 -0.65767598 -0.9338743  -0.95295213]\n",
      " [-1.26542927  1.70869107  0.21417929  0.12413895]\n",
      " [ 0.3437216  -0.28716436  0.05993232  0.08111861]\n",
      " [ 0.00190959 -1.13325644 -0.75498168 -0.73394643]\n",
      " [-1.13930206  0.53728158 -0.47534253 -0.53790412]\n",
      " [-1.09725966  0.14681175 -0.70518314 -0.75858515]\n",
      " [-1.35021588 -0.61057985 -1.39585441 -1.44694226]\n",
      " [-1.35021588 -0.61057985 -1.39585441 -1.44694226]\n",
      " [ 0.36991861  1.03630311  0.96244168  0.96037526]\n",
      " [ 1.11143044  0.62408014  1.23007911  1.26988663]\n",
      " [-1.18134446  0.92775141 -0.24550192 -0.3172231 ]\n",
      " [-0.38905789  0.56621443  0.09313135  0.06469279]\n",
      " [-1.2407437  -1.36617652 -1.8200377  -1.85210204]\n",
      " [ 1.5801793   1.5968872   2.22248272  2.26596298]\n",
      " [-0.00997446  0.15219654  0.0942808   0.09100683]\n",
      " [-0.85222613  1.76117199  0.55166311  0.4797408 ]\n",
      " [-1.22338687  1.31822124 -0.01566132 -0.09654208]\n",
      " [-0.97113245 -1.02459775 -1.39470496 -1.42062822]\n",
      " [ 1.00907133 -0.77541631  0.22107598  0.28202318]\n",
      " [-1.62389632  1.27841182 -0.33539618 -0.4340428 ]\n",
      " [ 0.00587094 -1.56174076 -1.03806917 -1.00893085]\n",
      " [-0.01789716  1.00916518  0.66045578  0.64097567]\n",
      " [ 1.43973913  0.15937625  1.16023271  1.22379614]\n",
      " [-0.61743638 -1.46395864 -1.42905344 -1.43051645]\n",
      " [ 1.53336591  1.11771688  1.86839938  1.91857403]\n",
      " [ 1.07731074  0.15758132  0.89374473  0.94059881]\n",
      " [ 1.5801793   1.5968872   2.22248272  2.26596298]\n",
      " [-0.37240286  0.15040161 -0.17220718 -0.1921905 ]\n",
      " [-0.37240286  0.15040161 -0.17220718 -0.1921905 ]\n",
      " [-1.45968806  0.14501682 -0.97167112 -1.04178247]\n",
      " [ 0.36118627  0.59514729  0.66160523  0.66728971]\n",
      " [ 1.07731074  0.15758132  0.89374473  0.94059881]\n",
      " [ 1.14555015  1.09057896  1.56641348  1.59917444]\n",
      " [-1.40495197 -0.23278152 -1.18376276 -1.24436237]\n",
      " [-1.51442415  0.52281515 -0.75957947 -0.83920258]\n",
      " [-1.13930206  0.53728158 -0.47534253 -0.53790412]]\n"
     ]
    }
   ],
   "source": [
    "Xprime = Y.dot(matrix_w.transpose())\n",
    "print(Xprime)"
   ]
  },
  {
   "cell_type": "code",
   "execution_count": 29,
   "id": "1c485b1f",
   "metadata": {},
   "outputs": [
    {
     "data": {
      "text/plain": [
       "0.021637220952484226"
      ]
     },
     "execution_count": 29,
     "metadata": {},
     "output_type": "execute_result"
    }
   ],
   "source": [
    "#reconstruction error\n",
    "\n",
    "np.square(Xprime-X_std).mean(axis=None)"
   ]
  },
  {
   "cell_type": "markdown",
   "id": "71a2fd3e",
   "metadata": {
    "slideshow": {
     "slide_type": "slide"
    }
   },
   "source": [
    "### 2.7 Easter Egg/Shortcut: PCA in scikit-learn\n",
    "\n",
    "For educational purposes, we went a long way to see how PCA works. But luckily, there is already implementation in scikit-learn (fun fact: it does not follow the process we just explained, but rather uses SVD as a decomposition). We can inspect the result and see all the components that we computed."
   ]
  },
  {
   "cell_type": "code",
   "execution_count": 30,
   "id": "cd3387d8",
   "metadata": {},
   "outputs": [],
   "source": [
    "from sklearn.decomposition import PCA as sklearnPCA\n",
    "ncomp=2\n",
    "sklearn_pca = sklearnPCA(n_components=ncomp)\n",
    "#Y_sklearn = sklearn_pca.fit_transform(X) #if i don't do scaling\n",
    "Y_sklearn = sklearn_pca.fit_transform(X_std) #if i do scaling"
   ]
  },
  {
   "cell_type": "code",
   "execution_count": 31,
   "id": "205c2fe6",
   "metadata": {},
   "outputs": [
    {
     "name": "stdout",
     "output_type": "stream",
     "text": [
      "[2.9155136  1.03746732]\n",
      "[0.72158962 0.25677316]\n",
      "[16.98928623 10.13455796]\n"
     ]
    }
   ],
   "source": [
    "print(sklearn_pca.explained_variance_)\n",
    "print(sklearn_pca.explained_variance_ratio_) #note that this is based on the eigenvalues and not the **exact formula** we used\n",
    "print(sklearn_pca.singular_values_)"
   ]
  },
  {
   "cell_type": "markdown",
   "id": "bddfa4b8",
   "metadata": {},
   "source": [
    "In the plot below, with black lines, we tried to draw the \"loadings\" of the original features. That is, for each PC, i plot the \"contributions\" of the original 4 variables (using the eigenvectors).\n",
    "\n"
   ]
  },
  {
   "cell_type": "code",
   "execution_count": 32,
   "id": "0baa6c95",
   "metadata": {},
   "outputs": [
    {
     "data": {
      "text/plain": [
       "array([[ 0.43759561,  0.37560774,  0.57100602,  0.58427822],\n",
       "       [ 0.65472309, -0.75521251, -0.02481468,  0.01938982]])"
      ]
     },
     "execution_count": 32,
     "metadata": {},
     "output_type": "execute_result"
    }
   ],
   "source": [
    "sklearn_pca.components_"
   ]
  },
  {
   "cell_type": "code",
   "execution_count": 33,
   "id": "f3e37f4a",
   "metadata": {
    "scrolled": false
   },
   "outputs": [
    {
     "data": {
      "image/png": "[encoded data removed]",
      "text/plain": [
       "<Figure size 600x400 with 1 Axes>"
      ]
     },
     "metadata": {},
     "output_type": "display_data"
    }
   ],
   "source": [
    "feature_dict = {0: 'width',\n",
    "                1: 'height',\n",
    "                2: 'area',\n",
    "                3: 'perimeter'}\n",
    "\n",
    "with plt.style.context('seaborn-whitegrid'):\n",
    "    \n",
    "    plt.figure(figsize=(6, 4))\n",
    "    pcs=np.transpose(sklearn_pca.components_[0:2, :]) #two first components (because we might use more...)\n",
    "    n = pcs.shape[0]    \n",
    "    \n",
    "    #draw the loadings\n",
    "    #Notice that for scaling reasons, we use a factor to show the loadings in a more distinct way.\n",
    "    scale = 3\n",
    "    for i in range(n):\n",
    "        plt.arrow(0, 0, scale*pcs[i,0], scale*pcs[i,1],color = 'black',alpha = 0.9)\n",
    "        plt.text(pcs[i,0]* scale, pcs[i,1] * scale * 1.15, feature_dict[i], color = 'black', ha = 'left', va = 'center')\n",
    "\n",
    "    #draw the projected data points\n",
    "    plt.scatter(Y_sklearn[:, 0],Y_sklearn[:,1])\n",
    "    plt.xlabel('Principal Component 1')\n",
    "    plt.ylabel('Principal Component 2')\n",
    "    plt.tight_layout()\n",
    "    plt.show()"
   ]
  },
  {
   "cell_type": "markdown",
   "id": "0defb11f",
   "metadata": {
    "slideshow": {
     "slide_type": "slide"
    }
   },
   "source": [
    "# 3. SVD Demo"
   ]
  },
  {
   "cell_type": "code",
   "execution_count": 34,
   "id": "ed2d9f1c",
   "metadata": {
    "scrolled": true
   },
   "outputs": [
    {
     "data": {
      "text/html": [
       "<div>\n",
       "<style scoped>\n",
       "    .dataframe tbody tr th:only-of-type {\n",
       "        vertical-align: middle;\n",
       "    }\n",
       "\n",
       "    .dataframe tbody tr th {\n",
       "        vertical-align: top;\n",
       "    }\n",
       "\n",
       "    .dataframe thead th {\n",
       "        text-align: right;\n",
       "    }\n",
       "</style>\n",
       "<table border=\"1\" class=\"dataframe\">\n",
       "  <thead>\n",
       "    <tr style=\"text-align: right;\">\n",
       "      <th></th>\n",
       "      <th>width</th>\n",
       "      <th>height</th>\n",
       "      <th>area</th>\n",
       "      <th>perimeter</th>\n",
       "    </tr>\n",
       "  </thead>\n",
       "  <tbody>\n",
       "    <tr>\n",
       "      <th>0</th>\n",
       "      <td>8</td>\n",
       "      <td>6</td>\n",
       "      <td>48</td>\n",
       "      <td>28</td>\n",
       "    </tr>\n",
       "    <tr>\n",
       "      <th>1</th>\n",
       "      <td>2</td>\n",
       "      <td>4</td>\n",
       "      <td>8</td>\n",
       "      <td>12</td>\n",
       "    </tr>\n",
       "    <tr>\n",
       "      <th>2</th>\n",
       "      <td>1</td>\n",
       "      <td>3</td>\n",
       "      <td>3</td>\n",
       "      <td>8</td>\n",
       "    </tr>\n",
       "    <tr>\n",
       "      <th>3</th>\n",
       "      <td>9</td>\n",
       "      <td>3</td>\n",
       "      <td>27</td>\n",
       "      <td>24</td>\n",
       "    </tr>\n",
       "    <tr>\n",
       "      <th>4</th>\n",
       "      <td>9</td>\n",
       "      <td>8</td>\n",
       "      <td>72</td>\n",
       "      <td>34</td>\n",
       "    </tr>\n",
       "    <tr>\n",
       "      <th>5</th>\n",
       "      <td>3</td>\n",
       "      <td>1</td>\n",
       "      <td>3</td>\n",
       "      <td>8</td>\n",
       "    </tr>\n",
       "    <tr>\n",
       "      <th>6</th>\n",
       "      <td>4</td>\n",
       "      <td>2</td>\n",
       "      <td>8</td>\n",
       "      <td>12</td>\n",
       "    </tr>\n",
       "    <tr>\n",
       "      <th>7</th>\n",
       "      <td>6</td>\n",
       "      <td>5</td>\n",
       "      <td>30</td>\n",
       "      <td>22</td>\n",
       "    </tr>\n",
       "    <tr>\n",
       "      <th>8</th>\n",
       "      <td>7</td>\n",
       "      <td>1</td>\n",
       "      <td>7</td>\n",
       "      <td>16</td>\n",
       "    </tr>\n",
       "    <tr>\n",
       "      <th>9</th>\n",
       "      <td>8</td>\n",
       "      <td>2</td>\n",
       "      <td>16</td>\n",
       "      <td>20</td>\n",
       "    </tr>\n",
       "  </tbody>\n",
       "</table>\n",
       "</div>"
      ],
      "text/plain": [
       "   width  height  area  perimeter\n",
       "0      8       6    48         28\n",
       "1      2       4     8         12\n",
       "2      1       3     3          8\n",
       "3      9       3    27         24\n",
       "4      9       8    72         34\n",
       "5      3       1     3          8\n",
       "6      4       2     8         12\n",
       "7      6       5    30         22\n",
       "8      7       1     7         16\n",
       "9      8       2    16         20"
      ]
     },
     "execution_count": 34,
     "metadata": {},
     "output_type": "execute_result"
    }
   ],
   "source": [
    "rectangle = pd.read_csv(\"data/rectangle_data.csv\")\n",
    "rectangle.head(10)"
   ]
  },
  {
   "cell_type": "markdown",
   "id": "536371fe",
   "metadata": {},
   "source": [
    "Singular value decomposition is a numerical technique to automatically decompose matrix into two matrices. Given an input matrix X, SVD will return $U\\Sigma$ and $V^T$ such that $ X = U \\Sigma V^T $."
   ]
  },
  {
   "cell_type": "code",
   "execution_count": 35,
   "id": "5f94c626",
   "metadata": {},
   "outputs": [],
   "source": [
    "u, s, vt = np.linalg.svd(rectangle, full_matrices = False)"
   ]
  },
  {
   "cell_type": "code",
   "execution_count": 36,
   "id": "86b886f3",
   "metadata": {},
   "outputs": [
    {
     "name": "stdout",
     "output_type": "stream",
     "text": [
      "[[362.93256772   0.           0.           0.        ]\n",
      " [  0.          62.99047318   0.           0.        ]\n",
      " [  0.           0.          25.6544651    0.        ]\n",
      " [  0.           0.           0.           0.        ]]\n"
     ]
    }
   ],
   "source": [
    "print(np.diag(s))"
   ]
  },
  {
   "cell_type": "markdown",
   "id": "9797dbee",
   "metadata": {},
   "source": [
    "The SVD method returns $U$ and $\\Sigma$ as two separate variables. To compute $U \\Sigma$ we simply write:"
   ]
  },
  {
   "cell_type": "code",
   "execution_count": 37,
   "id": "0ca22cff",
   "metadata": {},
   "outputs": [],
   "source": [
    "usig = u * s"
   ]
  },
  {
   "cell_type": "code",
   "execution_count": 38,
   "id": "a96ed184",
   "metadata": {},
   "outputs": [
    {
     "name": "stdout",
     "output_type": "stream",
     "text": [
      "(100, 4)\n",
      "(100, 4)\n",
      "(4, 4)\n"
     ]
    }
   ],
   "source": [
    "print(rectangle.shape)\n",
    "print(usig.shape)\n",
    "print(vt.shape)"
   ]
  },
  {
   "cell_type": "code",
   "execution_count": 39,
   "id": "537887f8",
   "metadata": {
    "scrolled": false
   },
   "outputs": [
    {
     "name": "stdout",
     "output_type": "stream",
     "text": [
      "[[-56.30926787   4.08369641  -0.76796869   0.        ]\n",
      " [-13.92587137  -5.61592446   1.59106852  -0.        ]\n",
      " [ -7.3883695   -5.11089273   1.51352951   0.        ]\n",
      " [-36.84443159  -4.80005945  -3.80095908  -0.        ]\n",
      " [-79.47260546  13.00269827   0.18659785  -0.        ]\n",
      " [ -7.42135662  -5.11810904  -1.31469604   0.        ]\n",
      " [-13.95885849  -5.62314077  -1.23715703   0.        ]\n",
      " [-37.98955728  -1.31360807  -0.26071277   0.        ]\n",
      " [-15.6692269   -9.65347804  -4.03555325   0.        ]\n",
      " [-25.44680915  -7.81311695  -3.92620778  -0.        ]\n",
      " [-32.68750933  -2.52515864   0.38769508  -0.        ]\n",
      " [-53.89570114   2.32104364  -2.20593631  -0.        ]\n",
      " [-40.87803851  -1.86471027  -2.34708823  -0.        ]\n",
      " [ -5.34289549  -3.98065864   0.77963103   0.        ]\n",
      " [-28.2033419   -8.33535389   5.30031897   0.        ]\n",
      " [-64.00838899   7.0615079    1.43570386  -0.        ]\n",
      " [-43.29160524  -0.1020575   -0.90912062   0.        ]\n",
      " [-13.92587137  -5.61592446   1.59106852  -0.        ]\n",
      " [-16.78136548  -6.15981034   2.33291861   0.        ]\n",
      " [-18.43439279  -4.99433025  -0.47940371   0.        ]\n",
      " [-17.73119447 -10.78732028  -4.71576755  -0.        ]\n",
      " [-48.59365319   1.10949307  -1.55752846  -0.        ]\n",
      " [-79.47260546  13.00269827   0.18659785  -0.        ]\n",
      " [-29.48041607  -4.87776777  -2.47233693   0.        ]\n",
      " [-33.16242383  -4.83891361  -3.13664801   0.        ]\n",
      " [-44.08513177   0.48789886   0.51294377   0.        ]\n",
      " [-31.8939828   -3.115115    -1.03436931   0.        ]\n",
      " [-40.87803851  -1.86471027  -2.34708823  -0.        ]\n",
      " [-22.57482149  -7.2656229   -3.25394509   0.        ]\n",
      " [-22.90992708  -4.36551973   0.27834961  -0.        ]\n",
      " [ -9.48332419  -6.25195129  -1.99491034   0.        ]\n",
      " [-70.94697069   9.44214673  -0.61091354  -0.        ]\n",
      " [-13.95885849  -5.62314077  -1.23715703   0.        ]\n",
      " [ -5.34289549  -3.98065864   0.77963103   0.        ]\n",
      " [-17.73119447 -10.78732028  -4.71576755  -0.        ]\n",
      " [-27.40195494  -3.74031736  -0.37800985  -0.        ]\n",
      " [-53.89570114   2.32104364  -2.20593631  -0.        ]\n",
      " [-62.37185523   5.89241965   2.83391341  -0.        ]\n",
      " [-29.41444183  -4.86333514   3.18411417  -0.        ]\n",
      " [-29.48041607  -4.87776777  -2.47233693   0.        ]\n",
      " [-57.1027944    4.67365277   0.6540957   -0.        ]\n",
      " [-14.75238503  -5.03318441   0.18490736   0.        ]\n",
      " [-32.68750933  -2.52515864   0.38769508  -0.        ]\n",
      " [-29.48041607  -4.87776777  -2.47233693   0.        ]\n",
      " [-25.44680915  -7.81311695  -3.92620778  -0.        ]\n",
      " [-19.63685958  -6.70369623   3.0747687    0.        ]\n",
      " [-15.6692269   -9.65347804  -4.03555325   0.        ]\n",
      " [ -5.34289549  -3.98065864   0.77963103   0.        ]\n",
      " [-22.08341343  -4.94825977   1.68451077   0.        ]\n",
      " [-19.63685958  -6.70369623   3.0747687    0.        ]\n",
      " [-37.97306372  -1.30999991   1.15340001  -0.        ]\n",
      " [-19.79316204 -11.92116253  -5.39598185  -0.        ]\n",
      " [-25.79840831  -4.91662193  -1.80802586   0.        ]\n",
      " [-19.63685958  -6.70369623   3.0747687    0.        ]\n",
      " [-56.27628075   4.09091272   2.06025686   0.        ]\n",
      " [-19.79316204 -11.92116253  -5.39598185  -0.        ]\n",
      " [-25.34784779  -7.79146801   4.55846888   0.        ]\n",
      " [-29.41444183  -4.86333514   3.18411417  -0.        ]\n",
      " [-37.98955728  -1.31360807  -0.26071277   0.        ]\n",
      " [-56.30926787   4.08369641  -0.76796869  -0.        ]\n",
      " [-28.31879682  -8.36061099  -4.59847046  -0.        ]\n",
      " [-36.74547023  -4.77841051   4.68371758  -0.        ]\n",
      " [-16.78136548  -6.15981034   2.33291861   0.        ]\n",
      " [ -9.43384352  -6.24112682   2.24742798   0.        ]\n",
      " [-14.75238503  -5.03318441   0.18490736   0.        ]\n",
      " [-28.2033419   -8.33535389   5.30031897   0.        ]\n",
      " [-31.8939828   -3.115115    -1.03436931   0.        ]\n",
      " [-16.83084616  -6.17063481  -1.90941971  -0.        ]\n",
      " [-19.63685958  -6.70369623   3.0747687    0.        ]\n",
      " [-16.78136548  -6.15981034   2.33291861   0.        ]\n",
      " [ -7.3883695   -5.11089273   1.51352951   0.        ]\n",
      " [ -7.3883695   -5.11089273   1.51352951   0.        ]\n",
      " [-50.18070626   2.28940579   1.28660032   0.        ]\n",
      " [-56.30926787   4.08369641  -0.76796869  -0.        ]\n",
      " [-22.49235369  -7.24758212   3.81661879   0.        ]\n",
      " [-31.86099568  -3.10789868   1.79385624  -0.        ]\n",
      " [ -3.29742148  -2.85042454   0.04573256   0.        ]\n",
      " [-79.47260546  13.00269827   0.18659785  -0.        ]\n",
      " [-32.68750933  -2.52515864   0.38769508  -0.        ]\n",
      " [-36.74547023  -4.77841051   4.68371758  -0.        ]\n",
      " [-25.34784779  -7.79146801   4.55846888   0.        ]\n",
      " [ -8.21488316  -4.52815268   0.10736835   0.        ]\n",
      " [-33.16242383  -4.83891361  -3.13664801   0.        ]\n",
      " [-17.61573956 -10.76206319   5.18302188   0.        ]\n",
      " [-11.54529176  -7.38579354  -2.67512465  -0.        ]\n",
      " [-43.25861812  -0.09484119   1.91910494  -0.        ]\n",
      " [-53.89570114   2.32104364  -2.20593631  -0.        ]\n",
      " [ -7.42135662  -5.11810904  -1.31469604   0.        ]\n",
      " [-70.94697069   9.44214673  -0.61091354  -0.        ]\n",
      " [-48.59365319   1.10949307  -1.55752846  -0.        ]\n",
      " [-79.47260546  13.00269827   0.18659785  -0.        ]\n",
      " [-27.38546138  -3.73670921   1.03610292  -0.        ]\n",
      " [-27.38546138  -3.73670921   1.03610292  -0.        ]\n",
      " [-11.47931753  -7.37136091   2.98132646   0.        ]\n",
      " [-44.08513177   0.48789886   0.51294377   0.        ]\n",
      " [-48.59365319   1.10949307  -1.55752846  -0.        ]\n",
      " [-64.02488255   7.05789975   0.02159108  -0.        ]\n",
      " [ -9.43384352  -6.24112682   2.24742798   0.        ]\n",
      " [-13.52479154  -8.501595     3.71522493  -0.        ]\n",
      " [-19.63685958  -6.70369623   3.0747687   -0.        ]]\n"
     ]
    }
   ],
   "source": [
    "print(usig)\n",
    "#pd.DataFrame(usig).head(10)"
   ]
  },
  {
   "cell_type": "code",
   "execution_count": 40,
   "id": "a2ba1827",
   "metadata": {},
   "outputs": [
    {
     "data": {
      "text/html": [
       "<div>\n",
       "<style scoped>\n",
       "    .dataframe tbody tr th:only-of-type {\n",
       "        vertical-align: middle;\n",
       "    }\n",
       "\n",
       "    .dataframe tbody tr th {\n",
       "        vertical-align: top;\n",
       "    }\n",
       "\n",
       "    .dataframe thead th {\n",
       "        text-align: right;\n",
       "    }\n",
       "</style>\n",
       "<table border=\"1\" class=\"dataframe\">\n",
       "  <thead>\n",
       "    <tr style=\"text-align: right;\">\n",
       "      <th></th>\n",
       "      <th>0</th>\n",
       "      <th>1</th>\n",
       "      <th>2</th>\n",
       "      <th>3</th>\n",
       "    </tr>\n",
       "  </thead>\n",
       "  <tbody>\n",
       "    <tr>\n",
       "      <th>0</th>\n",
       "      <td>-0.146436</td>\n",
       "      <td>-0.129942</td>\n",
       "      <td>-0.810020</td>\n",
       "      <td>-0.552756</td>\n",
       "    </tr>\n",
       "    <tr>\n",
       "      <th>1</th>\n",
       "      <td>-0.192736</td>\n",
       "      <td>-0.189128</td>\n",
       "      <td>0.586348</td>\n",
       "      <td>-0.763727</td>\n",
       "    </tr>\n",
       "    <tr>\n",
       "      <th>2</th>\n",
       "      <td>-0.704957</td>\n",
       "      <td>0.709155</td>\n",
       "      <td>0.007952</td>\n",
       "      <td>0.008396</td>\n",
       "    </tr>\n",
       "    <tr>\n",
       "      <th>3</th>\n",
       "      <td>-0.666667</td>\n",
       "      <td>-0.666667</td>\n",
       "      <td>0.000000</td>\n",
       "      <td>0.333333</td>\n",
       "    </tr>\n",
       "  </tbody>\n",
       "</table>\n",
       "</div>"
      ],
      "text/plain": [
       "          0         1         2         3\n",
       "0 -0.146436 -0.129942 -0.810020 -0.552756\n",
       "1 -0.192736 -0.189128  0.586348 -0.763727\n",
       "2 -0.704957  0.709155  0.007952  0.008396\n",
       "3 -0.666667 -0.666667  0.000000  0.333333"
      ]
     },
     "execution_count": 40,
     "metadata": {},
     "output_type": "execute_result"
    }
   ],
   "source": [
    "pd.DataFrame(vt)"
   ]
  },
  {
   "cell_type": "markdown",
   "id": "e15b34ea",
   "metadata": {},
   "source": [
    "The two key pieces of the decomposition are $U\\Sigma$ and $V^T$, which we can think of for now as analogous to our 'data' and 'transformation operation' from our manual decomposition earlier."
   ]
  },
  {
   "cell_type": "markdown",
   "id": "25e6a6b1",
   "metadata": {},
   "source": [
    "As we did before with our manual decomposition, we can recover our original rectangle data by multiplying the left matrix $U\\Sigma$ by the right matrix $V^T$."
   ]
  },
  {
   "cell_type": "code",
   "execution_count": 41,
   "id": "937233ef",
   "metadata": {
    "scrolled": true
   },
   "outputs": [
    {
     "data": {
      "text/html": [
       "<div>\n",
       "<style scoped>\n",
       "    .dataframe tbody tr th:only-of-type {\n",
       "        vertical-align: middle;\n",
       "    }\n",
       "\n",
       "    .dataframe tbody tr th {\n",
       "        vertical-align: top;\n",
       "    }\n",
       "\n",
       "    .dataframe thead th {\n",
       "        text-align: right;\n",
       "    }\n",
       "</style>\n",
       "<table border=\"1\" class=\"dataframe\">\n",
       "  <thead>\n",
       "    <tr style=\"text-align: right;\">\n",
       "      <th></th>\n",
       "      <th>0</th>\n",
       "      <th>1</th>\n",
       "      <th>2</th>\n",
       "      <th>3</th>\n",
       "    </tr>\n",
       "  </thead>\n",
       "  <tbody>\n",
       "    <tr>\n",
       "      <th>0</th>\n",
       "      <td>8.0</td>\n",
       "      <td>6.0</td>\n",
       "      <td>48.0</td>\n",
       "      <td>28.0</td>\n",
       "    </tr>\n",
       "    <tr>\n",
       "      <th>1</th>\n",
       "      <td>2.0</td>\n",
       "      <td>4.0</td>\n",
       "      <td>8.0</td>\n",
       "      <td>12.0</td>\n",
       "    </tr>\n",
       "    <tr>\n",
       "      <th>2</th>\n",
       "      <td>1.0</td>\n",
       "      <td>3.0</td>\n",
       "      <td>3.0</td>\n",
       "      <td>8.0</td>\n",
       "    </tr>\n",
       "    <tr>\n",
       "      <th>3</th>\n",
       "      <td>9.0</td>\n",
       "      <td>3.0</td>\n",
       "      <td>27.0</td>\n",
       "      <td>24.0</td>\n",
       "    </tr>\n",
       "    <tr>\n",
       "      <th>4</th>\n",
       "      <td>9.0</td>\n",
       "      <td>8.0</td>\n",
       "      <td>72.0</td>\n",
       "      <td>34.0</td>\n",
       "    </tr>\n",
       "    <tr>\n",
       "      <th>5</th>\n",
       "      <td>3.0</td>\n",
       "      <td>1.0</td>\n",
       "      <td>3.0</td>\n",
       "      <td>8.0</td>\n",
       "    </tr>\n",
       "    <tr>\n",
       "      <th>6</th>\n",
       "      <td>4.0</td>\n",
       "      <td>2.0</td>\n",
       "      <td>8.0</td>\n",
       "      <td>12.0</td>\n",
       "    </tr>\n",
       "    <tr>\n",
       "      <th>7</th>\n",
       "      <td>6.0</td>\n",
       "      <td>5.0</td>\n",
       "      <td>30.0</td>\n",
       "      <td>22.0</td>\n",
       "    </tr>\n",
       "    <tr>\n",
       "      <th>8</th>\n",
       "      <td>7.0</td>\n",
       "      <td>1.0</td>\n",
       "      <td>7.0</td>\n",
       "      <td>16.0</td>\n",
       "    </tr>\n",
       "    <tr>\n",
       "      <th>9</th>\n",
       "      <td>8.0</td>\n",
       "      <td>2.0</td>\n",
       "      <td>16.0</td>\n",
       "      <td>20.0</td>\n",
       "    </tr>\n",
       "  </tbody>\n",
       "</table>\n",
       "</div>"
      ],
      "text/plain": [
       "     0    1     2     3\n",
       "0  8.0  6.0  48.0  28.0\n",
       "1  2.0  4.0   8.0  12.0\n",
       "2  1.0  3.0   3.0   8.0\n",
       "3  9.0  3.0  27.0  24.0\n",
       "4  9.0  8.0  72.0  34.0\n",
       "5  3.0  1.0   3.0   8.0\n",
       "6  4.0  2.0   8.0  12.0\n",
       "7  6.0  5.0  30.0  22.0\n",
       "8  7.0  1.0   7.0  16.0\n",
       "9  8.0  2.0  16.0  20.0"
      ]
     },
     "execution_count": 41,
     "metadata": {},
     "output_type": "execute_result"
    }
   ],
   "source": [
    "pd.DataFrame(usig @ vt).head(10)"
   ]
  },
  {
   "cell_type": "markdown",
   "id": "dfea4267",
   "metadata": {},
   "source": [
    "Naturally, we can instead use only the first 3 columns of $U\\Sigma$ and first 3 rows of $V^{\\top}$ and get back the exactly correct result. This is because the last column of $U\\Sigma$ is 0."
   ]
  },
  {
   "cell_type": "code",
   "execution_count": 42,
   "id": "f4446e5b",
   "metadata": {},
   "outputs": [
    {
     "data": {
      "text/html": [
       "<div>\n",
       "<style scoped>\n",
       "    .dataframe tbody tr th:only-of-type {\n",
       "        vertical-align: middle;\n",
       "    }\n",
       "\n",
       "    .dataframe tbody tr th {\n",
       "        vertical-align: top;\n",
       "    }\n",
       "\n",
       "    .dataframe thead th {\n",
       "        text-align: right;\n",
       "    }\n",
       "</style>\n",
       "<table border=\"1\" class=\"dataframe\">\n",
       "  <thead>\n",
       "    <tr style=\"text-align: right;\">\n",
       "      <th></th>\n",
       "      <th>0</th>\n",
       "      <th>1</th>\n",
       "      <th>2</th>\n",
       "      <th>3</th>\n",
       "    </tr>\n",
       "  </thead>\n",
       "  <tbody>\n",
       "    <tr>\n",
       "      <th>0</th>\n",
       "      <td>8.0</td>\n",
       "      <td>6.0</td>\n",
       "      <td>48.0</td>\n",
       "      <td>28.0</td>\n",
       "    </tr>\n",
       "    <tr>\n",
       "      <th>1</th>\n",
       "      <td>2.0</td>\n",
       "      <td>4.0</td>\n",
       "      <td>8.0</td>\n",
       "      <td>12.0</td>\n",
       "    </tr>\n",
       "    <tr>\n",
       "      <th>2</th>\n",
       "      <td>1.0</td>\n",
       "      <td>3.0</td>\n",
       "      <td>3.0</td>\n",
       "      <td>8.0</td>\n",
       "    </tr>\n",
       "    <tr>\n",
       "      <th>3</th>\n",
       "      <td>9.0</td>\n",
       "      <td>3.0</td>\n",
       "      <td>27.0</td>\n",
       "      <td>24.0</td>\n",
       "    </tr>\n",
       "    <tr>\n",
       "      <th>4</th>\n",
       "      <td>9.0</td>\n",
       "      <td>8.0</td>\n",
       "      <td>72.0</td>\n",
       "      <td>34.0</td>\n",
       "    </tr>\n",
       "    <tr>\n",
       "      <th>5</th>\n",
       "      <td>3.0</td>\n",
       "      <td>1.0</td>\n",
       "      <td>3.0</td>\n",
       "      <td>8.0</td>\n",
       "    </tr>\n",
       "    <tr>\n",
       "      <th>6</th>\n",
       "      <td>4.0</td>\n",
       "      <td>2.0</td>\n",
       "      <td>8.0</td>\n",
       "      <td>12.0</td>\n",
       "    </tr>\n",
       "    <tr>\n",
       "      <th>7</th>\n",
       "      <td>6.0</td>\n",
       "      <td>5.0</td>\n",
       "      <td>30.0</td>\n",
       "      <td>22.0</td>\n",
       "    </tr>\n",
       "    <tr>\n",
       "      <th>8</th>\n",
       "      <td>7.0</td>\n",
       "      <td>1.0</td>\n",
       "      <td>7.0</td>\n",
       "      <td>16.0</td>\n",
       "    </tr>\n",
       "    <tr>\n",
       "      <th>9</th>\n",
       "      <td>8.0</td>\n",
       "      <td>2.0</td>\n",
       "      <td>16.0</td>\n",
       "      <td>20.0</td>\n",
       "    </tr>\n",
       "  </tbody>\n",
       "</table>\n",
       "</div>"
      ],
      "text/plain": [
       "     0    1     2     3\n",
       "0  8.0  6.0  48.0  28.0\n",
       "1  2.0  4.0   8.0  12.0\n",
       "2  1.0  3.0   3.0   8.0\n",
       "3  9.0  3.0  27.0  24.0\n",
       "4  9.0  8.0  72.0  34.0\n",
       "5  3.0  1.0   3.0   8.0\n",
       "6  4.0  2.0   8.0  12.0\n",
       "7  6.0  5.0  30.0  22.0\n",
       "8  7.0  1.0   7.0  16.0\n",
       "9  8.0  2.0  16.0  20.0"
      ]
     },
     "execution_count": 42,
     "metadata": {},
     "output_type": "execute_result"
    }
   ],
   "source": [
    "pd.DataFrame(usig[:, 0:3] @ vt[0:3, ]).head(10)"
   ]
  },
  {
   "cell_type": "markdown",
   "id": "9d689726",
   "metadata": {},
   "source": [
    "## Low Rank Approximation"
   ]
  },
  {
   "cell_type": "markdown",
   "id": "3569f6af",
   "metadata": {},
   "source": [
    "If we use only the first 2 rows of $U\\Sigma$ and first 2 columns of $V^{\\top}$, we end up with an imperfect reconstruction, but it's surprisingly not bad."
   ]
  },
  {
   "cell_type": "code",
   "execution_count": 43,
   "id": "5e02a7a2",
   "metadata": {
    "scrolled": true,
    "tags": []
   },
   "outputs": [
    {
     "data": {
      "text/html": [
       "<div>\n",
       "<style scoped>\n",
       "    .dataframe tbody tr th:only-of-type {\n",
       "        vertical-align: middle;\n",
       "    }\n",
       "\n",
       "    .dataframe tbody tr th {\n",
       "        vertical-align: top;\n",
       "    }\n",
       "\n",
       "    .dataframe thead th {\n",
       "        text-align: right;\n",
       "    }\n",
       "</style>\n",
       "<table border=\"1\" class=\"dataframe\">\n",
       "  <thead>\n",
       "    <tr style=\"text-align: right;\">\n",
       "      <th></th>\n",
       "      <th>0</th>\n",
       "      <th>1</th>\n",
       "      <th>2</th>\n",
       "      <th>3</th>\n",
       "    </tr>\n",
       "  </thead>\n",
       "  <tbody>\n",
       "    <tr>\n",
       "      <th>0</th>\n",
       "      <td>7.458615</td>\n",
       "      <td>6.544609</td>\n",
       "      <td>48.006107</td>\n",
       "      <td>28.006448</td>\n",
       "    </tr>\n",
       "    <tr>\n",
       "      <th>1</th>\n",
       "      <td>3.121636</td>\n",
       "      <td>2.871685</td>\n",
       "      <td>7.987348</td>\n",
       "      <td>11.986642</td>\n",
       "    </tr>\n",
       "    <tr>\n",
       "      <th>2</th>\n",
       "      <td>2.066974</td>\n",
       "      <td>1.926672</td>\n",
       "      <td>2.987965</td>\n",
       "      <td>7.987293</td>\n",
       "    </tr>\n",
       "    <tr>\n",
       "      <th>3</th>\n",
       "      <td>6.320486</td>\n",
       "      <td>5.695470</td>\n",
       "      <td>27.030224</td>\n",
       "      <td>24.031912</td>\n",
       "    </tr>\n",
       "    <tr>\n",
       "      <th>4</th>\n",
       "      <td>9.131544</td>\n",
       "      <td>7.867673</td>\n",
       "      <td>71.998516</td>\n",
       "      <td>33.998433</td>\n",
       "    </tr>\n",
       "    <tr>\n",
       "      <th>5</th>\n",
       "      <td>2.073195</td>\n",
       "      <td>1.932324</td>\n",
       "      <td>3.010454</td>\n",
       "      <td>8.011038</td>\n",
       "    </tr>\n",
       "    <tr>\n",
       "      <th>6</th>\n",
       "      <td>3.127857</td>\n",
       "      <td>2.877336</td>\n",
       "      <td>8.009837</td>\n",
       "      <td>12.010387</td>\n",
       "    </tr>\n",
       "    <tr>\n",
       "      <th>7</th>\n",
       "      <td>5.816209</td>\n",
       "      <td>5.184886</td>\n",
       "      <td>30.002073</td>\n",
       "      <td>22.002189</td>\n",
       "    </tr>\n",
       "    <tr>\n",
       "      <th>8</th>\n",
       "      <td>4.155107</td>\n",
       "      <td>3.861834</td>\n",
       "      <td>7.032089</td>\n",
       "      <td>16.033882</td>\n",
       "    </tr>\n",
       "    <tr>\n",
       "      <th>9</th>\n",
       "      <td>5.232191</td>\n",
       "      <td>4.784291</td>\n",
       "      <td>16.031220</td>\n",
       "      <td>20.032964</td>\n",
       "    </tr>\n",
       "  </tbody>\n",
       "</table>\n",
       "</div>"
      ],
      "text/plain": [
       "          0         1          2          3\n",
       "0  7.458615  6.544609  48.006107  28.006448\n",
       "1  3.121636  2.871685   7.987348  11.986642\n",
       "2  2.066974  1.926672   2.987965   7.987293\n",
       "3  6.320486  5.695470  27.030224  24.031912\n",
       "4  9.131544  7.867673  71.998516  33.998433\n",
       "5  2.073195  1.932324   3.010454   8.011038\n",
       "6  3.127857  2.877336   8.009837  12.010387\n",
       "7  5.816209  5.184886  30.002073  22.002189\n",
       "8  4.155107  3.861834   7.032089  16.033882\n",
       "9  5.232191  4.784291  16.031220  20.032964"
      ]
     },
     "execution_count": 43,
     "metadata": {},
     "output_type": "execute_result"
    }
   ],
   "source": [
    "pd.DataFrame(usig[:, 0:2] @ vt[0:2, ]).head(10)"
   ]
  },
  {
   "cell_type": "markdown",
   "id": "b2629890",
   "metadata": {},
   "source": [
    "Even the one dimensional approximation is better than you might expect."
   ]
  },
  {
   "cell_type": "code",
   "execution_count": 44,
   "id": "356e9cf0",
   "metadata": {
    "scrolled": true
   },
   "outputs": [
    {
     "data": {
      "text/html": [
       "<div>\n",
       "<style scoped>\n",
       "    .dataframe tbody tr th:only-of-type {\n",
       "        vertical-align: middle;\n",
       "    }\n",
       "\n",
       "    .dataframe tbody tr th {\n",
       "        vertical-align: top;\n",
       "    }\n",
       "\n",
       "    .dataframe thead th {\n",
       "        text-align: right;\n",
       "    }\n",
       "</style>\n",
       "<table border=\"1\" class=\"dataframe\">\n",
       "  <thead>\n",
       "    <tr style=\"text-align: right;\">\n",
       "      <th></th>\n",
       "      <th>0</th>\n",
       "      <th>1</th>\n",
       "      <th>2</th>\n",
       "      <th>3</th>\n",
       "    </tr>\n",
       "  </thead>\n",
       "  <tbody>\n",
       "    <tr>\n",
       "      <th>0</th>\n",
       "      <td>8.245690</td>\n",
       "      <td>7.316949</td>\n",
       "      <td>45.611639</td>\n",
       "      <td>31.125278</td>\n",
       "    </tr>\n",
       "    <tr>\n",
       "      <th>1</th>\n",
       "      <td>2.039245</td>\n",
       "      <td>1.809558</td>\n",
       "      <td>11.280236</td>\n",
       "      <td>7.697607</td>\n",
       "    </tr>\n",
       "    <tr>\n",
       "      <th>2</th>\n",
       "      <td>1.081921</td>\n",
       "      <td>0.960061</td>\n",
       "      <td>5.984728</td>\n",
       "      <td>4.083965</td>\n",
       "    </tr>\n",
       "    <tr>\n",
       "      <th>3</th>\n",
       "      <td>5.395342</td>\n",
       "      <td>4.787646</td>\n",
       "      <td>29.844730</td>\n",
       "      <td>20.365976</td>\n",
       "    </tr>\n",
       "    <tr>\n",
       "      <th>4</th>\n",
       "      <td>11.637630</td>\n",
       "      <td>10.326844</td>\n",
       "      <td>64.374407</td>\n",
       "      <td>43.928949</td>\n",
       "    </tr>\n",
       "    <tr>\n",
       "      <th>5</th>\n",
       "      <td>1.086752</td>\n",
       "      <td>0.964347</td>\n",
       "      <td>6.011448</td>\n",
       "      <td>4.102198</td>\n",
       "    </tr>\n",
       "    <tr>\n",
       "      <th>6</th>\n",
       "      <td>2.044076</td>\n",
       "      <td>1.813845</td>\n",
       "      <td>11.306956</td>\n",
       "      <td>7.715841</td>\n",
       "    </tr>\n",
       "    <tr>\n",
       "      <th>7</th>\n",
       "      <td>5.563029</td>\n",
       "      <td>4.936446</td>\n",
       "      <td>30.772305</td>\n",
       "      <td>20.998951</td>\n",
       "    </tr>\n",
       "    <tr>\n",
       "      <th>8</th>\n",
       "      <td>2.294535</td>\n",
       "      <td>2.036094</td>\n",
       "      <td>12.692389</td>\n",
       "      <td>8.661257</td>\n",
       "    </tr>\n",
       "    <tr>\n",
       "      <th>9</th>\n",
       "      <td>3.726322</td>\n",
       "      <td>3.306614</td>\n",
       "      <td>20.612427</td>\n",
       "      <td>14.065873</td>\n",
       "    </tr>\n",
       "  </tbody>\n",
       "</table>\n",
       "</div>"
      ],
      "text/plain": [
       "           0          1          2          3\n",
       "0   8.245690   7.316949  45.611639  31.125278\n",
       "1   2.039245   1.809558  11.280236   7.697607\n",
       "2   1.081921   0.960061   5.984728   4.083965\n",
       "3   5.395342   4.787646  29.844730  20.365976\n",
       "4  11.637630  10.326844  64.374407  43.928949\n",
       "5   1.086752   0.964347   6.011448   4.102198\n",
       "6   2.044076   1.813845  11.306956   7.715841\n",
       "7   5.563029   4.936446  30.772305  20.998951\n",
       "8   2.294535   2.036094  12.692389   8.661257\n",
       "9   3.726322   3.306614  20.612427  14.065873"
      ]
     },
     "execution_count": 44,
     "metadata": {},
     "output_type": "execute_result"
    }
   ],
   "source": [
    "pd.DataFrame(usig[:, 0:1] @ vt[0:1, ]).head(10)"
   ]
  },
  {
   "cell_type": "code",
   "execution_count": 45,
   "id": "99c149ae",
   "metadata": {},
   "outputs": [
    {
     "name": "stdout",
     "output_type": "stream",
     "text": [
      "[[-0.14643575 -0.12994219 -0.8100201  -0.55275586]]\n",
      "[[-0.1927359  -0.18912774  0.5863482  -0.76372728]]\n"
     ]
    },
    {
     "data": {
      "text/plain": [
       "5.551115123125783e-17"
      ]
     },
     "execution_count": 45,
     "metadata": {},
     "output_type": "execute_result"
    }
   ],
   "source": [
    "print(vt[0:1,])\n",
    "print(vt[1:2,])\n",
    "np.sum(vt[0:1,]*vt[1:2])"
   ]
  },
  {
   "cell_type": "markdown",
   "id": "e677306b",
   "metadata": {
    "slideshow": {
     "slide_type": "slide"
    }
   },
   "source": [
    "# 4. Examples\n",
    "\n",
    "## 4.1 PCA example: 1988 Olympic heptathlon results\n",
    "\n",
    "The [heptathlon](https://en.wikipedia.org/wiki/Heptathlon) is an Olympic event consisting of seven events: \n",
    "1. 100m hurdles\n",
    "+ shot\n",
    "+ high jump\n",
    "+ 200m run\n",
    "+ long jump\n",
    "+ javelin\n",
    "+ 800m run\n",
    "\n",
    "The values for each of these events are then combined according to [official Olympic rules](https://en.wikipedia.org/wiki/Heptathlon#Points_system) to generate a *score* for each athlete. The athlete with the largest score wins. \n",
    "\n",
    "We'll use PCA to analyze the results for the women's heptathlon from the 1988 Olympics held in Seoul, Korea. \n",
    "The results for all 25 athletes are contained in the file `heptathlon.csv`. "
   ]
  },
  {
   "cell_type": "code",
   "execution_count": 46,
   "id": "bfaabee2",
   "metadata": {
    "scrolled": false
   },
   "outputs": [
    {
     "name": "stdout",
     "output_type": "stream",
     "text": [
      "                    name     hurdles   highjump   shot   run200m   longjump  \\\n",
      "0   Joyner-Kersee (USA)        12.69       1.86  15.80     22.56       7.27   \n",
      "1            John (GDR)        12.85       1.80  16.23     23.65       6.71   \n",
      "2          Behmer (GDR)        13.20       1.83  14.20     23.10       6.68   \n",
      "3    Sablovskaite (URS)        13.61       1.80  15.23     23.92       6.25   \n",
      "4     Choubenkova (URS)        13.51       1.74  14.76     23.93       6.32   \n",
      "5          Schulz (GDR)        13.75       1.83  13.50     24.65       6.33   \n",
      "6         Fleming (AUS)        13.38       1.80  12.88     23.59       6.37   \n",
      "7         Greiner (USA)        13.55       1.80  14.13     24.48       6.47   \n",
      "8      Lajbnerova (CZE)        13.63       1.83  14.28     24.86       6.11   \n",
      "9         Bouraga (URS)        13.25       1.77  12.62     23.59       6.28   \n",
      "10        Wijnsma (HOL)        13.75       1.86  13.01     25.03       6.34   \n",
      "11      Dimitrova (BUL)        13.24       1.80  12.88     23.59       6.37   \n",
      "12       Scheider (SWI)        13.85       1.86  11.58     24.87       6.05   \n",
      "13          Braun (FRG)        13.71       1.83  13.16     24.78       6.12   \n",
      "14   Ruotsalainen (FIN)        13.79       1.80  12.32     24.61       6.08   \n",
      "15         Yuping (CHN)        13.93       1.86  14.21     25.00       6.40   \n",
      "16          Hagger (GB)        13.47       1.80  12.75     25.47       6.34   \n",
      "17          Brown (USA)        14.07       1.83  12.69     24.83       6.13   \n",
      "18        Mulliner (GB)        14.39       1.71  12.68     24.92       6.10   \n",
      "19     Hautenauve (BEL)        14.04       1.77  11.81     25.61       5.99   \n",
      "20         Kytola (FIN)        14.31       1.77  11.66     25.69       5.75   \n",
      "21       Geremias (BRA)        14.23       1.71  12.95     25.50       5.50   \n",
      "22        Hui-Ing (TAI)        14.85       1.68  10.00     25.23       5.47   \n",
      "23       Jeong-Mi (KOR)        14.53       1.71  10.83     26.61       5.50   \n",
      "24          Launa (PNG)        16.42       1.50  11.78     26.16       4.88   \n",
      "\n",
      "     javelin   run800m   score   \n",
      "0      45.66    128.51     7291  \n",
      "1      42.56    126.12     6897  \n",
      "2      44.54    124.20     6858  \n",
      "3      42.78    132.24     6540  \n",
      "4      47.46    127.90     6540  \n",
      "5      42.82    125.79     6411  \n",
      "6      40.28    132.54     6351  \n",
      "7      38.00    133.65     6297  \n",
      "8      42.20    136.05     6252  \n",
      "9      39.06    134.74     6252  \n",
      "10     37.86    131.49     6205  \n",
      "11     40.28    132.54     6171  \n",
      "12     47.50    134.93     6137  \n",
      "13     44.58    142.82     6109  \n",
      "14     45.44    137.06     6101  \n",
      "15     38.60    146.67     6087  \n",
      "16     35.76    138.48     5975  \n",
      "17     44.34    146.43     5972  \n",
      "18     37.76    138.02     5746  \n",
      "19     35.68    133.90     5734  \n",
      "20     39.48    133.35     5686  \n",
      "21     39.64    144.02     5508  \n",
      "22     39.14    137.30     5290  \n",
      "23     39.26    139.17     5289  \n",
      "24     46.38    163.43     4566  \n"
     ]
    }
   ],
   "source": [
    "hept = pd.read_csv(\"data/heptathlon.csv\")\n",
    "print(hept)"
   ]
  },
  {
   "cell_type": "code",
   "execution_count": 47,
   "id": "2422ebd9",
   "metadata": {
    "scrolled": true
   },
   "outputs": [
    {
     "data": {
      "text/html": [
       "<div>\n",
       "<style scoped>\n",
       "    .dataframe tbody tr th:only-of-type {\n",
       "        vertical-align: middle;\n",
       "    }\n",
       "\n",
       "    .dataframe tbody tr th {\n",
       "        vertical-align: top;\n",
       "    }\n",
       "\n",
       "    .dataframe thead th {\n",
       "        text-align: right;\n",
       "    }\n",
       "</style>\n",
       "<table border=\"1\" class=\"dataframe\">\n",
       "  <thead>\n",
       "    <tr style=\"text-align: right;\">\n",
       "      <th></th>\n",
       "      <th>hurdles</th>\n",
       "      <th>highjump</th>\n",
       "      <th>shot</th>\n",
       "      <th>run200m</th>\n",
       "      <th>longjump</th>\n",
       "      <th>javelin</th>\n",
       "      <th>run800m</th>\n",
       "      <th>score</th>\n",
       "    </tr>\n",
       "  </thead>\n",
       "  <tbody>\n",
       "    <tr>\n",
       "      <th>count</th>\n",
       "      <td>25.000000</td>\n",
       "      <td>25.000000</td>\n",
       "      <td>25.000000</td>\n",
       "      <td>25.000000</td>\n",
       "      <td>25.000000</td>\n",
       "      <td>25.000000</td>\n",
       "      <td>25.000000</td>\n",
       "      <td>25.000000</td>\n",
       "    </tr>\n",
       "    <tr>\n",
       "      <th>mean</th>\n",
       "      <td>13.840000</td>\n",
       "      <td>1.782000</td>\n",
       "      <td>13.117600</td>\n",
       "      <td>24.649200</td>\n",
       "      <td>6.152400</td>\n",
       "      <td>41.482400</td>\n",
       "      <td>136.054000</td>\n",
       "      <td>6090.600000</td>\n",
       "    </tr>\n",
       "    <tr>\n",
       "      <th>std</th>\n",
       "      <td>0.736648</td>\n",
       "      <td>0.077942</td>\n",
       "      <td>1.491884</td>\n",
       "      <td>0.969557</td>\n",
       "      <td>0.474212</td>\n",
       "      <td>3.545656</td>\n",
       "      <td>8.291088</td>\n",
       "      <td>568.469729</td>\n",
       "    </tr>\n",
       "    <tr>\n",
       "      <th>min</th>\n",
       "      <td>12.690000</td>\n",
       "      <td>1.500000</td>\n",
       "      <td>10.000000</td>\n",
       "      <td>22.560000</td>\n",
       "      <td>4.880000</td>\n",
       "      <td>35.680000</td>\n",
       "      <td>124.200000</td>\n",
       "      <td>4566.000000</td>\n",
       "    </tr>\n",
       "    <tr>\n",
       "      <th>25%</th>\n",
       "      <td>13.470000</td>\n",
       "      <td>1.770000</td>\n",
       "      <td>12.320000</td>\n",
       "      <td>23.920000</td>\n",
       "      <td>6.050000</td>\n",
       "      <td>39.060000</td>\n",
       "      <td>132.240000</td>\n",
       "      <td>5746.000000</td>\n",
       "    </tr>\n",
       "    <tr>\n",
       "      <th>50%</th>\n",
       "      <td>13.750000</td>\n",
       "      <td>1.800000</td>\n",
       "      <td>12.880000</td>\n",
       "      <td>24.830000</td>\n",
       "      <td>6.250000</td>\n",
       "      <td>40.280000</td>\n",
       "      <td>134.740000</td>\n",
       "      <td>6137.000000</td>\n",
       "    </tr>\n",
       "    <tr>\n",
       "      <th>75%</th>\n",
       "      <td>14.070000</td>\n",
       "      <td>1.830000</td>\n",
       "      <td>14.200000</td>\n",
       "      <td>25.230000</td>\n",
       "      <td>6.370000</td>\n",
       "      <td>44.540000</td>\n",
       "      <td>138.480000</td>\n",
       "      <td>6351.000000</td>\n",
       "    </tr>\n",
       "    <tr>\n",
       "      <th>max</th>\n",
       "      <td>16.420000</td>\n",
       "      <td>1.860000</td>\n",
       "      <td>16.230000</td>\n",
       "      <td>26.610000</td>\n",
       "      <td>7.270000</td>\n",
       "      <td>47.500000</td>\n",
       "      <td>163.430000</td>\n",
       "      <td>7291.000000</td>\n",
       "    </tr>\n",
       "  </tbody>\n",
       "</table>\n",
       "</div>"
      ],
      "text/plain": [
       "         hurdles   highjump       shot    run200m   longjump    javelin  \\\n",
       "count  25.000000  25.000000  25.000000  25.000000  25.000000  25.000000   \n",
       "mean   13.840000   1.782000  13.117600  24.649200   6.152400  41.482400   \n",
       "std     0.736648   0.077942   1.491884   0.969557   0.474212   3.545656   \n",
       "min    12.690000   1.500000  10.000000  22.560000   4.880000  35.680000   \n",
       "25%    13.470000   1.770000  12.320000  23.920000   6.050000  39.060000   \n",
       "50%    13.750000   1.800000  12.880000  24.830000   6.250000  40.280000   \n",
       "75%    14.070000   1.830000  14.200000  25.230000   6.370000  44.540000   \n",
       "max    16.420000   1.860000  16.230000  26.610000   7.270000  47.500000   \n",
       "\n",
       "          run800m       score   \n",
       "count   25.000000    25.000000  \n",
       "mean   136.054000  6090.600000  \n",
       "std      8.291088   568.469729  \n",
       "min    124.200000  4566.000000  \n",
       "25%    132.240000  5746.000000  \n",
       "50%    134.740000  6137.000000  \n",
       "75%    138.480000  6351.000000  \n",
       "max    163.430000  7291.000000  "
      ]
     },
     "execution_count": 47,
     "metadata": {},
     "output_type": "execute_result"
    }
   ],
   "source": [
    "hept.describe()"
   ]
  },
  {
   "cell_type": "code",
   "execution_count": 48,
   "id": "b8325050",
   "metadata": {
    "scrolled": false
   },
   "outputs": [
    {
     "data": {
      "image/png": "[encoded data removed]",
      "text/plain": [
       "<Figure size 2000x2000 with 72 Axes>"
      ]
     },
     "metadata": {},
     "output_type": "display_data"
    }
   ],
   "source": [
    "sns.set()\n",
    "sns.pairplot(hept);"
   ]
  },
  {
   "cell_type": "markdown",
   "id": "2935be3e",
   "metadata": {},
   "source": [
    "**Question:** Why in the matrix scatterplot are some of the results negatively correlated? \n",
    "\n"
   ]
  },
  {
   "cell_type": "markdown",
   "id": "4ed2c5c5",
   "metadata": {
    "slideshow": {
     "slide_type": "-"
    }
   },
   "source": [
    "These plots reveal that there is an outlier, namely, Launa (PNG). We'll remove this athlete before continuing. "
   ]
  },
  {
   "cell_type": "code",
   "execution_count": 49,
   "id": "5d46e689",
   "metadata": {},
   "outputs": [],
   "source": [
    "# remove outlier\n",
    "hept = hept.drop(24)"
   ]
  },
  {
   "cell_type": "markdown",
   "id": "de06d48e",
   "metadata": {},
   "source": [
    "Now, we'll do a principal component analysis on this data"
   ]
  },
  {
   "cell_type": "code",
   "execution_count": 50,
   "id": "d9ed61b5",
   "metadata": {
    "scrolled": false
   },
   "outputs": [
    {
     "data": {
      "text/html": [
       "<div>\n",
       "<style scoped>\n",
       "    .dataframe tbody tr th:only-of-type {\n",
       "        vertical-align: middle;\n",
       "    }\n",
       "\n",
       "    .dataframe tbody tr th {\n",
       "        vertical-align: top;\n",
       "    }\n",
       "\n",
       "    .dataframe thead th {\n",
       "        text-align: right;\n",
       "    }\n",
       "</style>\n",
       "<table border=\"1\" class=\"dataframe\">\n",
       "  <thead>\n",
       "    <tr style=\"text-align: right;\">\n",
       "      <th></th>\n",
       "      <th>PC1</th>\n",
       "      <th>PC2</th>\n",
       "      <th>PC3</th>\n",
       "      <th>PC4</th>\n",
       "      <th>PC5</th>\n",
       "      <th>PC6</th>\n",
       "      <th>PC7</th>\n",
       "    </tr>\n",
       "  </thead>\n",
       "  <tbody>\n",
       "    <tr>\n",
       "      <th>0</th>\n",
       "      <td>4.859854</td>\n",
       "      <td>0.142870</td>\n",
       "      <td>0.006170</td>\n",
       "      <td>0.299727</td>\n",
       "      <td>0.369615</td>\n",
       "      <td>0.276321</td>\n",
       "      <td>-0.486110</td>\n",
       "    </tr>\n",
       "    <tr>\n",
       "      <th>1</th>\n",
       "      <td>3.215649</td>\n",
       "      <td>-0.968992</td>\n",
       "      <td>0.249166</td>\n",
       "      <td>0.560983</td>\n",
       "      <td>-0.769854</td>\n",
       "      <td>-0.385824</td>\n",
       "      <td>-0.052840</td>\n",
       "    </tr>\n",
       "    <tr>\n",
       "      <th>2</th>\n",
       "      <td>2.989121</td>\n",
       "      <td>-0.710298</td>\n",
       "      <td>-0.635678</td>\n",
       "      <td>-0.566676</td>\n",
       "      <td>0.194444</td>\n",
       "      <td>0.263348</td>\n",
       "      <td>0.112927</td>\n",
       "    </tr>\n",
       "    <tr>\n",
       "      <th>3</th>\n",
       "      <td>1.315841</td>\n",
       "      <td>-0.182857</td>\n",
       "      <td>-0.256023</td>\n",
       "      <td>0.650878</td>\n",
       "      <td>-0.616604</td>\n",
       "      <td>0.220398</td>\n",
       "      <td>0.542167</td>\n",
       "    </tr>\n",
       "    <tr>\n",
       "      <th>4</th>\n",
       "      <td>1.535787</td>\n",
       "      <td>-0.982459</td>\n",
       "      <td>-1.818885</td>\n",
       "      <td>0.800898</td>\n",
       "      <td>-0.602383</td>\n",
       "      <td>-0.081867</td>\n",
       "      <td>-0.307288</td>\n",
       "    </tr>\n",
       "    <tr>\n",
       "      <th>5</th>\n",
       "      <td>0.979082</td>\n",
       "      <td>-0.358770</td>\n",
       "      <td>-0.421971</td>\n",
       "      <td>-1.137497</td>\n",
       "      <td>-0.730214</td>\n",
       "      <td>0.259840</td>\n",
       "      <td>0.039214</td>\n",
       "    </tr>\n",
       "    <tr>\n",
       "      <th>6</th>\n",
       "      <td>0.973952</td>\n",
       "      <td>-0.510576</td>\n",
       "      <td>0.270837</td>\n",
       "      <td>-0.143218</td>\n",
       "      <td>0.884437</td>\n",
       "      <td>-0.037712</td>\n",
       "      <td>0.235008</td>\n",
       "    </tr>\n",
       "    <tr>\n",
       "      <th>7</th>\n",
       "      <td>0.646859</td>\n",
       "      <td>-0.384015</td>\n",
       "      <td>1.164865</td>\n",
       "      <td>0.145624</td>\n",
       "      <td>-0.212550</td>\n",
       "      <td>0.145424</td>\n",
       "      <td>-0.065118</td>\n",
       "    </tr>\n",
       "    <tr>\n",
       "      <th>8</th>\n",
       "      <td>0.389779</td>\n",
       "      <td>0.727451</td>\n",
       "      <td>0.069866</td>\n",
       "      <td>0.089088</td>\n",
       "      <td>-0.691843</td>\n",
       "      <td>-0.255529</td>\n",
       "      <td>0.363204</td>\n",
       "    </tr>\n",
       "    <tr>\n",
       "      <th>9</th>\n",
       "      <td>0.533556</td>\n",
       "      <td>-0.793598</td>\n",
       "      <td>0.491418</td>\n",
       "      <td>0.289848</td>\n",
       "      <td>1.213391</td>\n",
       "      <td>-0.407390</td>\n",
       "      <td>0.201362</td>\n",
       "    </tr>\n",
       "    <tr>\n",
       "      <th>10</th>\n",
       "      <td>0.222384</td>\n",
       "      <td>0.238723</td>\n",
       "      <td>1.179046</td>\n",
       "      <td>-1.287231</td>\n",
       "      <td>-0.383037</td>\n",
       "      <td>0.207036</td>\n",
       "      <td>0.178352</td>\n",
       "    </tr>\n",
       "    <tr>\n",
       "      <th>11</th>\n",
       "      <td>1.099126</td>\n",
       "      <td>-0.526618</td>\n",
       "      <td>0.319179</td>\n",
       "      <td>-0.129765</td>\n",
       "      <td>0.939715</td>\n",
       "      <td>-0.273019</td>\n",
       "      <td>0.215659</td>\n",
       "    </tr>\n",
       "    <tr>\n",
       "      <th>12</th>\n",
       "      <td>-0.003080</td>\n",
       "      <td>1.478008</td>\n",
       "      <td>-1.616780</td>\n",
       "      <td>-1.281395</td>\n",
       "      <td>0.209677</td>\n",
       "      <td>-0.179759</td>\n",
       "      <td>-0.039999</td>\n",
       "    </tr>\n",
       "    <tr>\n",
       "      <th>13</th>\n",
       "      <td>-0.111532</td>\n",
       "      <td>1.671142</td>\n",
       "      <td>-0.479677</td>\n",
       "      <td>0.370379</td>\n",
       "      <td>0.150286</td>\n",
       "      <td>-0.266963</td>\n",
       "      <td>-0.013631</td>\n",
       "    </tr>\n",
       "    <tr>\n",
       "      <th>14</th>\n",
       "      <td>-0.213360</td>\n",
       "      <td>0.703473</td>\n",
       "      <td>-1.176920</td>\n",
       "      <td>-0.115343</td>\n",
       "      <td>0.322181</td>\n",
       "      <td>-0.187463</td>\n",
       "      <td>-0.144314</td>\n",
       "    </tr>\n",
       "    <tr>\n",
       "      <th>15</th>\n",
       "      <td>-0.237508</td>\n",
       "      <td>2.002152</td>\n",
       "      <td>1.574379</td>\n",
       "      <td>0.611194</td>\n",
       "      <td>-0.178268</td>\n",
       "      <td>0.512549</td>\n",
       "      <td>0.051069</td>\n",
       "    </tr>\n",
       "    <tr>\n",
       "      <th>16</th>\n",
       "      <td>-0.673705</td>\n",
       "      <td>0.089646</td>\n",
       "      <td>1.835149</td>\n",
       "      <td>-0.186297</td>\n",
       "      <td>0.052138</td>\n",
       "      <td>-0.562427</td>\n",
       "      <td>-0.473863</td>\n",
       "    </tr>\n",
       "    <tr>\n",
       "      <th>17</th>\n",
       "      <td>-0.773133</td>\n",
       "      <td>2.086861</td>\n",
       "      <td>-0.461217</td>\n",
       "      <td>0.487184</td>\n",
       "      <td>0.389749</td>\n",
       "      <td>0.271787</td>\n",
       "      <td>-0.113382</td>\n",
       "    </tr>\n",
       "    <tr>\n",
       "      <th>18</th>\n",
       "      <td>-1.921388</td>\n",
       "      <td>-0.934989</td>\n",
       "      <td>0.367040</td>\n",
       "      <td>0.816817</td>\n",
       "      <td>0.070923</td>\n",
       "      <td>0.748354</td>\n",
       "      <td>-0.319543</td>\n",
       "    </tr>\n",
       "    <tr>\n",
       "      <th>19</th>\n",
       "      <td>-1.867490</td>\n",
       "      <td>-0.741918</td>\n",
       "      <td>1.071194</td>\n",
       "      <td>-0.727102</td>\n",
       "      <td>-0.143954</td>\n",
       "      <td>-0.070827</td>\n",
       "      <td>-0.077110</td>\n",
       "    </tr>\n",
       "    <tr>\n",
       "      <th>20</th>\n",
       "      <td>-2.163761</td>\n",
       "      <td>-0.407800</td>\n",
       "      <td>-0.194248</td>\n",
       "      <td>-0.805403</td>\n",
       "      <td>-0.427145</td>\n",
       "      <td>0.034360</td>\n",
       "      <td>0.124044</td>\n",
       "    </tr>\n",
       "    <tr>\n",
       "      <th>21</th>\n",
       "      <td>-2.830298</td>\n",
       "      <td>-0.035381</td>\n",
       "      <td>-0.173937</td>\n",
       "      <td>1.415363</td>\n",
       "      <td>-0.291552</td>\n",
       "      <td>-0.389031</td>\n",
       "      <td>0.353181</td>\n",
       "    </tr>\n",
       "    <tr>\n",
       "      <th>22</th>\n",
       "      <td>-3.985073</td>\n",
       "      <td>-1.227602</td>\n",
       "      <td>-0.963974</td>\n",
       "      <td>-0.002481</td>\n",
       "      <td>0.685235</td>\n",
       "      <td>0.538914</td>\n",
       "      <td>0.096399</td>\n",
       "    </tr>\n",
       "    <tr>\n",
       "      <th>23</th>\n",
       "      <td>-3.980661</td>\n",
       "      <td>-0.374452</td>\n",
       "      <td>-0.399000</td>\n",
       "      <td>-0.155576</td>\n",
       "      <td>-0.434390</td>\n",
       "      <td>-0.380521</td>\n",
       "      <td>-0.419387</td>\n",
       "    </tr>\n",
       "  </tbody>\n",
       "</table>\n",
       "</div>"
      ],
      "text/plain": [
       "         PC1       PC2       PC3       PC4       PC5       PC6       PC7\n",
       "0   4.859854  0.142870  0.006170  0.299727  0.369615  0.276321 -0.486110\n",
       "1   3.215649 -0.968992  0.249166  0.560983 -0.769854 -0.385824 -0.052840\n",
       "2   2.989121 -0.710298 -0.635678 -0.566676  0.194444  0.263348  0.112927\n",
       "3   1.315841 -0.182857 -0.256023  0.650878 -0.616604  0.220398  0.542167\n",
       "4   1.535787 -0.982459 -1.818885  0.800898 -0.602383 -0.081867 -0.307288\n",
       "5   0.979082 -0.358770 -0.421971 -1.137497 -0.730214  0.259840  0.039214\n",
       "6   0.973952 -0.510576  0.270837 -0.143218  0.884437 -0.037712  0.235008\n",
       "7   0.646859 -0.384015  1.164865  0.145624 -0.212550  0.145424 -0.065118\n",
       "8   0.389779  0.727451  0.069866  0.089088 -0.691843 -0.255529  0.363204\n",
       "9   0.533556 -0.793598  0.491418  0.289848  1.213391 -0.407390  0.201362\n",
       "10  0.222384  0.238723  1.179046 -1.287231 -0.383037  0.207036  0.178352\n",
       "11  1.099126 -0.526618  0.319179 -0.129765  0.939715 -0.273019  0.215659\n",
       "12 -0.003080  1.478008 -1.616780 -1.281395  0.209677 -0.179759 -0.039999\n",
       "13 -0.111532  1.671142 -0.479677  0.370379  0.150286 -0.266963 -0.013631\n",
       "14 -0.213360  0.703473 -1.176920 -0.115343  0.322181 -0.187463 -0.144314\n",
       "15 -0.237508  2.002152  1.574379  0.611194 -0.178268  0.512549  0.051069\n",
       "16 -0.673705  0.089646  1.835149 -0.186297  0.052138 -0.562427 -0.473863\n",
       "17 -0.773133  2.086861 -0.461217  0.487184  0.389749  0.271787 -0.113382\n",
       "18 -1.921388 -0.934989  0.367040  0.816817  0.070923  0.748354 -0.319543\n",
       "19 -1.867490 -0.741918  1.071194 -0.727102 -0.143954 -0.070827 -0.077110\n",
       "20 -2.163761 -0.407800 -0.194248 -0.805403 -0.427145  0.034360  0.124044\n",
       "21 -2.830298 -0.035381 -0.173937  1.415363 -0.291552 -0.389031  0.353181\n",
       "22 -3.985073 -1.227602 -0.963974 -0.002481  0.685235  0.538914  0.096399\n",
       "23 -3.980661 -0.374452 -0.399000 -0.155576 -0.434390 -0.380521 -0.419387"
      ]
     },
     "execution_count": 50,
     "metadata": {},
     "output_type": "execute_result"
    }
   ],
   "source": [
    "from sklearn.preprocessing import scale\n",
    "\n",
    "# scale the dataset\n",
    "heptn = hept.drop(['name ',' score '],axis=1)\n",
    "X = scale(heptn.values)\n",
    "#X = scale(hept.drop(['name ',' score '],axis=1).values)\n",
    "\n",
    "# find PCA and transform to new coordinates\n",
    "pca_model = PCA()\n",
    "X_PCA = pca_model.fit_transform(X)\n",
    "\n",
    "# create a new pandas dataframe \n",
    "df_plot = pd.DataFrame(X_PCA, columns=['PC1', 'PC2', 'PC3', 'PC4', 'PC5', 'PC6', 'PC7'])\n",
    "df_plot"
   ]
  },
  {
   "cell_type": "code",
   "execution_count": 51,
   "id": "a873da1e",
   "metadata": {},
   "outputs": [
    {
     "data": {
      "text/html": [
       "<div>\n",
       "<style scoped>\n",
       "    .dataframe tbody tr th:only-of-type {\n",
       "        vertical-align: middle;\n",
       "    }\n",
       "\n",
       "    .dataframe tbody tr th {\n",
       "        vertical-align: top;\n",
       "    }\n",
       "\n",
       "    .dataframe thead th {\n",
       "        text-align: right;\n",
       "    }\n",
       "</style>\n",
       "<table border=\"1\" class=\"dataframe\">\n",
       "  <thead>\n",
       "    <tr style=\"text-align: right;\">\n",
       "      <th></th>\n",
       "      <th>V1</th>\n",
       "      <th>V2</th>\n",
       "      <th>V3</th>\n",
       "      <th>V4</th>\n",
       "      <th>V5</th>\n",
       "      <th>V6</th>\n",
       "      <th>V7</th>\n",
       "    </tr>\n",
       "  </thead>\n",
       "  <tbody>\n",
       "    <tr>\n",
       "      <th>hurdles</th>\n",
       "      <td>-0.450388</td>\n",
       "      <td>0.057722</td>\n",
       "      <td>-0.173935</td>\n",
       "      <td>-0.048406</td>\n",
       "      <td>-0.198894</td>\n",
       "      <td>0.846651</td>\n",
       "      <td>0.069617</td>\n",
       "    </tr>\n",
       "    <tr>\n",
       "      <th>highjump</th>\n",
       "      <td>0.314512</td>\n",
       "      <td>0.651332</td>\n",
       "      <td>0.208827</td>\n",
       "      <td>-0.556946</td>\n",
       "      <td>-0.070764</td>\n",
       "      <td>0.090075</td>\n",
       "      <td>0.331559</td>\n",
       "    </tr>\n",
       "    <tr>\n",
       "      <th>shot</th>\n",
       "      <td>0.402488</td>\n",
       "      <td>0.022021</td>\n",
       "      <td>0.153471</td>\n",
       "      <td>0.548267</td>\n",
       "      <td>-0.671665</td>\n",
       "      <td>0.098864</td>\n",
       "      <td>0.229043</td>\n",
       "    </tr>\n",
       "    <tr>\n",
       "      <th>run200m</th>\n",
       "      <td>-0.427086</td>\n",
       "      <td>0.185028</td>\n",
       "      <td>0.130129</td>\n",
       "      <td>-0.230959</td>\n",
       "      <td>-0.617818</td>\n",
       "      <td>-0.332794</td>\n",
       "      <td>-0.469719</td>\n",
       "    </tr>\n",
       "    <tr>\n",
       "      <th>longjump</th>\n",
       "      <td>0.450964</td>\n",
       "      <td>0.024925</td>\n",
       "      <td>0.269759</td>\n",
       "      <td>-0.014683</td>\n",
       "      <td>0.121518</td>\n",
       "      <td>0.382944</td>\n",
       "      <td>-0.749408</td>\n",
       "    </tr>\n",
       "    <tr>\n",
       "      <th>javelin</th>\n",
       "      <td>0.242308</td>\n",
       "      <td>0.325722</td>\n",
       "      <td>-0.880699</td>\n",
       "      <td>0.060248</td>\n",
       "      <td>-0.078744</td>\n",
       "      <td>-0.071934</td>\n",
       "      <td>-0.211081</td>\n",
       "    </tr>\n",
       "    <tr>\n",
       "      <th>run800m</th>\n",
       "      <td>-0.302907</td>\n",
       "      <td>0.656505</td>\n",
       "      <td>0.193002</td>\n",
       "      <td>0.574181</td>\n",
       "      <td>0.318802</td>\n",
       "      <td>-0.052177</td>\n",
       "      <td>-0.077186</td>\n",
       "    </tr>\n",
       "  </tbody>\n",
       "</table>\n",
       "</div>"
      ],
      "text/plain": [
       "                 V1        V2        V3        V4        V5        V6  \\\n",
       "  hurdles -0.450388  0.057722 -0.173935 -0.048406 -0.198894  0.846651   \n",
       " highjump  0.314512  0.651332  0.208827 -0.556946 -0.070764  0.090075   \n",
       " shot      0.402488  0.022021  0.153471  0.548267 -0.671665  0.098864   \n",
       " run200m  -0.427086  0.185028  0.130129 -0.230959 -0.617818 -0.332794   \n",
       " longjump  0.450964  0.024925  0.269759 -0.014683  0.121518  0.382944   \n",
       " javelin   0.242308  0.325722 -0.880699  0.060248 -0.078744 -0.071934   \n",
       " run800m  -0.302907  0.656505  0.193002  0.574181  0.318802 -0.052177   \n",
       "\n",
       "                 V7  \n",
       "  hurdles  0.069617  \n",
       " highjump  0.331559  \n",
       " shot      0.229043  \n",
       " run200m  -0.469719  \n",
       " longjump -0.749408  \n",
       " javelin  -0.211081  \n",
       " run800m  -0.077186  "
      ]
     },
     "execution_count": 51,
     "metadata": {},
     "output_type": "execute_result"
    }
   ],
   "source": [
    "pca_loadings = pd.DataFrame(pca_model.components_.T, index=heptn.columns, columns=['V1', 'V2', 'V3', 'V4', 'V5', 'V6', 'V7'])\n",
    "pca_loadings"
   ]
  },
  {
   "cell_type": "code",
   "execution_count": 52,
   "id": "90560690",
   "metadata": {
    "scrolled": false
   },
   "outputs": [
    {
     "data": {
      "image/png": "[encoded data removed]",
      "text/plain": [
       "<Figure size 640x480 with 1 Axes>"
      ]
     },
     "metadata": {},
     "output_type": "display_data"
    }
   ],
   "source": [
    "fig,ax1 = plt.subplots()\n",
    "\n",
    "ax1.set_xlim(X_PCA[:,0].min()-1,X_PCA[:,0].max()+1)\n",
    "ax1.set_ylim(X_PCA[:,1].min()-1,X_PCA[:,1].max()+1)\n",
    "\n",
    "# Plot Principal Components 1 and 2\n",
    "for i,name in enumerate(hept['name '].values):\n",
    "    ax1.annotate(name, (X_PCA[i,0], X_PCA[i,1]), ha='center',fontsize=10)\n",
    "\n",
    "ax1.set_xlabel('First Principal Component')\n",
    "ax1.set_ylabel('Second Principal Component')\n",
    "\n",
    "###THIS NEEDS SOME REWORK -- PAY ATTENTION\n",
    "a = 3 #this is a factor, just to \"stretch things on the map\"\n",
    "\n",
    "for i in pca_loadings[['V1', 'V2']].index:\n",
    "    ax1.annotate(i, (pca_loadings.V1.loc[i]*a, pca_loadings.V2.loc[i]*a), color='orange')\n",
    "\n",
    "for i in range(0,pca_model.n_components_):\n",
    "    ax1.arrow(0,0, pca_loadings.V1[i]*a, pca_loadings.V2[i]*a, color=\"black\")\n",
    "\n",
    "plt.show()"
   ]
  },
  {
   "cell_type": "code",
   "execution_count": 53,
   "id": "249e21fd",
   "metadata": {
    "scrolled": false
   },
   "outputs": [
    {
     "data": {
      "image/png": "[encoded data removed]",
      "text/plain": [
       "<Figure size 640x480 with 1 Axes>"
      ]
     },
     "metadata": {},
     "output_type": "display_data"
    }
   ],
   "source": [
    "# Variance ratio of the four principal components\n",
    "var_ratio = pca_model.explained_variance_ratio_\n",
    "\n",
    "plt.plot([1,2,3,4,5,6,7], var_ratio, '-o', color=\"blue\", label='Individual component')\n",
    "plt.plot([1,2,3,4,5,6,7], np.cumsum(var_ratio), '-s', label='Cumulative', color=\"green\")\n",
    "\n",
    "\n",
    "plt.ylabel('Proportion of Variance Explained')\n",
    "plt.xlabel('Principal Component')\n",
    "plt.xlim(0.75,7.25)\n",
    "plt.ylim(0,1.05)\n",
    "plt.xticks([1,2,3,4,5,6,7])\n",
    "plt.show()"
   ]
  },
  {
   "cell_type": "markdown",
   "id": "7116f8c2",
   "metadata": {},
   "source": [
    "Most of the variance in the athletes is contained in the first principle component. \n",
    "\n",
    "Let's make a plot of the first principle component vs. the score. "
   ]
  },
  {
   "cell_type": "code",
   "execution_count": 54,
   "id": "7a29676c",
   "metadata": {
    "scrolled": false
   },
   "outputs": [
    {
     "data": {
      "image/png": "[encoded data removed]",
      "text/plain": [
       "<Figure size 640x480 with 1 Axes>"
      ]
     },
     "metadata": {},
     "output_type": "display_data"
    }
   ],
   "source": [
    "fig,ax1 = plt.subplots()\n",
    "\n",
    "ax1.set_xlim(X_PCA[:,0].min()-1,X_PCA[:,0].max()+1)\n",
    "ax1.set_ylim(hept[' score '].min()-10,hept[' score '].max()+10)\n",
    "\n",
    "          \n",
    "# Plot Principal Components 1 and score\n",
    "for i,name in enumerate(hept['name '].values):\n",
    "    ax1.annotate(name, (X_PCA[i,0], hept[' score '][i]), ha='center',fontsize=10)\n",
    "\n",
    "ax1.set_xlabel('First Principal Component')\n",
    "ax1.set_ylabel('Score')\n",
    "plt.show()"
   ]
  },
  {
   "cell_type": "markdown",
   "id": "fdb91245",
   "metadata": {},
   "source": [
    "The first principal component is highly correlated with the score determined by Olympic rules. Note that the winner of the heptathlon, [Jackie Joyner-Kersee](https://en.wikipedia.org/wiki/Jackie_Joyner-Kersee) really stands out. \n",
    "\n",
    "Read more about the 1988 Summer Olympics Women's heptathlon [here](https://en.wikipedia.org/wiki/Athletics_at_the_1988_Summer_Olympics_%E2%80%93_Women%27s_heptathlon). \n",
    "\n"
   ]
  },
  {
   "cell_type": "markdown",
   "id": "e9b25161",
   "metadata": {
    "slideshow": {
     "slide_type": "slide"
    }
   },
   "source": [
    "## 4.2 Example 2: An SVD recommendation problem\n",
    "\n",
    "Let's get to the code of loading the ratings and the movies."
   ]
  },
  {
   "cell_type": "code",
   "execution_count": 55,
   "id": "5ed5c35b",
   "metadata": {},
   "outputs": [],
   "source": [
    "import pandas as pd\n",
    "pd.set_option('display.notebook_repr_html', True)\n",
    "\n",
    "ratings_df = pd.read_csv('data/ratings.csv')\n",
    "movies_df = pd.read_csv('data/movies.csv')"
   ]
  },
  {
   "cell_type": "markdown",
   "id": "e53d5d1a",
   "metadata": {},
   "source": [
    "Take a look at the movies and ratings dataframes."
   ]
  },
  {
   "cell_type": "code",
   "execution_count": 56,
   "id": "bd4602b0",
   "metadata": {},
   "outputs": [
    {
     "data": {
      "text/html": [
       "<div>\n",
       "<style scoped>\n",
       "    .dataframe tbody tr th:only-of-type {\n",
       "        vertical-align: middle;\n",
       "    }\n",
       "\n",
       "    .dataframe tbody tr th {\n",
       "        vertical-align: top;\n",
       "    }\n",
       "\n",
       "    .dataframe thead th {\n",
       "        text-align: right;\n",
       "    }\n",
       "</style>\n",
       "<table border=\"1\" class=\"dataframe\">\n",
       "  <thead>\n",
       "    <tr style=\"text-align: right;\">\n",
       "      <th></th>\n",
       "      <th>movieId</th>\n",
       "      <th>title</th>\n",
       "      <th>genres</th>\n",
       "    </tr>\n",
       "  </thead>\n",
       "  <tbody>\n",
       "    <tr>\n",
       "      <th>0</th>\n",
       "      <td>1</td>\n",
       "      <td>Toy Story (1995)</td>\n",
       "      <td>Adventure|Animation|Children|Comedy|Fantasy</td>\n",
       "    </tr>\n",
       "    <tr>\n",
       "      <th>1</th>\n",
       "      <td>2</td>\n",
       "      <td>Jumanji (1995)</td>\n",
       "      <td>Adventure|Children|Fantasy</td>\n",
       "    </tr>\n",
       "    <tr>\n",
       "      <th>2</th>\n",
       "      <td>3</td>\n",
       "      <td>Grumpier Old Men (1995)</td>\n",
       "      <td>Comedy|Romance</td>\n",
       "    </tr>\n",
       "    <tr>\n",
       "      <th>3</th>\n",
       "      <td>4</td>\n",
       "      <td>Waiting to Exhale (1995)</td>\n",
       "      <td>Comedy|Drama|Romance</td>\n",
       "    </tr>\n",
       "    <tr>\n",
       "      <th>4</th>\n",
       "      <td>5</td>\n",
       "      <td>Father of the Bride Part II (1995)</td>\n",
       "      <td>Comedy</td>\n",
       "    </tr>\n",
       "  </tbody>\n",
       "</table>\n",
       "</div>"
      ],
      "text/plain": [
       "   movieId                               title  \\\n",
       "0        1                    Toy Story (1995)   \n",
       "1        2                      Jumanji (1995)   \n",
       "2        3             Grumpier Old Men (1995)   \n",
       "3        4            Waiting to Exhale (1995)   \n",
       "4        5  Father of the Bride Part II (1995)   \n",
       "\n",
       "                                        genres  \n",
       "0  Adventure|Animation|Children|Comedy|Fantasy  \n",
       "1                   Adventure|Children|Fantasy  \n",
       "2                               Comedy|Romance  \n",
       "3                         Comedy|Drama|Romance  \n",
       "4                                       Comedy  "
      ]
     },
     "execution_count": 56,
     "metadata": {},
     "output_type": "execute_result"
    }
   ],
   "source": [
    "movies_df.head()"
   ]
  },
  {
   "cell_type": "code",
   "execution_count": 57,
   "id": "336c1996",
   "metadata": {
    "scrolled": true
   },
   "outputs": [
    {
     "data": {
      "text/html": [
       "<div>\n",
       "<style scoped>\n",
       "    .dataframe tbody tr th:only-of-type {\n",
       "        vertical-align: middle;\n",
       "    }\n",
       "\n",
       "    .dataframe tbody tr th {\n",
       "        vertical-align: top;\n",
       "    }\n",
       "\n",
       "    .dataframe thead th {\n",
       "        text-align: right;\n",
       "    }\n",
       "</style>\n",
       "<table border=\"1\" class=\"dataframe\">\n",
       "  <thead>\n",
       "    <tr style=\"text-align: right;\">\n",
       "      <th></th>\n",
       "      <th>userId</th>\n",
       "      <th>movieId</th>\n",
       "      <th>rating</th>\n",
       "      <th>timestamp</th>\n",
       "    </tr>\n",
       "  </thead>\n",
       "  <tbody>\n",
       "    <tr>\n",
       "      <th>0</th>\n",
       "      <td>1</td>\n",
       "      <td>1</td>\n",
       "      <td>4.0</td>\n",
       "      <td>964982703</td>\n",
       "    </tr>\n",
       "    <tr>\n",
       "      <th>1</th>\n",
       "      <td>1</td>\n",
       "      <td>3</td>\n",
       "      <td>4.0</td>\n",
       "      <td>964981247</td>\n",
       "    </tr>\n",
       "    <tr>\n",
       "      <th>2</th>\n",
       "      <td>1</td>\n",
       "      <td>6</td>\n",
       "      <td>4.0</td>\n",
       "      <td>964982224</td>\n",
       "    </tr>\n",
       "    <tr>\n",
       "      <th>3</th>\n",
       "      <td>1</td>\n",
       "      <td>47</td>\n",
       "      <td>5.0</td>\n",
       "      <td>964983815</td>\n",
       "    </tr>\n",
       "    <tr>\n",
       "      <th>4</th>\n",
       "      <td>1</td>\n",
       "      <td>50</td>\n",
       "      <td>5.0</td>\n",
       "      <td>964982931</td>\n",
       "    </tr>\n",
       "  </tbody>\n",
       "</table>\n",
       "</div>"
      ],
      "text/plain": [
       "   userId  movieId  rating  timestamp\n",
       "0       1        1     4.0  964982703\n",
       "1       1        3     4.0  964981247\n",
       "2       1        6     4.0  964982224\n",
       "3       1       47     5.0  964983815\n",
       "4       1       50     5.0  964982931"
      ]
     },
     "execution_count": 57,
     "metadata": {},
     "output_type": "execute_result"
    }
   ],
   "source": [
    "ratings_df.head()"
   ]
  },
  {
   "cell_type": "markdown",
   "id": "8f476741",
   "metadata": {},
   "source": [
    "These look good, but remember we want to \"tabularize\" our data and bring them to a matrix format (one row per user and one column per movie). We `pivot` `ratings_df` to get that and call the new variable `R`."
   ]
  },
  {
   "cell_type": "code",
   "execution_count": 58,
   "id": "906c6914",
   "metadata": {
    "scrolled": false
   },
   "outputs": [
    {
     "name": "stdout",
     "output_type": "stream",
     "text": [
      "(610, 9724)\n"
     ]
    },
    {
     "data": {
      "text/html": [
       "<div>\n",
       "<style scoped>\n",
       "    .dataframe tbody tr th:only-of-type {\n",
       "        vertical-align: middle;\n",
       "    }\n",
       "\n",
       "    .dataframe tbody tr th {\n",
       "        vertical-align: top;\n",
       "    }\n",
       "\n",
       "    .dataframe thead th {\n",
       "        text-align: right;\n",
       "    }\n",
       "</style>\n",
       "<table border=\"1\" class=\"dataframe\">\n",
       "  <thead>\n",
       "    <tr style=\"text-align: right;\">\n",
       "      <th>movieId</th>\n",
       "      <th>1</th>\n",
       "      <th>2</th>\n",
       "      <th>3</th>\n",
       "      <th>4</th>\n",
       "      <th>5</th>\n",
       "      <th>6</th>\n",
       "      <th>7</th>\n",
       "      <th>8</th>\n",
       "      <th>9</th>\n",
       "      <th>10</th>\n",
       "      <th>...</th>\n",
       "      <th>193565</th>\n",
       "      <th>193567</th>\n",
       "      <th>193571</th>\n",
       "      <th>193573</th>\n",
       "      <th>193579</th>\n",
       "      <th>193581</th>\n",
       "      <th>193583</th>\n",
       "      <th>193585</th>\n",
       "      <th>193587</th>\n",
       "      <th>193609</th>\n",
       "    </tr>\n",
       "    <tr>\n",
       "      <th>userId</th>\n",
       "      <th></th>\n",
       "      <th></th>\n",
       "      <th></th>\n",
       "      <th></th>\n",
       "      <th></th>\n",
       "      <th></th>\n",
       "      <th></th>\n",
       "      <th></th>\n",
       "      <th></th>\n",
       "      <th></th>\n",
       "      <th></th>\n",
       "      <th></th>\n",
       "      <th></th>\n",
       "      <th></th>\n",
       "      <th></th>\n",
       "      <th></th>\n",
       "      <th></th>\n",
       "      <th></th>\n",
       "      <th></th>\n",
       "      <th></th>\n",
       "      <th></th>\n",
       "    </tr>\n",
       "  </thead>\n",
       "  <tbody>\n",
       "    <tr>\n",
       "      <th>1</th>\n",
       "      <td>4.0</td>\n",
       "      <td>0.0</td>\n",
       "      <td>4.0</td>\n",
       "      <td>0.0</td>\n",
       "      <td>0.0</td>\n",
       "      <td>4.0</td>\n",
       "      <td>0.0</td>\n",
       "      <td>0.0</td>\n",
       "      <td>0.0</td>\n",
       "      <td>0.0</td>\n",
       "      <td>...</td>\n",
       "      <td>0.0</td>\n",
       "      <td>0.0</td>\n",
       "      <td>0.0</td>\n",
       "      <td>0.0</td>\n",
       "      <td>0.0</td>\n",
       "      <td>0.0</td>\n",
       "      <td>0.0</td>\n",
       "      <td>0.0</td>\n",
       "      <td>0.0</td>\n",
       "      <td>0.0</td>\n",
       "    </tr>\n",
       "    <tr>\n",
       "      <th>2</th>\n",
       "      <td>0.0</td>\n",
       "      <td>0.0</td>\n",
       "      <td>0.0</td>\n",
       "      <td>0.0</td>\n",
       "      <td>0.0</td>\n",
       "      <td>0.0</td>\n",
       "      <td>0.0</td>\n",
       "      <td>0.0</td>\n",
       "      <td>0.0</td>\n",
       "      <td>0.0</td>\n",
       "      <td>...</td>\n",
       "      <td>0.0</td>\n",
       "      <td>0.0</td>\n",
       "      <td>0.0</td>\n",
       "      <td>0.0</td>\n",
       "      <td>0.0</td>\n",
       "      <td>0.0</td>\n",
       "      <td>0.0</td>\n",
       "      <td>0.0</td>\n",
       "      <td>0.0</td>\n",
       "      <td>0.0</td>\n",
       "    </tr>\n",
       "    <tr>\n",
       "      <th>3</th>\n",
       "      <td>0.0</td>\n",
       "      <td>0.0</td>\n",
       "      <td>0.0</td>\n",
       "      <td>0.0</td>\n",
       "      <td>0.0</td>\n",
       "      <td>0.0</td>\n",
       "      <td>0.0</td>\n",
       "      <td>0.0</td>\n",
       "      <td>0.0</td>\n",
       "      <td>0.0</td>\n",
       "      <td>...</td>\n",
       "      <td>0.0</td>\n",
       "      <td>0.0</td>\n",
       "      <td>0.0</td>\n",
       "      <td>0.0</td>\n",
       "      <td>0.0</td>\n",
       "      <td>0.0</td>\n",
       "      <td>0.0</td>\n",
       "      <td>0.0</td>\n",
       "      <td>0.0</td>\n",
       "      <td>0.0</td>\n",
       "    </tr>\n",
       "    <tr>\n",
       "      <th>4</th>\n",
       "      <td>0.0</td>\n",
       "      <td>0.0</td>\n",
       "      <td>0.0</td>\n",
       "      <td>0.0</td>\n",
       "      <td>0.0</td>\n",
       "      <td>0.0</td>\n",
       "      <td>0.0</td>\n",
       "      <td>0.0</td>\n",
       "      <td>0.0</td>\n",
       "      <td>0.0</td>\n",
       "      <td>...</td>\n",
       "      <td>0.0</td>\n",
       "      <td>0.0</td>\n",
       "      <td>0.0</td>\n",
       "      <td>0.0</td>\n",
       "      <td>0.0</td>\n",
       "      <td>0.0</td>\n",
       "      <td>0.0</td>\n",
       "      <td>0.0</td>\n",
       "      <td>0.0</td>\n",
       "      <td>0.0</td>\n",
       "    </tr>\n",
       "    <tr>\n",
       "      <th>5</th>\n",
       "      <td>4.0</td>\n",
       "      <td>0.0</td>\n",
       "      <td>0.0</td>\n",
       "      <td>0.0</td>\n",
       "      <td>0.0</td>\n",
       "      <td>0.0</td>\n",
       "      <td>0.0</td>\n",
       "      <td>0.0</td>\n",
       "      <td>0.0</td>\n",
       "      <td>0.0</td>\n",
       "      <td>...</td>\n",
       "      <td>0.0</td>\n",
       "      <td>0.0</td>\n",
       "      <td>0.0</td>\n",
       "      <td>0.0</td>\n",
       "      <td>0.0</td>\n",
       "      <td>0.0</td>\n",
       "      <td>0.0</td>\n",
       "      <td>0.0</td>\n",
       "      <td>0.0</td>\n",
       "      <td>0.0</td>\n",
       "    </tr>\n",
       "  </tbody>\n",
       "</table>\n",
       "<p>5 rows × 9724 columns</p>\n",
       "</div>"
      ],
      "text/plain": [
       "movieId  1       2       3       4       5       6       7       8       \\\n",
       "userId                                                                    \n",
       "1           4.0     0.0     4.0     0.0     0.0     4.0     0.0     0.0   \n",
       "2           0.0     0.0     0.0     0.0     0.0     0.0     0.0     0.0   \n",
       "3           0.0     0.0     0.0     0.0     0.0     0.0     0.0     0.0   \n",
       "4           0.0     0.0     0.0     0.0     0.0     0.0     0.0     0.0   \n",
       "5           4.0     0.0     0.0     0.0     0.0     0.0     0.0     0.0   \n",
       "\n",
       "movieId  9       10      ...  193565  193567  193571  193573  193579  193581  \\\n",
       "userId                   ...                                                   \n",
       "1           0.0     0.0  ...     0.0     0.0     0.0     0.0     0.0     0.0   \n",
       "2           0.0     0.0  ...     0.0     0.0     0.0     0.0     0.0     0.0   \n",
       "3           0.0     0.0  ...     0.0     0.0     0.0     0.0     0.0     0.0   \n",
       "4           0.0     0.0  ...     0.0     0.0     0.0     0.0     0.0     0.0   \n",
       "5           0.0     0.0  ...     0.0     0.0     0.0     0.0     0.0     0.0   \n",
       "\n",
       "movieId  193583  193585  193587  193609  \n",
       "userId                                   \n",
       "1           0.0     0.0     0.0     0.0  \n",
       "2           0.0     0.0     0.0     0.0  \n",
       "3           0.0     0.0     0.0     0.0  \n",
       "4           0.0     0.0     0.0     0.0  \n",
       "5           0.0     0.0     0.0     0.0  \n",
       "\n",
       "[5 rows x 9724 columns]"
      ]
     },
     "execution_count": 58,
     "metadata": {},
     "output_type": "execute_result"
    }
   ],
   "source": [
    "R_df = ratings_df.pivot(index = 'userId', columns ='movieId', values = 'rating').fillna(0)\n",
    "print(R_df.shape)\n",
    "R_df.head()"
   ]
  },
  {
   "cell_type": "markdown",
   "id": "16873ed8",
   "metadata": {},
   "source": [
    "The last thing we (generally) need to do is de-mean the data (normalize by each users mean) and convert it from a dataframe to a numpy array."
   ]
  },
  {
   "cell_type": "code",
   "execution_count": 59,
   "id": "7076fe95",
   "metadata": {},
   "outputs": [],
   "source": [
    "R = R_df.values\n",
    "user_ratings_mean = np.mean(R, axis = 1)\n",
    "R_demeaned = R - user_ratings_mean.reshape(-1, 1)"
   ]
  },
  {
   "cell_type": "markdown",
   "id": "5faf55ff",
   "metadata": {},
   "source": [
    "### Singular Value Decomposition\n",
    "\n",
    "`Scipy` and `numpy` both have functions to do the singular value decomposition. Here, we are going to use the `scipy` function `svds` because it let us choose how many latent factors we want to use to approximate the original ratings matrix (instead of having to truncate it after)."
   ]
  },
  {
   "cell_type": "code",
   "execution_count": 60,
   "id": "886d6fa2",
   "metadata": {},
   "outputs": [
    {
     "name": "stdout",
     "output_type": "stream",
     "text": [
      "(610, 50)\n",
      "[ 67.86628347  68.1967072   69.02678246  69.4170401   69.91863747\n",
      "  70.02091789  70.19408599  71.67445157  72.43371861  73.21879553\n",
      "  73.43760593  74.02644882  74.28978377  74.9207733   75.17528213\n",
      "  75.59325141  76.70227225  77.35717925  78.39405157  79.04344482\n",
      "  79.21217131  80.56747647  81.5467832   82.1973482   83.04447645\n",
      "  85.11688914  85.74871886  86.51711471  87.91550637  90.33575237\n",
      "  90.9340682   92.26271695  93.39976829  97.10067118  99.28906754\n",
      "  99.82361796 101.84794614 105.97367358 107.04782929 109.20838712\n",
      " 112.80840902 120.61532345 122.64724436 134.58721632 139.637245\n",
      " 153.93097112 163.73084057 184.86187801 231.22453421 474.20606204]\n",
      "(50, 9724)\n"
     ]
    }
   ],
   "source": [
    "from scipy.sparse.linalg import svds\n",
    "U, sigma, Vt = svds(R_demeaned, k = 50)\n",
    "print(U.shape)\n",
    "print(sigma)\n",
    "print(Vt.shape)"
   ]
  },
  {
   "cell_type": "markdown",
   "id": "808d407e",
   "metadata": {},
   "source": [
    "The function returns exactly what we explained earlier, except that the $\\Sigma$ returned is just the values instead of a diagonal matrix. This is useful, but since we are going to leverage matrix multiplication to get predictions we better convert it to the diagonal matrix form."
   ]
  },
  {
   "cell_type": "code",
   "execution_count": 61,
   "id": "fcb57cb7",
   "metadata": {},
   "outputs": [],
   "source": [
    "sigma = np.diag(sigma)"
   ]
  },
  {
   "cell_type": "markdown",
   "id": "864425d5",
   "metadata": {},
   "source": [
    "### Making Predictions from the Decomposed Matrices\n",
    "\n",
    "We now have everything we need to make movie ratings predictions for every user. We can do it all at once by following the math and matrix multiply $U$, $\\Sigma$, and $V^{T}$ back to get the rank $k=50$ approximation of $R$.\n",
    "\n",
    "I also need to add the user means back to get the actual star ratings prediction."
   ]
  },
  {
   "cell_type": "code",
   "execution_count": 62,
   "id": "e55d8a77",
   "metadata": {},
   "outputs": [],
   "source": [
    "all_user_predicted_ratings = np.dot(np.dot(U, sigma), Vt) + user_ratings_mean.reshape(-1, 1)"
   ]
  },
  {
   "cell_type": "markdown",
   "id": "15afbc66",
   "metadata": {},
   "source": [
    "**POINTS TO THINK**: If we wanted to put this kind of system into production, we first would have to create a training and validation set and optimize the number of latent features ($k$) by minimizing e.g. the Root Mean Square Error. Intuitively, the Root Mean Square Error will decrease on the training set as $k$ increases (because we are approximating the original ratings matrix with a higher rank matrix).\n",
    "\n",
    "We could create a training and validation set and optimize $k$ by minimizing RMSE and perhaps balance the trade-off of dimensionality vs accuracy (smaller $k$ vs lower RMSE)"
   ]
  },
  {
   "cell_type": "markdown",
   "id": "8b3a60d6",
   "metadata": {},
   "source": [
    "### Making Movie Recommendations\n",
    "\n",
    "It's time. With the predictions matrix for every user, we can build a \"function\" to recommend movies for any user. All we need to do is return the movies with the highest predicted rating that the specified user hasn't already rated. Though we didn't use actually use any explicit movie content features (such as genre or title), we will merge in that information to get a more complete picture of the recommendations.\n",
    "\n",
    "We also return the list of movies the user has already rated, for the sake of comparison."
   ]
  },
  {
   "cell_type": "code",
   "execution_count": 63,
   "id": "136d325e",
   "metadata": {
    "scrolled": true
   },
   "outputs": [
    {
     "data": {
      "text/html": [
       "<div>\n",
       "<style scoped>\n",
       "    .dataframe tbody tr th:only-of-type {\n",
       "        vertical-align: middle;\n",
       "    }\n",
       "\n",
       "    .dataframe tbody tr th {\n",
       "        vertical-align: top;\n",
       "    }\n",
       "\n",
       "    .dataframe thead th {\n",
       "        text-align: right;\n",
       "    }\n",
       "</style>\n",
       "<table border=\"1\" class=\"dataframe\">\n",
       "  <thead>\n",
       "    <tr style=\"text-align: right;\">\n",
       "      <th>movieId</th>\n",
       "      <th>1</th>\n",
       "      <th>2</th>\n",
       "      <th>3</th>\n",
       "      <th>4</th>\n",
       "      <th>5</th>\n",
       "      <th>6</th>\n",
       "      <th>7</th>\n",
       "      <th>8</th>\n",
       "      <th>9</th>\n",
       "      <th>10</th>\n",
       "      <th>...</th>\n",
       "      <th>193565</th>\n",
       "      <th>193567</th>\n",
       "      <th>193571</th>\n",
       "      <th>193573</th>\n",
       "      <th>193579</th>\n",
       "      <th>193581</th>\n",
       "      <th>193583</th>\n",
       "      <th>193585</th>\n",
       "      <th>193587</th>\n",
       "      <th>193609</th>\n",
       "    </tr>\n",
       "  </thead>\n",
       "  <tbody>\n",
       "    <tr>\n",
       "      <th>0</th>\n",
       "      <td>2.167328</td>\n",
       "      <td>0.402751</td>\n",
       "      <td>0.840184</td>\n",
       "      <td>-0.076281</td>\n",
       "      <td>-0.551337</td>\n",
       "      <td>2.504091</td>\n",
       "      <td>-0.890114</td>\n",
       "      <td>-0.026443</td>\n",
       "      <td>0.196974</td>\n",
       "      <td>1.593259</td>\n",
       "      <td>...</td>\n",
       "      <td>-0.023453</td>\n",
       "      <td>-0.019967</td>\n",
       "      <td>-0.026939</td>\n",
       "      <td>-0.026939</td>\n",
       "      <td>-0.023453</td>\n",
       "      <td>-0.026939</td>\n",
       "      <td>-0.023453</td>\n",
       "      <td>-0.023453</td>\n",
       "      <td>-0.023453</td>\n",
       "      <td>-0.058732</td>\n",
       "    </tr>\n",
       "    <tr>\n",
       "      <th>1</th>\n",
       "      <td>0.211459</td>\n",
       "      <td>0.006658</td>\n",
       "      <td>0.033455</td>\n",
       "      <td>0.017419</td>\n",
       "      <td>0.183430</td>\n",
       "      <td>-0.062473</td>\n",
       "      <td>0.083037</td>\n",
       "      <td>0.024158</td>\n",
       "      <td>0.049330</td>\n",
       "      <td>-0.152530</td>\n",
       "      <td>...</td>\n",
       "      <td>0.019498</td>\n",
       "      <td>0.016777</td>\n",
       "      <td>0.022219</td>\n",
       "      <td>0.022219</td>\n",
       "      <td>0.019498</td>\n",
       "      <td>0.022219</td>\n",
       "      <td>0.019498</td>\n",
       "      <td>0.019498</td>\n",
       "      <td>0.019498</td>\n",
       "      <td>0.032281</td>\n",
       "    </tr>\n",
       "    <tr>\n",
       "      <th>2</th>\n",
       "      <td>0.003588</td>\n",
       "      <td>0.030518</td>\n",
       "      <td>0.046393</td>\n",
       "      <td>0.008176</td>\n",
       "      <td>-0.006247</td>\n",
       "      <td>0.107328</td>\n",
       "      <td>-0.012416</td>\n",
       "      <td>0.003779</td>\n",
       "      <td>0.007297</td>\n",
       "      <td>-0.059362</td>\n",
       "      <td>...</td>\n",
       "      <td>0.005909</td>\n",
       "      <td>0.006209</td>\n",
       "      <td>0.005610</td>\n",
       "      <td>0.005610</td>\n",
       "      <td>0.005909</td>\n",
       "      <td>0.005610</td>\n",
       "      <td>0.005909</td>\n",
       "      <td>0.005909</td>\n",
       "      <td>0.005909</td>\n",
       "      <td>0.008004</td>\n",
       "    </tr>\n",
       "    <tr>\n",
       "      <th>3</th>\n",
       "      <td>2.051549</td>\n",
       "      <td>-0.387104</td>\n",
       "      <td>-0.252199</td>\n",
       "      <td>0.087562</td>\n",
       "      <td>0.130465</td>\n",
       "      <td>0.270210</td>\n",
       "      <td>0.477835</td>\n",
       "      <td>0.040313</td>\n",
       "      <td>0.025858</td>\n",
       "      <td>-0.017365</td>\n",
       "      <td>...</td>\n",
       "      <td>0.004836</td>\n",
       "      <td>0.004172</td>\n",
       "      <td>0.005500</td>\n",
       "      <td>0.005500</td>\n",
       "      <td>0.004836</td>\n",
       "      <td>0.005500</td>\n",
       "      <td>0.004836</td>\n",
       "      <td>0.004836</td>\n",
       "      <td>0.004836</td>\n",
       "      <td>-0.023311</td>\n",
       "    </tr>\n",
       "    <tr>\n",
       "      <th>4</th>\n",
       "      <td>1.344738</td>\n",
       "      <td>0.778511</td>\n",
       "      <td>0.065749</td>\n",
       "      <td>0.111744</td>\n",
       "      <td>0.273144</td>\n",
       "      <td>0.584426</td>\n",
       "      <td>0.254930</td>\n",
       "      <td>0.128788</td>\n",
       "      <td>-0.085541</td>\n",
       "      <td>1.023455</td>\n",
       "      <td>...</td>\n",
       "      <td>-0.008042</td>\n",
       "      <td>-0.007419</td>\n",
       "      <td>-0.008664</td>\n",
       "      <td>-0.008664</td>\n",
       "      <td>-0.008042</td>\n",
       "      <td>-0.008664</td>\n",
       "      <td>-0.008042</td>\n",
       "      <td>-0.008042</td>\n",
       "      <td>-0.008042</td>\n",
       "      <td>-0.010127</td>\n",
       "    </tr>\n",
       "  </tbody>\n",
       "</table>\n",
       "<p>5 rows × 9724 columns</p>\n",
       "</div>"
      ],
      "text/plain": [
       "movieId    1         2         3         4         5         6         7       \\\n",
       "0        2.167328  0.402751  0.840184 -0.076281 -0.551337  2.504091 -0.890114   \n",
       "1        0.211459  0.006658  0.033455  0.017419  0.183430 -0.062473  0.083037   \n",
       "2        0.003588  0.030518  0.046393  0.008176 -0.006247  0.107328 -0.012416   \n",
       "3        2.051549 -0.387104 -0.252199  0.087562  0.130465  0.270210  0.477835   \n",
       "4        1.344738  0.778511  0.065749  0.111744  0.273144  0.584426  0.254930   \n",
       "\n",
       "movieId    8         9         10      ...    193565    193567    193571  \\\n",
       "0       -0.026443  0.196974  1.593259  ... -0.023453 -0.019967 -0.026939   \n",
       "1        0.024158  0.049330 -0.152530  ...  0.019498  0.016777  0.022219   \n",
       "2        0.003779  0.007297 -0.059362  ...  0.005909  0.006209  0.005610   \n",
       "3        0.040313  0.025858 -0.017365  ...  0.004836  0.004172  0.005500   \n",
       "4        0.128788 -0.085541  1.023455  ... -0.008042 -0.007419 -0.008664   \n",
       "\n",
       "movieId    193573    193579    193581    193583    193585    193587    193609  \n",
       "0       -0.026939 -0.023453 -0.026939 -0.023453 -0.023453 -0.023453 -0.058732  \n",
       "1        0.022219  0.019498  0.022219  0.019498  0.019498  0.019498  0.032281  \n",
       "2        0.005610  0.005909  0.005610  0.005909  0.005909  0.005909  0.008004  \n",
       "3        0.005500  0.004836  0.005500  0.004836  0.004836  0.004836 -0.023311  \n",
       "4       -0.008664 -0.008042 -0.008664 -0.008042 -0.008042 -0.008042 -0.010127  \n",
       "\n",
       "[5 rows x 9724 columns]"
      ]
     },
     "execution_count": 63,
     "metadata": {},
     "output_type": "execute_result"
    }
   ],
   "source": [
    "preds_df = pd.DataFrame(all_user_predicted_ratings, columns = R_df.columns)\n",
    "preds_df.head()"
   ]
  },
  {
   "cell_type": "code",
   "execution_count": 64,
   "id": "41d7fd8e",
   "metadata": {},
   "outputs": [],
   "source": [
    "def recommend_movies(predictions_df, userID, movies_df, original_ratings_df, num_recommendations=5):\n",
    "    \n",
    "    # Get and sort the user's predictions\n",
    "    user_row_number = userID - 1 # UserID starts at 1, not 0\n",
    "    sorted_user_predictions = preds_df.iloc[user_row_number].sort_values(ascending=False) # UserID starts at 1\n",
    "    \n",
    "    # Get the user's data and merge in the movie information.\n",
    "    user_data = original_ratings_df[original_ratings_df.userId == (userID)]\n",
    "    user_full = (user_data.merge(movies_df, how = 'left', left_on = 'movieId', right_on = 'movieId').\n",
    "                     sort_values(['rating'], ascending=False)\n",
    "                 )\n",
    "\n",
    "    print('User {0} has already rated {1} movies.'.format(userID, user_full.shape[0]))\n",
    "    print('Recommending highest {0} predicted ratings movies not already rated.'.format(num_recommendations))\n",
    "    \n",
    "    # Recommend the highest predicted rating movies that the user hasn't seen yet.\n",
    "    recommendations = (movies_df[~movies_df['movieId'].isin(user_full['movieId'])].\n",
    "         merge(pd.DataFrame(sorted_user_predictions).reset_index(), how = 'left',\n",
    "               left_on = 'movieId',\n",
    "               right_on = 'movieId').\n",
    "         rename(columns = {user_row_number: 'Predictions'}).\n",
    "         sort_values('Predictions', ascending = False).\n",
    "                       iloc[:num_recommendations, :-1]\n",
    "                      )\n",
    "\n",
    "    return user_full, recommendations"
   ]
  },
  {
   "cell_type": "code",
   "execution_count": 65,
   "id": "8af34dd3",
   "metadata": {},
   "outputs": [
    {
     "name": "stdout",
     "output_type": "stream",
     "text": [
      "User 100 has already rated 148 movies.\n",
      "Recommending highest 10 predicted ratings movies not already rated.\n"
     ]
    },
    {
     "data": {
      "text/html": [
       "<div>\n",
       "<style scoped>\n",
       "    .dataframe tbody tr th:only-of-type {\n",
       "        vertical-align: middle;\n",
       "    }\n",
       "\n",
       "    .dataframe tbody tr th {\n",
       "        vertical-align: top;\n",
       "    }\n",
       "\n",
       "    .dataframe thead th {\n",
       "        text-align: right;\n",
       "    }\n",
       "</style>\n",
       "<table border=\"1\" class=\"dataframe\">\n",
       "  <thead>\n",
       "    <tr style=\"text-align: right;\">\n",
       "      <th>movieId</th>\n",
       "      <th>1</th>\n",
       "      <th>2</th>\n",
       "      <th>3</th>\n",
       "      <th>4</th>\n",
       "      <th>5</th>\n",
       "      <th>6</th>\n",
       "      <th>7</th>\n",
       "      <th>8</th>\n",
       "      <th>9</th>\n",
       "      <th>10</th>\n",
       "      <th>...</th>\n",
       "      <th>193565</th>\n",
       "      <th>193567</th>\n",
       "      <th>193571</th>\n",
       "      <th>193573</th>\n",
       "      <th>193579</th>\n",
       "      <th>193581</th>\n",
       "      <th>193583</th>\n",
       "      <th>193585</th>\n",
       "      <th>193587</th>\n",
       "      <th>193609</th>\n",
       "    </tr>\n",
       "  </thead>\n",
       "  <tbody>\n",
       "    <tr>\n",
       "      <th>0</th>\n",
       "      <td>2.167328</td>\n",
       "      <td>0.402751</td>\n",
       "      <td>0.840184</td>\n",
       "      <td>-0.076281</td>\n",
       "      <td>-0.551337</td>\n",
       "      <td>2.504091</td>\n",
       "      <td>-0.890114</td>\n",
       "      <td>-0.026443</td>\n",
       "      <td>0.196974</td>\n",
       "      <td>1.593259</td>\n",
       "      <td>...</td>\n",
       "      <td>-0.023453</td>\n",
       "      <td>-0.019967</td>\n",
       "      <td>-0.026939</td>\n",
       "      <td>-0.026939</td>\n",
       "      <td>-0.023453</td>\n",
       "      <td>-0.026939</td>\n",
       "      <td>-0.023453</td>\n",
       "      <td>-0.023453</td>\n",
       "      <td>-0.023453</td>\n",
       "      <td>-0.058732</td>\n",
       "    </tr>\n",
       "    <tr>\n",
       "      <th>1</th>\n",
       "      <td>0.211459</td>\n",
       "      <td>0.006658</td>\n",
       "      <td>0.033455</td>\n",
       "      <td>0.017419</td>\n",
       "      <td>0.183430</td>\n",
       "      <td>-0.062473</td>\n",
       "      <td>0.083037</td>\n",
       "      <td>0.024158</td>\n",
       "      <td>0.049330</td>\n",
       "      <td>-0.152530</td>\n",
       "      <td>...</td>\n",
       "      <td>0.019498</td>\n",
       "      <td>0.016777</td>\n",
       "      <td>0.022219</td>\n",
       "      <td>0.022219</td>\n",
       "      <td>0.019498</td>\n",
       "      <td>0.022219</td>\n",
       "      <td>0.019498</td>\n",
       "      <td>0.019498</td>\n",
       "      <td>0.019498</td>\n",
       "      <td>0.032281</td>\n",
       "    </tr>\n",
       "    <tr>\n",
       "      <th>2</th>\n",
       "      <td>0.003588</td>\n",
       "      <td>0.030518</td>\n",
       "      <td>0.046393</td>\n",
       "      <td>0.008176</td>\n",
       "      <td>-0.006247</td>\n",
       "      <td>0.107328</td>\n",
       "      <td>-0.012416</td>\n",
       "      <td>0.003779</td>\n",
       "      <td>0.007297</td>\n",
       "      <td>-0.059362</td>\n",
       "      <td>...</td>\n",
       "      <td>0.005909</td>\n",
       "      <td>0.006209</td>\n",
       "      <td>0.005610</td>\n",
       "      <td>0.005610</td>\n",
       "      <td>0.005909</td>\n",
       "      <td>0.005610</td>\n",
       "      <td>0.005909</td>\n",
       "      <td>0.005909</td>\n",
       "      <td>0.005909</td>\n",
       "      <td>0.008004</td>\n",
       "    </tr>\n",
       "    <tr>\n",
       "      <th>3</th>\n",
       "      <td>2.051549</td>\n",
       "      <td>-0.387104</td>\n",
       "      <td>-0.252199</td>\n",
       "      <td>0.087562</td>\n",
       "      <td>0.130465</td>\n",
       "      <td>0.270210</td>\n",
       "      <td>0.477835</td>\n",
       "      <td>0.040313</td>\n",
       "      <td>0.025858</td>\n",
       "      <td>-0.017365</td>\n",
       "      <td>...</td>\n",
       "      <td>0.004836</td>\n",
       "      <td>0.004172</td>\n",
       "      <td>0.005500</td>\n",
       "      <td>0.005500</td>\n",
       "      <td>0.004836</td>\n",
       "      <td>0.005500</td>\n",
       "      <td>0.004836</td>\n",
       "      <td>0.004836</td>\n",
       "      <td>0.004836</td>\n",
       "      <td>-0.023311</td>\n",
       "    </tr>\n",
       "    <tr>\n",
       "      <th>4</th>\n",
       "      <td>1.344738</td>\n",
       "      <td>0.778511</td>\n",
       "      <td>0.065749</td>\n",
       "      <td>0.111744</td>\n",
       "      <td>0.273144</td>\n",
       "      <td>0.584426</td>\n",
       "      <td>0.254930</td>\n",
       "      <td>0.128788</td>\n",
       "      <td>-0.085541</td>\n",
       "      <td>1.023455</td>\n",
       "      <td>...</td>\n",
       "      <td>-0.008042</td>\n",
       "      <td>-0.007419</td>\n",
       "      <td>-0.008664</td>\n",
       "      <td>-0.008664</td>\n",
       "      <td>-0.008042</td>\n",
       "      <td>-0.008664</td>\n",
       "      <td>-0.008042</td>\n",
       "      <td>-0.008042</td>\n",
       "      <td>-0.008042</td>\n",
       "      <td>-0.010127</td>\n",
       "    </tr>\n",
       "  </tbody>\n",
       "</table>\n",
       "<p>5 rows × 9724 columns</p>\n",
       "</div>"
      ],
      "text/plain": [
       "movieId    1         2         3         4         5         6         7       \\\n",
       "0        2.167328  0.402751  0.840184 -0.076281 -0.551337  2.504091 -0.890114   \n",
       "1        0.211459  0.006658  0.033455  0.017419  0.183430 -0.062473  0.083037   \n",
       "2        0.003588  0.030518  0.046393  0.008176 -0.006247  0.107328 -0.012416   \n",
       "3        2.051549 -0.387104 -0.252199  0.087562  0.130465  0.270210  0.477835   \n",
       "4        1.344738  0.778511  0.065749  0.111744  0.273144  0.584426  0.254930   \n",
       "\n",
       "movieId    8         9         10      ...    193565    193567    193571  \\\n",
       "0       -0.026443  0.196974  1.593259  ... -0.023453 -0.019967 -0.026939   \n",
       "1        0.024158  0.049330 -0.152530  ...  0.019498  0.016777  0.022219   \n",
       "2        0.003779  0.007297 -0.059362  ...  0.005909  0.006209  0.005610   \n",
       "3        0.040313  0.025858 -0.017365  ...  0.004836  0.004172  0.005500   \n",
       "4        0.128788 -0.085541  1.023455  ... -0.008042 -0.007419 -0.008664   \n",
       "\n",
       "movieId    193573    193579    193581    193583    193585    193587    193609  \n",
       "0       -0.026939 -0.023453 -0.026939 -0.023453 -0.023453 -0.023453 -0.058732  \n",
       "1        0.022219  0.019498  0.022219  0.019498  0.019498  0.019498  0.032281  \n",
       "2        0.005610  0.005909  0.005610  0.005909  0.005909  0.005909  0.008004  \n",
       "3        0.005500  0.004836  0.005500  0.004836  0.004836  0.004836 -0.023311  \n",
       "4       -0.008664 -0.008042 -0.008664 -0.008042 -0.008042 -0.008042 -0.010127  \n",
       "\n",
       "[5 rows x 9724 columns]"
      ]
     },
     "execution_count": 65,
     "metadata": {},
     "output_type": "execute_result"
    }
   ],
   "source": [
    "already_rated, predictions = recommend_movies(preds_df, 100, movies_df, ratings_df, 10)\n",
    "preds_df.head()"
   ]
  },
  {
   "cell_type": "markdown",
   "id": "4aab0c7a",
   "metadata": {},
   "source": [
    "Nough said, gimme the list"
   ]
  },
  {
   "cell_type": "code",
   "execution_count": 66,
   "id": "de16d804",
   "metadata": {
    "scrolled": false
   },
   "outputs": [
    {
     "data": {
      "text/html": [
       "<div>\n",
       "<style scoped>\n",
       "    .dataframe tbody tr th:only-of-type {\n",
       "        vertical-align: middle;\n",
       "    }\n",
       "\n",
       "    .dataframe tbody tr th {\n",
       "        vertical-align: top;\n",
       "    }\n",
       "\n",
       "    .dataframe thead th {\n",
       "        text-align: right;\n",
       "    }\n",
       "</style>\n",
       "<table border=\"1\" class=\"dataframe\">\n",
       "  <thead>\n",
       "    <tr style=\"text-align: right;\">\n",
       "      <th></th>\n",
       "      <th>userId</th>\n",
       "      <th>movieId</th>\n",
       "      <th>rating</th>\n",
       "      <th>timestamp</th>\n",
       "      <th>title</th>\n",
       "      <th>genres</th>\n",
       "    </tr>\n",
       "  </thead>\n",
       "  <tbody>\n",
       "    <tr>\n",
       "      <th>86</th>\n",
       "      <td>100</td>\n",
       "      <td>1958</td>\n",
       "      <td>5.0</td>\n",
       "      <td>1100186258</td>\n",
       "      <td>Terms of Endearment (1983)</td>\n",
       "      <td>Comedy|Drama</td>\n",
       "    </tr>\n",
       "    <tr>\n",
       "      <th>101</th>\n",
       "      <td>100</td>\n",
       "      <td>2423</td>\n",
       "      <td>5.0</td>\n",
       "      <td>1100186118</td>\n",
       "      <td>Christmas Vacation (National Lampoon's Christm...</td>\n",
       "      <td>Comedy</td>\n",
       "    </tr>\n",
       "    <tr>\n",
       "      <th>137</th>\n",
       "      <td>100</td>\n",
       "      <td>5620</td>\n",
       "      <td>5.0</td>\n",
       "      <td>1100186982</td>\n",
       "      <td>Sweet Home Alabama (2002)</td>\n",
       "      <td>Comedy|Romance</td>\n",
       "    </tr>\n",
       "    <tr>\n",
       "      <th>55</th>\n",
       "      <td>100</td>\n",
       "      <td>1101</td>\n",
       "      <td>5.0</td>\n",
       "      <td>1100184137</td>\n",
       "      <td>Top Gun (1986)</td>\n",
       "      <td>Action|Romance</td>\n",
       "    </tr>\n",
       "    <tr>\n",
       "      <th>125</th>\n",
       "      <td>100</td>\n",
       "      <td>4041</td>\n",
       "      <td>5.0</td>\n",
       "      <td>1100184235</td>\n",
       "      <td>Officer and a Gentleman, An (1982)</td>\n",
       "      <td>Drama|Romance</td>\n",
       "    </tr>\n",
       "    <tr>\n",
       "      <th>70</th>\n",
       "      <td>100</td>\n",
       "      <td>1307</td>\n",
       "      <td>4.5</td>\n",
       "      <td>1100183745</td>\n",
       "      <td>When Harry Met Sally... (1989)</td>\n",
       "      <td>Comedy|Romance</td>\n",
       "    </tr>\n",
       "    <tr>\n",
       "      <th>84</th>\n",
       "      <td>100</td>\n",
       "      <td>1912</td>\n",
       "      <td>4.5</td>\n",
       "      <td>1100186251</td>\n",
       "      <td>Out of Sight (1998)</td>\n",
       "      <td>Comedy|Crime|Drama|Romance|Thriller</td>\n",
       "    </tr>\n",
       "    <tr>\n",
       "      <th>82</th>\n",
       "      <td>100</td>\n",
       "      <td>1777</td>\n",
       "      <td>4.5</td>\n",
       "      <td>1100184536</td>\n",
       "      <td>Wedding Singer, The (1998)</td>\n",
       "      <td>Comedy|Romance</td>\n",
       "    </tr>\n",
       "    <tr>\n",
       "      <th>81</th>\n",
       "      <td>100</td>\n",
       "      <td>1680</td>\n",
       "      <td>4.5</td>\n",
       "      <td>1100184264</td>\n",
       "      <td>Sliding Doors (1998)</td>\n",
       "      <td>Drama|Romance</td>\n",
       "    </tr>\n",
       "    <tr>\n",
       "      <th>80</th>\n",
       "      <td>100</td>\n",
       "      <td>1678</td>\n",
       "      <td>4.5</td>\n",
       "      <td>1100186254</td>\n",
       "      <td>Joy Luck Club, The (1993)</td>\n",
       "      <td>Drama|Romance</td>\n",
       "    </tr>\n",
       "  </tbody>\n",
       "</table>\n",
       "</div>"
      ],
      "text/plain": [
       "     userId  movieId  rating   timestamp  \\\n",
       "86      100     1958     5.0  1100186258   \n",
       "101     100     2423     5.0  1100186118   \n",
       "137     100     5620     5.0  1100186982   \n",
       "55      100     1101     5.0  1100184137   \n",
       "125     100     4041     5.0  1100184235   \n",
       "70      100     1307     4.5  1100183745   \n",
       "84      100     1912     4.5  1100186251   \n",
       "82      100     1777     4.5  1100184536   \n",
       "81      100     1680     4.5  1100184264   \n",
       "80      100     1678     4.5  1100186254   \n",
       "\n",
       "                                                 title  \\\n",
       "86                          Terms of Endearment (1983)   \n",
       "101  Christmas Vacation (National Lampoon's Christm...   \n",
       "137                          Sweet Home Alabama (2002)   \n",
       "55                                      Top Gun (1986)   \n",
       "125                 Officer and a Gentleman, An (1982)   \n",
       "70                      When Harry Met Sally... (1989)   \n",
       "84                                 Out of Sight (1998)   \n",
       "82                          Wedding Singer, The (1998)   \n",
       "81                                Sliding Doors (1998)   \n",
       "80                           Joy Luck Club, The (1993)   \n",
       "\n",
       "                                  genres  \n",
       "86                          Comedy|Drama  \n",
       "101                               Comedy  \n",
       "137                       Comedy|Romance  \n",
       "55                        Action|Romance  \n",
       "125                        Drama|Romance  \n",
       "70                        Comedy|Romance  \n",
       "84   Comedy|Crime|Drama|Romance|Thriller  \n",
       "82                        Comedy|Romance  \n",
       "81                         Drama|Romance  \n",
       "80                         Drama|Romance  "
      ]
     },
     "execution_count": 66,
     "metadata": {},
     "output_type": "execute_result"
    }
   ],
   "source": [
    "already_rated.head(10)"
   ]
  },
  {
   "cell_type": "code",
   "execution_count": 67,
   "id": "666d584e",
   "metadata": {
    "scrolled": true
   },
   "outputs": [
    {
     "data": {
      "text/html": [
       "<div>\n",
       "<style scoped>\n",
       "    .dataframe tbody tr th:only-of-type {\n",
       "        vertical-align: middle;\n",
       "    }\n",
       "\n",
       "    .dataframe tbody tr th {\n",
       "        vertical-align: top;\n",
       "    }\n",
       "\n",
       "    .dataframe thead th {\n",
       "        text-align: right;\n",
       "    }\n",
       "</style>\n",
       "<table border=\"1\" class=\"dataframe\">\n",
       "  <thead>\n",
       "    <tr style=\"text-align: right;\">\n",
       "      <th></th>\n",
       "      <th>movieId</th>\n",
       "      <th>title</th>\n",
       "      <th>genres</th>\n",
       "    </tr>\n",
       "  </thead>\n",
       "  <tbody>\n",
       "    <tr>\n",
       "      <th>1202</th>\n",
       "      <td>1704</td>\n",
       "      <td>Good Will Hunting (1997)</td>\n",
       "      <td>Drama|Romance</td>\n",
       "    </tr>\n",
       "    <tr>\n",
       "      <th>895</th>\n",
       "      <td>1259</td>\n",
       "      <td>Stand by Me (1986)</td>\n",
       "      <td>Adventure|Drama</td>\n",
       "    </tr>\n",
       "    <tr>\n",
       "      <th>409</th>\n",
       "      <td>500</td>\n",
       "      <td>Mrs. Doubtfire (1993)</td>\n",
       "      <td>Comedy|Drama</td>\n",
       "    </tr>\n",
       "    <tr>\n",
       "      <th>358</th>\n",
       "      <td>440</td>\n",
       "      <td>Dave (1993)</td>\n",
       "      <td>Comedy|Romance</td>\n",
       "    </tr>\n",
       "    <tr>\n",
       "      <th>1185</th>\n",
       "      <td>1682</td>\n",
       "      <td>Truman Show, The (1998)</td>\n",
       "      <td>Comedy|Drama|Sci-Fi</td>\n",
       "    </tr>\n",
       "    <tr>\n",
       "      <th>29</th>\n",
       "      <td>39</td>\n",
       "      <td>Clueless (1995)</td>\n",
       "      <td>Comedy|Romance</td>\n",
       "    </tr>\n",
       "    <tr>\n",
       "      <th>1991</th>\n",
       "      <td>2797</td>\n",
       "      <td>Big (1988)</td>\n",
       "      <td>Comedy|Drama|Fantasy|Romance</td>\n",
       "    </tr>\n",
       "    <tr>\n",
       "      <th>112</th>\n",
       "      <td>150</td>\n",
       "      <td>Apollo 13 (1995)</td>\n",
       "      <td>Adventure|Drama|IMAX</td>\n",
       "    </tr>\n",
       "    <tr>\n",
       "      <th>2082</th>\n",
       "      <td>2918</td>\n",
       "      <td>Ferris Bueller's Day Off (1986)</td>\n",
       "      <td>Comedy</td>\n",
       "    </tr>\n",
       "    <tr>\n",
       "      <th>1209</th>\n",
       "      <td>1721</td>\n",
       "      <td>Titanic (1997)</td>\n",
       "      <td>Drama|Romance</td>\n",
       "    </tr>\n",
       "  </tbody>\n",
       "</table>\n",
       "</div>"
      ],
      "text/plain": [
       "      movieId                            title                        genres\n",
       "1202     1704         Good Will Hunting (1997)                 Drama|Romance\n",
       "895      1259               Stand by Me (1986)               Adventure|Drama\n",
       "409       500            Mrs. Doubtfire (1993)                  Comedy|Drama\n",
       "358       440                      Dave (1993)                Comedy|Romance\n",
       "1185     1682          Truman Show, The (1998)           Comedy|Drama|Sci-Fi\n",
       "29         39                  Clueless (1995)                Comedy|Romance\n",
       "1991     2797                       Big (1988)  Comedy|Drama|Fantasy|Romance\n",
       "112       150                 Apollo 13 (1995)          Adventure|Drama|IMAX\n",
       "2082     2918  Ferris Bueller's Day Off (1986)                        Comedy\n",
       "1209     1721                   Titanic (1997)                 Drama|Romance"
      ]
     },
     "execution_count": 67,
     "metadata": {},
     "output_type": "execute_result"
    }
   ],
   "source": [
    "predictions"
   ]
  },
  {
   "cell_type": "markdown",
   "id": "2e1ed4bb",
   "metadata": {},
   "source": [
    "Pretty cool! It's generally good to see that, though we didn't actually use the genre of the movie as a feature, the truncated matrix factorization features \"picked up\" on the underlying tastes and preferences of the user. Try another user_id to see different recommendations.\n",
    "\n",
    "These look like pretty good recommendations (do they?). Remember that any \"real\" recommendation system can only be evaluated by the actual users and their preferences (i.e. real-time).\n",
    "\n"
   ]
  },
  {
   "cell_type": "markdown",
   "id": "c912b439",
   "metadata": {},
   "source": [
    "## 4.3 Example 3: NMF in text"
   ]
  },
  {
   "cell_type": "code",
   "execution_count": 68,
   "id": "06358b27",
   "metadata": {},
   "outputs": [
    {
     "name": "stdout",
     "output_type": "stream",
     "text": [
      "Document-Topic Matrix:\n",
      " [[0.62792044 0.        ]\n",
      " [0.         0.82311736]\n",
      " [0.62792044 0.        ]]\n",
      "\n",
      "\n",
      "\n",
      "Topic-Word Matrix:\n",
      " [[0.50304546 0.         0.50304546 0.76515808 0.76515808 0.\n",
      "  0.59421351 0.        ]\n",
      " [0.         0.66388348 0.         0.         0.         0.66388348\n",
      "  0.39210028 0.66388348]]\n"
     ]
    }
   ],
   "source": [
    "from sklearn.decomposition import NMF\n",
    "from sklearn.feature_extraction.text import TfidfVectorizer\n",
    "\n",
    "documents = [\n",
    "    \"Mango, pineapple and banana smoothie.\",\n",
    "  \"Strawberry, blueberry and raspberry smoothie.\",\n",
    "    \"Mango, pineapple and coconut smoothie.\"\n",
    "]\n",
    "\n",
    "vectorizer = TfidfVectorizer(stop_words='english')\n",
    "X = vectorizer.fit_transform(documents)\n",
    "\n",
    "nmf = NMF(n_components=2, random_state=42)\n",
    "W = nmf.fit_transform(X)\n",
    "H = nmf.components_\n",
    "\n",
    "print(\"Document-Topic Matrix:\\n\", W)\n",
    "print(\"\\n\\n\")\n",
    "print(\"Topic-Word Matrix:\\n\", H)"
   ]
  }
 ],
 "metadata": {
  "celltoolbar": "Slideshow",
  "kernelspec": {
   "display_name": "Python 3 (ipykernel)",
   "language": "python",
   "name": "python3"
  },
  "language_info": {
   "codemirror_mode": {
    "name": "ipython",
    "version": 3
   },
   "file_extension": ".py",
   "mimetype": "text/x-python",
   "name": "python",
   "nbconvert_exporter": "python",
   "pygments_lexer": "ipython3",
   "version": "3.8.3"
  }
 },
 "nbformat": 4,
 "nbformat_minor": 5
}
