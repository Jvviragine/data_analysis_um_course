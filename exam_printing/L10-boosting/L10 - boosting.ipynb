{
 "cells": [
  {
   "cell_type": "markdown",
   "metadata": {
    "colab_type": "text",
    "id": "i_f5u2x9nn6I",
    "slideshow": {
     "slide_type": "slide"
    }
   },
   "source": [
    "# Data Analysis 2025\n",
    "\n",
    "## Boosting\n",
    "\n",
    "### Learning Goals\n",
    "\n",
    "+ Understand the fundamental idea of boosting as an ensemble learning method.\n",
    "+ Differentiate boosting from other ensemble methods like bagging and stacking.\n",
    "+ Explain the iterative nature of boosting and how it improves model performance.\n",
    "+ Describe how AdaBoost (Adaptive Boosting) modifies instance weights at each iteration.\n",
    "+ Explain how weak learners (e.g., decision stumps) are trained and combined.\n",
    "+ Interpret the role of alpha (model weight) in adjusting weak learners’ influence.\n",
    "+ Explain functional gradient descent and why boosting is an application of it.\n",
    "+ Define residuals as gradients and explain why they guide model updates.\n",
    "+ Understand how boosting fits weak learners to approximate gradients.\n",
    "+ Apply boosting for different loss functions\n",
    "+ Implement AdaBoost and Gradient Boosting using decision trees.\n",
    "+ Interpret the effect of boosting on overfitting and generalization.\n",
    "+ Use feature importance analysis to understand model decisions."
   ]
  },
  {
   "cell_type": "markdown",
   "metadata": {
    "colab_type": "text",
    "id": "i_f5u2x9nn6I",
    "slideshow": {
     "slide_type": "slide"
    }
   },
   "source": [
    "# Announcements\n",
    "\n",
    "+ Clinic 2 is due today. How are we doing? Was it more difficult than Clinic 1?\n",
    "+ Mid-course survey, fill it please https://forms.gle/nUAP8Lb4WmkQ62k36\n",
    "+ Last lecture on Monday, March 10th, pick the content https://app.wooclap.com/UMDA?from=event-page\n",
    "+ Anything else?"
   ]
  },
  {
   "cell_type": "markdown",
   "metadata": {
    "slideshow": {
     "slide_type": "slide"
    }
   },
   "source": [
    "# Review of where we've been\n",
    "\n",
    "<center>\n",
    "<img width='80%' src=\"https://miro.medium.com/v2/resize:fit:1400/1*31IsgRs2QZ7H4kl8tNqjdQ.png\"/><br/>\n",
    "<small>\n",
    "<a href=\"https://towardsdatascience.com/overview-of-supervised-machine-learning-algorithms-a5107d036296\">Image source: \n",
    "Overview of Supervised Machine Learning Algorithms</a>\n",
    "</small>\n",
    "<center>"
   ]
  },
  {
   "cell_type": "markdown",
   "metadata": {
    "slideshow": {
     "slide_type": "slide"
    }
   },
   "source": [
    "# Part 1: Boosting\n",
    "\n",
    "We will look at ways in which multiple machine learning can be combined in a smarter way than bagging.\n",
    "\n",
    "In particular, we will look at a way of combining models called *boosting*."
   ]
  },
  {
   "cell_type": "markdown",
   "metadata": {
    "slideshow": {
     "slide_type": "slide"
    }
   },
   "source": [
    "# Review: Overfitting\n",
    "\n",
    "Overfitting is one of the most common failure modes of machine learning.\n",
    "* An expressive model (e.g., polynomial) fits training data perfectly.\n",
    "* But it makes incorrect test set predictions, and doesn't generalize."
   ]
  },
  {
   "cell_type": "markdown",
   "metadata": {
    "slideshow": {
     "slide_type": "slide"
    }
   },
   "source": [
    "# Review: Bagging\n",
    "\n",
    "*Bagging* reduces *overfitting* by averaging many expressive models .\n",
    "\n",
    "```python\n",
    "for i in range(n_models):\n",
    "    # collect data samples and fit models\n",
    "    X_i, y_i = sample_with_replacement(X, y, n_samples)\n",
    "    model = Model().fit(X_i, y_i)\n",
    "    ensemble.append(model)\n",
    "\n",
    "# output average prediction at test time:\n",
    "y_test = ensemble.average_prediction(x_test)\n",
    "```\n",
    "<!-- Data samples taken with replacement are known as bootstrap samples. -->"
   ]
  },
  {
   "cell_type": "markdown",
   "metadata": {
    "slideshow": {
     "slide_type": "slide"
    }
   },
   "source": [
    "# Review: Underfitting\n",
    "\n",
    "Underfitting is another common problem in machine learning.\n",
    "* The model is too simple to fit the data well.\n",
    "* Training performance is low, hence test performance is low."
   ]
  },
  {
   "cell_type": "markdown",
   "metadata": {
    "slideshow": {
     "slide_type": "slide"
    }
   },
   "source": [
    "# Boosting\n",
    "\n",
    "The idea of *boosting* is to reduce *underfitting* by combining models that correct each others' errors."
   ]
  },
  {
   "cell_type": "markdown",
   "metadata": {
    "slideshow": {
     "slide_type": "-"
    }
   },
   "source": [
    "* As in bagging, we combine many models $g_t$ into one *ensemble* $f$."
   ]
  },
  {
   "cell_type": "markdown",
   "metadata": {
    "slideshow": {
     "slide_type": "-"
    }
   },
   "source": [
    "* Unlike bagging, the $g_t$ are __small__ and tend to __underfit__."
   ]
  },
  {
   "cell_type": "markdown",
   "metadata": {
    "slideshow": {
     "slide_type": "-"
    }
   },
   "source": [
    "* Each $g_t$ fits the points where the previous models made errors."
   ]
  },
  {
   "cell_type": "markdown",
   "metadata": {
    "slideshow": {
     "slide_type": "slide"
    }
   },
   "source": [
    "# Weak Learners\n",
    "\n",
    "A key ingredient of a boosting algorithm is a *weak learner*.\n",
    "\n",
    "* Intuitively, this is a model that is slightly better than random.\n",
    "* Examples of weak learners include: small linear models, small decision trees 🌳 (when DTs are used with depth 1, they are called *stumps* 🌱)."
   ]
  },
  {
   "cell_type": "markdown",
   "metadata": {
    "slideshow": {
     "slide_type": "slide"
    }
   },
   "source": [
    "# Structure of a Boosting Algorithm\n",
    "\n",
    "Boosting reduces *underfitting* via models that correct each others' errors."
   ]
  },
  {
   "cell_type": "markdown",
   "metadata": {
    "slideshow": {
     "slide_type": "-"
    }
   },
   "source": [
    "1. Compute weights $w^{(i)}$ for each data point $i$ based on $t$-th model predictions $f_t(x^{(i)})$ and targets $y^{(i)}$. Give more weight to points with errors.\n",
    "\n",
    "3. Fit new weak learner $g_t$ on $\\mathcal{D} = \\{(x^{(i)}, y^{(i)})\\}$ with weights $w^{(i)}$.\n",
    "\n",
    "4. Set $f_{t+1} = f_t + \\alpha_t g_t$ for some weight $\\alpha_t$. Go to Step 1 and repeat."
   ]
  },
  {
   "cell_type": "markdown",
   "metadata": {
    "slideshow": {
     "slide_type": "fragment"
    }
   },
   "source": [
    "In Python-like pseudocode this looks as follows:\n",
    "\n",
    "```python\n",
    "weights, ensemble = np.ones(n_data,), Ensemble([])\n",
    "for i in range(n_models):\n",
    "    model = SimpleBaseModel().fit(X, y, weights)\n",
    "    predictions = ensemble.predict(X)\n",
    "    model_weight, weights = update_weights(weights, predictions)\n",
    "    ensemble.add(model, model_weight)\n",
    "\n",
    "# output consensus prediction at test time:\n",
    "y_test = ensemble.predict(y_test)\n",
    "```"
   ]
  },
  {
   "cell_type": "markdown",
   "metadata": {
    "slideshow": {
     "slide_type": "skip"
    }
   },
   "source": [
    "# Origins of Boosting\n",
    "\n",
    "Boosting was initially developed in the 90s within theoretical ML.\n",
    "\n",
    "* Boosting originally addressed a theoretical question: can weak learners (>50% accuracy) can be combined into a strong learner?\n",
    "\n",
    "* This research led to a practical algorithm called *AdaBoost*.\n",
    "\n",
    "There are now many types of boosting algorithms."
   ]
  },
  {
   "cell_type": "markdown",
   "metadata": {
    "slideshow": {
     "slide_type": "slide"
    }
   },
   "source": [
    "# Algorithm: AdaBoost\n",
    "\n",
    "* __Type__: Supervised learning (classification).\n",
    "* __Model family__: Ensembles of weak learners (often decision trees).\n",
    "* __Objective function__: Exponential loss.\n",
    "* __Optimizer__: Forward stagewise additive model building."
   ]
  },
  {
   "cell_type": "markdown",
   "metadata": {
    "slideshow": {
     "slide_type": "slide"
    }
   },
   "source": [
    "# Defining AdaBoost\n",
    "\n",
    "One of the first practical boosting algorithms for classification problems was *AdaBoost*.\n",
    "\n",
    "We start with uniform $w^{(i)} = 1/n$ and $f = 0$. Then for $t=1,2,...,T$:"
   ]
  },
  {
   "cell_type": "markdown",
   "metadata": {
    "slideshow": {
     "slide_type": "-"
    }
   },
   "source": [
    "1. Fit weak learner $g_t$ on $\\mathcal{D}$ with weights $w^{(i)}$.\n",
    "<br>\n",
    "<br>\n",
    "2. Compute misclassification error $e_t = \\frac{\\sum_{i=1}^n w^{(i)} \\mathbb{I}\\{y^{(i)} \\neq f(x^{(i)})\\}}{\\sum_{i=1}^n w^{(i)}}$\n",
    "<br>\n",
    "<br>\n",
    "3. Compute model weight $\\alpha_t = \\log[(1-e_t)/e_t]$. Set $f \\gets f + \\alpha_t g_t$.\n",
    "<br>\n",
    "<br>\n",
    "4. Compute new data weights $w^{(i)} \\gets w^{(i)}\\exp[\\alpha_t \\mathbb{I}\\{y^{(i)} \\neq f(x^{(i)})\\} ]$."
   ]
  },
  {
   "cell_type": "markdown",
   "metadata": {
    "slideshow": {
     "slide_type": "-"
    }
   },
   "source": [
    "Depending on the weak learner (e.g. decision tree, logistic regression), *usually* I incoroporate the weights into the objective function of that model.\n",
    "\n",
    "`sklearn` `fit` method has a parameter to allow us pass the weights, e.g.\n",
    "\n",
    "```python\n",
    "from sklearn.tree import DecisionTreeClassifier\n",
    "clf = DecisionTreeClassifier(max_depth=1)\n",
    "clf.fit(X_train, y_train, sample_weight=weights)  # Pass weights here\n",
    "```"
   ]
  },
  {
   "cell_type": "markdown",
   "metadata": {
    "slideshow": {
     "slide_type": "slide"
    }
   },
   "source": [
    "# AdaBoost: An Example\n",
    "\n",
    "Let's implement AdaBoost on a simple dataset to see what it can do."
   ]
  },
  {
   "cell_type": "markdown",
   "metadata": {
    "slideshow": {
     "slide_type": "subslide"
    }
   },
   "source": [
    "Let's start by creating a classification dataset."
   ]
  },
  {
   "cell_type": "code",
   "execution_count": 1,
   "metadata": {
    "slideshow": {
     "slide_type": "fragment"
    }
   },
   "outputs": [],
   "source": [
    "#adapted from https://scikit-learn.org/stable/auto_examples/ensemble/plot_adaboost_twoclass.html\n",
    "import numpy as np\n",
    "from sklearn.datasets import make_gaussian_quantiles\n",
    "\n",
    "# Construct dataset\n",
    "X1, y1 = make_gaussian_quantiles(cov=2., n_samples=200, n_features=2, n_classes=2, random_state=1)\n",
    "X2, y2 = make_gaussian_quantiles(mean=(3, 3), cov=1.5, n_samples=300, n_features=2, n_classes=2, random_state=1)\n",
    "X = np.concatenate((X1, X2))\n",
    "y = np.concatenate((y1, - y2 + 1))"
   ]
  },
  {
   "cell_type": "markdown",
   "metadata": {
    "slideshow": {
     "slide_type": "fragment"
    }
   },
   "source": [
    "We can visualize this dataset using `matplotlib`."
   ]
  },
  {
   "cell_type": "code",
   "execution_count": 2,
   "metadata": {
    "slideshow": {
     "slide_type": "subslide"
    }
   },
   "outputs": [
    {
     "name": "stderr",
     "output_type": "stream",
     "text": [
      "/var/folders/0f/9ctnvkcn64374qd3h7bj1gth0000gn/T/ipykernel_2017/3921874894.py:11: UserWarning: No data for colormapping provided via 'c'. Parameters 'cmap' will be ignored\n",
      "  plt.scatter(X[idx, 0], X[idx, 1], cmap=plt.cm.Paired, s=60, edgecolor='k', label=\"Class %s\" % n)\n"
     ]
    },
    {
     "data": {
      "text/plain": [
       "(-4.935097981925363, 8.848278359647372)"
      ]
     },
     "execution_count": 2,
     "metadata": {},
     "output_type": "execute_result"
    },
    {
     "data": {
      "image/png": "[encoded data removed]",
      "text/plain": [
       "<Figure size 1200x400 with 1 Axes>"
      ]
     },
     "metadata": {},
     "output_type": "display_data"
    }
   ],
   "source": [
    "import matplotlib.pyplot as plt\n",
    "plt.rcParams['figure.figsize'] = [12, 4]\n",
    "\n",
    "plot_colors, plot_step, class_names = \"by\", 0.02, \"AB\"\n",
    "x_min, x_max = X[:, 0].min() - 1, X[:, 0].max() + 1\n",
    "y_min, y_max = X[:, 1].min() - 1, X[:, 1].max() + 1\n",
    "\n",
    "for i, n, c in zip(range(2), class_names, plot_colors):\n",
    "    idx = np.where(y == i)\n",
    "#    plt.scatter(X[idx, 0], X[idx, 1], color=c, s=60, edgecolor='k', label=f\"Class {n}\")\n",
    "    plt.scatter(X[idx, 0], X[idx, 1], cmap=plt.cm.Paired, s=60, edgecolor='k', label=\"Class %s\" % n)\n",
    "plt.legend()\n",
    "plt.xlim(x_min, x_max)\n",
    "plt.ylim(y_min, y_max)"
   ]
  },
  {
   "cell_type": "markdown",
   "metadata": {
    "slideshow": {
     "slide_type": "subslide"
    }
   },
   "source": [
    "Let's now train AdaBoost on this dataset."
   ]
  },
  {
   "cell_type": "code",
   "execution_count": 3,
   "metadata": {
    "slideshow": {
     "slide_type": "fragment"
    }
   },
   "outputs": [
    {
     "data": {
      "text/html": [
       "<style>#sk-container-id-1 {color: black;}#sk-container-id-1 pre{padding: 0;}#sk-container-id-1 div.sk-toggleable {background-color: white;}#sk-container-id-1 label.sk-toggleable__label {cursor: pointer;display: block;width: 100%;margin-bottom: 0;padding: 0.3em;box-sizing: border-box;text-align: center;}#sk-container-id-1 label.sk-toggleable__label-arrow:before {content: \"▸\";float: left;margin-right: 0.25em;color: #696969;}#sk-container-id-1 label.sk-toggleable__label-arrow:hover:before {color: black;}#sk-container-id-1 div.sk-estimator:hover label.sk-toggleable__label-arrow:before {color: black;}#sk-container-id-1 div.sk-toggleable__content {max-height: 0;max-width: 0;overflow: hidden;text-align: left;background-color: #f0f8ff;}#sk-container-id-1 div.sk-toggleable__content pre {margin: 0.2em;color: black;border-radius: 0.25em;background-color: #f0f8ff;}#sk-container-id-1 input.sk-toggleable__control:checked~div.sk-toggleable__content {max-height: 200px;max-width: 100%;overflow: auto;}#sk-container-id-1 input.sk-toggleable__control:checked~label.sk-toggleable__label-arrow:before {content: \"▾\";}#sk-container-id-1 div.sk-estimator input.sk-toggleable__control:checked~label.sk-toggleable__label {background-color: #d4ebff;}#sk-container-id-1 div.sk-label input.sk-toggleable__control:checked~label.sk-toggleable__label {background-color: #d4ebff;}#sk-container-id-1 input.sk-hidden--visually {border: 0;clip: rect(1px 1px 1px 1px);clip: rect(1px, 1px, 1px, 1px);height: 1px;margin: -1px;overflow: hidden;padding: 0;position: absolute;width: 1px;}#sk-container-id-1 div.sk-estimator {font-family: monospace;background-color: #f0f8ff;border: 1px dotted black;border-radius: 0.25em;box-sizing: border-box;margin-bottom: 0.5em;}#sk-container-id-1 div.sk-estimator:hover {background-color: #d4ebff;}#sk-container-id-1 div.sk-parallel-item::after {content: \"\";width: 100%;border-bottom: 1px solid gray;flex-grow: 1;}#sk-container-id-1 div.sk-label:hover label.sk-toggleable__label {background-color: #d4ebff;}#sk-container-id-1 div.sk-serial::before {content: \"\";position: absolute;border-left: 1px solid gray;box-sizing: border-box;top: 0;bottom: 0;left: 50%;z-index: 0;}#sk-container-id-1 div.sk-serial {display: flex;flex-direction: column;align-items: center;background-color: white;padding-right: 0.2em;padding-left: 0.2em;position: relative;}#sk-container-id-1 div.sk-item {position: relative;z-index: 1;}#sk-container-id-1 div.sk-parallel {display: flex;align-items: stretch;justify-content: center;background-color: white;position: relative;}#sk-container-id-1 div.sk-item::before, #sk-container-id-1 div.sk-parallel-item::before {content: \"\";position: absolute;border-left: 1px solid gray;box-sizing: border-box;top: 0;bottom: 0;left: 50%;z-index: -1;}#sk-container-id-1 div.sk-parallel-item {display: flex;flex-direction: column;z-index: 1;position: relative;background-color: white;}#sk-container-id-1 div.sk-parallel-item:first-child::after {align-self: flex-end;width: 50%;}#sk-container-id-1 div.sk-parallel-item:last-child::after {align-self: flex-start;width: 50%;}#sk-container-id-1 div.sk-parallel-item:only-child::after {width: 0;}#sk-container-id-1 div.sk-dashed-wrapped {border: 1px dashed gray;margin: 0 0.4em 0.5em 0.4em;box-sizing: border-box;padding-bottom: 0.4em;background-color: white;}#sk-container-id-1 div.sk-label label {font-family: monospace;font-weight: bold;display: inline-block;line-height: 1.2em;}#sk-container-id-1 div.sk-label-container {text-align: center;}#sk-container-id-1 div.sk-container {/* jupyter's `normalize.less` sets `[hidden] { display: none; }` but bootstrap.min.css set `[hidden] { display: none !important; }` so we also need the `!important` here to be able to override the default hidden behavior on the sphinx rendered scikit-learn.org. See: https://github.com/scikit-learn/scikit-learn/issues/21755 */display: inline-block !important;position: relative;}#sk-container-id-1 div.sk-text-repr-fallback {display: none;}</style><div id=\"sk-container-id-1\" class=\"sk-top-container\"><div class=\"sk-text-repr-fallback\"><pre>AdaBoostClassifier(algorithm=&#x27;SAMME&#x27;,\n",
       "                   estimator=DecisionTreeClassifier(max_depth=1),\n",
       "                   n_estimators=200)</pre><b>In a Jupyter environment, please rerun this cell to show the HTML representation or trust the notebook. <br />On GitHub, the HTML representation is unable to render, please try loading this page with nbviewer.org.</b></div><div class=\"sk-container\" hidden><div class=\"sk-item sk-dashed-wrapped\"><div class=\"sk-label-container\"><div class=\"sk-label sk-toggleable\"><input class=\"sk-toggleable__control sk-hidden--visually\" id=\"sk-estimator-id-1\" type=\"checkbox\" ><label for=\"sk-estimator-id-1\" class=\"sk-toggleable__label sk-toggleable__label-arrow\">AdaBoostClassifier</label><div class=\"sk-toggleable__content\"><pre>AdaBoostClassifier(algorithm=&#x27;SAMME&#x27;,\n",
       "                   estimator=DecisionTreeClassifier(max_depth=1),\n",
       "                   n_estimators=200)</pre></div></div></div><div class=\"sk-parallel\"><div class=\"sk-parallel-item\"><div class=\"sk-item\"><div class=\"sk-label-container\"><div class=\"sk-label sk-toggleable\"><input class=\"sk-toggleable__control sk-hidden--visually\" id=\"sk-estimator-id-2\" type=\"checkbox\" ><label for=\"sk-estimator-id-2\" class=\"sk-toggleable__label sk-toggleable__label-arrow\">estimator: DecisionTreeClassifier</label><div class=\"sk-toggleable__content\"><pre>DecisionTreeClassifier(max_depth=1)</pre></div></div></div><div class=\"sk-serial\"><div class=\"sk-item\"><div class=\"sk-estimator sk-toggleable\"><input class=\"sk-toggleable__control sk-hidden--visually\" id=\"sk-estimator-id-3\" type=\"checkbox\" ><label for=\"sk-estimator-id-3\" class=\"sk-toggleable__label sk-toggleable__label-arrow\">DecisionTreeClassifier</label><div class=\"sk-toggleable__content\"><pre>DecisionTreeClassifier(max_depth=1)</pre></div></div></div></div></div></div></div></div></div></div>"
      ],
      "text/plain": [
       "AdaBoostClassifier(algorithm='SAMME',\n",
       "                   estimator=DecisionTreeClassifier(max_depth=1),\n",
       "                   n_estimators=200)"
      ]
     },
     "execution_count": 3,
     "metadata": {},
     "output_type": "execute_result"
    }
   ],
   "source": [
    "from sklearn.ensemble import AdaBoostClassifier\n",
    "from sklearn.tree import DecisionTreeClassifier\n",
    "\n",
    "# Create and fit an AdaBoosted decision tree\n",
    "bdt = AdaBoostClassifier(DecisionTreeClassifier(max_depth=1),\n",
    "                         algorithm=\"SAMME\",\n",
    "                         n_estimators=200)\n",
    "bdt.fit(X, y)"
   ]
  },
  {
   "cell_type": "markdown",
   "metadata": {
    "slideshow": {
     "slide_type": "fragment"
    }
   },
   "source": [
    "Visualizing the output of the algorithm, we see that it can learn a highly non-linear decision boundary to separate the two classes."
   ]
  },
  {
   "cell_type": "code",
   "execution_count": 4,
   "metadata": {
    "scrolled": false,
    "slideshow": {
     "slide_type": "subslide"
    }
   },
   "outputs": [
    {
     "name": "stderr",
     "output_type": "stream",
     "text": [
      "/var/folders/0f/9ctnvkcn64374qd3h7bj1gth0000gn/T/ipykernel_2017/324831804.py:12: UserWarning: No data for colormapping provided via 'c'. Parameters 'cmap' will be ignored\n",
      "  plt.scatter(X[idx, 0], X[idx, 1], cmap=plt.cm.Paired, s=60, edgecolor='k', label=\"Class %s\" % n)\n"
     ]
    },
    {
     "data": {
      "text/plain": [
       "(-4.935097981925363, 8.848278359647372)"
      ]
     },
     "execution_count": 4,
     "metadata": {},
     "output_type": "execute_result"
    },
    {
     "data": {
      "image/png": "[encoded data removed]",
      "text/plain": [
       "<Figure size 1200x400 with 1 Axes>"
      ]
     },
     "metadata": {},
     "output_type": "display_data"
    }
   ],
   "source": [
    "xx, yy = np.meshgrid(np.arange(x_min, x_max, plot_step), np.arange(y_min, y_max, plot_step))\n",
    "\n",
    "# plot decision boundary\n",
    "Z = bdt.predict(np.c_[xx.ravel(), yy.ravel()])\n",
    "Z = Z.reshape(xx.shape)\n",
    "cs = plt.contourf(xx, yy, Z, cmap=plt.cm.Paired)\n",
    "\n",
    "# plot training points\n",
    "for i, n, c in zip(range(2), class_names, plot_colors):\n",
    "    idx = np.where(y == i)\n",
    "#    plt.scatter(X[idx, 0], X[idx, 1], cmap=cs, s=60, edgecolor='k', label=\"Class %s\" % n)\n",
    "    plt.scatter(X[idx, 0], X[idx, 1], cmap=plt.cm.Paired, s=60, edgecolor='k', label=\"Class %s\" % n)\n",
    "plt.legend()\n",
    "plt.xlim(x_min, x_max)\n",
    "plt.ylim(y_min, y_max)"
   ]
  },
  {
   "cell_type": "markdown",
   "metadata": {
    "slideshow": {
     "slide_type": "slide"
    }
   },
   "source": [
    "# Ensembling\n",
    "\n",
    "Boosting and bagging are special cases of *ensembling*.\n",
    "\n",
    "The idea of ensembling is to combine many models into one. \n",
    "* Bagging is a form of ensembling to reduce overfitting\n",
    "* Boosting is a form of ensembling to reduce underfitting"
   ]
  },
  {
   "cell_type": "markdown",
   "metadata": {
    "slideshow": {
     "slide_type": "slide"
    }
   },
   "source": [
    "# Pros and Cons of Boosting\n",
    "\n",
    "Boosting algorithms generalize AdaBoost and offer many advantages:\n",
    "* High accuracy via a highly expressive non-linear model family.\n",
    "* Low pre-processing requirements if trees are used as weak learners.\n",
    "\n",
    "Disadvantages include:\n",
    "* Large ensembles can be expensive to train.\n",
    "* The interpretability of the weak learners is lost."
   ]
  },
  {
   "cell_type": "markdown",
   "metadata": {
    "slideshow": {
     "slide_type": "slide"
    }
   },
   "source": [
    "# Summary: bagging vs boosting\n",
    "\n",
    "<center>\n",
    "<img width=70% src=\"https://miro.medium.com/v2/resize:fit:4800/format:webp/0*fdDu8RbNLoUzrrlF.jpeg\"/><br/>\n",
    "<small><a href=\"https://medium.com/@roshmitadey/bagging-v-s-boosting-be765c970fd1#:~:text=Bagging%3A%20Aims%20to%20create%20diverse,the%20weaknesses%20of%20its%20predecessors.\">Image source: Bagging v/s Boosting</a></small>\n",
    "</center>"
   ]
  },
  {
   "cell_type": "markdown",
   "metadata": {
    "slideshow": {
     "slide_type": "slide"
    }
   },
   "source": [
    "# Part 2: Additive Models\n",
    "\n",
    "Next, we are going to see another perspective on boosting and derive new boosting algorithms."
   ]
  },
  {
   "cell_type": "markdown",
   "metadata": {
    "slideshow": {
     "slide_type": "slide"
    }
   },
   "source": [
    "# Additive Models\n",
    "\n",
    "Boosting can be seen as a way of fitting an *additive model*:\n",
    "$$ f(x) = \\sum_{t=1}^T \\alpha_t g(x; \\phi_t). $$"
   ]
  },
  {
   "cell_type": "markdown",
   "metadata": {
    "slideshow": {
     "slide_type": "-"
    }
   },
   "source": [
    "* $f(x)$ consists of $T$ smaller models $g$ with weights $\\alpha_t$ & params $\\phi_t$."
   ]
  },
  {
   "cell_type": "markdown",
   "metadata": {
    "slideshow": {
     "slide_type": "-"
    }
   },
   "source": [
    "* The parameters are the $\\alpha_t$ plus the parameters $\\phi_t$ of each $g$."
   ]
  },
  {
   "cell_type": "markdown",
   "metadata": {
    "slideshow": {
     "slide_type": "-"
    }
   },
   "source": [
    "Note that $g$ can be any model. If $g$ is non-linear in terms of $\\phi_t$, so is $f$."
   ]
  },
  {
   "cell_type": "markdown",
   "metadata": {
    "slideshow": {
     "slide_type": "skip"
    }
   },
   "source": [
    "# Example: Boosting Algorithms\n",
    "\n",
    "Boosting is one way of training additive models."
   ]
  },
  {
   "cell_type": "markdown",
   "metadata": {
    "slideshow": {
     "slide_type": "skip"
    }
   },
   "source": [
    "1. Compute weights $w^{(i)}$ for each data point $i$ based on $t$-th model predictions $f_t(x^{(i)})$ and targets $y^{(i)}$. Give more weight to points with errors.\n",
    "2. Fit new weak learner $g_t$ on $\\mathcal{D} = \\{(x^{(i)}, y^{(i)})\\}$ with weights $w^{(i)}$.\n",
    "3. Set $f_{t+1} = f_t + \\alpha_t g_t$ for some weight $\\alpha_t$. Go to Step 1 and repeat."
   ]
  },
  {
   "cell_type": "markdown",
   "metadata": {
    "slideshow": {
     "slide_type": "slide"
    }
   },
   "source": [
    "# Forward Stagewise Additive Modeling\n",
    "\n",
    "A general way to fit additive models is the forward stagewise approach."
   ]
  },
  {
   "cell_type": "markdown",
   "metadata": {
    "slideshow": {
     "slide_type": "-"
    }
   },
   "source": [
    "* Suppose we have a loss $L : \\mathcal{Y} \\times \\mathcal{Y} \\to [0, \\infty)$."
   ]
  },
  {
   "cell_type": "markdown",
   "metadata": {
    "slideshow": {
     "slide_type": "-"
    }
   },
   "source": [
    "* Start with $f_0 = \\arg \\min_\\phi \\sum_{i=1}^n L(y^{(i)}, g(x^{(i)}; \\phi))$."
   ]
  },
  {
   "cell_type": "markdown",
   "metadata": {
    "slideshow": {
     "slide_type": "-"
    }
   },
   "source": [
    "* At each $t$, \"freeze\" $f_{t-1}$ and fit best new addition $\\alpha_t g(x, \\phi_t)$ to $f_{t-1}$:\n",
    "$$ \\alpha_t, \\phi_t = \\arg\\min_{\\alpha, \\phi} \\sum_{i=1}^n L(y^{(i)}, f_{t-1}(x^{(i)}) + \\alpha g(x^{(i)}; \\phi))$$"
   ]
  },
  {
   "cell_type": "markdown",
   "metadata": {
    "slideshow": {
     "slide_type": "slide"
    }
   },
   "source": [
    "# Practical Considerations\n",
    "\n",
    "* Popular choices of $g$ include simple decision trees (usually stumps) or simple polynomials (up to cubic splines).\n",
    "* We may use a fixed number of iterations $T$ or early stopping when the error on a hold-out (validation) set no longer improves.\n",
    "* An important design choice is the loss $L$."
   ]
  },
  {
   "cell_type": "markdown",
   "metadata": {
    "slideshow": {
     "slide_type": "slide"
    }
   },
   "source": [
    "# Exponential Loss\n",
    "\n",
    "Give a binary classification problem with labels $\\mathcal{Y} = \\{-1, +1\\}$, the exponential loss (if the prediction of my model is $f$) is defined as\n",
    "\n",
    "$$ L(y, f) = \\exp(-y \\cdot f). $$\n",
    "\n",
    "* When $y=1$, $L$ is small when $f \\to \\infty$.\n",
    "* When $y=-1$, $L$ is small when $f \\to - \\infty$."
   ]
  },
  {
   "cell_type": "markdown",
   "metadata": {
    "slideshow": {
     "slide_type": "-"
    }
   },
   "source": [
    "Let's visualize the exponential loss and compare it to other losses."
   ]
  },
  {
   "cell_type": "code",
   "execution_count": 5,
   "metadata": {
    "scrolled": true,
    "slideshow": {
     "slide_type": "-"
    }
   },
   "outputs": [
    {
     "data": {
      "image/png": "[encoded data removed]",
      "text/plain": [
       "<Figure size 1200x400 with 4 Axes>"
      ]
     },
     "metadata": {},
     "output_type": "display_data"
    }
   ],
   "source": [
    "from matplotlib import pyplot as plt\n",
    "import numpy as np\n",
    "plt.rcParams['figure.figsize'] = [12, 4]\n",
    "\n",
    "# define the losses for a target of y=1\n",
    "losses = {\n",
    "    'Hinge' : lambda f: np.maximum(1 - f, 0),\n",
    "    'L2': lambda f: (1-f)**2,\n",
    "    'L1': lambda f: np.abs(f-1),\n",
    "    'Exponential': lambda f: np.exp(-f)\n",
    "}\n",
    "\n",
    "# plot them\n",
    "f = np.linspace(0, 1)\n",
    "fig, axes = plt.subplots(2,2)\n",
    "for ax, (name, loss) in zip(axes.flatten(), losses.items()):\n",
    "    ax.plot(f, loss(f))\n",
    "    ax.set_title('%s Loss' % name)\n",
    "    ax.set_xlabel('Prediction f')\n",
    "    ax.set_ylabel('L(y=1,f)')\n",
    "plt.tight_layout()"
   ]
  },
  {
   "cell_type": "markdown",
   "metadata": {
    "slideshow": {
     "slide_type": "slide"
    }
   },
   "source": [
    "# Special Case: AdaBoost\n",
    "\n",
    "AdaBoost is an instance of forward stagewise additive modeling with the exponential loss."
   ]
  },
  {
   "cell_type": "markdown",
   "metadata": {
    "slideshow": {
     "slide_type": "fragment"
    }
   },
   "source": [
    "At each step $t$ we minimize\n",
    "$$L_t = \\sum_{i=1}^n e^{-y^{(i)}(f_{t-1}(x^{(i)}) + \\alpha g(x^{(i)}; \\phi))} = \\sum_{i=1}^n w^{(i)} \\exp\\left(-y^{(i)}\\alpha g(x^{(i)}; \\phi)\\right) $$\n",
    "where $w^{(i)} = \\exp(-y^{(i)}f_{t-1}(x^{(i)}))$ and we also made use of the handy rule that $e^{(a+b)} = e^a \\cdot e^b$\n",
    "\n",
    "We can derive the AdaBoost update rules from this equation."
   ]
  },
  {
   "cell_type": "markdown",
   "metadata": {
    "slideshow": {
     "slide_type": "fragment"
    }
   },
   "source": [
    "Suppose that $g(y; \\phi) \\in \\{-1,1\\}$. With a bit of algebraic manipulations, we get that:\n",
    "\\begin{align*}\n",
    "L_t & = e^{\\alpha} \\sum_{y^{(i)} \\neq g(x^{(i)})} w^{(i)} + e^{-\\alpha} \\sum_{y^{(i)} = g(x^{(i)})} w^{(i)} \\\\\n",
    "& = (e^{\\alpha} - e^{-\\alpha}) \\sum_{i=1}^n w^{(i)} \\mathbb{I}\\{{y^{(i)} \\neq g(x^{(i)})}\\} + e^{-\\alpha} \\sum_{i=1}^n w^{(i)}.\\\\\n",
    "\\end{align*}\n",
    "where $\\mathbb{I}\\{\\cdot\\}$ is the indicator function."
   ]
  },
  {
   "cell_type": "markdown",
   "metadata": {
    "slideshow": {
     "slide_type": "fragment"
    }
   },
   "source": [
    "From there, we get that:\n",
    "\\begin{align*}\n",
    "\\phi_t & = \\arg\\min_{\\phi} \\sum_{i=1}^n w^{(i)} \\mathbb{I}\\{{y^{(i)} \\neq g(x^{(i)}; \\phi)}\\} \\\\\n",
    "\\alpha_t & = \\log[(1-e_t)/e_t]\n",
    "\\end{align*}\n",
    "where $e_t = \\frac{\\sum_{i=1}^n w^{(i)} \\mathbb{I}\\{y^{(i)} \\neq f(x^{(i)})\\}}{\\sum_{i=1}^n w^{(i)}\\}}$.\n",
    "\n",
    "These are update rules for AdaBoost, and it's not hard to show that the update rule for $w^{(i)}$ is the same as well."
   ]
  },
  {
   "cell_type": "markdown",
   "metadata": {
    "slideshow": {
     "slide_type": "slide"
    }
   },
   "source": [
    "# Example: Squared Loss\n",
    "\n",
    "A popular choice for regression problems is the squared loss.\n",
    "$$ L(y, f) = (y-f)^2. $$"
   ]
  },
  {
   "cell_type": "markdown",
   "metadata": {
    "slideshow": {
     "slide_type": "-"
    }
   },
   "source": [
    "The resulting algorithm is sometimes called L2Boost.\n",
    "\n",
    "Recall that $f(x^{(i)})_{t} = f(x^{(i)})_{t-1} + \\alpha g(x^{(i)}; \\phi)$\n",
    "\n",
    "At step $t$ we minimize\n",
    "\n",
    "$$\\sum_{i=1}^n (y^{(i)} - f(x^{(i)})_{t-1} - \\alpha g(x^{(i)}; \\phi) )^2 $$ or\n",
    "\n",
    "$$\\sum_{i=1}^n (r^{(i)}_t - \\alpha g(x^{(i)}; \\phi))^2, $$\n",
    "\n",
    "where $r^{(i)}_t = y^{(i)} - f(x^{(i)})_{t-1}$ is the residual from the model $f_{t-1}$."
   ]
  },
  {
   "cell_type": "markdown",
   "metadata": {
    "slideshow": {
     "slide_type": "skip"
    }
   },
   "source": [
    "# Logistic Loss\n",
    "\n",
    "Another common loss is the log-loss. When $\\mathcal{Y}=\\{-1,1\\}$ it is defined as:\n",
    "\n",
    "$$L(y, f) = \\log(1+\\exp(-2\\cdot y\\cdot f)).$$\n",
    "\n",
    "This looks like the log of the exponential loss; it is less sensitive to outliers since it doesn't penalize large errors as much."
   ]
  },
  {
   "cell_type": "code",
   "execution_count": 6,
   "metadata": {
    "slideshow": {
     "slide_type": "skip"
    }
   },
   "outputs": [
    {
     "data": {
      "image/png": "[encoded data removed]",
      "text/plain": [
       "<Figure size 1200x400 with 4 Axes>"
      ]
     },
     "metadata": {},
     "output_type": "display_data"
    }
   ],
   "source": [
    "from matplotlib import pyplot as plt\n",
    "import numpy as np\n",
    "plt.rcParams['figure.figsize'] = [12, 4]\n",
    "\n",
    "# define the losses for a target of y=1\n",
    "losses = {\n",
    "    'Hinge' : lambda f: np.maximum(1 - f, 0),\n",
    "    'L2': lambda f: (1-f)**2,\n",
    "    'Logistic': lambda f: np.log(1+np.exp(-2*f)),\n",
    "    'Exponential': lambda f: np.exp(-f)\n",
    "}\n",
    "\n",
    "# plot them\n",
    "f = np.linspace(0, 2)\n",
    "fig, axes = plt.subplots(2,2)\n",
    "for ax, (name, loss) in zip(axes.flatten(), losses.items()):\n",
    "    ax.plot(f, loss(f))\n",
    "    ax.set_title('%s Loss' % name)\n",
    "    ax.set_xlabel('Prediction f')\n",
    "    ax.set_ylabel('L(y=1,f)')\n",
    "    ax.set_ylim([0,1])\n",
    "plt.tight_layout()"
   ]
  },
  {
   "cell_type": "markdown",
   "metadata": {
    "slideshow": {
     "slide_type": "skip"
    }
   },
   "source": [
    "In the context of boosting, we minimize\n",
    "$$J(\\alpha, \\phi) = \\sum_{i=1}^n \\log\\left(1+\\exp\\left(-2y^{(i)}(f_{t-1}(x^{(i)}) + \\alpha g(x^{(i)}; \\phi)\\right)\\right).$$"
   ]
  },
  {
   "cell_type": "markdown",
   "metadata": {
    "slideshow": {
     "slide_type": "skip"
    }
   },
   "source": [
    "This gives a different weight update compared to AdaBoost. This algorithm is called LogitBoost."
   ]
  },
  {
   "cell_type": "markdown",
   "metadata": {
    "slideshow": {
     "slide_type": "slide"
    }
   },
   "source": [
    "# Facts About Additive Modeling\n",
    "\n",
    "Boosting and additive models are closely connected."
   ]
  },
  {
   "cell_type": "markdown",
   "metadata": {
    "slideshow": {
     "slide_type": "-"
    }
   },
   "source": [
    "* Forward stagewise training (FST) is a form of boosting with $g_t$"
   ]
  },
  {
   "cell_type": "markdown",
   "metadata": {
    "slideshow": {
     "slide_type": "-"
    }
   },
   "source": [
    "* Classical boosting algorithms (AdaBoost) are special cases of FST."
   ]
  },
  {
   "cell_type": "markdown",
   "metadata": {
    "slideshow": {
     "slide_type": "-"
    }
   },
   "source": [
    "* Additive modeling is more general, supports many different losses. Additive modeling is a principled way of doing boosting for any loss $L$."
   ]
  },
  {
   "cell_type": "markdown",
   "metadata": {
    "slideshow": {
     "slide_type": "skip"
    }
   },
   "source": [
    "# What Do Weak Learners Learn?\n",
    "\n",
    "Consider, for example, L2Boost, which optimizes the L2 loss.\n",
    "<!-- $$ L(y, f) = \\frac{1}{2}(y-f)^2. $$ -->"
   ]
  },
  {
   "cell_type": "markdown",
   "metadata": {
    "slideshow": {
     "slide_type": "skip"
    }
   },
   "source": [
    "At step $t$ we minimize\n",
    "$$\\sum_{i=1}^n (r^{(i)}_t - \\alpha g(x^{(i)}; \\phi))^2, $$\n",
    "where $r^{(i)}_t = y^{(i)} - f_{t-1}(x^{(i)})$ is the residual error of the model $f_{t-1}$."
   ]
  },
  {
   "cell_type": "markdown",
   "metadata": {
    "slideshow": {
     "slide_type": "skip"
    }
   },
   "source": [
    "The residual error of model $f_{t-1}$ is given by:\n",
    "$$r^{(i)}_t = y^{(i)} - f_{t-1}(x^{(i)})$$"
   ]
  },
  {
   "cell_type": "markdown",
   "metadata": {
    "slideshow": {
     "slide_type": "skip"
    }
   },
   "source": [
    "Note that $r_t^{(i)}$ is the derivative of the $L_2$ loss with respect to $f_{t-1}(x^{(i)})$:\n",
    "$$\\frac{1}{2}\\left(y^{(i)} - f_{t-1}(x^{(i)})\\right)^2$$"
   ]
  },
  {
   "cell_type": "markdown",
   "metadata": {
    "slideshow": {
     "slide_type": "skip"
    }
   },
   "source": [
    "To be more precise, we can write this as:\n",
    "$$r^{(i)}_t = \\frac{\\partial L(y^{(i)}, \\text{f})}{\\partial \\text{f}} \\bigg\\rvert_{\\text{f} = f_{t-1}(x^{(i)})}$$"
   ]
  },
  {
   "cell_type": "markdown",
   "metadata": {
    "slideshow": {
     "slide_type": "skip"
    }
   },
   "source": [
    "Thus, at step $t$ we minimize\n",
    "$$\\sum_{i=1}^n \\left( \\underbrace{\\left(y^{(i)} - f_{t-1}(x^{(i)})\\right)}_\\text{derivative of $L$ at $f_{t-1}(x^{(i)})$} - g(x^{(i)}; \\phi)\\right)^2. $$"
   ]
  },
  {
   "cell_type": "markdown",
   "metadata": {
    "slideshow": {
     "slide_type": "skip"
    }
   },
   "source": [
    "So this tells us that L2Boost **fits the derivatives of the L2 loss**!"
   ]
  },
  {
   "cell_type": "markdown",
   "metadata": {
    "slideshow": {
     "slide_type": "slide"
    }
   },
   "source": [
    "# Pros and Cons of Additive Models\n",
    "\n",
    "The algorithms we have seen so far improve over AdaBoost.\n",
    "* They optimize a wide range of objectives.\n",
    "* They tend to be more robust to outliers and extend beyond classification.\n",
    "\n",
    "Cons:\n",
    "* Computational time is still an issue.\n",
    "* Optimizing greedily over each $\\phi_t$ can take time.\n",
    "* Each loss requires specialized derivations."
   ]
  },
  {
   "cell_type": "markdown",
   "metadata": {
    "slideshow": {
     "slide_type": "slide"
    }
   },
   "source": [
    "# Part 3: Gradient Boosting\n",
    "\n",
    "We are now going to see another way of deriving boosting algorithms that is inspired by (what else?) gradient descent."
   ]
  },
  {
   "cell_type": "markdown",
   "metadata": {
    "slideshow": {
     "slide_type": "slide"
    }
   },
   "source": [
    "# Limitations of Forward Stagewise Additive Modeling\n",
    "\n",
    "Forward stagewise additive modeling is not without limitations.\n",
    "* There may exist other losses for which it is complex to derive boosting-type weight update rules.\n",
    "* At each step, we need to solve a (maybe costly) optimization problem over $\\phi_t$.\n",
    "* Optimizing each $\\phi_t$ greedily may cause us to overfit."
   ]
  },
  {
   "cell_type": "markdown",
   "metadata": {
    "slideshow": {
     "slide_type": "slide"
    }
   },
   "source": [
    "### Supervised Learning: The Model\n",
    "\n",
    "Recall that a machine learning model is a function\n",
    "$$ f_\\theta : \\mathcal{X} \\to \\mathcal{Y} $$\n",
    "that maps inputs $x \\in \\mathcal{X}$ to targets $y \\in \\mathcal{Y}$. \n",
    "\n",
    "The model has a $d$-dimensional set of parameters $\\theta$:\n",
    "$$\\theta = (\\theta_1, \\theta_2, ..., \\theta_d). $$\n",
    "\n",
    "We define a loss function (in general notation):\n",
    "\n",
    "$$J(\\theta) = \\sum_{x \\in \\mathcal{X}} L\\left(y, f_\\theta(x) \\right) \n",
    "$$\n",
    "\n"
   ]
  },
  {
   "cell_type": "markdown",
   "metadata": {
    "slideshow": {
     "slide_type": "-"
    }
   },
   "source": [
    "The gradient $\\nabla J(\\theta)$ is the $d$-dimensional vector of partial derivatives:\n",
    "\n",
    "$$ \\nabla J (\\theta) = \\begin{bmatrix}\n",
    "\\frac{\\partial J(\\theta)}{\\partial \\theta_1} \\\\\n",
    "\\frac{\\partial J(\\theta)}{\\partial \\theta_2} \\\\\n",
    "\\vdots \\\\\n",
    "\\frac{\\partial J(\\theta)}{\\partial \\theta_d}\n",
    "\\end{bmatrix}.$$\n",
    "\n",
    "The $j$-th entry of the vector $\\nabla J (\\theta)$ is the partial derivative $\\frac{\\partial J(\\theta)}{\\partial \\theta_j}$ of $J$ with respect to the $j$-th component of $\\theta$."
   ]
  },
  {
   "cell_type": "markdown",
   "metadata": {
    "slideshow": {
     "slide_type": "-"
    }
   },
   "source": [
    "We can optimize $J(\\theta)$ using gradient descent via the usual update rule:\n",
    "$$\\theta_t \\gets \\theta_{t-1} - \\alpha_t \\nabla J(\\theta_{t-1}).$$"
   ]
  },
  {
   "cell_type": "markdown",
   "metadata": {
    "slideshow": {
     "slide_type": "skip"
    }
   },
   "source": [
    "# Functional Optimization\n",
    "\n",
    "Instead of optimizing $J(\\theta)$, let's directly optimize $J(f)$ over *functions* $f$!"
   ]
  },
  {
   "cell_type": "markdown",
   "metadata": {
    "slideshow": {
     "slide_type": "skip"
    }
   },
   "source": [
    "This requires a few simplifying assumptions (for now):"
   ]
  },
  {
   "cell_type": "markdown",
   "metadata": {
    "slideshow": {
     "slide_type": "skip"
    }
   },
   "source": [
    "* The set $\\mathcal{X}=\\{x_1, ..., x_m\\}$ of possible $x$ is finite and has size $m$."
   ]
  },
  {
   "cell_type": "markdown",
   "metadata": {
    "slideshow": {
     "slide_type": "skip"
    }
   },
   "source": [
    "* Thus, each $f(x)$ is a finite dimensional vector of size $m$."
   ]
  },
  {
   "cell_type": "markdown",
   "metadata": {
    "slideshow": {
     "slide_type": "skip"
    }
   },
   "source": [
    "In other words, we can view $f : \\mathcal{X} \\to \\mathcal{Y}$ over a finite $\\mathcal{X}$ as a vector in $\\mathbb{R}^m$:\n",
    "\n",
    "$$ f = \\begin{bmatrix}\n",
    "f_1 \\\\\n",
    "f_2 \\\\\n",
    "\\vdots \\\\\n",
    "f_m\n",
    "\\end{bmatrix}\n",
    "= \\begin{bmatrix}\n",
    "f(x_1) \\\\\n",
    "f(x_2) \\\\\n",
    "\\vdots \\\\\n",
    "f(x_m)\n",
    "\\end{bmatrix}.$$\n",
    "\n",
    "$f$ is an $m$-dimensional vector; its $j$-th component is the prediction $f(x_j)$."
   ]
  },
  {
   "cell_type": "markdown",
   "metadata": {
    "slideshow": {
     "slide_type": "slide"
    }
   },
   "source": [
    "# Supervised Learning Over Functions\n",
    "\n",
    "Supervised learning becomes a functional optimization problem over\n",
    "$$J(f) = \\sum_{i=1}^n  L\\left( y^{(i)}, f( x^{(i)}) \\right)$$\n",
    "where $f \\in \\mathbb{R}^m$ is a vector $L$ is a loss over a dataset $\\{x^{(i)}, y^{(i)}\\}_{i=1}^n$.\n"
   ]
  },
  {
   "cell_type": "markdown",
   "metadata": {
    "slideshow": {
     "slide_type": "fragment"
    }
   },
   "source": [
    "We can think of this as setting the parameters $\\theta$ directly to values of $f$."
   ]
  },
  {
   "cell_type": "markdown",
   "metadata": {
    "slideshow": {
     "slide_type": "skip"
    }
   },
   "source": [
    "# Functional Gradients\n",
    "\n",
    "How do we optimize $J(f)$ over $f$? "
   ]
  },
  {
   "cell_type": "markdown",
   "metadata": {
    "slideshow": {
     "slide_type": "skip"
    }
   },
   "source": [
    "$f$ is a finite-dimensional vector; thus we use the *functional gradient* of $J$:\n",
    "\n",
    "$$ \\nabla J(f)= \\begin{bmatrix}\n",
    "\\frac{d J}{d f_1} \\\\\n",
    "\\frac{d J}{d f_2} \\\\\n",
    "\\vdots \\\\\n",
    "\\frac{d J}{d f_m} \\\\\n",
    "\\end{bmatrix}\n",
    "= \\begin{bmatrix}\n",
    "\\frac{d J}{d f(x_1)} \\\\\n",
    "\\frac{d J}{d f(x_2)} \\\\\n",
    "\\vdots \\\\\n",
    "\\frac{d J}{d f(x_m)} \\\\\n",
    "\\end{bmatrix}\n",
    "$$\n",
    "\n",
    "This is very similar to taking the gradient with respect to parameters $\\theta$."
   ]
  },
  {
   "cell_type": "markdown",
   "metadata": {
    "slideshow": {
     "slide_type": "skip"
    }
   },
   "source": [
    "Let's further compare the parametric and the functional gradients."
   ]
  },
  {
   "cell_type": "markdown",
   "metadata": {
    "slideshow": {
     "slide_type": "skip"
    }
   },
   "source": [
    "* $\\nabla J(\\theta_0)$ tells how to modify $\\theta_0$ to decrease $J$ at $J(\\theta_0)$."
   ]
  },
  {
   "cell_type": "markdown",
   "metadata": {
    "slideshow": {
     "slide_type": "skip"
    }
   },
   "source": [
    "* $\\nabla J(f_0)$ tells how to modify $f_0$ to decrease $J$ at $J(f_0)$."
   ]
  },
  {
   "cell_type": "markdown",
   "metadata": {
    "slideshow": {
     "slide_type": "slide"
    }
   },
   "source": [
    "# Functional Gradient Descent\n",
    "\n",
    "How do we optimize the functional supervised learning objective?\n",
    "$$J(f) = \\sum_{i=1}^n  L\\left( y^{(i)}, f( x^{(i)}) \\right)$$"
   ]
  },
  {
   "cell_type": "markdown",
   "metadata": {
    "slideshow": {
     "slide_type": "-"
    }
   },
   "source": [
    "We perform gradient descent over $f$:\n",
    "$$f_t \\gets f_{t-1} - \\alpha_t \\nabla J(f_{t-1}).$$"
   ]
  },
  {
   "cell_type": "markdown",
   "metadata": {
    "slideshow": {
     "slide_type": "-"
    }
   },
   "source": [
    "This is analogous to regular gradient descent:\n",
    "$$\\theta_t \\gets \\theta_{t-1} - \\alpha_t \\nabla J(\\theta_{t-1}).$$"
   ]
  },
  {
   "cell_type": "markdown",
   "metadata": {
    "slideshow": {
     "slide_type": "subslide"
    }
   },
   "source": [
    "This is best understood via a picture.\n",
    "\n",
    "<center><img width=100% src=\"img/functional_gradient.png\"></center>"
   ]
  },
  {
   "cell_type": "markdown",
   "metadata": {
    "slideshow": {
     "slide_type": "subslide"
    }
   },
   "source": [
    "After $T$ steps of $f_t \\gets f_{t-1} - \\alpha_t \\nabla J(f_{t-1})$, we get a model of the form\n",
    "$$f_T = \\sum_{t=0}^{T-1} \\alpha_t \\nabla J(f_{t})$$"
   ]
  },
  {
   "cell_type": "markdown",
   "metadata": {
    "slideshow": {
     "slide_type": "fragment"
    }
   },
   "source": [
    "* Each $\\nabla J(f_{t})$ is a function of $x$, thus so is $f_T$\n",
    "* This also looks like an additive model!"
   ]
  },
  {
   "cell_type": "markdown",
   "metadata": {
    "slideshow": {
     "slide_type": "skip"
    }
   },
   "source": [
    "# Problems With Functional Supervised Learning\n",
    "\n",
    "However, in its current form, this approach is not practical."
   ]
  },
  {
   "cell_type": "markdown",
   "metadata": {
    "slideshow": {
     "slide_type": "skip"
    }
   },
   "source": [
    "* Typically $m = |\\mathcal{X}|$ is very large (even infinite). Thus, we cannot estimate $\\nabla J(f)$ everywhere."
   ]
  },
  {
   "cell_type": "markdown",
   "metadata": {
    "slideshow": {
     "slide_type": "skip"
    }
   },
   "source": [
    "* Even if we could, the model $f$ would be too expressive and overfit."
   ]
  },
  {
   "cell_type": "markdown",
   "metadata": {
    "slideshow": {
     "slide_type": "skip"
    }
   },
   "source": [
    "* We want a way to optimize $J(f)$ at *any* $n$ training data points"
   ]
  },
  {
   "cell_type": "markdown",
   "metadata": {
    "slideshow": {
     "slide_type": "slide"
    }
   },
   "source": [
    "# Approximating Functional Gradients\n",
    "\n",
    "Since estimating the gradient is not an easy problem, our solution is to learn a model of gradients.\n",
    "\n",
    "More specifically, we will estimate $\\nabla J(f_t)$ from data using a model $g_t$."
   ]
  },
  {
   "cell_type": "markdown",
   "metadata": {
    "slideshow": {
     "slide_type": "-"
    }
   },
   "source": [
    "We will then perform approximate functional gradient descent using\n",
    "\n",
    "$$f_t \\gets f_{t-1} - \\alpha_t g_t$$\n",
    "\n",
    "which is approximately\n",
    "\n",
    "$$f_t \\gets f_{t-1} - \\alpha_t \\nabla J(f_{t-1})$$"
   ]
  },
  {
   "cell_type": "markdown",
   "metadata": {
    "slideshow": {
     "slide_type": "skip"
    }
   },
   "source": [
    "# Estimating Functional Gradients From Data\n",
    "\n",
    "How do we approximate $\\nabla J(f)$ using a parametric model $g_\\phi$ with parameters $\\phi$?"
   ]
  },
  {
   "cell_type": "markdown",
   "metadata": {
    "slideshow": {
     "slide_type": "skip"
    }
   },
   "source": [
    "* Recall: $\\nabla J(f)$ is a vector. We can evaluate $\\nabla J(f)(x_j)$ at any $x_j$."
   ]
  },
  {
   "cell_type": "markdown",
   "metadata": {
    "slideshow": {
     "slide_type": "skip"
    }
   },
   "source": [
    "* We also have a dataset $\\mathcal{D} = \\{x^{(i)}, y^{(i)} \\mid i=1,...,n\\}$."
   ]
  },
  {
   "cell_type": "markdown",
   "metadata": {
    "slideshow": {
     "slide_type": "skip"
    }
   },
   "source": [
    "Let's use supervised learning to build a model $g_t(x) \\approx \\nabla J(f)(x)$ on $\\mathcal{D}$."
   ]
  },
  {
   "cell_type": "markdown",
   "metadata": {
    "slideshow": {
     "slide_type": "skip"
    }
   },
   "source": [
    "First, we need a formula for $\\nabla J(f)(x^{(i)})$. Assume all $x^{(i)}$ are unique."
   ]
  },
  {
   "cell_type": "markdown",
   "metadata": {
    "slideshow": {
     "slide_type": "skip"
    }
   },
   "source": [
    "* Recall that we defined $J(f) = \\sum_{i=1}^n  L\\left( y^{(i)}, f( x^{(i)}) \\right)$."
   ]
  },
  {
   "cell_type": "markdown",
   "metadata": {
    "slideshow": {
     "slide_type": "skip"
    }
   },
   "source": [
    "* Then we have that\n",
    "$$ \\nabla J(f)(x^{(i)}) = \\frac{d}{d f(x^{(i)})} J(f) = \\frac{d}{d f(x^{(i)})} L( y^{(i)}, f(x^{(i)})).$$"
   ]
  },
  {
   "cell_type": "markdown",
   "metadata": {
    "slideshow": {
     "slide_type": "skip"
    }
   },
   "source": [
    "* For example, if $L$ is the $L_2$ loss, then $\\nabla J(f)(x^{(i)}) = y^{(i)} - f(x^{(i)})$"
   ]
  },
  {
   "cell_type": "markdown",
   "metadata": {
    "slideshow": {
     "slide_type": "slide"
    }
   },
   "source": [
    "# Fitting Functional Gradients\n",
    "\n",
    "In order to fit functional gradients, we apply supervised learning."
   ]
  },
  {
   "cell_type": "markdown",
   "metadata": {
    "slideshow": {
     "slide_type": "-"
    }
   },
   "source": [
    "1. We compute $\\nabla J(f)$ on the training dataset:\n",
    "$$\\mathcal{D}_g = \\left\\{ \\left(x^{(i)}, \\nabla J(f)(x^{(i)}) \\right), i=1,2,\\ldots,n \\right\\} $$"
   ]
  },
  {
   "cell_type": "markdown",
   "metadata": {
    "slideshow": {
     "slide_type": "-"
    }
   },
   "source": [
    "2. We train a model $g : \\mathcal{X} \\to \\mathbb{R}$ on $\\mathcal{D}_g$ to predict extrapolated functional gradients at any $x$:\n",
    "$$ g(x) \\approx \\nabla J(f)(x).$$"
   ]
  },
  {
   "cell_type": "markdown",
   "metadata": {
    "slideshow": {
     "slide_type": "slide"
    }
   },
   "source": [
    "# Gradient Boosting\n",
    "\n",
    "Gradient boosting is functional gradient descent with estimated gradients."
   ]
  },
  {
   "cell_type": "markdown",
   "metadata": {
    "slideshow": {
     "slide_type": "fragment"
    }
   },
   "source": [
    "### Step 1: Define the Function $f(x)$\n",
    "\n",
    "$f(x)$ is the model that we are training. It is built iteratively by adding weak learners. Initially, it is set to a simple function, e.g. for regression we start with a constant:\n",
    "\n",
    "$$\n",
    "f_0(x) = \\frac{1}{n} \\sum_{i=1}^{n} y^{(i)} = \\bar{y}\n",
    "$$"
   ]
  },
  {
   "cell_type": "markdown",
   "metadata": {
    "slideshow": {
     "slide_type": "fragment"
    }
   },
   "source": [
    "### Step 2: Compute the Gradient (Residuals)\n",
    "\n",
    "The key idea is that we don’t know the best function $f(x)$ upfront, so we iteratively adjust it.\n",
    "\n",
    "- The gradient tells us how to adjust $f(x)$ to minimize the loss $J(f)$.\n",
    "- The negative gradient of the loss w.r.t $f(x)$ gives the residuals.\n",
    "\n",
    "e.g. for L2 loss, the loss function is:\n",
    "\n",
    "$$\n",
    "J(f) = \\frac{1}{2} \\sum_{i=1}^{n} (y^{(i)} - f(x^{(i)}))^2\n",
    "$$\n",
    "\n",
    "Taking the derivative:\n",
    "\n",
    "$$\n",
    "\\nabla J(f)(x^{(i)}) = - (y^{(i)} - f(x^{(i)}))\n",
    "$$\n",
    "\n",
    "So, the residuals are:\n",
    "\n",
    "$$\n",
    "r_i = y^{(i)} - f(x^{(i)})\n",
    "$$\n",
    "\n",
    "These residuals are what we fit the next weak learner $g_t(x)$ on."
   ]
  },
  {
   "cell_type": "markdown",
   "metadata": {
    "slideshow": {
     "slide_type": "fragment"
    }
   },
   "source": [
    "### Step 3: Create $g_t(x)$ (Weak Learner)\n",
    "\n",
    "Instead of directly adjusting $f(x)$, we train a new model $g_t(x)$ to predict the residuals.\n",
    "\n",
    "- $g_t(x)$ is a weak learner (e.g., a small decision tree).\n",
    "- It learns to approximate the negative gradient:\n",
    "\n",
    "$$\n",
    "g_t(x) \\approx - \\nabla J(f)(x) = y - f(x)\n",
    "$$\n",
    "\n",
    "This means $g_t(x)$ tries to correct the mistakes of $f(x)$."
   ]
  },
  {
   "cell_type": "markdown",
   "metadata": {
    "slideshow": {
     "slide_type": "fragment"
    }
   },
   "source": [
    "### Step 4: Update $f(x)$\n",
    "\n",
    "Once we have a weak learner $g_t(x)$, we update our function $f(x)$:\n",
    "\n",
    "$$\n",
    "f_{t+1}(x) = f_t(x) + \\alpha_t g_t(x)\n",
    "$$\n",
    "\n",
    "where:\n",
    "\n",
    "- $\\alpha_t$ is a small learning rate that controls the step size.\n",
    "- $g_t(x)$ is the weak learner trained on the residuals.\n",
    "\n",
    "Each iteration adds a small correction to $f(x)$, improving it gradually."
   ]
  },
  {
   "cell_type": "markdown",
   "metadata": {
    "slideshow": {
     "slide_type": "slide"
    }
   },
   "source": [
    "# Interpreting Gradient Boosting\n",
    "\n",
    "Notice how after $T$ steps we get an additive model of the form\n",
    "$$ f(x) = \\sum_{t=1}^T \\alpha_t g_t(x). $$\n",
    "This looks like the output of a boosting algorithm!"
   ]
  },
  {
   "cell_type": "markdown",
   "metadata": {
    "slideshow": {
     "slide_type": "-"
    }
   },
   "source": [
    "* This works for any differentiable loss $L$.\n",
    "* It does not require any mathematical derivations for new $L$."
   ]
  },
  {
   "cell_type": "markdown",
   "metadata": {
    "slideshow": {
     "slide_type": "skip"
    }
   },
   "source": [
    "# Boosting vs. Gradient Boosting\n",
    "\n",
    "Consider, for example, L2Boost, which optimizes the L2 loss.\n",
    "<!-- $$ L(y, f) = \\frac{1}{2}(y-f)^2. $$ -->"
   ]
  },
  {
   "cell_type": "markdown",
   "metadata": {
    "slideshow": {
     "slide_type": "skip"
    }
   },
   "source": [
    "At step $t$ we minimize\n",
    "$$\\sum_{i=1}^n (r^{(i)}_t - \\alpha g(x^{(i)}; \\phi))^2, $$\n",
    "where $r^{(i)}_t = y^{(i)} - f_{t-1}(x^{(i)})$ is the residual from $f_{t-1}$."
   ]
  },
  {
   "cell_type": "markdown",
   "metadata": {
    "slideshow": {
     "slide_type": "skip"
    }
   },
   "source": [
    "Observe that the residual\n",
    "$$r^{(i)}_t = y^{(i)} - f(x^{(i)})_{t-1}$$\n",
    "\n",
    "is also the gradient of the $L2$ loss with respect to $f$ as $f(x^{(i)})$\n",
    "$$r^{(i)}_t = \\nabla J(f)(x^{(i)})$$"
   ]
  },
  {
   "cell_type": "markdown",
   "metadata": {
    "slideshow": {
     "slide_type": "skip"
    }
   },
   "source": [
    "Many boosting methods are special cases of gradient boosting in this way."
   ]
  },
  {
   "cell_type": "markdown",
   "metadata": {
    "slideshow": {
     "slide_type": "skip"
    }
   },
   "source": [
    "# Losses for Additive Models\n",
    "\n",
    "We have seen several losses that can be used with the forward stagewise additive approach.\n",
    "* The exponential loss $L(y,f) = \\exp(-yf)$ gives us AdaBoost.\n",
    "* The log-loss $L(y,f) = \\log(1+\\exp(-2yf))$ is more robust to outliers.\n",
    "* The squared loss $L(y,f) = (y-f)^2$ can be used for regression."
   ]
  },
  {
   "cell_type": "markdown",
   "metadata": {
    "slideshow": {
     "slide_type": "slide"
    }
   },
   "source": [
    "# Losses for Gradient Boosting\n",
    "\n",
    "Gradient boosting can optimize a wide range of losses.\n",
    "\n",
    "1. Regression losses:\n",
    "    * L2, L1, and Huber (L1/L2 interpolation) losses.\n",
    "    * Quantile loss: estimates quantiles of distribution of $p(y|x)$.\n",
    "2. Classification losses:\n",
    "    * Log-loss, softmax loss, exponential loss, negative binomial likelihood, etc."
   ]
  },
  {
   "cell_type": "markdown",
   "metadata": {
    "slideshow": {
     "slide_type": "slide"
    }
   },
   "source": [
    "# Practical Considerations\n",
    "\n",
    "When using gradient boosting these additional facts are useful:\n",
    "* We often use decision trees as $g_t$ for minimal input processing.\n",
    "* We can regularize via size of $g_t$, step size $\\alpha$, and using *early stopping*.\n",
    "* We can scale-up gradient boosting to big data by subsampling data at each iteration (a form of *stochastic* gradient descent)."
   ]
  },
  {
   "cell_type": "markdown",
   "metadata": {
    "slideshow": {
     "slide_type": "slide"
    }
   },
   "source": [
    "# Algorithm: Gradient Boosting\n",
    "\n",
    "* __Type__: Supervised learning (classification and regression).\n",
    "* __Model family__: Ensembles of weak learners (often decision trees).\n",
    "* __Objective function__: Any differentiable loss function.\n",
    "* __Optimizer__: Gradient descent in functional space. Weak learner uses its own optimizer.\n",
    "* __Probabilistic interpretation__: None in general; certain losses may have one."
   ]
  },
  {
   "cell_type": "markdown",
   "metadata": {
    "slideshow": {
     "slide_type": "slide"
    }
   },
   "source": [
    "# Gradient Boosting: An Example\n",
    "\n",
    "Let's now try running Gradient Boosted Decision Trees on a small regression dataset."
   ]
  },
  {
   "cell_type": "markdown",
   "metadata": {
    "slideshow": {
     "slide_type": "subslide"
    }
   },
   "source": [
    "First we create the dataset."
   ]
  },
  {
   "cell_type": "code",
   "execution_count": 7,
   "metadata": {
    "slideshow": {
     "slide_type": "subslide"
    }
   },
   "outputs": [
    {
     "data": {
      "text/plain": [
       "[<matplotlib.lines.Line2D at 0x7fb71b1e96a0>]"
      ]
     },
     "execution_count": 7,
     "metadata": {},
     "output_type": "execute_result"
    },
    {
     "data": {
      "image/png": "[encoded data removed]",
      "text/plain": [
       "<Figure size 1200x400 with 1 Axes>"
      ]
     },
     "metadata": {},
     "output_type": "display_data"
    }
   ],
   "source": [
    "# https://scikit-learn.org/stable/auto_examples/ensemble/plot_gradient_boosting_quantile.html\n",
    "X = np.atleast_2d(np.random.uniform(0, 10.0, size=100)).T\n",
    "X = X.astype(np.float32)\n",
    "f = lambda x: x * np.sin(x)\n",
    "y = f(X).ravel()\n",
    "dy = 1.5 + 1.0 * np.random.random(y.shape)\n",
    "y += np.random.normal(0, dy)\n",
    "\n",
    "xx = np.atleast_2d(np.linspace(0, 10, 1000)).T\n",
    "plt.plot(xx, f(xx), 'y:', label=r'$f(x) = x\\,\\sin(x)$')\n",
    "plt.plot(X, y, 'b.', markersize=10, label=u'Observations')"
   ]
  },
  {
   "cell_type": "markdown",
   "metadata": {
    "slideshow": {
     "slide_type": "subslide"
    }
   },
   "source": [
    "Next, we train a GBDT regressor."
   ]
  },
  {
   "cell_type": "code",
   "execution_count": 14,
   "metadata": {
    "slideshow": {
     "slide_type": "fragment"
    }
   },
   "outputs": [
    {
     "data": {
      "text/html": [
       "<style>#sk-container-id-5 {color: black;}#sk-container-id-5 pre{padding: 0;}#sk-container-id-5 div.sk-toggleable {background-color: white;}#sk-container-id-5 label.sk-toggleable__label {cursor: pointer;display: block;width: 100%;margin-bottom: 0;padding: 0.3em;box-sizing: border-box;text-align: center;}#sk-container-id-5 label.sk-toggleable__label-arrow:before {content: \"▸\";float: left;margin-right: 0.25em;color: #696969;}#sk-container-id-5 label.sk-toggleable__label-arrow:hover:before {color: black;}#sk-container-id-5 div.sk-estimator:hover label.sk-toggleable__label-arrow:before {color: black;}#sk-container-id-5 div.sk-toggleable__content {max-height: 0;max-width: 0;overflow: hidden;text-align: left;background-color: #f0f8ff;}#sk-container-id-5 div.sk-toggleable__content pre {margin: 0.2em;color: black;border-radius: 0.25em;background-color: #f0f8ff;}#sk-container-id-5 input.sk-toggleable__control:checked~div.sk-toggleable__content {max-height: 200px;max-width: 100%;overflow: auto;}#sk-container-id-5 input.sk-toggleable__control:checked~label.sk-toggleable__label-arrow:before {content: \"▾\";}#sk-container-id-5 div.sk-estimator input.sk-toggleable__control:checked~label.sk-toggleable__label {background-color: #d4ebff;}#sk-container-id-5 div.sk-label input.sk-toggleable__control:checked~label.sk-toggleable__label {background-color: #d4ebff;}#sk-container-id-5 input.sk-hidden--visually {border: 0;clip: rect(1px 1px 1px 1px);clip: rect(1px, 1px, 1px, 1px);height: 1px;margin: -1px;overflow: hidden;padding: 0;position: absolute;width: 1px;}#sk-container-id-5 div.sk-estimator {font-family: monospace;background-color: #f0f8ff;border: 1px dotted black;border-radius: 0.25em;box-sizing: border-box;margin-bottom: 0.5em;}#sk-container-id-5 div.sk-estimator:hover {background-color: #d4ebff;}#sk-container-id-5 div.sk-parallel-item::after {content: \"\";width: 100%;border-bottom: 1px solid gray;flex-grow: 1;}#sk-container-id-5 div.sk-label:hover label.sk-toggleable__label {background-color: #d4ebff;}#sk-container-id-5 div.sk-serial::before {content: \"\";position: absolute;border-left: 1px solid gray;box-sizing: border-box;top: 0;bottom: 0;left: 50%;z-index: 0;}#sk-container-id-5 div.sk-serial {display: flex;flex-direction: column;align-items: center;background-color: white;padding-right: 0.2em;padding-left: 0.2em;position: relative;}#sk-container-id-5 div.sk-item {position: relative;z-index: 1;}#sk-container-id-5 div.sk-parallel {display: flex;align-items: stretch;justify-content: center;background-color: white;position: relative;}#sk-container-id-5 div.sk-item::before, #sk-container-id-5 div.sk-parallel-item::before {content: \"\";position: absolute;border-left: 1px solid gray;box-sizing: border-box;top: 0;bottom: 0;left: 50%;z-index: -1;}#sk-container-id-5 div.sk-parallel-item {display: flex;flex-direction: column;z-index: 1;position: relative;background-color: white;}#sk-container-id-5 div.sk-parallel-item:first-child::after {align-self: flex-end;width: 50%;}#sk-container-id-5 div.sk-parallel-item:last-child::after {align-self: flex-start;width: 50%;}#sk-container-id-5 div.sk-parallel-item:only-child::after {width: 0;}#sk-container-id-5 div.sk-dashed-wrapped {border: 1px dashed gray;margin: 0 0.4em 0.5em 0.4em;box-sizing: border-box;padding-bottom: 0.4em;background-color: white;}#sk-container-id-5 div.sk-label label {font-family: monospace;font-weight: bold;display: inline-block;line-height: 1.2em;}#sk-container-id-5 div.sk-label-container {text-align: center;}#sk-container-id-5 div.sk-container {/* jupyter's `normalize.less` sets `[hidden] { display: none; }` but bootstrap.min.css set `[hidden] { display: none !important; }` so we also need the `!important` here to be able to override the default hidden behavior on the sphinx rendered scikit-learn.org. See: https://github.com/scikit-learn/scikit-learn/issues/21755 */display: inline-block !important;position: relative;}#sk-container-id-5 div.sk-text-repr-fallback {display: none;}</style><div id=\"sk-container-id-5\" class=\"sk-top-container\"><div class=\"sk-text-repr-fallback\"><pre>GradientBoostingRegressor(alpha=0.95, max_depth=1, min_samples_leaf=9,\n",
       "                          min_samples_split=9, n_estimators=250)</pre><b>In a Jupyter environment, please rerun this cell to show the HTML representation or trust the notebook. <br />On GitHub, the HTML representation is unable to render, please try loading this page with nbviewer.org.</b></div><div class=\"sk-container\" hidden><div class=\"sk-item\"><div class=\"sk-estimator sk-toggleable\"><input class=\"sk-toggleable__control sk-hidden--visually\" id=\"sk-estimator-id-7\" type=\"checkbox\" checked><label for=\"sk-estimator-id-7\" class=\"sk-toggleable__label sk-toggleable__label-arrow\">GradientBoostingRegressor</label><div class=\"sk-toggleable__content\"><pre>GradientBoostingRegressor(alpha=0.95, max_depth=1, min_samples_leaf=9,\n",
       "                          min_samples_split=9, n_estimators=250)</pre></div></div></div></div></div>"
      ],
      "text/plain": [
       "GradientBoostingRegressor(alpha=0.95, max_depth=1, min_samples_leaf=9,\n",
       "                          min_samples_split=9, n_estimators=250)"
      ]
     },
     "execution_count": 14,
     "metadata": {},
     "output_type": "execute_result"
    }
   ],
   "source": [
    "from sklearn.ensemble import GradientBoostingRegressor\n",
    "\n",
    "alpha = 0.95\n",
    "#clf = GradientBoostingRegressor(loss='ls', alpha=alpha,\n",
    "clf = GradientBoostingRegressor(loss='squared_error', alpha=alpha,\n",
    "                                n_estimators=250, max_depth=1,\n",
    "                                learning_rate=.1, min_samples_leaf=9,\n",
    "                                min_samples_split=9)\n",
    "clf.fit(X, y)"
   ]
  },
  {
   "cell_type": "markdown",
   "metadata": {
    "slideshow": {
     "slide_type": "subslide"
    }
   },
   "source": [
    "We may now visualize its predictions"
   ]
  },
  {
   "cell_type": "code",
   "execution_count": 15,
   "metadata": {
    "scrolled": false,
    "slideshow": {
     "slide_type": "fragment"
    }
   },
   "outputs": [
    {
     "data": {
      "text/plain": [
       "[<matplotlib.lines.Line2D at 0x7fb71a306c10>]"
      ]
     },
     "execution_count": 15,
     "metadata": {},
     "output_type": "execute_result"
    },
    {
     "data": {
      "image/png": "[encoded data removed]",
      "text/plain": [
       "<Figure size 1200x400 with 1 Axes>"
      ]
     },
     "metadata": {},
     "output_type": "display_data"
    }
   ],
   "source": [
    "y_pred = clf.predict(xx)\n",
    "plt.plot(xx, f(xx), 'y:', label=r'$f(x) = x\\,\\sin(x)$')\n",
    "plt.plot(X, y, 'b.', markersize=10, label=u'Observations')\n",
    "plt.plot(xx, y_pred, 'g-', label=u'Prediction')"
   ]
  },
  {
   "cell_type": "markdown",
   "metadata": {
    "slideshow": {
     "slide_type": "slide"
    }
   },
   "source": [
    "# Pros and Cons of Gradient Boosting\n",
    "\n",
    "Gradient boosted decision trees (GBTs) are one of the best off-the-shelf ML algorithms that exist, often on par with deep learning.\n",
    "* Attain state-of-the-art performance. \n",
    "* Require little data pre-processing and tuning.\n",
    "* Work with any objective, including probabilistic ones.\n",
    "\n",
    "Their main limitations are:\n",
    "* GBTs don't work well with unstructured data like images, audio.\n",
    "* Implementations not as flexible as modern neural net libraries."
   ]
  },
  {
   "cell_type": "markdown",
   "metadata": {
    "slideshow": {
     "slide_type": "slide"
    }
   },
   "source": [
    "## XGBoost, a performance beast 🦖\n",
    "\n",
    "XGBoost is a highly scalable implementation of gradient boosting for decision trees. The implementation of the algorithm was engineered for efficiency of computing time and memory resources (by actually taking into account which resources are available to train the model). \n",
    "\n",
    "<center>\n",
    "<img width='50%' src='img/xgboost.png'/>\n",
    "</center>\n",
    "\n",
    "See a video of the presentation [here](https://www.youtube.com/watch?v=Vly8xGnNiWs&ab_channel=DataScience.LA)\n",
    "\n",
    "XGBoost has \"destroyed\" competition (on Kaggle and real-world cases) in tabularized datasets for regression or classification \n",
    "\n",
    "When not to use it:\n",
    "* For image, NLP tasks \n",
    "* When few data points are available\n",
    "* When # of features > # data points "
   ]
  },
  {
   "cell_type": "markdown",
   "metadata": {
    "slideshow": {
     "slide_type": "slide"
    }
   },
   "source": [
    "## Why tree-based models?\n",
    "\n",
    "<center>\n",
    "<img width='40%' src='img/boosting-regression.png'/> <br/>\n",
    "<a href=\"https://arxiv.org/abs/2207.08815\">Why do tree-based models still outperform deep learning on tabular data?</a>\n",
    "</center>\n",
    "\n",
    "Some observations from the paper:\n",
    "\n",
    "1) Neural network solutions tend to prefer smooth solutions \n",
    "<center>\n",
    "<img width='60%' src='img/boosting-electricity.png'/> <br/>\n",
    "<a href=\"https://arxiv.org/abs/2207.08815\">Why do tree-based models still outperform deep learning on tabular data?</a>\n",
    "</center>\n",
    "<br>\n",
    "\n",
    "2) Uninformative features affect more NN-based models (e.g. one experiment they tried was adding random features to the dataset and showed that there is a much sharper decline in the NNs than in the tree-based methods)."
   ]
  }
 ],
 "metadata": {
  "accelerator": "GPU",
  "celltoolbar": "Slideshow",
  "colab": {
   "collapsed_sections": [],
   "name": "neural-ode.ipynb",
   "provenance": []
  },
  "kernelspec": {
   "display_name": "Python 3 (ipykernel)",
   "language": "python",
   "name": "python3"
  },
  "language_info": {
   "codemirror_mode": {
    "name": "ipython",
    "version": 3
   },
   "file_extension": ".py",
   "mimetype": "text/x-python",
   "name": "python",
   "nbconvert_exporter": "python",
   "pygments_lexer": "ipython3",
   "version": "3.8.3"
  },
  "rise": {
   "enable_chalkboard": true
  }
 },
 "nbformat": 4,
 "nbformat_minor": 1
}
