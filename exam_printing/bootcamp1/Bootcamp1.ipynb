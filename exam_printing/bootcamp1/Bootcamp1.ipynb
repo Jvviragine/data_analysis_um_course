{
 "cells": [
  {
   "cell_type": "markdown",
   "metadata": {},
   "source": [
    "Add your information below and submit the file via canvas (till the end of the day) to claim points for participation.\n",
    "\n",
    "Names:\n",
    "\n",
    "Group number:\n",
    "\n",
    "Collaborators:"
   ]
  },
  {
   "cell_type": "markdown",
   "metadata": {},
   "source": [
    "# Part 1: Describing Data\n",
    "\n",
    "### What do you find in this part?\n",
    "\n",
    "In this bootcamp, first, you will familiarize yourself with the Python libraries 'statsmodels' and 'SciPy' that let you do statistical analysis: calculate descriptive statistics, sample datapoints, study relationships between variables and perform hypothesis testing. Then, second, you will work (in groups) on a set of exercises that will let you practice your skills.\n",
    "\n",
    "Here we show a couple of examples of how to do common analyses, but there are many more useful probability distributions and statistical tests. In the linked documentation, you will find complete information, and a lot more details compared to what is outlined in this notebook:\n",
    "- [statsmodels](https://www.statsmodels.org/stable/examples/index.html), [more complete documentation](https://www.statsmodels.org/stable/stats.html)\n",
    "- [SciPy](https://docs.scipy.org/doc/scipy/reference/stats.html)"
   ]
  },
  {
   "cell_type": "markdown",
   "metadata": {},
   "source": [
    "## B1.1 Tutorial: How to use the libraries\n",
    "\n",
    "- You will be working with the full US 2015 census dataset (acs2015_county_data.csv, available at https://www.kaggle.com/muonneutrino/us-census-demographic-data#acs2015_county_data.csv). Here we load it. Take some time to familiarize yourself with the contents. One row represents one county."
   ]
  },
  {
   "cell_type": "code",
   "execution_count": 1,
   "metadata": {
    "tags": []
   },
   "outputs": [],
   "source": [
    "import pandas as pd\n",
    "import pandas as pd\n",
    "import numpy as np\n",
    "import matplotlib.pyplot as plt\n",
    "%matplotlib inline\n",
    "import seaborn as sns\n",
    "import math\n",
    "\n",
    "#load the statistical libraries\n",
    "from statsmodels.stats import diagnostic\n",
    "from scipy import stats"
   ]
  },
  {
   "cell_type": "code",
   "execution_count": 2,
   "metadata": {
    "tags": []
   },
   "outputs": [],
   "source": [
    "data_folder = './data/'\n",
    "df = pd.read_csv(data_folder + 'acs2015_county_data.csv')"
   ]
  },
  {
   "cell_type": "code",
   "execution_count": 3,
   "metadata": {},
   "outputs": [
    {
     "data": {
      "text/plain": [
       "Index(['CensusId', 'State', 'County', 'TotalPop', 'Men', 'Women', 'Hispanic',\n",
       "       'White', 'Black', 'Native', 'Asian', 'Pacific', 'Citizen', 'Income',\n",
       "       'IncomeErr', 'IncomePerCap', 'IncomePerCapErr', 'Poverty',\n",
       "       'ChildPoverty', 'Professional', 'Service', 'Office', 'Construction',\n",
       "       'Production', 'Drive', 'Carpool', 'Transit', 'Walk', 'OtherTransp',\n",
       "       'WorkAtHome', 'MeanCommute', 'Employed', 'PrivateWork', 'PublicWork',\n",
       "       'SelfEmployed', 'FamilyWork', 'Unemployment'],\n",
       "      dtype='object')"
      ]
     },
     "execution_count": 3,
     "metadata": {},
     "output_type": "execute_result"
    }
   ],
   "source": [
    "df.columns"
   ]
  },
  {
   "cell_type": "code",
   "execution_count": 4,
   "metadata": {},
   "outputs": [
    {
     "data": {
      "text/html": [
       "<div>\n",
       "<style scoped>\n",
       "    .dataframe tbody tr th:only-of-type {\n",
       "        vertical-align: middle;\n",
       "    }\n",
       "\n",
       "    .dataframe tbody tr th {\n",
       "        vertical-align: top;\n",
       "    }\n",
       "\n",
       "    .dataframe thead th {\n",
       "        text-align: right;\n",
       "    }\n",
       "</style>\n",
       "<table border=\"1\" class=\"dataframe\">\n",
       "  <thead>\n",
       "    <tr style=\"text-align: right;\">\n",
       "      <th></th>\n",
       "      <th>CensusId</th>\n",
       "      <th>State</th>\n",
       "      <th>County</th>\n",
       "      <th>TotalPop</th>\n",
       "      <th>Men</th>\n",
       "      <th>Women</th>\n",
       "      <th>Hispanic</th>\n",
       "      <th>White</th>\n",
       "      <th>Black</th>\n",
       "      <th>Native</th>\n",
       "      <th>...</th>\n",
       "      <th>Walk</th>\n",
       "      <th>OtherTransp</th>\n",
       "      <th>WorkAtHome</th>\n",
       "      <th>MeanCommute</th>\n",
       "      <th>Employed</th>\n",
       "      <th>PrivateWork</th>\n",
       "      <th>PublicWork</th>\n",
       "      <th>SelfEmployed</th>\n",
       "      <th>FamilyWork</th>\n",
       "      <th>Unemployment</th>\n",
       "    </tr>\n",
       "  </thead>\n",
       "  <tbody>\n",
       "    <tr>\n",
       "      <th>2829</th>\n",
       "      <td>51019</td>\n",
       "      <td>Virginia</td>\n",
       "      <td>Bedford</td>\n",
       "      <td>76463</td>\n",
       "      <td>37567</td>\n",
       "      <td>38896</td>\n",
       "      <td>1.9</td>\n",
       "      <td>88.4</td>\n",
       "      <td>7.1</td>\n",
       "      <td>0.1</td>\n",
       "      <td>...</td>\n",
       "      <td>0.8</td>\n",
       "      <td>1.6</td>\n",
       "      <td>4.0</td>\n",
       "      <td>27.5</td>\n",
       "      <td>35756</td>\n",
       "      <td>80.5</td>\n",
       "      <td>13.8</td>\n",
       "      <td>5.5</td>\n",
       "      <td>0.2</td>\n",
       "      <td>5.8</td>\n",
       "    </tr>\n",
       "    <tr>\n",
       "      <th>1207</th>\n",
       "      <td>24031</td>\n",
       "      <td>Maryland</td>\n",
       "      <td>Montgomery</td>\n",
       "      <td>1017859</td>\n",
       "      <td>490093</td>\n",
       "      <td>527766</td>\n",
       "      <td>18.3</td>\n",
       "      <td>46.6</td>\n",
       "      <td>17.1</td>\n",
       "      <td>0.2</td>\n",
       "      <td>...</td>\n",
       "      <td>2.1</td>\n",
       "      <td>1.3</td>\n",
       "      <td>5.6</td>\n",
       "      <td>34.5</td>\n",
       "      <td>540333</td>\n",
       "      <td>71.8</td>\n",
       "      <td>21.7</td>\n",
       "      <td>6.4</td>\n",
       "      <td>0.1</td>\n",
       "      <td>6.1</td>\n",
       "    </tr>\n",
       "    <tr>\n",
       "      <th>1165</th>\n",
       "      <td>22105</td>\n",
       "      <td>Louisiana</td>\n",
       "      <td>Tangipahoa</td>\n",
       "      <td>125486</td>\n",
       "      <td>60890</td>\n",
       "      <td>64596</td>\n",
       "      <td>3.8</td>\n",
       "      <td>63.9</td>\n",
       "      <td>29.6</td>\n",
       "      <td>0.3</td>\n",
       "      <td>...</td>\n",
       "      <td>1.5</td>\n",
       "      <td>2.7</td>\n",
       "      <td>2.9</td>\n",
       "      <td>31.0</td>\n",
       "      <td>53685</td>\n",
       "      <td>78.8</td>\n",
       "      <td>16.3</td>\n",
       "      <td>4.9</td>\n",
       "      <td>0.0</td>\n",
       "      <td>10.7</td>\n",
       "    </tr>\n",
       "    <tr>\n",
       "      <th>1196</th>\n",
       "      <td>24009</td>\n",
       "      <td>Maryland</td>\n",
       "      <td>Calvert</td>\n",
       "      <td>90114</td>\n",
       "      <td>44495</td>\n",
       "      <td>45619</td>\n",
       "      <td>3.3</td>\n",
       "      <td>79.2</td>\n",
       "      <td>12.6</td>\n",
       "      <td>0.1</td>\n",
       "      <td>...</td>\n",
       "      <td>1.0</td>\n",
       "      <td>0.9</td>\n",
       "      <td>4.3</td>\n",
       "      <td>40.1</td>\n",
       "      <td>45249</td>\n",
       "      <td>68.4</td>\n",
       "      <td>27.5</td>\n",
       "      <td>4.0</td>\n",
       "      <td>0.1</td>\n",
       "      <td>7.6</td>\n",
       "    </tr>\n",
       "    <tr>\n",
       "      <th>1672</th>\n",
       "      <td>31037</td>\n",
       "      <td>Nebraska</td>\n",
       "      <td>Colfax</td>\n",
       "      <td>10522</td>\n",
       "      <td>5445</td>\n",
       "      <td>5077</td>\n",
       "      <td>43.1</td>\n",
       "      <td>54.2</td>\n",
       "      <td>1.6</td>\n",
       "      <td>0.1</td>\n",
       "      <td>...</td>\n",
       "      <td>6.0</td>\n",
       "      <td>3.1</td>\n",
       "      <td>4.2</td>\n",
       "      <td>16.6</td>\n",
       "      <td>5224</td>\n",
       "      <td>83.3</td>\n",
       "      <td>8.2</td>\n",
       "      <td>8.3</td>\n",
       "      <td>0.3</td>\n",
       "      <td>6.4</td>\n",
       "    </tr>\n",
       "    <tr>\n",
       "      <th>614</th>\n",
       "      <td>17039</td>\n",
       "      <td>Illinois</td>\n",
       "      <td>De Witt</td>\n",
       "      <td>16388</td>\n",
       "      <td>8251</td>\n",
       "      <td>8137</td>\n",
       "      <td>2.3</td>\n",
       "      <td>95.3</td>\n",
       "      <td>0.5</td>\n",
       "      <td>0.0</td>\n",
       "      <td>...</td>\n",
       "      <td>1.6</td>\n",
       "      <td>0.7</td>\n",
       "      <td>3.3</td>\n",
       "      <td>22.3</td>\n",
       "      <td>8066</td>\n",
       "      <td>77.0</td>\n",
       "      <td>15.7</td>\n",
       "      <td>7.3</td>\n",
       "      <td>0.0</td>\n",
       "      <td>7.7</td>\n",
       "    </tr>\n",
       "    <tr>\n",
       "      <th>2800</th>\n",
       "      <td>49047</td>\n",
       "      <td>Utah</td>\n",
       "      <td>Uintah</td>\n",
       "      <td>35721</td>\n",
       "      <td>18262</td>\n",
       "      <td>17459</td>\n",
       "      <td>8.0</td>\n",
       "      <td>82.2</td>\n",
       "      <td>0.5</td>\n",
       "      <td>7.0</td>\n",
       "      <td>...</td>\n",
       "      <td>1.8</td>\n",
       "      <td>2.1</td>\n",
       "      <td>3.5</td>\n",
       "      <td>19.3</td>\n",
       "      <td>15359</td>\n",
       "      <td>78.6</td>\n",
       "      <td>16.3</td>\n",
       "      <td>4.7</td>\n",
       "      <td>0.4</td>\n",
       "      <td>5.1</td>\n",
       "    </tr>\n",
       "    <tr>\n",
       "      <th>1514</th>\n",
       "      <td>29063</td>\n",
       "      <td>Missouri</td>\n",
       "      <td>DeKalb</td>\n",
       "      <td>12782</td>\n",
       "      <td>8080</td>\n",
       "      <td>4702</td>\n",
       "      <td>3.8</td>\n",
       "      <td>82.5</td>\n",
       "      <td>9.7</td>\n",
       "      <td>0.6</td>\n",
       "      <td>...</td>\n",
       "      <td>1.6</td>\n",
       "      <td>1.3</td>\n",
       "      <td>3.7</td>\n",
       "      <td>25.8</td>\n",
       "      <td>4285</td>\n",
       "      <td>76.1</td>\n",
       "      <td>14.8</td>\n",
       "      <td>9.0</td>\n",
       "      <td>0.1</td>\n",
       "      <td>6.8</td>\n",
       "    </tr>\n",
       "    <tr>\n",
       "      <th>1309</th>\n",
       "      <td>26157</td>\n",
       "      <td>Michigan</td>\n",
       "      <td>Tuscola</td>\n",
       "      <td>54420</td>\n",
       "      <td>27243</td>\n",
       "      <td>27177</td>\n",
       "      <td>3.2</td>\n",
       "      <td>93.8</td>\n",
       "      <td>1.1</td>\n",
       "      <td>0.3</td>\n",
       "      <td>...</td>\n",
       "      <td>2.1</td>\n",
       "      <td>0.9</td>\n",
       "      <td>3.6</td>\n",
       "      <td>29.9</td>\n",
       "      <td>23074</td>\n",
       "      <td>81.1</td>\n",
       "      <td>12.0</td>\n",
       "      <td>6.6</td>\n",
       "      <td>0.2</td>\n",
       "      <td>9.3</td>\n",
       "    </tr>\n",
       "    <tr>\n",
       "      <th>2195</th>\n",
       "      <td>40129</td>\n",
       "      <td>Oklahoma</td>\n",
       "      <td>Roger Mills</td>\n",
       "      <td>3780</td>\n",
       "      <td>1888</td>\n",
       "      <td>1892</td>\n",
       "      <td>6.5</td>\n",
       "      <td>84.9</td>\n",
       "      <td>0.1</td>\n",
       "      <td>1.8</td>\n",
       "      <td>...</td>\n",
       "      <td>3.7</td>\n",
       "      <td>0.6</td>\n",
       "      <td>9.9</td>\n",
       "      <td>24.2</td>\n",
       "      <td>1698</td>\n",
       "      <td>59.1</td>\n",
       "      <td>26.6</td>\n",
       "      <td>11.7</td>\n",
       "      <td>2.5</td>\n",
       "      <td>0.8</td>\n",
       "    </tr>\n",
       "  </tbody>\n",
       "</table>\n",
       "<p>10 rows × 37 columns</p>\n",
       "</div>"
      ],
      "text/plain": [
       "      CensusId      State       County  TotalPop     Men   Women  Hispanic  \\\n",
       "2829     51019   Virginia      Bedford     76463   37567   38896       1.9   \n",
       "1207     24031   Maryland   Montgomery   1017859  490093  527766      18.3   \n",
       "1165     22105  Louisiana   Tangipahoa    125486   60890   64596       3.8   \n",
       "1196     24009   Maryland      Calvert     90114   44495   45619       3.3   \n",
       "1672     31037   Nebraska       Colfax     10522    5445    5077      43.1   \n",
       "614      17039   Illinois      De Witt     16388    8251    8137       2.3   \n",
       "2800     49047       Utah       Uintah     35721   18262   17459       8.0   \n",
       "1514     29063   Missouri       DeKalb     12782    8080    4702       3.8   \n",
       "1309     26157   Michigan      Tuscola     54420   27243   27177       3.2   \n",
       "2195     40129   Oklahoma  Roger Mills      3780    1888    1892       6.5   \n",
       "\n",
       "      White  Black  Native  ...  Walk  OtherTransp  WorkAtHome  MeanCommute  \\\n",
       "2829   88.4    7.1     0.1  ...   0.8          1.6         4.0         27.5   \n",
       "1207   46.6   17.1     0.2  ...   2.1          1.3         5.6         34.5   \n",
       "1165   63.9   29.6     0.3  ...   1.5          2.7         2.9         31.0   \n",
       "1196   79.2   12.6     0.1  ...   1.0          0.9         4.3         40.1   \n",
       "1672   54.2    1.6     0.1  ...   6.0          3.1         4.2         16.6   \n",
       "614    95.3    0.5     0.0  ...   1.6          0.7         3.3         22.3   \n",
       "2800   82.2    0.5     7.0  ...   1.8          2.1         3.5         19.3   \n",
       "1514   82.5    9.7     0.6  ...   1.6          1.3         3.7         25.8   \n",
       "1309   93.8    1.1     0.3  ...   2.1          0.9         3.6         29.9   \n",
       "2195   84.9    0.1     1.8  ...   3.7          0.6         9.9         24.2   \n",
       "\n",
       "      Employed  PrivateWork  PublicWork  SelfEmployed  FamilyWork  \\\n",
       "2829     35756         80.5        13.8           5.5         0.2   \n",
       "1207    540333         71.8        21.7           6.4         0.1   \n",
       "1165     53685         78.8        16.3           4.9         0.0   \n",
       "1196     45249         68.4        27.5           4.0         0.1   \n",
       "1672      5224         83.3         8.2           8.3         0.3   \n",
       "614       8066         77.0        15.7           7.3         0.0   \n",
       "2800     15359         78.6        16.3           4.7         0.4   \n",
       "1514      4285         76.1        14.8           9.0         0.1   \n",
       "1309     23074         81.1        12.0           6.6         0.2   \n",
       "2195      1698         59.1        26.6          11.7         2.5   \n",
       "\n",
       "      Unemployment  \n",
       "2829           5.8  \n",
       "1207           6.1  \n",
       "1165          10.7  \n",
       "1196           7.6  \n",
       "1672           6.4  \n",
       "614            7.7  \n",
       "2800           5.1  \n",
       "1514           6.8  \n",
       "1309           9.3  \n",
       "2195           0.8  \n",
       "\n",
       "[10 rows x 37 columns]"
      ]
     },
     "execution_count": 4,
     "metadata": {},
     "output_type": "execute_result"
    }
   ],
   "source": [
    "df.sample(10)"
   ]
  },
  {
   "cell_type": "markdown",
   "metadata": {},
   "source": [
    "- We will focus first on income per capita across counties."
   ]
  },
  {
   "cell_type": "code",
   "execution_count": 23,
   "metadata": {
    "scrolled": false
   },
   "outputs": [
    {
     "data": {
      "text/plain": [
       "<Axes: >"
      ]
     },
     "execution_count": 23,
     "metadata": {},
     "output_type": "execute_result"
    },
    {
     "data": {
      "image/png": "[encoded data removed]",
      "text/plain": [
       "<Figure size 432x288 with 1 Axes>"
      ]
     },
     "metadata": {
      "needs_background": "light"
     },
     "output_type": "display_data"
    }
   ],
   "source": [
    "df['IncomePerCap'].hist(bins=55)"
   ]
  },
  {
   "cell_type": "markdown",
   "metadata": {},
   "source": [
    "### 1. Calculating descriptive statisctics\n",
    "\n",
    "- Let's calculate basic descriptive statistics of the income per capita."
   ]
  },
  {
   "cell_type": "code",
   "execution_count": 11,
   "metadata": {},
   "outputs": [
    {
     "data": {
      "text/plain": [
       "count     3220.000000\n",
       "mean     23981.771739\n",
       "std       6204.339960\n",
       "min       5878.000000\n",
       "25%      20238.500000\n",
       "50%      23460.000000\n",
       "75%      27053.250000\n",
       "max      65600.000000\n",
       "Name: IncomePerCap, dtype: float64"
      ]
     },
     "execution_count": 11,
     "metadata": {},
     "output_type": "execute_result"
    }
   ],
   "source": [
    "df['IncomePerCap'].describe()"
   ]
  },
  {
   "cell_type": "markdown",
   "metadata": {},
   "source": [
    "- What distribution does the data come from? Here is how we can test the goodness of the fit."
   ]
  },
  {
   "cell_type": "code",
   "execution_count": 24,
   "metadata": {},
   "outputs": [
    {
     "data": {
      "text/plain": [
       "(0.0637621121184162, 0.0009999999999998899)"
      ]
     },
     "execution_count": 24,
     "metadata": {},
     "output_type": "execute_result"
    }
   ],
   "source": [
    "# does the data come from a normal distrbution?\n",
    "# if needed check the documentation of diagnostic \n",
    "# https://www.statsmodels.org/stable/generated/statsmodels.stats.diagnostic.kstest_normal.html\n",
    "diagnostic.kstest_normal(df['IncomePerCap'].values, dist = 'norm')"
   ]
  },
  {
   "cell_type": "markdown",
   "metadata": {},
   "source": [
    "- p_value < 0.05 -> we can reject the null hypothesis that the data comes from a normal distribution!"
   ]
  },
  {
   "cell_type": "code",
   "execution_count": 25,
   "metadata": {},
   "outputs": [
    {
     "data": {
      "text/plain": [
       "(0.433243770582646, 0.0009999999999998899)"
      ]
     },
     "execution_count": 25,
     "metadata": {},
     "output_type": "execute_result"
    }
   ],
   "source": [
    "#how about exponential?\n",
    "diagnostic.kstest_normal(df['IncomePerCap'].values, dist = 'exp')"
   ]
  },
  {
   "cell_type": "markdown",
   "metadata": {},
   "source": [
    "- p < 0.05 -> not exponential either!"
   ]
  },
  {
   "cell_type": "markdown",
   "metadata": {},
   "source": [
    "### 2. How to sample the data"
   ]
  },
  {
   "cell_type": "markdown",
   "metadata": {},
   "source": [
    "- Often we need to find random samples from the dataset. We can do so conveniently with pandas wrappers."
   ]
  },
  {
   "cell_type": "code",
   "execution_count": 26,
   "metadata": {},
   "outputs": [],
   "source": [
    "#make 10 samples with replacement\n",
    "sample1_counties = df.sample(n = 10, replace = True)\n",
    "\n",
    "#make 10 samples without replacement\n",
    "sample1_counties = df.sample(n = 10, replace = False)\n",
    "\n",
    "#sometimes we want to sample in an ublanaced way, so that we upsample datapoints of certain characteristic,\n",
    "#and downsample the others. this can be acieved with weights parameter\n",
    "#here we sample by upsampling counties with large population\n",
    "sample2_counties = df.sample(n = 10, replace = False, weights = df['TotalPop'])"
   ]
  },
  {
   "cell_type": "code",
   "execution_count": 27,
   "metadata": {},
   "outputs": [
    {
     "name": "stdout",
     "output_type": "stream",
     "text": [
      "235504.8\n",
      "750776.7\n"
     ]
    }
   ],
   "source": [
    "#on avergage, the samples in the sample produce with reveighting now have higher population, as we wanted!\n",
    "print(sample1_counties['TotalPop'].mean())\n",
    "print(sample2_counties['TotalPop'].mean())"
   ]
  },
  {
   "cell_type": "markdown",
   "metadata": {},
   "source": [
    "### 3. Examining relationship between two variables"
   ]
  },
  {
   "cell_type": "markdown",
   "metadata": {},
   "source": [
    "- Is income per capita of a county correlated with the unemployment?"
   ]
  },
  {
   "cell_type": "code",
   "execution_count": 28,
   "metadata": {},
   "outputs": [
    {
     "data": {
      "text/plain": [
       "PearsonRResult(statistic=0.26461363203944877, pvalue=9.942215354238633e-53)"
      ]
     },
     "execution_count": 28,
     "metadata": {},
     "output_type": "execute_result"
    }
   ],
   "source": [
    "stats.pearsonr(df['IncomePerCap'],df['Employed'])"
   ]
  },
  {
   "cell_type": "markdown",
   "metadata": {},
   "source": [
    "- There is a small (0.26), but significant (p < 0.05) positive correlation."
   ]
  },
  {
   "cell_type": "code",
   "execution_count": 29,
   "metadata": {},
   "outputs": [
    {
     "data": {
      "text/plain": [
       "SignificanceResult(statistic=0.30770631560595474, pvalue=1.415296431173735e-71)"
      ]
     },
     "execution_count": 29,
     "metadata": {},
     "output_type": "execute_result"
    }
   ],
   "source": [
    "stats.spearmanr(df['IncomePerCap'],df['Employed'])"
   ]
  },
  {
   "cell_type": "markdown",
   "metadata": {},
   "source": [
    "- Spearman rank coorrelation is also significant.\n",
    "\n",
    "Check the differences between the two correlations [here](https://www.theiotacademy.co/blog/pearson-vs-spearman-correlation/)"
   ]
  },
  {
   "cell_type": "markdown",
   "metadata": {},
   "source": [
    "### 4. Hypothesis testing"
   ]
  },
  {
   "cell_type": "markdown",
   "metadata": {},
   "source": [
    "- Is income per capita higher in New York counties compared to California counties?"
   ]
  },
  {
   "cell_type": "code",
   "execution_count": 31,
   "metadata": {},
   "outputs": [
    {
     "data": {
      "text/plain": [
       "28189.75806451613"
      ]
     },
     "execution_count": 31,
     "metadata": {},
     "output_type": "execute_result"
    }
   ],
   "source": [
    "df.loc[df['State'] == 'New York']['IncomePerCap'].mean()"
   ]
  },
  {
   "cell_type": "code",
   "execution_count": 32,
   "metadata": {},
   "outputs": [
    {
     "data": {
      "text/plain": [
       "27902.603448275862"
      ]
     },
     "execution_count": 32,
     "metadata": {},
     "output_type": "execute_result"
    }
   ],
   "source": [
    "df.loc[df['State'] == 'California']['IncomePerCap'].mean()"
   ]
  },
  {
   "cell_type": "markdown",
   "metadata": {},
   "source": [
    "- We see that there is a ~300$ gap. Quite a lot!\n",
    "- But is it significantly higher? Let's use a t-test. This is a two-sided test for the null hypothesis that the two independent samples have identical average (expected) values. "
   ]
  },
  {
   "cell_type": "code",
   "execution_count": 33,
   "metadata": {},
   "outputs": [
    {
     "data": {
      "text/plain": [
       "Ttest_indResult(statistic=0.19788117232375713, pvalue=0.8434785239169611)"
      ]
     },
     "execution_count": 33,
     "metadata": {},
     "output_type": "execute_result"
    }
   ],
   "source": [
    "stats.ttest_ind(df.loc[df['State'] == 'New York']['IncomePerCap'], df.loc[df['State'] == 'California']['IncomePerCap'])"
   ]
  },
  {
   "cell_type": "markdown",
   "metadata": {},
   "source": [
    "- p is not smaller than 0.05 -> we cannot reject the null hypothesis that the income is the same -> there is no significant difference"
   ]
  },
  {
   "cell_type": "markdown",
   "metadata": {},
   "source": [
    "### 5. How to measure uncertainty\n",
    "- Now we see the importance of mesuring uncertainty and indicating it on data visualizations.\n",
    "- Visual inspection of 95% confidence intervals lets us see that the difference is not significant (the errorbars are overlapping)."
   ]
  },
  {
   "cell_type": "code",
   "execution_count": 34,
   "metadata": {},
   "outputs": [
    {
     "data": {
      "text/plain": [
       "(25000.0, 32000.0)"
      ]
     },
     "execution_count": 34,
     "metadata": {},
     "output_type": "execute_result"
    },
    {
     "data": {
      "image/png": "[encoded data removed]",
      "text/plain": [
       "<Figure size 432x288 with 1 Axes>"
      ]
     },
     "metadata": {
      "needs_background": "light"
     },
     "output_type": "display_data"
    }
   ],
   "source": [
    "ax = sns.barplot(x=\"State\", y=\"IncomePerCap\", data=df.loc[df['State'].isin(['New York','California'])])\n",
    "plt.ylim([25000,32000])"
   ]
  },
  {
   "cell_type": "markdown",
   "metadata": {},
   "source": [
    "## B1.2: Boosting the economy by incentivizing self-employment\n",
    "\n",
    "Assume the biggest priority of the local government in 2018 is to increase per-capita income. To do so, the officials plan to adopt a strategy for incentivizing self-employment through a series of campaigns, educational programs, and dedicated funds.\n",
    "\n",
    "Since in 2025 it is still unethical (and perhaps impossible?) in this setting to run a controlled experiment involving citizens (e.g. fire employees and force them to self-employ), the officials have asked you, the data scientist, to establish the effect of self-employment on the economy, relying on observational data.\n",
    "\n",
    "**A)** Using suitable methods, determine and quantify the dependency between the percentage of self-employed citizens and per capita income across all 3,212 US counties. Do citizens in counties that have a higher percentage of self-employed people earn more per capita?"
   ]
  },
  {
   "cell_type": "code",
   "execution_count": 35,
   "metadata": {},
   "outputs": [],
   "source": [
    "### your code and or answer here ###\n",
    "### start with a scatterplot and make sure it's properly labeled"
   ]
  },
  {
   "cell_type": "markdown",
   "metadata": {},
   "source": [
    "**B)** The pilot program will involve all counties within a limited set of three US states. Set A includes Wisconsin, Tennessee, and  Minnesota. Quantify the dependency of per-capita income on self-employment rates across all the counties in set A."
   ]
  },
  {
   "cell_type": "code",
   "execution_count": 37,
   "metadata": {},
   "outputs": [],
   "source": [
    "### your code and or answer here ###\n",
    "### query might be helpful (see here: https://pandas.pydata.org/pandas-docs/stable/reference/api/pandas.DataFrame.query.html)"
   ]
  },
  {
   "cell_type": "markdown",
   "metadata": {},
   "source": [
    "**C)** In which state within set A is the observed effect of self-employment on per-capita income the strongest?"
   ]
  },
  {
   "cell_type": "code",
   "execution_count": 38,
   "metadata": {},
   "outputs": [],
   "source": [
    "### your code and or answer here ###\n",
    "### use hue as \"extra\" variable in the scatterplot."
   ]
  },
  {
   "cell_type": "markdown",
   "metadata": {},
   "source": [
    "**D)** Set B includes New Jersey, Kansas, and Rhode Island. Repeat the analysis from steps B and C above, but now for set B. In which of the two sets A and B (if any) would you recommend incentivizing self-employment? Explain your reasoning. Hint: It is useful to add a notion of confidence to your results and explore the data visually."
   ]
  },
  {
   "cell_type": "code",
   "execution_count": 39,
   "metadata": {},
   "outputs": [],
   "source": [
    "### your code and or answer here ###"
   ]
  },
  {
   "cell_type": "markdown",
   "metadata": {},
   "source": [
    "# Part 2: Becoming a DataVizard exercise \n",
    "\n",
    "This part is about data visualization! You will use common python libraries, Matplotlib and Seaborn to create effective and clear visualizations. You will work with a dataset containing information about the top ten grossing movies in each year. \n",
    "\n",
    "These are the visualizations we will make, and that you will use to solve the exercise:\n",
    "- [Histogram](https://matplotlib.org/3.3.1/api/_as_gen/matplotlib.pyplot.hist.html)\n",
    "- [Boxplot](https://matplotlib.org/api/_as_gen/matplotlib.pyplot.boxplot.html)\n",
    "- [Scatterplot](https://matplotlib.org/api/_as_gen/matplotlib.pyplot.scatter.html)\n",
    "- [Plot](https://matplotlib.org/api/_as_gen/matplotlib.pyplot.plot.html)\n",
    "- [Jointplot](https://seaborn.pydata.org/generated/seaborn.jointplot.html)\n",
    "- [Barplot](https://seaborn.pydata.org/generated/seaborn.barplot.html)\n",
    "- [Violinplot](https://seaborn.pydata.org/generated/seaborn.violinplot.html)\n",
    "- [Errorbar](https://matplotlib.org/3.1.1/api/_as_gen/matplotlib.pyplot.errorbar.html)\n",
    "- [Filled plot](https://matplotlib.org/api/_as_gen/matplotlib.pyplot.fill_between.html)\n",
    "- [Panels](https://matplotlib.org/api/_as_gen/matplotlib.pyplot.subplots.html)\n",
    "- [Heatmap](https://seaborn.pydata.org/generated/seaborn.heatmap.html)\n",
    "- [Log-log](https://matplotlib.org/3.1.1/api/_as_gen/matplotlib.pyplot.loglog.html)\n",
    "\n",
    "In the linked documentation, you will find complete information, and a lot more details compared to what is outlined in this notebook. We will make simple visualizations, but you will notice that all of the visualizations consider many optional parameters. You are encouraged to explore them, and modify them to make the most efficient visualizations and match your desired style. As we discussed in class, the default visualizations are not necessarily the most efficient, so make sure to play around and find the optimal ones.\n",
    "\n",
    "Beyond Matplotlib and Seaborn, there are many more resources that might be useful for you, for example:\n",
    "- [ggplot](http://ggplot.yhathq.com/)\n",
    "- [plotly](https://plotly.com/python/)\n",
    "- [Geopy](https://geopy.readthedocs.io/en/stable/) and [Folium](https://python-visualization.github.io/folium/)\n",
    "\n",
    "Create your custom signature colorpalettes:\n",
    "- [coolors](https://coolors.co/)"
   ]
  },
  {
   "cell_type": "code",
   "execution_count": null,
   "metadata": {},
   "outputs": [],
   "source": [
    "# Let's load necessary libraries and the datasets\n",
    "# \"pip install seaborn\" if necessary\n",
    "\n",
    "import pandas as pd\n",
    "import numpy as np\n",
    "import matplotlib.pyplot as plt\n",
    "%matplotlib inline\n",
    "import seaborn as sns\n",
    "import math\n",
    "\n",
    "data_folder = './Data/'\n",
    "\n",
    "\n",
    "movies = pd.read_csv(data_folder+'blockbusters.csv')\n",
    "movies['worldwide_gross'] = movies['worldwide_gross'].str.replace('$', '', regex=False).str.replace(',', '', regex=False).astype(float)"
   ]
  },
  {
   "cell_type": "markdown",
   "metadata": {},
   "source": [
    "## B2.1 Tutorial: Using data visualization libraries"
   ]
  },
  {
   "cell_type": "markdown",
   "metadata": {},
   "source": [
    "We will use the blockbusters dataset. Summary of the features:\n",
    "- *Main_Genre*: the primary genre of the movie\n",
    "- *Genre_2*\n",
    "- *Genre_3*\n",
    "- *imdb_rating*\n",
    "- *length*: movie length in minutes\n",
    "- *rank_in_year*: rank among the top 10 movies released that year\n",
    "- *rating*: audience rating\n",
    "- *studio*: the studio that produced the movie\n",
    "- *title*: movie title\n",
    "- *worldwide_gross*: total worldwide revenue in dollars\n",
    "- *year*: year of release\n"
   ]
  },
  {
   "cell_type": "markdown",
   "metadata": {},
   "source": [
    "## Visualizing a single variable\n",
    "\n",
    "- First we will see how to visualize a single variable using matplotlib library. Let's focus on \"Worldwide gross revenue\" column of the dataframe and inspect the distribution, using histogram and boxplot.\n",
    "- Notice the use of  plt.xlabel(), plt.ylabel(), plt.title() - every visualization should have axis labeled, and a title!\n",
    "- plt.hist() takes a couple of important arguments: bins - the number of bins, and range - the range of values considered in the histogram."
   ]
  },
  {
   "cell_type": "code",
   "execution_count": null,
   "metadata": {},
   "outputs": [],
   "source": [
    "#we use pandas wrapper\n",
    "movies['worldwide_gross'].hist(bins = 100)\n",
    "\n",
    "#alternatively, we can use matplotlib directly\n",
    "#plt.hist(movies['worldwide_gross'].values, bins = 100)\n",
    "\n",
    "plt.xlabel('Worldwide gross revenue')\n",
    "plt.ylabel('Number of movies')\n",
    "plt.title('Gross revenue, histogram');"
   ]
  },
  {
   "cell_type": "code",
   "execution_count": null,
   "metadata": {},
   "outputs": [],
   "source": [
    "plt.boxplot(movies['worldwide_gross'])\n",
    "plt.xticks([])\n",
    "plt.title('Worldwide gross revenue');"
   ]
  },
  {
   "cell_type": "markdown",
   "metadata": {},
   "source": [
    "## Visualizing two continuous variables\n",
    "\n",
    "- Let's see if blockbusters with higher ratings also make more revenue!\n",
    "- There are many ways how a relationship between two variables can be examined. The simplest one is a scatterplot, using plt.scatterplot()."
   ]
  },
  {
   "cell_type": "code",
   "execution_count": null,
   "metadata": {},
   "outputs": [],
   "source": [
    "plt.scatter(movies['worldwide_gross'], movies['imdb_rating'])\n",
    "\n",
    "plt.xlabel('Worldwide gross revenue')\n",
    "plt.ylabel('IMDB rating')"
   ]
  },
  {
   "cell_type": "markdown",
   "metadata": {},
   "source": [
    "- Visually examining the plot, how do you interpret the relationship between revenue and IMDB rating?\n",
    "- Markers indicatig the datapoints seem too large, and we cannot get a sense of the distribution in the area of the plot where the markers are overlapping.\n",
    "- We'll try to make the markers smaller by specifying a small \"s\" size parameter."
   ]
  },
  {
   "cell_type": "code",
   "execution_count": null,
   "metadata": {},
   "outputs": [],
   "source": [
    "plt.scatter(movies['worldwide_gross'], movies['imdb_rating'], s = 2)\n",
    "\n",
    "plt.xlabel('Worldwide gross revenue')\n",
    "plt.ylabel('IMDB rating')"
   ]
  },
  {
   "cell_type": "markdown",
   "metadata": {},
   "source": [
    "- Do you notice anything strange? What could be the reason?"
   ]
  },
  {
   "cell_type": "markdown",
   "metadata": {},
   "source": [
    "Scatterplots are not useful when the number of datapoints is very large, as it becomes hard to interpret it. Seaborn library offers many alternative effective ways of visualizing join distributions. "
   ]
  },
  {
   "cell_type": "code",
   "execution_count": null,
   "metadata": {},
   "outputs": [],
   "source": [
    "sns.jointplot(x=movies['worldwide_gross'], y=movies['imdb_rating'], kind=\"hex\")"
   ]
  },
  {
   "cell_type": "code",
   "execution_count": null,
   "metadata": {},
   "outputs": [],
   "source": [
    "sns.jointplot(data = movies, x = 'worldwide_gross', y = 'imdb_rating', kind=\"kde\")\n"
   ]
  },
  {
   "cell_type": "code",
   "execution_count": null,
   "metadata": {},
   "outputs": [],
   "source": [
    "sns.jointplot(data = movies, x = 'worldwide_gross', y = 'imdb_rating', kind=\"reg\")"
   ]
  },
  {
   "cell_type": "markdown",
   "metadata": {},
   "source": [
    "## Visualizing two variables, continuous and categorical\n",
    "\n",
    "- Let's consider the five most prevalent genres, and examine the revenue.\n",
    "- We'll show barplot (we get errorbars by default, how neat!), boxplot, and violinplot. Seaborn offers many more compelling visualizations. We will stop here, but see the gallery for more examples: https://seaborn.pydata.org/examples/index.html"
   ]
  },
  {
   "cell_type": "code",
   "execution_count": null,
   "metadata": {},
   "outputs": [],
   "source": [
    "ax = sns.barplot(x=\"Main_Genre\", y=\"worldwide_gross\", data=movies.loc[movies['Main_Genre'].isin(['Thriller','Comedy',\n",
    "                                                                                      'Fantasy','Sci-Fi','Romance'])])"
   ]
  },
  {
   "cell_type": "code",
   "execution_count": null,
   "metadata": {},
   "outputs": [],
   "source": [
    "ax = sns.boxplot(x=\"Main_Genre\", y=\"worldwide_gross\", data=movies.loc[movies['Main_Genre'].isin(['Thriller','Comedy',\n",
    "                                                                                      'Fantasy','Sci-Fi','Romance'])])"
   ]
  },
  {
   "cell_type": "code",
   "execution_count": null,
   "metadata": {},
   "outputs": [],
   "source": [
    "ax = sns.violinplot(x=\"Main_Genre\", y=\"worldwide_gross\", data=movies.loc[movies['Main_Genre'].isin(['Thriller','Comedy',\n",
    "                                                                                      'Fantasy','Sci-Fi','Romance'])])"
   ]
  },
  {
   "cell_type": "markdown",
   "metadata": {},
   "source": [
    "## B2.2 Exercises: Making more advanced visualizations\n",
    "\n",
    "\n",
    "To make a good data visualization, we first need a clear idea of what we want to visualize! Do we aggregate the data, and how? What quantity should be on the different axis? How to use colors and item sizes? It often helps to sketch the visualization by hand before coding it up. By doing that, we can also give ourselves a moment to speculate what the visualization could look like under different hypotheses.\n",
    "\n",
    "In the next three excercises, you are provided with descriptions and rough sketches of visualizations that are possibly useful to understand the movies dataset.\n",
    "\n",
    "\n",
    "### 1. Visualizing uncertainty\n",
    "\n",
    "- How did the average revenue of blockbusters evolve? Visualize the average yearly worldwide gross revenue, together with the standard deviation. Below, you are provided with two rough sketches of how the visualization could look like. We could indicate the margin of error with lines with caps, or by contouring between the upper and lower bound.\n",
    "\n",
    "- Hints: use Matplotlib errorbar and fill_between functions.\n",
    "\n",
    "- Did the average revenue increase/decrease over time? What do you observe?\n",
    "\n",
    "\n",
    "<img src=\"figure0.jpg\" style=\"width: 400px;\" align=\"left\" />\n",
    "<img src=\"figure1.jpg\" style=\"width: 400px;\" align=\"left\"/>\n",
    "\n",
    "\n",
    "<br>\n"
   ]
  },
  {
   "cell_type": "code",
   "execution_count": 41,
   "metadata": {
    "tags": []
   },
   "outputs": [],
   "source": [
    "# Calculate yearly stats across movies here\n",
    "# groupby and apply might be useful here."
   ]
  },
  {
   "cell_type": "code",
   "execution_count": 43,
   "metadata": {
    "tags": []
   },
   "outputs": [],
   "source": [
    "# Write your code to make plot with errorbars here\n",
    "# use plt.errorbar"
   ]
  },
  {
   "cell_type": "code",
   "execution_count": null,
   "metadata": {
    "tags": []
   },
   "outputs": [],
   "source": [
    "# Write your code to make filled plot here"
   ]
  },
  {
   "cell_type": "code",
   "execution_count": null,
   "metadata": {
    "tags": []
   },
   "outputs": [],
   "source": [
    "# Write your interpretation here"
   ]
  },
  {
   "cell_type": "markdown",
   "metadata": {},
   "source": [
    "### 2. Creating panels\n",
    "\n",
    "- Next, we want to understand how long the blockbusters are in the different genres. When working with a large number of categories (we have 16 genres in the movies dataset), the visualizations easily become cluttered, and it becomes useful to make panels with small subplots.\n",
    "\n",
    "- Make a 4x4 panel for the 16 genres. In each subplot, show a histogram with the distribution of movie lengths for different categories. Below, find a sketch of how this visualization could look like. Note the same x- and y-scale that allows comparison between categories!\n",
    "\n",
    "- Hints: use Matplotlib subplots function to initialize the subplotting axes.\n",
    "\n",
    "- What genres do the longest movies belong too? What can you say about the length of Comedy and animation movies?\n",
    "\n",
    "- How could we assign different color to each subplot (each genre)? What type of palette would be the best choice? Make a variation of the visualzation where each genre is visualized in a different color.\n",
    "\n",
    "<img src=\"figure3.jpg\" style=\"width: 500px;\" align=\"left\">"
   ]
  },
  {
   "cell_type": "code",
   "execution_count": null,
   "metadata": {
    "tags": []
   },
   "outputs": [],
   "source": [
    "# Calculate stats by genre here"
   ]
  },
  {
   "cell_type": "code",
   "execution_count": null,
   "metadata": {
    "tags": []
   },
   "outputs": [],
   "source": [
    "# Write your code to make 4x4 panel here"
   ]
  },
  {
   "cell_type": "code",
   "execution_count": null,
   "metadata": {
    "tags": []
   },
   "outputs": [],
   "source": [
    "# Write your interpretation here"
   ]
  },
  {
   "cell_type": "markdown",
   "metadata": {},
   "source": [
    "### 3. Heatmaps\n",
    "\n",
    "- What studios make blockbusters in which genre? \n",
    "\n",
    "- There are many studios and many genres. When working with two variables that both have many different categories, there is often no space for representing each combination of two categories with a detailed plot (such as barplot of boxplot). It becomes useful to represent each stratum with one number, indicated with color in a heatmap. Such visualizations are useful to quickly understand the data.\n",
    "\n",
    "- Visualize the number of blockbusters made by each studio, of each genre. You will find below a rough sketch. Hint: use Seaborn heatmap function. \n",
    "\n",
    "- Finally, with a heatmap we can represent three variables, by coding a third variable with color. Try to understand what is the relationship between genres by understanding the co-occurence patterns between the main and secondary genre. What is the average worldwide gross revenue for movies with different combinations of main and second genre?\n",
    "\n",
    "- You should be able to easily answer the following questions from the two visualizations: What genres do the majority of movies made by Warner Bros studio fall into? What is the most successful genre of Walt Disney pictures movies? What studio made the largest number of Romance blockbusters? Which combination of genres brings the highest revenue?\n",
    "\n",
    "\n",
    "\n",
    "<img src=\"figure4.jpg\" style=\"width: 500px;\" align=\"left\">"
   ]
  },
  {
   "cell_type": "code",
   "execution_count": 45,
   "metadata": {
    "tags": []
   },
   "outputs": [],
   "source": [
    "# Write your code to make the first heatmap here\n",
    "# crosstab might be useful here"
   ]
  },
  {
   "cell_type": "code",
   "execution_count": null,
   "metadata": {
    "tags": []
   },
   "outputs": [],
   "source": [
    "# Write your code to make the second heatmap here"
   ]
  },
  {
   "cell_type": "code",
   "execution_count": null,
   "metadata": {
    "tags": []
   },
   "outputs": [],
   "source": [
    "# Write your interpretations here"
   ]
  },
  {
   "cell_type": "markdown",
   "metadata": {},
   "source": [
    "### 4. Be a show-off\n",
    "\n",
    "Finally, we did not explore the impact of the rank of the movie among the top ten. How is the rank among the top ten related to the genres? What kind of visualization can be suitable to understand this better? To practice your data viz skills, sketch a potential visualization on a piece of paper, and then implement it using the appropriate type of visualization."
   ]
  },
  {
   "cell_type": "code",
   "execution_count": null,
   "metadata": {
    "tags": []
   },
   "outputs": [],
   "source": [
    "# Write your dataviz show-off code here"
   ]
  }
 ],
 "metadata": {
  "kernelspec": {
   "display_name": "Python 3",
   "language": "python",
   "name": "python3"
  },
  "language_info": {
   "codemirror_mode": {
    "name": "ipython",
    "version": 3
   },
   "file_extension": ".py",
   "mimetype": "text/x-python",
   "name": "python",
   "nbconvert_exporter": "python",
   "pygments_lexer": "ipython3",
   "version": "3.8.3"
  },
  "varInspector": {
   "cols": {
    "lenName": 16,
    "lenType": 16,
    "lenVar": 40
   },
   "kernels_config": {
    "python": {
     "delete_cmd_postfix": "",
     "delete_cmd_prefix": "del ",
     "library": "var_list.py",
     "varRefreshCmd": "print(var_dic_list())"
    },
    "r": {
     "delete_cmd_postfix": ") ",
     "delete_cmd_prefix": "rm(",
     "library": "var_list.r",
     "varRefreshCmd": "cat(var_dic_list()) "
    }
   },
   "types_to_exclude": [
    "module",
    "function",
    "builtin_function_or_method",
    "instance",
    "_Feature"
   ],
   "window_display": false
  }
 },
 "nbformat": 4,
 "nbformat_minor": 4
}
