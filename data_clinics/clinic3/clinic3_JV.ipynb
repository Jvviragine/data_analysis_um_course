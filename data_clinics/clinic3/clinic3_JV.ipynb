{
 "cells": [
  {
   "cell_type": "markdown",
   "metadata": {},
   "source": [
    "(Placeholder for your group #)\n",
    "\n",
    "(Placeholder for your names)\n",
    "\n",
    "(Placeholder for your i-numbers)"
   ]
  },
  {
   "cell_type": "markdown",
   "metadata": {},
   "source": [
    "**Use of genAI tools (e.g. chatGPT), websites (e.g. stackoverflow)**: *list websites where you found code (or other info) as well as include information on how you used genAI tools*"
   ]
  },
  {
   "cell_type": "markdown",
   "metadata": {},
   "source": [
    "# Data Analysis, Clinic 3"
   ]
  },
  {
   "cell_type": "markdown",
   "metadata": {},
   "source": [
    "By completing and delivering the clinic tasks you will know how to :\n",
    "\n",
    "1. Run Classification Models (Logistic Regression, Decision Trees, Random Forests, etc.) in Python\n",
    "1. Explain and tackle issues like missing values or class inbalance in your dataset\n",
    "1. Judge the results of a classification model using AUROC scores\n",
    "1. Select a proper algorithm that works well with your data using techniques like:\n",
    "    * Cross Validation\n",
    "    * Regularization\n",
    "    \n",
    "---\n",
    "### Important Dates\n",
    "\n",
    "- Clinic release: Tue, 18th Feb\n",
    "- **Clinic due**: Fri, 28th Feb late night (wildcards possible, apply to the group)\n",
    "---\n",
    "##  Some rules\n",
    "\n",
    "* For this clinic, like the previous one, we are asking you to use specific libraries that are included in the `requirements.txt`. If you use any additional library, this may complicate the grading process, and we reserve the right to penalize your grade for unnecessary complexity of the solution. All the questions can be solved with the libraries in `requirements.txt`.\n",
    "\n",
    "* Make sure that you include a proper amount/mix of comments, results and code. More specifically, be sure to provide a concise textual description of your thought process, the assumptions you made, the solution you implemented, and explanations for your answers. A notebook that only has code cells will not suffice. To avoid confusion: use short comments for longer code answers.\n",
    "\n",
    "* Back up any hypotheses and claims with data, since this is an important aspect of the course.\n",
    "\n",
    "* Please write all your comments in English, and use meaningful variable names (as possible) in your code. \n",
    "\n",
    "* In the end, make sure that all cells are executed properly and everything you need to show is in your (execucted) notebook. We will not run your notebook for you! \n",
    "\n",
    "- In continuation to the previous point, interactive plots, such as those generated using the ‘plotly’ package, should be strictly avoided! Make sure to print results and/or dataframes that confirm you have properly addressed the task.\n",
    "\n",
    "* You are asked to deliver **only your executed notebook file, .ipnyb** and nothing else. If you deliver other files, we will not grade anything.\n",
    "\n",
    "* Honor code applies to these tasks. If you are not certain about an action, consult with Jerry.\n",
    "\n",
    "**A Note from Jerry on using Language Models (LMs)**\n",
    "\n",
    "If you try hard enough, you will likely get away with cheating (that does not only apply to LMs). Fortunately, my job is not to police, but rather to educate you. So, please consider the following:\n",
    "\n",
    "I assume that you are taking this course to learn something! LMs are not always right ([they often fail in silly ways](https://community.openai.com/t/why-9-11-is-larger-than-9-9-incredible/869824/4)). This course should prepare you to detect when they are wrong!\n",
    "\n",
    "I don't restrict the use of LMs because I see the value of being helped when coding (esp. in the context of pandas dataframes nightmare :)). Based on what we saw last year in your notebooks, it's pretty clear when you \"copy\" some code and then you struggle to interpret the results. This is the essence of this course and of the skills you should try build for yourself: Many people can run fancy models these days but not many people can interpret the results correctly. Try to be the latter ones.\n"
   ]
  },
  {
   "cell_type": "markdown",
   "metadata": {},
   "source": [
    "# Context\n",
    "\n",
    "In this clinic, we will continue navigating the amazing world of modeling and explore classification models under extreme inbalance and missing values scenarios.\n",
    "\n",
    "The first part of the assignment (Questions 1-9) will help you understand the impact of inbalance and missingness in the classification performance and explore different scenarios on how to improve. Most steps are laid out for you, but you are welcome to deviate.\n",
    "\n",
    "The second part of the assignment (Question 10) is purposefully left open-ended (as in the previous clinics). In this case, you will be allowed to compare different classifiers of your choice in an effort to deal with the imbalance in the data. You can also implement some of the techniques we discussed in class about imbalances. \n",
    "\n",
    "## Score breakdown\n",
    "\n",
    "Question | Points\n",
    "--- | ---\n",
    "[Question 1](#q1) | 3\n",
    "[Question 2](#q2) | 3\n",
    "[Question 3](#q3) | 4\n",
    "[Question 4](#q4) | 4\n",
    "[Question 5](#q5) | 4\n",
    "[Question 6](#q6) | 6\n",
    "[Question 7](#q7) | 4\n",
    "[Question 8](#q8) | 8\n",
    "[Question 9](#q9) | 4\n",
    "[Question 10](#q10)| 15 \n",
    "Total | 55\n",
    "\n",
    "This score will be scaled down to 1 and that will be your final clinic score."
   ]
  },
  {
   "cell_type": "code",
   "metadata": {
    "ExecuteTime": {
     "end_time": "2025-03-03T11:38:12.740569Z",
     "start_time": "2025-03-03T11:38:12.508006Z"
    }
   },
   "source": [
    "#feel free to include additional libraries, as long as they are included in the requirements.txt\n",
    "import numpy as np\n",
    "import pandas as pd\n",
    "import matplotlib\n",
    "import matplotlib.pyplot as plt\n",
    "import statsmodels.api as sm\n",
    "from statsmodels.api import OLS\n",
    "from sklearn.decomposition import PCA\n",
    "from sklearn.linear_model import LogisticRegression\n",
    "from sklearn.linear_model import LogisticRegressionCV\n",
    "from sklearn.utils import resample\n",
    "from sklearn.model_selection import cross_val_score\n",
    "from sklearn.metrics import accuracy_score\n",
    "%matplotlib inline\n",
    "import seaborn as sns\n",
    "sns.set(context='paper')"
   ],
   "outputs": [],
   "execution_count": 1
  },
  {
   "cell_type": "markdown",
   "metadata": {},
   "source": [
    "## Part 1: Determine the Inbalance (Asymmetry)"
   ]
  },
  {
   "cell_type": "markdown",
   "metadata": {},
   "source": [
    "First, we would like to notice in our data that they are highly unbalanced (assymetric). Load the data which should contain 9 columns (`health`, `age`, `sex`, `educ`, `sexornt`, `partyid`, `race`, `married`, `income`). `Age`, `educ` (how many years of education a person has) and `income` are quantitative, the others are qualitative."
   ]
  },
  {
   "cell_type": "code",
   "metadata": {
    "ExecuteTime": {
     "end_time": "2025-03-03T11:38:12.754994Z",
     "start_time": "2025-03-03T11:38:12.746503Z"
    }
   },
   "source": [
    "gssdata=pd.read_csv(\"gssdata4.csv\")\n",
    "gssdata.head()"
   ],
   "outputs": [
    {
     "data": {
      "text/plain": [
       "      health  age     sex  educ                   sexornt partyid   race  \\\n",
       "0  excellent   53    male    16  heterosexual or straight     rep  white   \n",
       "1  excellent   26  female    16  heterosexual or straight     rep  white   \n",
       "2       good   59    male    13  heterosexual or straight     rep  white   \n",
       "3  excellent   74  female    17  heterosexual or straight   other  white   \n",
       "4       poor   37  female    10  heterosexual or straight   other  white   \n",
       "\n",
       "   married   income  \n",
       "0        1  18750.0  \n",
       "1        1  18750.0  \n",
       "2        1      NaN  \n",
       "3        1      NaN  \n",
       "4        0      NaN  "
      ],
      "text/html": [
       "<div>\n",
       "<style scoped>\n",
       "    .dataframe tbody tr th:only-of-type {\n",
       "        vertical-align: middle;\n",
       "    }\n",
       "\n",
       "    .dataframe tbody tr th {\n",
       "        vertical-align: top;\n",
       "    }\n",
       "\n",
       "    .dataframe thead th {\n",
       "        text-align: right;\n",
       "    }\n",
       "</style>\n",
       "<table border=\"1\" class=\"dataframe\">\n",
       "  <thead>\n",
       "    <tr style=\"text-align: right;\">\n",
       "      <th></th>\n",
       "      <th>health</th>\n",
       "      <th>age</th>\n",
       "      <th>sex</th>\n",
       "      <th>educ</th>\n",
       "      <th>sexornt</th>\n",
       "      <th>partyid</th>\n",
       "      <th>race</th>\n",
       "      <th>married</th>\n",
       "      <th>income</th>\n",
       "    </tr>\n",
       "  </thead>\n",
       "  <tbody>\n",
       "    <tr>\n",
       "      <th>0</th>\n",
       "      <td>excellent</td>\n",
       "      <td>53</td>\n",
       "      <td>male</td>\n",
       "      <td>16</td>\n",
       "      <td>heterosexual or straight</td>\n",
       "      <td>rep</td>\n",
       "      <td>white</td>\n",
       "      <td>1</td>\n",
       "      <td>18750.0</td>\n",
       "    </tr>\n",
       "    <tr>\n",
       "      <th>1</th>\n",
       "      <td>excellent</td>\n",
       "      <td>26</td>\n",
       "      <td>female</td>\n",
       "      <td>16</td>\n",
       "      <td>heterosexual or straight</td>\n",
       "      <td>rep</td>\n",
       "      <td>white</td>\n",
       "      <td>1</td>\n",
       "      <td>18750.0</td>\n",
       "    </tr>\n",
       "    <tr>\n",
       "      <th>2</th>\n",
       "      <td>good</td>\n",
       "      <td>59</td>\n",
       "      <td>male</td>\n",
       "      <td>13</td>\n",
       "      <td>heterosexual or straight</td>\n",
       "      <td>rep</td>\n",
       "      <td>white</td>\n",
       "      <td>1</td>\n",
       "      <td>NaN</td>\n",
       "    </tr>\n",
       "    <tr>\n",
       "      <th>3</th>\n",
       "      <td>excellent</td>\n",
       "      <td>74</td>\n",
       "      <td>female</td>\n",
       "      <td>17</td>\n",
       "      <td>heterosexual or straight</td>\n",
       "      <td>other</td>\n",
       "      <td>white</td>\n",
       "      <td>1</td>\n",
       "      <td>NaN</td>\n",
       "    </tr>\n",
       "    <tr>\n",
       "      <th>4</th>\n",
       "      <td>poor</td>\n",
       "      <td>37</td>\n",
       "      <td>female</td>\n",
       "      <td>10</td>\n",
       "      <td>heterosexual or straight</td>\n",
       "      <td>other</td>\n",
       "      <td>white</td>\n",
       "      <td>0</td>\n",
       "      <td>NaN</td>\n",
       "    </tr>\n",
       "  </tbody>\n",
       "</table>\n",
       "</div>"
      ]
     },
     "execution_count": 2,
     "metadata": {},
     "output_type": "execute_result"
    }
   ],
   "execution_count": 2
  },
  {
   "cell_type": "markdown",
   "metadata": {},
   "source": [
    "Our goal is to predict if a person is in poor health or not. Let's create some dummy variables in order to measure that.\n"
   ]
  },
  {
   "cell_type": "code",
   "metadata": {
    "ExecuteTime": {
     "end_time": "2025-03-03T11:38:12.803048Z",
     "start_time": "2025-03-03T11:38:12.800351Z"
    }
   },
   "source": [
    "poorhealth = np.where(gssdata['health'] == 'poor',1,0)\n",
    "notpoorhealth = np.where(gssdata['health'] != 'poor',1,0)\n",
    "gssdata['poorhealth'] = poorhealth\n",
    "gssdata['notpoorhealth'] = notpoorhealth\n"
   ],
   "outputs": [],
   "execution_count": 3
  },
  {
   "cell_type": "code",
   "metadata": {
    "scrolled": true,
    "ExecuteTime": {
     "end_time": "2025-03-03T11:38:12.838015Z",
     "start_time": "2025-03-03T11:38:12.829049Z"
    }
   },
   "source": [
    "gssdata.describe()"
   ],
   "outputs": [
    {
     "data": {
      "text/plain": [
       "               age         educ      married        income   poorhealth  \\\n",
       "count  1551.000000  1551.000000  1551.000000    963.000000  1551.000000   \n",
       "mean     48.172792    13.803353     0.732431  15633.177570     0.063830   \n",
       "std      17.051151     3.011700     0.442835   5064.191118     0.244528   \n",
       "min      18.000000     0.000000     0.000000    500.000000     0.000000   \n",
       "25%      33.500000    12.000000     0.000000  13750.000000     0.000000   \n",
       "50%      48.000000    14.000000     1.000000  18750.000000     0.000000   \n",
       "75%      61.000000    16.000000     1.000000  18750.000000     0.000000   \n",
       "max      89.000000    20.000000     1.000000  18750.000000     1.000000   \n",
       "\n",
       "       notpoorhealth  \n",
       "count    1551.000000  \n",
       "mean        0.936170  \n",
       "std         0.244528  \n",
       "min         0.000000  \n",
       "25%         1.000000  \n",
       "50%         1.000000  \n",
       "75%         1.000000  \n",
       "max         1.000000  "
      ],
      "text/html": [
       "<div>\n",
       "<style scoped>\n",
       "    .dataframe tbody tr th:only-of-type {\n",
       "        vertical-align: middle;\n",
       "    }\n",
       "\n",
       "    .dataframe tbody tr th {\n",
       "        vertical-align: top;\n",
       "    }\n",
       "\n",
       "    .dataframe thead th {\n",
       "        text-align: right;\n",
       "    }\n",
       "</style>\n",
       "<table border=\"1\" class=\"dataframe\">\n",
       "  <thead>\n",
       "    <tr style=\"text-align: right;\">\n",
       "      <th></th>\n",
       "      <th>age</th>\n",
       "      <th>educ</th>\n",
       "      <th>married</th>\n",
       "      <th>income</th>\n",
       "      <th>poorhealth</th>\n",
       "      <th>notpoorhealth</th>\n",
       "    </tr>\n",
       "  </thead>\n",
       "  <tbody>\n",
       "    <tr>\n",
       "      <th>count</th>\n",
       "      <td>1551.000000</td>\n",
       "      <td>1551.000000</td>\n",
       "      <td>1551.000000</td>\n",
       "      <td>963.000000</td>\n",
       "      <td>1551.000000</td>\n",
       "      <td>1551.000000</td>\n",
       "    </tr>\n",
       "    <tr>\n",
       "      <th>mean</th>\n",
       "      <td>48.172792</td>\n",
       "      <td>13.803353</td>\n",
       "      <td>0.732431</td>\n",
       "      <td>15633.177570</td>\n",
       "      <td>0.063830</td>\n",
       "      <td>0.936170</td>\n",
       "    </tr>\n",
       "    <tr>\n",
       "      <th>std</th>\n",
       "      <td>17.051151</td>\n",
       "      <td>3.011700</td>\n",
       "      <td>0.442835</td>\n",
       "      <td>5064.191118</td>\n",
       "      <td>0.244528</td>\n",
       "      <td>0.244528</td>\n",
       "    </tr>\n",
       "    <tr>\n",
       "      <th>min</th>\n",
       "      <td>18.000000</td>\n",
       "      <td>0.000000</td>\n",
       "      <td>0.000000</td>\n",
       "      <td>500.000000</td>\n",
       "      <td>0.000000</td>\n",
       "      <td>0.000000</td>\n",
       "    </tr>\n",
       "    <tr>\n",
       "      <th>25%</th>\n",
       "      <td>33.500000</td>\n",
       "      <td>12.000000</td>\n",
       "      <td>0.000000</td>\n",
       "      <td>13750.000000</td>\n",
       "      <td>0.000000</td>\n",
       "      <td>1.000000</td>\n",
       "    </tr>\n",
       "    <tr>\n",
       "      <th>50%</th>\n",
       "      <td>48.000000</td>\n",
       "      <td>14.000000</td>\n",
       "      <td>1.000000</td>\n",
       "      <td>18750.000000</td>\n",
       "      <td>0.000000</td>\n",
       "      <td>1.000000</td>\n",
       "    </tr>\n",
       "    <tr>\n",
       "      <th>75%</th>\n",
       "      <td>61.000000</td>\n",
       "      <td>16.000000</td>\n",
       "      <td>1.000000</td>\n",
       "      <td>18750.000000</td>\n",
       "      <td>0.000000</td>\n",
       "      <td>1.000000</td>\n",
       "    </tr>\n",
       "    <tr>\n",
       "      <th>max</th>\n",
       "      <td>89.000000</td>\n",
       "      <td>20.000000</td>\n",
       "      <td>1.000000</td>\n",
       "      <td>18750.000000</td>\n",
       "      <td>1.000000</td>\n",
       "      <td>1.000000</td>\n",
       "    </tr>\n",
       "  </tbody>\n",
       "</table>\n",
       "</div>"
      ]
     },
     "execution_count": 4,
     "metadata": {},
     "output_type": "execute_result"
    }
   ],
   "execution_count": 4
  },
  {
   "cell_type": "markdown",
   "metadata": {},
   "source": [
    "### Question 1 <a name=\"q1\"></a>\n",
    "\n",
    "a) Can you quantify what is the degree of inbalance? Mention a percentage of the split between the positive and the negative class.<br>\n",
    "b) What is the majority and the minority class?<br>\n",
    "c) What would be the accuracy of a classifier that predicts everybody NOT being in poor health?<br>\n",
    "d) Discuss (with each other and the teachers) why accuracy is not a good metric.<br>"
   ]
  },
  {
   "metadata": {
    "ExecuteTime": {
     "end_time": "2025-03-03T11:38:12.880371Z",
     "start_time": "2025-03-03T11:38:12.877191Z"
    }
   },
   "cell_type": "code",
   "source": [
    "# Count the number of occurrences for each class (absolute and percentage)\n",
    "poorhealth_counts_abs = gssdata['poorhealth'].value_counts()\n",
    "poorhealth_counts_perc = poorhealth_counts_abs / len(gssdata) * 100\n",
    "\n",
    "# Display the absolute and percentage split\n",
    "print(f\"People in poor health: {poorhealth_counts_abs[1]} ({poorhealth_counts_perc[1]:.2f}%)\")\n",
    "print(f\"People not in poor health: {poorhealth_counts_abs[0]} ({poorhealth_counts_perc[0]:.2f}%)\")\n"
   ],
   "outputs": [
    {
     "name": "stdout",
     "output_type": "stream",
     "text": [
      "People in poor health: 99 (6.38%)\n",
      "People not in poor health: 1452 (93.62%)\n"
     ]
    }
   ],
   "execution_count": 5
  },
  {
   "metadata": {
    "ExecuteTime": {
     "end_time": "2025-03-03T11:38:12.914374Z",
     "start_time": "2025-03-03T11:38:12.912278Z"
    }
   },
   "cell_type": "code",
   "source": [
    "# Accuracy of predicting NOT poor health for everyone (in percentage)\n",
    "accuracy_baseline = poorhealth_counts_perc[0]  # Majority class percentage\n",
    "\n",
    "print(f\"Baseline accuracy (predicting everyone as not in poor health): {accuracy_baseline:.2f}%\")"
   ],
   "outputs": [
    {
     "name": "stdout",
     "output_type": "stream",
     "text": [
      "Baseline accuracy (predicting everyone as not in poor health): 93.62%\n"
     ]
    }
   ],
   "execution_count": 6
  },
  {
   "metadata": {
    "ExecuteTime": {
     "end_time": "2025-03-03T11:38:13.037519Z",
     "start_time": "2025-03-03T11:38:12.944257Z"
    }
   },
   "cell_type": "code",
   "source": [
    "import seaborn as sns\n",
    "import matplotlib.pyplot as plt\n",
    "from sklearn.metrics import confusion_matrix\n",
    "# Simulated predictions: Since we are predicting everyone as NOT in poor health (0)\n",
    "y_true = gssdata['poorhealth']  # Actual values\n",
    "y_pred = np.zeros_like(y_true)  # Predicted values (all 0, meaning \"not poor health\")\n",
    "\n",
    "# Compute confusion matrix\n",
    "cm = confusion_matrix(y_true, y_pred)\n",
    "\n",
    "# Create a heatmap for visualization\n",
    "plt.figure(figsize=(6, 4))\n",
    "sns.heatmap(cm, annot=True, fmt=\"d\", cmap=\"Blues\", xticklabels=[\"Not Poor\", \"Poor\"], yticklabels=[\"Not Poor\", \"Poor\"])\n",
    "plt.xlabel(\"Predicted Label\")\n",
    "plt.ylabel(\"Actual Label\")\n",
    "plt.title(\"Confusion Matrix (Baseline Model: Always Predicting Not Poor)\")\n",
    "plt.show()\n"
   ],
   "outputs": [
    {
     "data": {
      "text/plain": [
       "<Figure size 600x400 with 2 Axes>"
      ],
      "image/png": "[encoded data removed]"
     },
     "metadata": {},
     "output_type": "display_data"
    }
   ],
   "execution_count": 7
  },
  {
   "cell_type": "markdown",
   "metadata": {},
   "source": [
    "**Your answer goes here**"
   ]
  },
  {
   "cell_type": "code",
   "metadata": {
    "ExecuteTime": {
     "end_time": "2025-03-03T11:38:13.618631Z",
     "start_time": "2025-03-03T11:38:13.050643Z"
    }
   },
   "source": [
    "####HERE YOU CAN ADD CODE AND MORE COMMENTS\n",
    "\n",
    "gssdata.hist(figsize=(7,7))\n",
    "plt.tight_layout()"
   ],
   "outputs": [
    {
     "data": {
      "text/plain": [
       "<Figure size 700x700 with 6 Axes>"
      ],
      "image/png": "[encoded data removed]"
     },
     "metadata": {},
     "output_type": "display_data"
    }
   ],
   "execution_count": 8
  },
  {
   "cell_type": "markdown",
   "metadata": {},
   "source": [
    "## Part 2: Fit a logistic model ignoring missing values"
   ]
  },
  {
   "cell_type": "markdown",
   "metadata": {},
   "source": [
    "Let's begin by fitting a logistic regression model to predict poor health based on several of the other predictors in the model. In part 3, you will be asked to regularize (with cross-validation) to make sure you do not overfit, but for this part, we will keep things simple.\n",
    "\n",
    "First, we need to do a small amount of data clean-up (ignoring missingness for now in `income`). Best practice would be to split into train/test first before looking at the data, but again, we can keep it simple in this part.\n",
    "\n",
    "If you ignore the missingness `sklearn` might crash (`ValueError: Input contains NaN, infinity or a value too large for dtype('float64')`.) So you can also consider not using that variable in the model"
   ]
  },
  {
   "cell_type": "code",
   "metadata": {
    "ExecuteTime": {
     "end_time": "2025-03-03T11:38:13.631831Z",
     "start_time": "2025-03-03T11:38:13.626501Z"
    }
   },
   "source": [
    "#creating dummies two ways\n",
    "gssdata['female'] = 1*(gssdata['sex'] ==  'female')\n",
    "dummy_vars = pd.get_dummies(gssdata[['sexornt','partyid','race']])\n",
    "gssdata = gssdata.join(dummy_vars)"
   ],
   "outputs": [],
   "execution_count": 9
  },
  {
   "cell_type": "code",
   "metadata": {
    "scrolled": false,
    "ExecuteTime": {
     "end_time": "2025-03-03T11:38:13.655696Z",
     "start_time": "2025-03-03T11:38:13.648867Z"
    }
   },
   "source": [
    "#Let's get a sense of the data we have\n",
    "print(gssdata.shape)\n",
    "gssdata.head()"
   ],
   "outputs": [
    {
     "name": "stdout",
     "output_type": "stream",
     "text": [
      "(1551, 22)\n"
     ]
    },
    {
     "data": {
      "text/plain": [
       "      health  age     sex  educ                   sexornt partyid   race  \\\n",
       "0  excellent   53    male    16  heterosexual or straight     rep  white   \n",
       "1  excellent   26  female    16  heterosexual or straight     rep  white   \n",
       "2       good   59    male    13  heterosexual or straight     rep  white   \n",
       "3  excellent   74  female    17  heterosexual or straight   other  white   \n",
       "4       poor   37  female    10  heterosexual or straight   other  white   \n",
       "\n",
       "   married   income  poorhealth  ...  sexornt_bisexual  sexornt_dont know  \\\n",
       "0        1  18750.0           0  ...             False              False   \n",
       "1        1  18750.0           0  ...             False              False   \n",
       "2        1      NaN           0  ...             False              False   \n",
       "3        1      NaN           0  ...             False              False   \n",
       "4        0      NaN           1  ...             False              False   \n",
       "\n",
       "   sexornt_heterosexual or straight  sexornt_homosexual or gay  partyid_dem  \\\n",
       "0                              True                      False        False   \n",
       "1                              True                      False        False   \n",
       "2                              True                      False        False   \n",
       "3                              True                      False        False   \n",
       "4                              True                      False        False   \n",
       "\n",
       "   partyid_other  partyid_rep  race_black  race_other  race_white  \n",
       "0          False         True       False       False        True  \n",
       "1          False         True       False       False        True  \n",
       "2          False         True       False       False        True  \n",
       "3           True        False       False       False        True  \n",
       "4           True        False       False       False        True  \n",
       "\n",
       "[5 rows x 22 columns]"
      ],
      "text/html": [
       "<div>\n",
       "<style scoped>\n",
       "    .dataframe tbody tr th:only-of-type {\n",
       "        vertical-align: middle;\n",
       "    }\n",
       "\n",
       "    .dataframe tbody tr th {\n",
       "        vertical-align: top;\n",
       "    }\n",
       "\n",
       "    .dataframe thead th {\n",
       "        text-align: right;\n",
       "    }\n",
       "</style>\n",
       "<table border=\"1\" class=\"dataframe\">\n",
       "  <thead>\n",
       "    <tr style=\"text-align: right;\">\n",
       "      <th></th>\n",
       "      <th>health</th>\n",
       "      <th>age</th>\n",
       "      <th>sex</th>\n",
       "      <th>educ</th>\n",
       "      <th>sexornt</th>\n",
       "      <th>partyid</th>\n",
       "      <th>race</th>\n",
       "      <th>married</th>\n",
       "      <th>income</th>\n",
       "      <th>poorhealth</th>\n",
       "      <th>...</th>\n",
       "      <th>sexornt_bisexual</th>\n",
       "      <th>sexornt_dont know</th>\n",
       "      <th>sexornt_heterosexual or straight</th>\n",
       "      <th>sexornt_homosexual or gay</th>\n",
       "      <th>partyid_dem</th>\n",
       "      <th>partyid_other</th>\n",
       "      <th>partyid_rep</th>\n",
       "      <th>race_black</th>\n",
       "      <th>race_other</th>\n",
       "      <th>race_white</th>\n",
       "    </tr>\n",
       "  </thead>\n",
       "  <tbody>\n",
       "    <tr>\n",
       "      <th>0</th>\n",
       "      <td>excellent</td>\n",
       "      <td>53</td>\n",
       "      <td>male</td>\n",
       "      <td>16</td>\n",
       "      <td>heterosexual or straight</td>\n",
       "      <td>rep</td>\n",
       "      <td>white</td>\n",
       "      <td>1</td>\n",
       "      <td>18750.0</td>\n",
       "      <td>0</td>\n",
       "      <td>...</td>\n",
       "      <td>False</td>\n",
       "      <td>False</td>\n",
       "      <td>True</td>\n",
       "      <td>False</td>\n",
       "      <td>False</td>\n",
       "      <td>False</td>\n",
       "      <td>True</td>\n",
       "      <td>False</td>\n",
       "      <td>False</td>\n",
       "      <td>True</td>\n",
       "    </tr>\n",
       "    <tr>\n",
       "      <th>1</th>\n",
       "      <td>excellent</td>\n",
       "      <td>26</td>\n",
       "      <td>female</td>\n",
       "      <td>16</td>\n",
       "      <td>heterosexual or straight</td>\n",
       "      <td>rep</td>\n",
       "      <td>white</td>\n",
       "      <td>1</td>\n",
       "      <td>18750.0</td>\n",
       "      <td>0</td>\n",
       "      <td>...</td>\n",
       "      <td>False</td>\n",
       "      <td>False</td>\n",
       "      <td>True</td>\n",
       "      <td>False</td>\n",
       "      <td>False</td>\n",
       "      <td>False</td>\n",
       "      <td>True</td>\n",
       "      <td>False</td>\n",
       "      <td>False</td>\n",
       "      <td>True</td>\n",
       "    </tr>\n",
       "    <tr>\n",
       "      <th>2</th>\n",
       "      <td>good</td>\n",
       "      <td>59</td>\n",
       "      <td>male</td>\n",
       "      <td>13</td>\n",
       "      <td>heterosexual or straight</td>\n",
       "      <td>rep</td>\n",
       "      <td>white</td>\n",
       "      <td>1</td>\n",
       "      <td>NaN</td>\n",
       "      <td>0</td>\n",
       "      <td>...</td>\n",
       "      <td>False</td>\n",
       "      <td>False</td>\n",
       "      <td>True</td>\n",
       "      <td>False</td>\n",
       "      <td>False</td>\n",
       "      <td>False</td>\n",
       "      <td>True</td>\n",
       "      <td>False</td>\n",
       "      <td>False</td>\n",
       "      <td>True</td>\n",
       "    </tr>\n",
       "    <tr>\n",
       "      <th>3</th>\n",
       "      <td>excellent</td>\n",
       "      <td>74</td>\n",
       "      <td>female</td>\n",
       "      <td>17</td>\n",
       "      <td>heterosexual or straight</td>\n",
       "      <td>other</td>\n",
       "      <td>white</td>\n",
       "      <td>1</td>\n",
       "      <td>NaN</td>\n",
       "      <td>0</td>\n",
       "      <td>...</td>\n",
       "      <td>False</td>\n",
       "      <td>False</td>\n",
       "      <td>True</td>\n",
       "      <td>False</td>\n",
       "      <td>False</td>\n",
       "      <td>True</td>\n",
       "      <td>False</td>\n",
       "      <td>False</td>\n",
       "      <td>False</td>\n",
       "      <td>True</td>\n",
       "    </tr>\n",
       "    <tr>\n",
       "      <th>4</th>\n",
       "      <td>poor</td>\n",
       "      <td>37</td>\n",
       "      <td>female</td>\n",
       "      <td>10</td>\n",
       "      <td>heterosexual or straight</td>\n",
       "      <td>other</td>\n",
       "      <td>white</td>\n",
       "      <td>0</td>\n",
       "      <td>NaN</td>\n",
       "      <td>1</td>\n",
       "      <td>...</td>\n",
       "      <td>False</td>\n",
       "      <td>False</td>\n",
       "      <td>True</td>\n",
       "      <td>False</td>\n",
       "      <td>False</td>\n",
       "      <td>True</td>\n",
       "      <td>False</td>\n",
       "      <td>False</td>\n",
       "      <td>False</td>\n",
       "      <td>True</td>\n",
       "    </tr>\n",
       "  </tbody>\n",
       "</table>\n",
       "<p>5 rows × 22 columns</p>\n",
       "</div>"
      ]
     },
     "execution_count": 10,
     "metadata": {},
     "output_type": "execute_result"
    }
   ],
   "execution_count": 10
  },
  {
   "cell_type": "markdown",
   "metadata": {},
   "source": [
    "### Question 2 <a name=\"q2\"></a>\n",
    "\n",
    "In the code below try to fit your logistic regression model and provide some short comments on the performance of the model. You don't need to be detailed (yet), but make sure to make 1-2 observations at least."
   ]
  },
  {
   "cell_type": "code",
   "metadata": {
    "ExecuteTime": {
     "end_time": "2025-03-03T11:38:13.972683Z",
     "start_time": "2025-03-03T11:38:13.687073Z"
    }
   },
   "source": [
    "from sklearn.linear_model import LogisticRegression\n",
    "from sklearn.model_selection import train_test_split\n",
    "from sklearn.metrics import accuracy_score, precision_score, recall_score, f1_score, confusion_matrix\n",
    "import seaborn as sns\n",
    "import matplotlib.pyplot as plt\n",
    "\n",
    "# Define predictor variables (excluding 'income' due to potential missing values)\n",
    "predictors = ['age', 'educ', 'female'] + list(dummy_vars.columns)\n",
    "\n",
    "# Drop rows with missing values in predictor variables (simplification for now)\n",
    "gssdata_clean = gssdata.dropna(subset=predictors + ['poorhealth'])\n",
    "\n",
    "# Define X (features) and y (target)\n",
    "X = gssdata_clean[predictors]\n",
    "y = gssdata_clean['poorhealth']\n",
    "\n",
    "# Split into train and test sets (keeping it simple, 80-20 split)\n",
    "X_train, X_test, y_train, y_test = train_test_split(X, y, test_size=0.2, random_state=42)\n",
    "\n",
    "# Fit logistic regression model\n",
    "log_reg = LogisticRegression(max_iter=1000)  # Ensure convergence\n",
    "log_reg.fit(X_train, y_train)\n",
    "\n",
    "# Predictions for training and testing sets\n",
    "y_train_pred = log_reg.predict(X_train)\n",
    "y_test_pred = log_reg.predict(X_test)\n",
    "\n",
    "# Compute performance metrics for training and testing\n",
    "def evaluate_model(y_true, y_pred, dataset_name):\n",
    "    accuracy = accuracy_score(y_true, y_pred) * 100\n",
    "    precision = precision_score(y_true, y_pred) * 100\n",
    "    recall = recall_score(y_true, y_pred) * 100\n",
    "    f1 = f1_score(y_true, y_pred) * 100\n",
    "\n",
    "    print(f\"\\n{dataset_name} Set Metrics:\")\n",
    "    print(f\"Accuracy: {accuracy:.2f}%\")\n",
    "    print(f\"Precision: {precision:.2f}%\")\n",
    "    print(f\"Recall: {recall:.2f}%\")\n",
    "    print(f\"F1-score: {f1:.2f}%\")\n",
    "\n",
    "    return confusion_matrix(y_true, y_pred)\n",
    "\n",
    "# Evaluate model for both training and test sets\n",
    "train_cm = evaluate_model(y_train, y_train_pred, \"Training\")\n",
    "test_cm = evaluate_model(y_test, y_test_pred, \"Testing\")\n",
    "\n",
    "# Function to plot confusion matrix\n",
    "def plot_confusion_matrix(cm, title):\n",
    "    plt.figure(figsize=(6, 4))\n",
    "    sns.heatmap(cm, annot=True, fmt=\"d\", cmap=\"Blues\", xticklabels=[\"Not Poor\", \"Poor\"], yticklabels=[\"Not Poor\", \"Poor\"])\n",
    "    plt.xlabel(\"Predicted Label\")\n",
    "    plt.ylabel(\"Actual Label\")\n",
    "    plt.title(title)\n",
    "    plt.show()\n",
    "\n",
    "# Plot confusion matrices for training and testing sets\n",
    "plot_confusion_matrix(train_cm, \"Confusion Matrix - Training Set\")\n",
    "plot_confusion_matrix(test_cm, \"Confusion Matrix - Testing Set\")\n"
   ],
   "outputs": [
    {
     "name": "stdout",
     "output_type": "stream",
     "text": [
      "\n",
      "Training Set Metrics:\n",
      "Accuracy: 94.11%\n",
      "Precision: 100.00%\n",
      "Recall: 1.35%\n",
      "F1-score: 2.67%\n",
      "\n",
      "Testing Set Metrics:\n",
      "Accuracy: 91.96%\n",
      "Precision: 0.00%\n",
      "Recall: 0.00%\n",
      "F1-score: 0.00%\n"
     ]
    },
    {
     "name": "stderr",
     "output_type": "stream",
     "text": [
      "/opt/anaconda3/envs/data_analysis_course/lib/python3.8/site-packages/sklearn/metrics/_classification.py:1469: UndefinedMetricWarning: Precision is ill-defined and being set to 0.0 due to no predicted samples. Use `zero_division` parameter to control this behavior.\n",
      "  _warn_prf(average, modifier, msg_start, len(result))\n"
     ]
    },
    {
     "data": {
      "text/plain": [
       "<Figure size 600x400 with 2 Axes>"
      ],
      "image/png": "[encoded data removed]"
     },
     "metadata": {},
     "output_type": "display_data"
    },
    {
     "data": {
      "text/plain": [
       "<Figure size 600x400 with 2 Axes>"
      ],
      "image/png": "[encoded data removed]"
     },
     "metadata": {},
     "output_type": "display_data"
    }
   ],
   "execution_count": 11
  },
  {
   "cell_type": "markdown",
   "metadata": {},
   "source": [
    "**Your answer goes here**"
   ]
  },
  {
   "cell_type": "markdown",
   "metadata": {},
   "source": [
    "---"
   ]
  },
  {
   "cell_type": "markdown",
   "metadata": {},
   "source": [
    "## 2a: Handling missingness approach \\#1: remove observations. \n",
    "\n",
    "We do not know how sklearn will treat the missing values (the `NaN`s), so we should do handle them ourselves.  As a base case, let's remove all observations with missingness.\n",
    "\n",
    "### Question 3 <a name=\"q3\"></a>\n",
    "\n",
    "In the code below, remove all observations that are not complete. Report on how many samples were dropped. Do a quick check to see how dropping observations affected the amount of poor health individuals. Do an appropriate plot to show this."
   ]
  },
  {
   "cell_type": "code",
   "metadata": {
    "ExecuteTime": {
     "end_time": "2025-03-03T11:38:19.124256Z",
     "start_time": "2025-03-03T11:38:18.881941Z"
    }
   },
   "source": [
    "import seaborn as sns\n",
    "import matplotlib.pyplot as plt\n",
    "\n",
    "# Step 1: Identify missing values\n",
    "missing_values = gssdata.isna().sum()\n",
    "missing_values = missing_values[missing_values > 0]  # Keep only columns with NaNs\n",
    "\n",
    "# Display missing values report\n",
    "print(\"🔍 **Step 1: Checking for Missing Values**\")\n",
    "print(\"Total Missing Values Per Column (Before Removing Missing Data):\")\n",
    "print(missing_values)\n",
    "print(\"-\" * 50)\n",
    "\n",
    "# Step 2: Count initial number of observations\n",
    "initial_count = gssdata.shape[0]\n",
    "print(f\"📊 **Step 2: Initial Dataset Size**\")\n",
    "print(f\"Total number of samples before removing missing values: {initial_count}\")\n",
    "print(\"-\" * 50)\n",
    "\n",
    "# Step 3: Remove all rows with missing values\n",
    "gssdata_full = gssdata.dropna()\n",
    "\n",
    "# Step 4: Count observations after removal\n",
    "final_count = gssdata_full.shape[0]\n",
    "samples_dropped = initial_count - final_count\n",
    "\n",
    "print(f\"❌ **Step 3: Removing Missing Values**\")\n",
    "print(f\"Total number of samples dropped: {samples_dropped}\")\n",
    "print(f\"✔ Remaining samples after dropping missing values: {final_count}\")\n",
    "print(\"-\" * 50)\n",
    "\n",
    "# Step 5: Effect on poor health individuals\n",
    "poorhealth_before = gssdata['poorhealth'].value_counts()\n",
    "poorhealth_after = gssdata_full['poorhealth'].value_counts()\n",
    "\n",
    "poorhealth_before_percent = gssdata['poorhealth'].value_counts(normalize=True) * 100\n",
    "poorhealth_after_percent = gssdata_full['poorhealth'].value_counts(normalize=True) * 100\n",
    "\n",
    "print(f\"📊 **Step 4: Distribution of Poor Health Before & After**\")\n",
    "print(f\"Total poor health cases before removing missing values: {poorhealth_before[1]} ({poorhealth_before_percent[1]:.2f}%)\")\n",
    "print(f\"Total poor health cases after removing missing values: {poorhealth_after[1]} ({poorhealth_after_percent[1]:.2f}%)\")\n",
    "print(f\"Change in poor health cases: {poorhealth_before[1] - poorhealth_after[1]}\")\n",
    "print(\"-\" * 50)\n",
    "\n",
    "# Step 6: Additional analysis – Were poor health individuals more likely to have missing income?\n",
    "missing_income_poor_health = gssdata[gssdata['income'].isna()]['poorhealth'].value_counts(normalize=True) * 100\n",
    "\n",
    "print(f\"🔍 **Step 5: Were Poor Health Individuals More Likely to Have Missing Income?**\")\n",
    "print(f\"Poor Health Cases in Missing Income Data: {missing_income_poor_health.get(1, 0):.2f}%\")\n",
    "print(f\"Not Poor Health Cases in Missing Income Data: {missing_income_poor_health.get(0, 0):.2f}%\")\n",
    "print(\"-\" * 50)\n",
    "\n",
    "# Step 7: Visualization - Compare poor health distribution before and after removing missing values\n",
    "plt.figure(figsize=(8, 6))\n",
    "\n",
    "# Create a bar plot to show the proportion of poor health before and after\n",
    "plot_data = pd.DataFrame({\n",
    "    \"Dataset\": [\"Before Removing Missing Values\", \"After Removing Missing Values\"],\n",
    "    \"Poor Health %\": [poorhealth_before_percent[1], poorhealth_after_percent[1]]\n",
    "})\n",
    "\n",
    "sns.barplot(x=\"Dataset\", y=\"Poor Health %\", data=plot_data, palette=\"Blues_r\")\n",
    "\n",
    "# Label axes\n",
    "plt.ylabel(\"Percentage of People in Poor Health\")\n",
    "plt.xlabel(\"\")\n",
    "plt.title(\"Proportion of People in Poor Health Before and After Removing Missing Values\")\n",
    "plt.show()\n",
    "\n",
    "# Step 8: Compute and display income summary statistics\n",
    "income_stats_before = gssdata['income'].describe()\n",
    "income_stats_after = gssdata_full['income'].describe()\n",
    "\n",
    "print(\"📊 **Step 6: Income Distribution Statistics**\")\n",
    "print(\"Income Summary Before Removing Missing Values:\")\n",
    "print(income_stats_before)\n",
    "print(\"-\" * 50)\n",
    "\n",
    "print(\"Income Summary After Removing Missing Values:\")\n",
    "print(income_stats_after)\n",
    "print(\"-\" * 50)\n",
    "\n",
    "print(\"📉 **Step 7: Changes in Income Distribution**\")\n",
    "print(f\"Mean Income Before: {income_stats_before['mean']:.2f}, After: {income_stats_after['mean']:.2f}\")\n",
    "print(f\"Median Income Before: {income_stats_before['50%']:.2f}, After: {income_stats_after['50%']:.2f}\")\n",
    "print(f\"Min Income Before: {income_stats_before['min']:.2f}, After: {income_stats_after['min']:.2f}\")\n",
    "print(f\"Max Income Before: {income_stats_before['max']:.2f}, After: {income_stats_after['max']:.2f}\")\n",
    "print(f\"Standard Deviation Before: {income_stats_before['std']:.2f}, After: {income_stats_after['std']:.2f}\")\n",
    "print(\"-\" * 50)\n",
    "\n",
    "# Step 9: Boxplot for Income Before & After Removing Missing Values\n",
    "plt.figure(figsize=(8, 6))\n",
    "\n",
    "# Prepare the data for boxplot\n",
    "gssdata_clean = gssdata[['income']].dropna().copy()\n",
    "gssdata_clean['data_status'] = \"Before Removing Missing Values\"\n",
    "\n",
    "gssdata_full_clean = gssdata_full[['income']].copy()\n",
    "gssdata_full_clean['data_status'] = \"After Removing Missing Values\"\n",
    "\n",
    "income_plot_data = pd.concat([gssdata_clean, gssdata_full_clean])\n",
    "\n",
    "# Create the boxplot\n",
    "sns.boxplot(x=\"data_status\", y=\"income\", data=income_plot_data, showfliers=False, palette=\"Blues_r\")\n",
    "\n",
    "# Label axes\n",
    "plt.ylabel(\"Income\")\n",
    "plt.xlabel(\"\")\n",
    "plt.title(\"Income Distribution Before and After Removing Missing Values\")\n",
    "plt.show()\n",
    "\n",
    "# Step 10: Boxplot for Age Before & After Removing Missing Values\n",
    "plt.figure(figsize=(8, 6))\n",
    "\n",
    "# Prepare the data for boxplot\n",
    "gssdata_age_clean = gssdata[['age']].dropna().copy()\n",
    "gssdata_age_clean['data_status'] = \"Before Removing Missing Values\"\n",
    "\n",
    "gssdata_full_age_clean = gssdata_full[['age']].copy()\n",
    "gssdata_full_age_clean['data_status'] = \"After Removing Missing Values\"\n",
    "\n",
    "age_plot_data = pd.concat([gssdata_age_clean, gssdata_full_age_clean])\n",
    "\n",
    "# Create the boxplot\n",
    "sns.boxplot(x=\"data_status\", y=\"age\", data=age_plot_data, showfliers=False, palette=\"Blues_r\")\n",
    "\n",
    "# Label axes\n",
    "plt.ylabel(\"Age\")\n",
    "plt.xlabel(\"\")\n",
    "plt.title(\"Age Distribution Before and After Removing Missing Values\")\n",
    "plt.show()\n"
   ],
   "outputs": [
    {
     "name": "stdout",
     "output_type": "stream",
     "text": [
      "🔍 **Step 1: Checking for Missing Values**\n",
      "Total Missing Values Per Column (Before Removing Missing Data):\n",
      "income    588\n",
      "dtype: int64\n",
      "--------------------------------------------------\n",
      "📊 **Step 2: Initial Dataset Size**\n",
      "Total number of samples before removing missing values: 1551\n",
      "--------------------------------------------------\n",
      "❌ **Step 3: Removing Missing Values**\n",
      "Total number of samples dropped: 588\n",
      "✔ Remaining samples after dropping missing values: 963\n",
      "--------------------------------------------------\n",
      "📊 **Step 4: Distribution of Poor Health Before & After**\n",
      "Total poor health cases before removing missing values: 99 (6.38%)\n",
      "Total poor health cases after removing missing values: 16 (1.66%)\n",
      "Change in poor health cases: 83\n",
      "--------------------------------------------------\n",
      "🔍 **Step 5: Were Poor Health Individuals More Likely to Have Missing Income?**\n",
      "Poor Health Cases in Missing Income Data: 14.12%\n",
      "Not Poor Health Cases in Missing Income Data: 85.88%\n",
      "--------------------------------------------------\n"
     ]
    },
    {
     "name": "stderr",
     "output_type": "stream",
     "text": [
      "/var/folders/9n/hfw66rw97sl45x98mmd_vs4r0000gn/T/ipykernel_66325/1124253225.py:62: FutureWarning: \n",
      "\n",
      "Passing `palette` without assigning `hue` is deprecated and will be removed in v0.14.0. Assign the `x` variable to `hue` and set `legend=False` for the same effect.\n",
      "\n",
      "  sns.barplot(x=\"Dataset\", y=\"Poor Health %\", data=plot_data, palette=\"Blues_r\")\n"
     ]
    },
    {
     "data": {
      "text/plain": [
       "<Figure size 800x600 with 1 Axes>"
      ],
      "image/png": "[encoded data removed]"
     },
     "metadata": {},
     "output_type": "display_data"
    },
    {
     "name": "stdout",
     "output_type": "stream",
     "text": [
      "📊 **Step 6: Income Distribution Statistics**\n",
      "Income Summary Before Removing Missing Values:\n",
      "count      963.000000\n",
      "mean     15633.177570\n",
      "std       5064.191118\n",
      "min        500.000000\n",
      "25%      13750.000000\n",
      "50%      18750.000000\n",
      "75%      18750.000000\n",
      "max      18750.000000\n",
      "Name: income, dtype: float64\n",
      "--------------------------------------------------\n",
      "Income Summary After Removing Missing Values:\n",
      "count      963.000000\n",
      "mean     15633.177570\n",
      "std       5064.191118\n",
      "min        500.000000\n",
      "25%      13750.000000\n",
      "50%      18750.000000\n",
      "75%      18750.000000\n",
      "max      18750.000000\n",
      "Name: income, dtype: float64\n",
      "--------------------------------------------------\n",
      "📉 **Step 7: Changes in Income Distribution**\n",
      "Mean Income Before: 15633.18, After: 15633.18\n",
      "Median Income Before: 18750.00, After: 18750.00\n",
      "Min Income Before: 500.00, After: 500.00\n",
      "Max Income Before: 18750.00, After: 18750.00\n",
      "Standard Deviation Before: 5064.19, After: 5064.19\n",
      "--------------------------------------------------\n"
     ]
    },
    {
     "name": "stderr",
     "output_type": "stream",
     "text": [
      "/var/folders/9n/hfw66rw97sl45x98mmd_vs4r0000gn/T/ipykernel_66325/1124253225.py:104: FutureWarning: \n",
      "\n",
      "Passing `palette` without assigning `hue` is deprecated and will be removed in v0.14.0. Assign the `x` variable to `hue` and set `legend=False` for the same effect.\n",
      "\n",
      "  sns.boxplot(x=\"data_status\", y=\"income\", data=income_plot_data, showfliers=False, palette=\"Blues_r\")\n"
     ]
    },
    {
     "data": {
      "text/plain": [
       "<Figure size 800x600 with 1 Axes>"
      ],
      "image/png": "[encoded data removed]"
     },
     "metadata": {},
     "output_type": "display_data"
    },
    {
     "name": "stderr",
     "output_type": "stream",
     "text": [
      "/var/folders/9n/hfw66rw97sl45x98mmd_vs4r0000gn/T/ipykernel_66325/1124253225.py:125: FutureWarning: \n",
      "\n",
      "Passing `palette` without assigning `hue` is deprecated and will be removed in v0.14.0. Assign the `x` variable to `hue` and set `legend=False` for the same effect.\n",
      "\n",
      "  sns.boxplot(x=\"data_status\", y=\"age\", data=age_plot_data, showfliers=False, palette=\"Blues_r\")\n"
     ]
    },
    {
     "data": {
      "text/plain": [
       "<Figure size 800x600 with 1 Axes>"
      ],
      "image/png": "[encoded data removed]"
     },
     "metadata": {},
     "output_type": "display_data"
    }
   ],
   "execution_count": 12
  },
  {
   "cell_type": "code",
   "metadata": {
    "ExecuteTime": {
     "end_time": "2025-03-03T11:38:53.696080Z",
     "start_time": "2025-03-03T11:38:53.690016Z"
    }
   },
   "source": [
    "#Now we will split the data before fitting any models, feel free to change this/adapt this to your taste\n",
    "\n",
    "from sklearn.model_selection import train_test_split\n",
    "itrain, itest = train_test_split(range(gssdata_full.shape[0]), test_size=0.25)\n",
    "\n",
    "#gsstemp = gssdata_full.drop(['health','fairhealth','goodhealth','excellenthealth','sex','sexornt','partyid','race'],axis=1)\n",
    "gsstemp = gssdata_full[['age','educ','female','partyid_dem','partyid_rep','income']]\n",
    "\n",
    "X_train = gsstemp.iloc[itrain, :]\n",
    "X_test = gsstemp.iloc[itest, :]\n",
    "y_train = gssdata_full['poorhealth'].iloc[itrain]\n",
    "y_test = gssdata_full['poorhealth'].iloc[itest]\n",
    "\n",
    "y_train.shape, X_train.shape, y_test.shape, X_test.shape"
   ],
   "outputs": [
    {
     "data": {
      "text/plain": [
       "((722,), (722, 6), (241,), (241, 6))"
      ]
     },
     "execution_count": 13,
     "metadata": {},
     "output_type": "execute_result"
    }
   ],
   "execution_count": 13
  },
  {
   "cell_type": "markdown",
   "metadata": {},
   "source": [
    "**Your answer goes here**"
   ]
  },
  {
   "cell_type": "markdown",
   "metadata": {},
   "source": [
    "### Question 4 <a name=\"q4\"></a>\n",
    "\n",
    "Fit a logistic regression mode with `C=1000000` (that means that we don't any regularization) and evaluate the classification accuracy on the test set. Discuss whether this accuracy is good/bad.\n",
    "\n",
    "Then move below to be reminded on the confusion matrix."
   ]
  },
  {
   "cell_type": "code",
   "execution_count": null,
   "metadata": {},
   "outputs": [],
   "source": [
    "from sklearn.metrics import accuracy_score\n",
    "\n",
    "#####################\n",
    "# Your code here: fit a logistic model with C=1000000 and evaluate classification accuracy on the test set.\n",
    "# Then move below to be reminded on the confusion matrix\n",
    "#####################\n",
    "\n",
    "\n",
    "#logit1\n",
    "#<-- this should be the name of your model so as to work below with the confusion matrix \n",
    "      #(or if you have a different name, then change it there as well)"
   ]
  },
  {
   "cell_type": "markdown",
   "metadata": {},
   "source": [
    "**Your answer goes here**"
   ]
  },
  {
   "cell_type": "markdown",
   "metadata": {},
   "source": [
    "## Reminder: The Confusion Matrix & Some Useful Functions"
   ]
  },
  {
   "cell_type": "markdown",
   "metadata": {},
   "source": [
    "- the samples that are +ive and the classifier predicts as +ive are called True Positives (TP)\n",
    "- the samples that are -ive and the classifier predicts (wrongly) as +ive are called False Positives (FP)\n",
    "- the samples that are -ive and the classifier predicts as -ive are called True Negatives (TN)\n",
    "- the samples that are +ive and the classifier predicts as -ive are called False Negatives (FN)\n",
    "\n",
    "A classifier produces a confusion matrix which looks like this:\n",
    "\n",
    "![confusionmatrix](./confusionmatrix_360.png)\n",
    "\n",
    "\n",
    "IMPORTANT NOTE: In `sklearn`, to obtain the confusion matrix in the form above, always have the observed `y` first, i.e.: use as `confusion_matrix(y_true, y_pred)`\n",
    "\n"
   ]
  },
  {
   "cell_type": "code",
   "execution_count": null,
   "metadata": {},
   "outputs": [],
   "source": [
    "#the name of your model should be logit1 (to work with the code below)\n",
    "from sklearn.metrics import confusion_matrix\n",
    "print(confusion_matrix(y_test,logit.predict(X_test)))"
   ]
  },
  {
   "cell_type": "markdown",
   "metadata": {},
   "source": [
    "The following function can be used to create confusion tables with different thresholds (same as we did in the notebook explaing AUROC)"
   ]
  },
  {
   "cell_type": "code",
   "execution_count": null,
   "metadata": {},
   "outputs": [],
   "source": [
    "###manually making confusion table from a different threshold\n",
    "def t_repredict(est, t, xtest):\n",
    "    probs = est.predict_proba(xtest)\n",
    "    p0 = probs[:,0]\n",
    "    p1 = probs[:,1]\n",
    "    ypred = (p1 > t)*1\n",
    "    return ypred"
   ]
  },
  {
   "cell_type": "code",
   "execution_count": null,
   "metadata": {},
   "outputs": [],
   "source": [
    "#Try it here!\n",
    "\n",
    "print(confusion_matrix(y_test,t_repredict(logit1, 0.06, X_test)))\n",
    "print(confusion_matrix(y_train,t_repredict(logit1, 0.06, X_train)))"
   ]
  },
  {
   "cell_type": "markdown",
   "metadata": {},
   "source": [
    "The following fuction should create ROC curves for your models, based on the model and the ground truth. Feel free to change it and improve it!"
   ]
  },
  {
   "cell_type": "code",
   "execution_count": null,
   "metadata": {},
   "outputs": [],
   "source": [
    "#making ROC curves for this model\n",
    "from sklearn.metrics import roc_curve, auc\n",
    "\n",
    "#name: name of your model to appear on the figure (can be arbitrary)\n",
    "#clf: the model as you named it - will be used for getting the predictions\n",
    "#ytest, xtest: your test data\n",
    "#skip, labe: steps that control how many points you see in the ROC curve and how many labels are there\n",
    "\n",
    "def make_roc(name, clf, ytest, xtest, ax=None, labe=5, proba=True, skip=0):\n",
    "    initial=False\n",
    "    if not ax:\n",
    "        ax=plt.gca()\n",
    "        initial=True\n",
    "    if proba:#for stuff like logistic regression\n",
    "        fpr, tpr, thresholds=roc_curve(ytest, clf.predict_proba(xtest)[:,1])\n",
    "    else:#for stuff like SVM? (but double-check this pleaseee)\n",
    "        fpr, tpr, thresholds=roc_curve(ytest, clf.decision_function(xtest))\n",
    "    \n",
    "    #this is the single value for the AUC score\n",
    "    roc_auc = auc(fpr, tpr)\n",
    "    \n",
    "    if skip: \n",
    "        l=fpr.shape[0]\n",
    "        ax.plot(fpr[0:l:skip], tpr[0:l:skip], '.-', alpha=0.3, label='ROC curve for %s (area = %0.2f)' % (name, roc_auc))\n",
    "    else:\n",
    "        ax.plot(fpr, tpr, '.-', alpha=0.3, label='ROC curve for %s (area = %0.2f)' % (name, roc_auc))\n",
    "    \n",
    "    label_kwargs = {}\n",
    "    label_kwargs['bbox'] = dict(\n",
    "        boxstyle='round,pad=0.3', alpha=0.2,\n",
    "    )\n",
    "    \n",
    "    #add labels to the curve\n",
    "    if labe!=None:\n",
    "        for k in range(0, fpr.shape[0],labe):\n",
    "            #from https://gist.github.com/podshumok/c1d1c9394335d86255b8\n",
    "            threshold = str(np.round(thresholds[k], 2))\n",
    "            ax.annotate(threshold, (fpr[k], tpr[k]), **label_kwargs)\n",
    "    \n",
    "    if initial:\n",
    "        ax.plot([0, 1], [0, 1], 'k--')\n",
    "        ax.set_xlim([0.0, 1.0])\n",
    "        ax.set_ylim([0.0, 1.05])\n",
    "        ax.set_xlabel('False Positive Rate')\n",
    "        ax.set_ylabel('True Positive Rate')\n",
    "        ax.set_title('ROC')\n",
    "    ax.legend(loc=\"lower right\")\n",
    "    return ax"
   ]
  },
  {
   "cell_type": "code",
   "execution_count": null,
   "metadata": {},
   "outputs": [],
   "source": [
    "#This is how the above function should be used\n",
    "\n",
    "sns.set_context(\"poster\")\n",
    "fig, ax = plt.subplots(figsize = (10,10))\n",
    "ax=make_roc(\"logistic\",logit1, y_test, X_test, labe=4, skip=0)\n",
    "plt.show()"
   ]
  },
  {
   "cell_type": "markdown",
   "metadata": {},
   "source": [
    "### Question 5 <a name=\"q5\"></a>\n",
    "\n",
    "\n",
    "What does the above ROC curve tell you about the quality of the model we fit on the data?"
   ]
  },
  {
   "cell_type": "markdown",
   "metadata": {},
   "source": [
    "**Your answer goes here**"
   ]
  },
  {
   "cell_type": "markdown",
   "metadata": {},
   "source": [
    "## Let's get back the data with missingness\n",
    "\n",
    "It's time to build a model to impute the missing data!"
   ]
  },
  {
   "cell_type": "code",
   "execution_count": null,
   "metadata": {},
   "outputs": [],
   "source": [
    "#first build a model to impute using data without missing \n",
    "hist = plt.hist(gssdata_full['income'])"
   ]
  },
  {
   "cell_type": "markdown",
   "metadata": {},
   "source": [
    "---"
   ]
  },
  {
   "cell_type": "markdown",
   "metadata": {},
   "source": [
    "## 2b: Handling missingness approach \\#2: impute the mean "
   ]
  },
  {
   "cell_type": "markdown",
   "metadata": {},
   "source": [
    "### Question 6 <a name=\"q6\"></a>\n",
    "\n",
    "In your first approach, make a copy of the original data frame and impute the missing values by assuming that every missing value shoudl be replaced by the mean. Make sure to do a histogram as well and compare it with the original!\n",
    "\n",
    "Then fit a model (as before in 2a.) and judge the model accuracy. Use the functions for the ROC curve to establish the result."
   ]
  },
  {
   "cell_type": "code",
   "execution_count": 1,
   "metadata": {},
   "outputs": [],
   "source": [
    "#back to the original data set with missingness, make a copy, and then impute the mean, plot it!\n",
    "###YOUR CODE HERE\n",
    "###\n",
    "###"
   ]
  },
  {
   "cell_type": "code",
   "execution_count": 2,
   "metadata": {},
   "outputs": [],
   "source": [
    "###here, do a proper train/test split and a model training\n"
   ]
  },
  {
   "cell_type": "code",
   "execution_count": 4,
   "metadata": {},
   "outputs": [],
   "source": [
    "#####################\n",
    "#your code here: create confusion tables for some thresholds to have an idea of how data looks like\n",
    "#####################"
   ]
  },
  {
   "cell_type": "code",
   "execution_count": 3,
   "metadata": {},
   "outputs": [],
   "source": [
    "#####################\n",
    "# your code here: create an ROC curve\n",
    "#####################"
   ]
  },
  {
   "cell_type": "markdown",
   "metadata": {},
   "source": [
    "### Question 7 <a name=\"q7\"></a>\n",
    "\n",
    "\n",
    "What does the above ROC curve tell you about the quality of the model we fit on the data?"
   ]
  },
  {
   "cell_type": "markdown",
   "metadata": {},
   "source": [
    "**your answer goes here**"
   ]
  },
  {
   "cell_type": "markdown",
   "metadata": {},
   "source": [
    "---"
   ]
  },
  {
   "cell_type": "markdown",
   "metadata": {},
   "source": [
    "## 2c: Handling missingness approach \\#3: impute with a model (linear regression here)"
   ]
  },
  {
   "cell_type": "markdown",
   "metadata": {},
   "source": [
    "The third and most sophisticated approach would be to fit a linear model (multiple regression) to estimate income based on the other features (`age`, `educ`, `sex`, `partyid`).\n",
    "\n",
    "### Question 8 <a name=\"q8\"></a>\n",
    "\n",
    "Train this model below and then use it in order to compute the missing values. The steps should be as follows:\n",
    "\n",
    "+ figure out which observations have missing values for income,\n",
    "+ create the values you will use for imputation by:<br>\n",
    "a) calculating the predicted values for the observations with missingness using the linear model<br>\n",
    "b) use these values to impute back into the income variable in the missing entries<br>\n",
    "+ Do a histogram to see how does that look like"
   ]
  },
  {
   "cell_type": "code",
   "execution_count": null,
   "metadata": {},
   "outputs": [],
   "source": [
    "#use the dataset without NAs here\n",
    "#train a model\n",
    "\n",
    "#####################\n",
    "# your code here: \n",
    "\n",
    "#####################"
   ]
  },
  {
   "cell_type": "markdown",
   "metadata": {},
   "source": [
    "Then fill the missing data with the results you got. You can do that multiple ways, one way to use Python would be the following:"
   ]
  },
  {
   "cell_type": "code",
   "execution_count": null,
   "metadata": {},
   "outputs": [],
   "source": [
    "#you might need to change some of the variables below, but in principle it should work\n",
    "missing_index = gssdata.income[gssdata.income.isnull()].index\n",
    "missing_series = pd.Series(data = income, index = missing_index)\n",
    "#back to the data set with missingness and impute the predictions\n",
    "gssdata_imp = gssdata.copy()\n",
    "gssdata_imp['income'] = gssdata_imp['income'].fillna(missing_series)"
   ]
  },
  {
   "cell_type": "code",
   "execution_count": null,
   "metadata": {},
   "outputs": [],
   "source": [
    "gssdata_imp['income'].hist(figsize=(7,5))\n",
    "gssdata_imp['income'].describe()"
   ]
  },
  {
   "cell_type": "code",
   "execution_count": null,
   "metadata": {},
   "outputs": [],
   "source": [
    "#HERE FIT YOUR MODEL AS USUAL FOR PREDICTING THE HEALTH STATUS (POOR OR NOT)\n",
    "###here, do a proper train/test split and a model training\n",
    "\n",
    "#Now we will split the data before fitting any models, feel free to change this/adapt this to your taste"
   ]
  },
  {
   "cell_type": "code",
   "execution_count": null,
   "metadata": {},
   "outputs": [],
   "source": [
    "#here you fit a model\n",
    "#should be called logit3"
   ]
  },
  {
   "cell_type": "code",
   "execution_count": null,
   "metadata": {},
   "outputs": [],
   "source": [
    "#MAKE CONFUSION TABLES FOR DIFFERENT THRESHOLDS AND DRAW THE AUROC CURVE\n",
    "#####################\n",
    "# your code here: create an ROC curve\n",
    "#####################\n",
    "\n",
    "sns.set_context(\"poster\")\n",
    "fig, ax = plt.subplots(figsize = (10,10))\n",
    "#here add code\n",
    "plt.show()"
   ]
  },
  {
   "cell_type": "markdown",
   "metadata": {},
   "source": [
    "### Question 9 <a name=\"q9\"></a>\n",
    "\n",
    "\n",
    "Now comment on the performance of difference imputation methods and on the impact it has on the final model performance.\n"
   ]
  },
  {
   "cell_type": "markdown",
   "metadata": {
    "scrolled": true
   },
   "source": [
    "**Your answer goes here**"
   ]
  },
  {
   "cell_type": "markdown",
   "metadata": {},
   "source": [
    "## Part 3: Improving the model.\n",
    "\n",
    "### Question 10 <a name=\"q10\"></a>\n",
    "\n",
    "\n",
    "Apply regularization (with cross-validation) to make sure not to overfit to the data and try also different models, like a Decision Tree or a Random Forest. Report on your results for which model handles inbalances in the best way.\n",
    "\n",
    "For this question, you are also free (but not onbliged) to use techniques to address class imbalances (as we discussed in class) both on the data or model level. Recall that each method has advantages and disadvantages, so you will need to correctly interpret the results and assess the performance of any method you choose on the problem we explore here. Some examples can be found [here](https://imbalanced-learn.org/stable/index.html). "
   ]
  },
  {
   "cell_type": "code",
   "execution_count": null,
   "metadata": {},
   "outputs": [],
   "source": [
    "## your code goes here"
   ]
  }
 ],
 "metadata": {
  "kernelspec": {
   "display_name": "Python 3 (ipykernel)",
   "language": "python",
   "name": "python3"
  },
  "language_info": {
   "codemirror_mode": {
    "name": "ipython",
    "version": 3
   },
   "file_extension": ".py",
   "mimetype": "text/x-python",
   "name": "python",
   "nbconvert_exporter": "python",
   "pygments_lexer": "ipython3",
   "version": "3.8.3"
  }
 },
 "nbformat": 4,
 "nbformat_minor": 1
}
