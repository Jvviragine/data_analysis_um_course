{
 "cells": [
  {
   "cell_type": "markdown",
   "id": "7e3a9aff",
   "metadata": {},
   "source": [
    "(Placeholder for your group #)\n",
    "\n",
    "(Placeholder for your names)\n",
    "\n",
    "(Placeholder for your i-numbers)"
   ]
  },
  {
   "cell_type": "markdown",
   "id": "5d5ab070",
   "metadata": {},
   "source": [
    "**Use of genAI tools (e.g. chatGPT), websites (e.g. stackoverflow)**: *list websites where you found code (or other info) as well as include information on how you used genAI tools*"
   ]
  },
  {
   "cell_type": "markdown",
   "id": "2a108445",
   "metadata": {},
   "source": [
    "# Data Analysis, Clinic 1\n",
    "# FIETS: Fundamentele Innovatie En Technologie in Scholing\n",
    "## Met FIETS blijft het onderwijs vooruitgaan, zelfs tegen de wind in!\n",
    "\n",
    "---\n",
    "\n",
    "By completing and delivering the clinic tasks you will know how to :\n",
    "\n",
    "- Load data and handle data using pandas;\n",
    "- Navigate the documentation of Python packages by yourself;\n",
    "- Filter and tidy up **noisy** real-world datasets;\n",
    "- Aggregate your data in different (and hopefully helpful) ways;\n",
    "- Use EDA to learn more about your data\n",
    "- Create and interpret informative visualizations to explore the data set\n",
    "- Derive meaningful insights for the societal impact of datasets\n",
    "\n",
    "---\n",
    "**Important Dates.**\n",
    "\n",
    "- Clinic 1 release: Thu 30 Jan 2024\n",
    "- Clinic 1 due: Fri 07 Feb 2024 late night, wildcards available\n",
    "\n",
    "**Instructions for the deliverable:**\n",
    "\n",
    "* You are allowed to use any built-in Python library that comes with Anaconda. If you want to use an external library, you may do so, but must justify your choice.\n",
    "\n",
    "* Make sure that you include a proper amount/mix of comments, results and code. More specifically, be sure to provide a concise textual description of your thought process, the assumptions you made, the solution you implemented, and explanations for your answers. A notebook that only has code cells will not suffice. To avoid confusion: use short comments for longer code answers.\n",
    "\n",
    "* For questions containing the /Discuss:/ prefix, answer not with code, but with a textual explanation (in markdown).\n",
    "\n",
    "* Back up any hypotheses and claims with data, since this is an important aspect of the course.\n",
    "\n",
    "* Please write all your comments in English, and use meaningful variable names (as possible) in your code. \n",
    "\n",
    "* In the end, make sure that all cells are executed properly and everything you need to show is in your (execucted) notebook. We will not run your notebook for you! \n",
    "\n",
    "- In continuation to the previous point, interactive plots, such as those generated using the ‘plotly’ package, should be strictly avoided! Make sure to print results and/or dataframes that confirm you have properly addressed the task.\n",
    "\n",
    "* You are asked to deliver **only your executed notebook file, .ipnyb** and nothing else. If you deliver other files, we will not grade anything.\n",
    "\n",
    "* Honor code applies to these tasks. If you are not certain about an action, consult with Jerry.\n",
    "\n",
    "**A Note from Jerry on using Language Models (LMs)**\n",
    "\n",
    "If you try hard enough, you will likely get away with cheating (that does not only apply to LMs). Fortunately, my job is not to police, but rather to educate you. So, please consider the following:\n",
    "\n",
    "I assume that you are taking this course to learn something! LMs are not always right ([they often fail in silly ways](https://community.openai.com/t/why-9-11-is-larger-than-9-9-incredible/869824/4)). This course should prepare you to detect when they are wrong!\n",
    "\n",
    "I don't restrict the use of LMs because I see the value of being helped when coding (esp. in the context of pandas dataframes nightmare :)). Based on what we saw last year in your notebooks, it's pretty clear when you \"copy\" some code and then you struggle to interpret the results. This is the essence of this course and of the skills you should try build for yourself: Many people can run fancy models these days but not many people can interpret the results correctly. Try to be the latter ones.\n",
    "\n",
    "---"
   ]
  },
  {
   "cell_type": "markdown",
   "id": "f9b54879",
   "metadata": {},
   "source": [
    "## Context\n",
    "\n",
    "AI is booming! Newspapers, influencers and your relatives all agree that AI is important. But while almost everyone agrees that AI is the future, much is unclear about what that future esp. in critical sectors like education looks like...\n",
    "\n",
    "Freshly graduated from a top Dutch university in Limburg, you are hired by the Dutch government to advise on a large-scale “education innovation” initiative code-named \"FIETS\" (Flexibele Innovatie voor Efficiënte Toepassing in Scholing). With higher education facing severe budget cuts, the government is looking for creative solutions to \"do more with less.\" Convinced by the stunning progress in language modeling, officials believe LLMs could help battle growing teacher shortages and reduce costs by automating parts of the education process. Your job description: investigate which LMs might be best suited to plug the gaps without draining the budget!\n",
    "\n",
    "You are handed the results of three LMs on the [“Massive Multitask Language Understanding (MMLU)”](https://arxiv.org/abs/2009.03300) dataset  to compare. This famous dataset consists of 57 subjects with multiple-choice questions, covering diverse subjects like mathematics, computer science, history, and law. Most providers of state-of-the-art LMs use this dataset to showcase the versatility of their latest models. Unfortunately, the intern responsible for collecting the results, didn’t pay attention during DACS KEN3450: Data Analysis. As a result, the collected datasets are slightly corrupted. Jammer!\n",
    "\n",
    "The success of FIETS depends on your ability to make sense of the messy data and recommend the best model to keep the Dutch education system pedaling forward—despite uphill challenges like funding shortages and a skeptical academic community!\n",
    "\n",
    "### A very brief primer on Language Models\n",
    "We studied LLMs in the context of the NLP course but here is a short reminder. Language models (LMs) are sophisticated statistical models designed to understand and generate human-like text. At their core, LMs are trained to predict the most likely continuation of a given input text. For example, given the input \"The cat sat on the,\" an LM might predict \"mat\" as a likely continuation.\n",
    "LMs are trained on vast text samples from various sources, including books, websites, and social media. This extensive training allows them to capture patterns and relationships in language, enabling them to generate coherent and contextually appropriate text across a wide range of topics and styles.\n",
    "\n",
    "While LMs can produce text that appears to be written by intelligent humans, it's important to note that their capabilities can diverge from human intelligence in unexpected ways. They may sometimes generate factually incorrect information or struggle with complex reasoning tasks.\n",
    "\n",
    "Two key concepts in understanding LMs are:\n",
    "1. **Tokens**: LMs process text using \"tokens\" rather than individual characters. Tokens can be words, parts of words, or punctuation marks. For example, the sentence \"I love AI!\" might be tokenized as [\"I\", \"love\", \"AI\", \"!\"]. Tokenization is the first step in both training and using an LM.\n",
    "2. **Context**: The input text provided to an LM is called the \"context.\" This context informs the model's predictions or generations. A longer or more specific context often leads to more accurate and relevant outputs.\n",
    "\n",
    "[See: Wikipedia entry on language models](https://en.wikipedia.org/wiki/Large_language_model)\n",
    "\n",
    "###  Files for this assignment\n",
    "This assignment is divided into three tasks, each of which should bring you a step closer to providing a recommendation toward project the objectives of FIETS:\n",
    "\n",
    "- **Task 1**: Inspecting the results and getting your first model ranking\n",
    "- **Task 2**: Inspecting the underlying data used to generate the results for possible biases\n",
    "- **Task 3**: Learning about tokens and providing a final recommendation\n",
    "\n",
    "\n",
    "```\n",
    "📁 FIETS\n",
    "│\n",
    "├── 📄 clinic1.ipynb (the file you're currently reading!)\n",
    "│\n",
    "└── 📁 data\n",
    "    ├── 📁 task_1\n",
    "    ├── 📁 task_2\n",
    "    └── 📁 task_2.5\n",
    "```   \n",
    " "
   ]
  },
  {
   "cell_type": "code",
   "execution_count": 1,
   "id": "1c8fd700",
   "metadata": {},
   "outputs": [],
   "source": [
    "# some basic imports\n",
    "import os\n",
    "import pandas as pd\n",
    "import numpy as np\n",
    "import matplotlib.pyplot as plt\n",
    "import warnings\n",
    "from scipy.stats import ttest_ind"
   ]
  },
  {
   "cell_type": "markdown",
   "id": "bd2a7be4",
   "metadata": {},
   "source": [
    "## Task 1 (18 points): What's in an average anyway?\n",
    "\n",
    "The files needed to complete task 1 can be found in the folder \"`data/task_1/`:\n",
    "```\n",
    "task_1/\n",
    "│\n",
    "├── mmlu_data/\n",
    "│   └── test.csv\n",
    "│\n",
    "└── lm_scores/\n",
    "    ├── lm_X.csv\n",
    "    ├── lm_Y.csv\n",
    "    └── lm_Z.csv\n",
    "```\n",
    "\n",
    "We will start by loading, (manually) inspecting, and cleaning the data. Although it doesn't seem \"glamorous\" (nor is it particularly fun...) - manually inspecting data is extremely important! In fact, it's one of the few things most AI and Data Science researchers agree on :). Next, we will take a first pass on ordering our Olympic podium between three LMs."
   ]
  },
  {
   "cell_type": "markdown",
   "id": "16518de6",
   "metadata": {},
   "source": [
    "### 1.1 (1 pt)\n",
    " \n",
    "Load the subfiles contained in the `mmlu_data` and `lm_scores` folders into separate dataframes:\n",
    "- `df_test`\n",
    "- `df_x`\n",
    "- `df_y`\n",
    "- `df_z`\n",
    "\n",
    "for each, print their sizes."
   ]
  },
  {
   "cell_type": "code",
   "execution_count": 2,
   "id": "80eabdcb",
   "metadata": {},
   "outputs": [
    {
     "name": "stdout",
     "output_type": "stream",
     "text": [
      "df_test:  (14042, 8)\n",
      "df_x:  (13882, 2)\n",
      "df_y:  (13978, 2)\n",
      "df_z:  (13923, 2)\n"
     ]
    }
   ],
   "source": [
    "df_test = pd.read_csv('data/task_1/mmlu_data/test.csv')\n",
    "\n",
    "f = 'data/task_1/lm_scores/'\n",
    "df_x = pd.read_csv(os.path.join(f, 'lm_X.csv'))\n",
    "df_y = pd.read_csv(os.path.join(f, 'lm_Y.csv'))\n",
    "df_z = pd.read_csv(os.path.join(f, 'lm_Z.csv'))\n",
    "\n",
    "print('df_test: ', df_test.shape)\n",
    "print('df_x: ', df_x.shape)\n",
    "print('df_y: ', df_y.shape)\n",
    "print('df_z: ', df_z.shape)"
   ]
  },
  {
   "cell_type": "markdown",
   "id": "da14c5e2",
   "metadata": {},
   "source": [
    "### 1.2 (4 pt)\n",
    "Unfortunately, LMs don't always output the format we want. In the column `result`, the value should be one of A, B, C, or D. \n",
    "\n",
    "A. For each of the LM score dataframes, use a `value_counts()` operation and print the results. \n",
    "\n",
    "B. /Discuss:/ Inspect the results and describe the types of answer formats you see. Besides the \"expected\" case, you should be able to find at least four unexpected formats."
   ]
  },
  {
   "cell_type": "code",
   "execution_count": 5,
   "id": "eeebdb42",
   "metadata": {},
   "outputs": [
    {
     "name": "stdout",
     "output_type": "stream",
     "text": [
      "df_x result col value counts:\n",
      " result\n",
      "A                                                                                                                 2733\n",
      "A                                                                                                                 1657\n",
      "B                                                                                                                 1412\n",
      "Answer: A                                                                                                         1398\n",
      "C                                                                                                                 1134\n",
      "                                                                                                                  ... \n",
      "judicial activism, so the answer is A                                                                                1\n",
      "creating insurmountable obstacles to the founding of factions, so the answer is A                                    1\n",
      "A congressperson who retires to take a position teaching political science at a university, so the answer is A       1\n",
      "David Hume, so the answer is D                                                                                       1\n",
      "Brahminic orthodoxy, so the answer is A                                                                              1\n",
      "Name: count, Length: 145, dtype: int64\n",
      "df_y result col value counts:\n",
      " result\n",
      "D                                                                                                2894\n",
      "Answer: D                                                                                        1718\n",
      "C                                                                                                1701\n",
      "B                                                                                                1240\n",
      "D                                                                                                1145\n",
      "                                                                                                 ... \n",
      "Where the energy of interaction between the atoms is at its minimum value, so the answer is A       1\n",
      "leaves more viable offspring than others of its species., so the answer is D                        1\n",
      "A and C only, so the answer is D                                                                    1\n",
      "ADP + P → ATP, so the answer is D                                                                   1\n",
      "Monoclonal antibodies, so the answer is C                                                           1\n",
      "Name: count, Length: 141, dtype: int64\n",
      "df_z result col value counts:\n",
      " result\n",
      "D                                                                                   2257\n",
      "C                                                                                   2191\n",
      "B                                                                                   2127\n",
      "A                                                                                   2060\n",
      "Answer: D                                                                            777\n",
      "                                                                                    ... \n",
      "omission of a universal suffrage clause, so the answer is D                            1\n",
      "declare war, so the answer is D                                                        1\n",
      "state and local governments, by means of federal funding, so the answer is B           1\n",
      "less clearly identified with consistent political ideologies, so the answer is B       1\n",
      "Rahit, so the answer is B                                                              1\n",
      "Name: count, Length: 560, dtype: int64\n"
     ]
    }
   ],
   "source": [
    "# A\n",
    "df_x_result_cnts = df_x['result'].value_counts()\n",
    "df_y_result_cnts = df_y['result'].value_counts()\n",
    "df_z_result_cnts = df_z['result'].value_counts()\n",
    "print('df_x result col value counts:\\n',df_x_result_cnts)\n",
    "print('df_y result col value counts:\\n', df_y_result_cnts)\n",
    "print('df_z result col value counts:\\n', df_z_result_cnts)"
   ]
  },
  {
   "cell_type": "code",
   "execution_count": 28,
   "id": "7126a193",
   "metadata": {},
   "outputs": [
    {
     "name": "stdout",
     "output_type": "stream",
     "text": [
      "df_x result col value counts:\n",
      " result\n",
      "A                                                                                                                                                                                                                                                                                                               2733\n",
      "A                                                                                                                                                                                                                                                                                                               1657\n",
      "B                                                                                                                                                                                                                                                                                                               1412\n",
      "Answer: A                                                                                                                                                                                                                                                                                                       1398\n",
      "C                                                                                                                                                                                                                                                                                                               1134\n",
      "D                                                                                                                                                                                                                                                                                                               1124\n",
      "B                                                                                                                                                                                                                                                                                                                793\n",
      "Answer: B                                                                                                                                                                                                                                                                                                        760\n",
      "C                                                                                                                                                                                                                                                                                                                622\n",
      "Answer: D                                                                                                                                                                                                                                                                                                        613\n",
      "D                                                                                                                                                                                                                                                                                                                596\n",
      "Answer: C                                                                                                                                                                                                                                                                                                        594\n",
      "Not Sure                                                                                                                                                                                                                                                                                                          73\n",
      "None of the above                                                                                                                                                                                                                                                                                                 69\n",
      "Wrong, Wrong, so the answer is A                                                                                                                                                                                                                                                                                   4\n",
      "No, because Long did not have authority to enter into the contract., so the answer is D                                                                                                                                                                                                                            1\n",
      "food surpluses, specialists, urban settlements, and a system of record keeping, so the answer is A                                                                                                                                                                                                                 1\n",
      "philosophy and religion., so the answer is B                                                                                                                                                                                                                                                                       1\n",
      "Acheulean, so the answer is B                                                                                                                                                                                                                                                                                      1\n",
      "Neandertals used caves in Europe where their remains were preserved., so the answer is B                                                                                                                                                                                                                           1\n",
      "tribute in the form of gold, jade, feathers, cloth, and jewels., so the answer is A                                                                                                                                                                                                                                1\n",
      "Because window tinting is permitted on vehicles in neighboring states, this law denies the company the equal protection of laws., so the answer is A                                                                                                                                                               1\n",
      "$100,000, so the answer is A                                                                                                                                                                                                                                                                                       1\n",
      "10%, so the answer is A                                                                                                                                                                                                                                                                                            1\n",
      "$480,000, so the answer is B                                                                                                                                                                                                                                                                                       1\n",
      "not recover, because the dairy's negligence only caused mental disturbance., so the answer is C                                                                                                                                                                                                                    1\n",
      "constitutional, because the election code is nonviolative of the equal protection clause., so the answer is D                                                                                                                                                                                                      1\n",
      "logical nominalism, so the answer is A                                                                                                                                                                                                                                                                             1\n",
      "enlightened egoism., so the answer is A                                                                                                                                                                                                                                                                            1\n",
      "Conceptual artists, so the answer is D                                                                                                                                                                                                                                                                             1\n",
      "purely physical and natural, so the answer is B                                                                                                                                                                                                                                                                    1\n",
      "Folate, vitamins B6 and B12, so the answer is D                                                                                                                                                                                                                                                                    1\n",
      "Vitamin D, so the answer is B                                                                                                                                                                                                                                                                                      1\n",
      "Not wrong, Not wrong, so the answer is D                                                                                                                                                                                                                                                                           1\n",
      "Not wrong, Wrong, so the answer is C                                                                                                                                                                                                                                                                               1\n",
      "the type of drug used, so the answer is A                                                                                                                                                                                                                                                                          1\n",
      "Yes, because the aluminum sheets were nonconforming goods., so the answer is A                                                                                                                                                                                                                                     1\n",
      "Bill Viola, so the answer is A                                                                                                                                                                                                                                                                                     1\n",
      "Losing the curl, so the answer is C                                                                                                                                                                                                                                                                                1\n",
      "Chordates, so the answer is B                                                                                                                                                                                                                                                                                      1\n",
      "up to 250, so the answer is A                                                                                                                                                                                                                                                                                      1\n",
      "Paris, so the answer is A                                                                                                                                                                                                                                                                                          1\n",
      "six years, so the answer is C                                                                                                                                                                                                                                                                                      1\n",
      "white, so the answer is C                                                                                                                                                                                                                                                                                          1\n",
      "No, she is not a member of a suspect class as there cannot be a \"class-of-one\" in the employment law context., so the answer is A                                                                                                                                                                                  1\n",
      "first-degree murder., so the answer is A                                                                                                                                                                                                                                                                           1\n",
      "the contract price of$10,000., so the answer is C                                                                                                                                                                                                                                                                  1\n",
      "high ability and low motivation., so the answer is C                                                                                                                                                                                                                                                               1\n",
      "It criticized international organizations, rather than trying to strengthen them, so the answer is A                                                                                                                                                                                                               1\n",
      "China, so the answer is D                                                                                                                                                                                                                                                                                          1\n",
      "household account book, so the answer is C                                                                                                                                                                                                                                                                         1\n",
      "It is when considering the military and the security institutions that some of the greatest contradictions with the concept of environmental security are raised. War impacts negatively on the sustainable growth of the nation but armed forces may be required to manage the effects., so the answer is B       1\n",
      "Category B agents include food and water security threats, with moderate morbidity rates., so the answer is C                                                                                                                                                                                                      1\n",
      "Complete eradication of threats., so the answer is A                                                                                                                                                                                                                                                               1\n",
      "Strategic studies are the central concern of international relations, within strategic studies, the subset of security studies focuses on military security., so the answer is A                                                                                                                                   1\n",
      "to interpret trends for management, so the answer is B                                                                                                                                                                                                                                                             1\n",
      "Random assignment, random selection, so the answer is B                                                                                                                                                                                                                                                            1\n",
      "a simultaneous event produced the fluctuation, so the answer is A                                                                                                                                                                                                                                                  1\n",
      "only if the employee was referred to the program by the supervisor., so the answer is B                                                                                                                                                                                                                            1\n",
      "we tend to remember unfinished tasks better than finished ones., so the answer is A                                                                                                                                                                                                                                1\n",
      "the student should be listed as the first author., so the answer is A                                                                                                                                                                                                                                              1\n",
      "brain damage, intellectual disability, or emotional disturbance, so the answer is D                                                                                                                                                                                                                                1\n",
      "Cognitive behavioral therapy, so the answer is A                                                                                                                                                                                                                                                                   1\n",
      "recover, if a reasonable consumer would not expect the presence of such a pebble in the chowder., so the answer is A                                                                                                                                                                                               1\n",
      "effect of an IV at diff levels of the other IVs, so the answer is A                                                                                                                                                                                                                                                1\n",
      "goals serve 2 purposes: they are a basis for motivation and they direct behaviors, so the answer is A                                                                                                                                                                                                              1\n",
      "needs analysis., so the answer is A                                                                                                                                                                                                                                                                                1\n",
      "Apocrine gland, so the answer is A                                                                                                                                                                                                                                                                                 1\n",
      "Cytokine secretion by natural killer cells, so the answer is A                                                                                                                                                                                                                                                     1\n",
      "sustain the objection, because the radar results are not conclusive evidence of speeding., so the answer is A                                                                                                                                                                                                      1\n",
      "the right to remove oil is an incident of a defeasible fee simple., so the answer is A                                                                                                                                                                                                                             1\n",
      "They committed a larceny by placing the three dresses in the shopping bag., so the answer is A                                                                                                                                                                                                                     1\n",
      "The defendant is compelled to stand trial in street clothing., so the answer is B                                                                                                                                                                                                                                  1\n",
      "Autosomal recessive, so the answer is B                                                                                                                                                                                                                                                                            1\n",
      "No, because the retailer is a citizen of State B., so the answer is B                                                                                                                                                                                                                                              1\n",
      "it is necessary to further a compelling state interest., so the answer is B                                                                                                                                                                                                                                        1\n",
      "Although the contract violates the law and is void, the court will require the homeowner to pay the contractor the reasonable value of the work accepted., so the answer is A                                                                                                                                      1\n",
      "The zoning ordinance provision would be upheld as constitutional under the state's police power., so the answer is D                                                                                                                                                                                               1\n",
      "6*10^14 J, so the answer is C                                                                                                                                                                                                                                                                                      1\n",
      "No, according to the literal interpretation of the relevant provision of the State, the provisional measures are not binding, so the answer is A                                                                                                                                                                   1\n",
      "quantity demanded barely changes with a change in price, so the answer is B                                                                                                                                                                                                                                        1\n",
      "temporary dipoles created by the position of electrons around the nuclei in a molecule, so the answer is A                                                                                                                                                                                                         1\n",
      "proximal convoluted tubule, so the answer is B                                                                                                                                                                                                                                                                     1\n",
      "The appendix has a substantial amount of defensive lymphatic tissue., so the answer is C                                                                                                                                                                                                                           1\n",
      "80%, so the answer is C                                                                                                                                                                                                                                                                                            1\n",
      "(∀x)(Rx ⊃ Ax), so the answer is C                                                                                                                                                                                                                                                                                  1\n",
      "Invalid. Counterexample when L is true and K is false, so the answer is D                                                                                                                                                                                                                                          1\n",
      "C =8π, so the answer is B                                                                                                                                                                                                                                                                                          1\n",
      "in parallel., so the answer is B                                                                                                                                                                                                                                                                                   1\n",
      "Both 2 and 3., so the answer is D                                                                                                                                                                                                                                                                                  1\n",
      "Inductance., so the answer is B                                                                                                                                                                                                                                                                                    1\n",
      "crystal filter., so the answer is B                                                                                                                                                                                                                                                                                1\n",
      "No, so the answer is B                                                                                                                                                                                                                                                                                             1\n",
      "internal reflection, so the answer is A                                                                                                                                                                                                                                                                            1\n",
      "ejected neutrons, so the answer is D                                                                                                                                                                                                                                                                               1\n",
      "one-quarter the value for a tube open at both ends, so the answer is A                                                                                                                                                                                                                                             1\n",
      "torques, so the answer is B                                                                                                                                                                                                                                                                                        1\n",
      "passes into the air above, so the answer is B                                                                                                                                                                                                                                                                      1\n",
      "By overwriting the return address to point to the location of that code, so the answer is A                                                                                                                                                                                                                        1\n",
      "True, True, so the answer is A                                                                                                                                                                                                                                                                                     1\n",
      "5, so the answer is A                                                                                                                                                                                                                                                                                              1\n",
      "Mass of the moon, so the answer is A                                                                                                                                                                                                                                                                               1\n",
      "creatine phosphorylation., so the answer is B                                                                                                                                                                                                                                                                      1\n",
      "Lead to death due to an inability of the cell to pass electrons to oxygen, thus stopping aerobic respiration and asphyxiating the cells., so the answer is A                                                                                                                                                       1\n",
      "They provide access to phosphorus, an essential element that is limited in many kinds of soils., so the answer is C                                                                                                                                                                                                1\n",
      "phosphofructokinase., so the answer is D                                                                                                                                                                                                                                                                           1\n",
      "Unsafe practices, Wants, Fear, Trivial, so the answer is A                                                                                                                                                                                                                                                         1\n",
      "These craters contain the only permanently shadowed regions on Mercury, so the answer is D                                                                                                                                                                                                                         1\n",
      "lingual branch of the mandibular trigeminal nerve., so the answer is A                                                                                                                                                                                                                                             1\n",
      "is prevented from everting by papillary muscles., so the answer is B                                                                                                                                                                                                                                               1\n",
      "3, so the answer is B                                                                                                                                                                                                                                                                                              1\n",
      "Chemiosmosis, so the answer is B                                                                                                                                                                                                                                                                                   1\n",
      "Second order, so the answer is C                                                                                                                                                                                                                                                                                   1\n",
      "Adam Smith, so the answer is C                                                                                                                                                                                                                                                                                     1\n",
      "1 and 2 because they both reduce copper ions, so the answer is C                                                                                                                                                                                                                                                   1\n",
      "True, False, so the answer is C                                                                                                                                                                                                                                                                                    1\n",
      "Whether we assume full class covariance matrices or diagonal class covariance matrices, so the answer is B                                                                                                                                                                                                         1\n",
      "Linear hard-margin SVM., so the answer is A                                                                                                                                                                                                                                                                        1\n",
      "False, False, so the answer is B                                                                                                                                                                                                                                                                                   1\n",
      "experienced guilt, so the answer is C                                                                                                                                                                                                                                                                              1\n",
      "Changes a lot past age 50, so the answer is A                                                                                                                                                                                                                                                                      1\n",
      "One can make funeral and estate plans with the loved one, so the answer is B                                                                                                                                                                                                                                       1\n",
      "Large-scale military losses and resentment of the working classes, so the answer is C                                                                                                                                                                                                                              1\n",
      "All adult men born within the geographic boundaries of the state, so the answer is A                                                                                                                                                                                                                               1\n",
      "The world engages in subtler forms of discrimination., so the answer is B                                                                                                                                                                                                                                          1\n",
      "Overhunting and depletion of furbearing animals, so the answer is D                                                                                                                                                                                                                                                1\n",
      "H. Ross Perot, Reform Party, 1996, so the answer is D                                                                                                                                                                                                                                                              1\n",
      "Unregulated currency and federal debts after the War of 1812, so the answer is B                                                                                                                                                                                                                                   1\n",
      "it was the first time the presidency shifted from one political party to another., so the answer is B                                                                                                                                                                                                              1\n",
      "Conservation, trust-busting, consumer protection, so the answer is A                                                                                                                                                                                                                                               1\n",
      "6.68%, so the answer is D                                                                                                                                                                                                                                                                                          1\n",
      "70 minutes to 264 minutes, so the answer is C                                                                                                                                                                                                                                                                      1\n",
      "the conditioned stimulus without the unconditioned stimulus, so the answer is B                                                                                                                                                                                                                                    1\n",
      "anger, so the answer is A                                                                                                                                                                                                                                                                                          1\n",
      "remembering how to tie a tie, so the answer is B                                                                                                                                                                                                                                                                   1\n",
      "sweet, so the answer is B                                                                                                                                                                                                                                                                                          1\n",
      "(–3, 2), so the answer is C                                                                                                                                                                                                                                                                                        1\n",
      "13, so the answer is C                                                                                                                                                                                                                                                                                             1\n",
      "Fifty-one percent, so the answer is B                                                                                                                                                                                                                                                                              1\n",
      "voters select the winner by caucus instead of by individual ballots, so the answer is A                                                                                                                                                                                                                            1\n",
      "judicial activism, so the answer is A                                                                                                                                                                                                                                                                              1\n",
      "creating insurmountable obstacles to the founding of factions, so the answer is A                                                                                                                                                                                                                                  1\n",
      "A congressperson who retires to take a position teaching political science at a university, so the answer is A                                                                                                                                                                                                     1\n",
      "David Hume, so the answer is D                                                                                                                                                                                                                                                                                     1\n",
      "Brahminic orthodoxy, so the answer is A                                                                                                                                                                                                                                                                            1\n"
     ]
    }
   ],
   "source": [
    "print('df_x result col value counts:\\n', df_x_result_cnts.to_string())\n"
   ]
  },
  {
   "cell_type": "code",
   "execution_count": 23,
   "id": "93a663ce",
   "metadata": {},
   "outputs": [
    {
     "name": "stdout",
     "output_type": "stream",
     "text": [
      "result\n",
      "A                                                                                                                 4390\n",
      "B                                                                                                                 2205\n",
      "C                                                                                                                 1756\n",
      "D                                                                                                                 1720\n",
      "Answer: A                                                                                                         1398\n",
      "                                                                                                                  ... \n",
      "judicial activism, so the answer is A                                                                                1\n",
      "creating insurmountable obstacles to the founding of factions, so the answer is A                                    1\n",
      "A congressperson who retires to take a position teaching political science at a university, so the answer is A       1\n",
      "David Hume, so the answer is D                                                                                       1\n",
      "Brahminic orthodoxy, so the answer is A                                                                              1\n",
      "Name: count, Length: 141, dtype: int64\n"
     ]
    }
   ],
   "source": [
    "test = df_x['result'].str.strip()\n",
    "print(test.value_counts())"
   ]
  },
  {
   "cell_type": "markdown",
   "id": "2943ef14",
   "metadata": {},
   "source": [
    "### B: unexpected formats\n",
    "There are 4 unexpected formats that I found: 'answer is', 'Answer:', 'None of the above', 'Not Sure'.\n",
    "In addition, the expected cases A,B,C,D appear twice because of trailing/leading spaces. After counting the patterns, it seems that 'Answer:' is one of the most common ones."
   ]
  },
  {
   "cell_type": "code",
   "execution_count": 32,
   "id": "709b59db",
   "metadata": {},
   "outputs": [
    {
     "name": "stdout",
     "output_type": "stream",
     "text": [
      "Pattern \"answer is\" in df_x: 134\n",
      "Pattern \"Answer:\" in df_x: 3365\n",
      "Pattern \"None of the above\" in df_x: 69\n",
      "Pattern \"Not Sure\" in df_x: 73\n",
      "-------------------\n",
      "Pattern \"answer is\" in df_y: 130\n",
      "Pattern \"Answer:\" in df_y: 3948\n",
      "Pattern \"None of the above\" in df_y: 66\n",
      "Pattern \"Not Sure\" in df_y: 86\n",
      "-------------------\n",
      "Pattern \"answer is\" in df_z: 581\n",
      "Pattern \"Answer:\" in df_z: 2924\n",
      "Pattern \"None of the above\" in df_z: 119\n",
      "Pattern \"Not Sure\" in df_z: 125\n",
      "-------------------\n"
     ]
    }
   ],
   "source": [
    "# B\n",
    "patterns = ['answer is', 'Answer:', 'None of the above', 'Not Sure']\n",
    "# Count occurrences of each pattern\n",
    "def print_pattern_count(df, df_name):\n",
    "    pattern_counts = {pattern: df['result'].str.contains(pattern).sum() for pattern in patterns}\n",
    "    for pattern, count in pattern_counts.items():\n",
    "        print(f'Pattern \"{pattern}\" in {df_name}: {count}')\n",
    "    print('-------------------')\n",
    "\n",
    "print_pattern_count(df_x, 'df_x')\n",
    "print_pattern_count(df_y, 'df_y')\n",
    "print_pattern_count(df_z, 'df_z')"
   ]
  },
  {
   "cell_type": "markdown",
   "id": "98377d82",
   "metadata": {},
   "source": [
    "### 1.3 (5 pt)\n",
    "Oh oh... That doesn't look great. Simply dropping all invalid answers seems overly wasteful, yet fixing all of these looks like a mess! Instead, let's focus for now on fixing just those answers of length < 10 characters that require only a single `str.replace()` operation. \n",
    "\n",
    "For example, if the answer looks like `--A--`, we could fix this by using the following simple function:\n",
    "\n",
    "```\n",
    "def clean_answer(s, pattern='-'):\n",
    "    return str(s).replace(pattern, '')\n",
    "\n",
    "dirty_answer = '--A--'\n",
    "clean_answer = clean_answer(dirty_answer)\n",
    "```\n",
    "\n",
    "A. Filter the three score dataframes to include only answers with less than 10 characters. Make a deep copy of the dataframes as you filter them.\n",
    "\n",
    "B. Modify the `clean_answer()` example function to clean the answers in the filtered data frames using the `apply()` functionality. Finally, make sure **all remaining answers are one of `A, B, C, or D`.**\n",
    "\n",
    "C. /Discuss:/ Compare the sizes of the original and filtered data frames. What do you see? Why might this be a problem?"
   ]
  },
  {
   "cell_type": "code",
   "execution_count": 31,
   "id": "5241d3d5",
   "metadata": {},
   "outputs": [
    {
     "name": "stdout",
     "output_type": "stream",
     "text": [
      "(13509, 2)\n",
      "(13637, 2)\n",
      "(12878, 2)\n"
     ]
    }
   ],
   "source": [
    "#A\n",
    "import copy\n",
    "df_x_filtered = copy.deepcopy(df_x[df_x['result'].str.len() < 10])\n",
    "df_y_filtered = copy.deepcopy(df_y[df_y['result'].str.len() < 10])\n",
    "df_z_filtered = copy.deepcopy(df_z[df_z['result'].str.len() < 10])\n",
    "\n",
    "print(df_x_filtered.shape)\n",
    "print(df_y_filtered.shape)\n",
    "print(df_z_filtered.shape)"
   ]
  },
  {
   "cell_type": "code",
   "execution_count": 39,
   "id": "b2b23f54",
   "metadata": {},
   "outputs": [
    {
     "name": "stdout",
     "output_type": "stream",
     "text": [
      "Value counts filtered df_x:\n",
      " result\n",
      "A           5788\n",
      "B           2965\n",
      "C           2350\n",
      "D           2333\n",
      "Not Sure      73\n",
      "Name: count, dtype: int64\n",
      "Value counts filtered df_y:\n",
      " result\n",
      "D           5757\n",
      "C           3242\n",
      "B           2519\n",
      "A           2033\n",
      "Not Sure      86\n",
      "Name: count, dtype: int64\n",
      "Value counts filtered df_z:\n",
      " result\n",
      "D           3348\n",
      "C           3255\n",
      "B           3124\n",
      "A           3026\n",
      "Not Sure     125\n",
      "Name: count, dtype: int64\n"
     ]
    }
   ],
   "source": [
    "#B\n",
    "def clean_answer(s, patterns=['answer is', 'Answer:']):\n",
    "    s = str(s).strip()  # Strip white spaces\n",
    "    for pattern in patterns:\n",
    "        s = s.replace(pattern, '')\n",
    "    return s\n",
    "\n",
    "# Clean the answers in the filtered dataframes\n",
    "df_x_filtered['result'] = df_x_filtered['result'].apply(clean_answer)\n",
    "df_y_filtered['result'] = df_y_filtered['result'].apply(clean_answer)\n",
    "df_z_filtered['result'] = df_z_filtered['result'].apply(clean_answer)\n",
    "\n",
    "print('Value counts filtered df_x:\\n', df_x_filtered['result'].value_counts())\n",
    "print('Value counts filtered df_y:\\n', df_y_filtered['result'].value_counts())\n",
    "print('Value counts filtered df_z:\\n', df_z_filtered['result'].value_counts())"
   ]
  },
  {
   "cell_type": "markdown",
   "id": "5b2e8704",
   "metadata": {},
   "source": [
    "There is still the 'Not Sure' pattern. If we need to ensure only A,B,C,D then we can get rid of the 'Not Sure' examples."
   ]
  },
  {
   "cell_type": "code",
   "execution_count": 42,
   "id": "988af771",
   "metadata": {},
   "outputs": [
    {
     "name": "stdout",
     "output_type": "stream",
     "text": [
      "Value counts filtered df_x:\n",
      " result\n",
      "A    5788\n",
      "B    2965\n",
      "C    2350\n",
      "D    2333\n",
      "Name: count, dtype: int64\n",
      "Value counts filtered df_y:\n",
      " result\n",
      "D    5757\n",
      "C    3242\n",
      "B    2519\n",
      "A    2033\n",
      "Name: count, dtype: int64\n",
      "Value counts filtered df_z:\n",
      " result\n",
      "D    3348\n",
      "C    3255\n",
      "B    3124\n",
      "A    3026\n",
      "Name: count, dtype: int64\n"
     ]
    }
   ],
   "source": [
    "# Ensure only A, B, C, D answers are present\n",
    "valid_answers = {'A', 'B', 'C', 'D'}\n",
    "df_x_filtered = df_x_filtered[df_x_filtered['result'].isin(valid_answers)]\n",
    "df_y_filtered = df_y_filtered[df_y_filtered['result'].isin(valid_answers)]\n",
    "df_z_filtered = df_z_filtered[df_z_filtered['result'].isin(valid_answers)]\n",
    "print('Value counts filtered df_x:\\n', df_x_filtered['result'].value_counts())\n",
    "print('Value counts filtered df_y:\\n', df_y_filtered['result'].value_counts())\n",
    "print('Value counts filtered df_z:\\n', df_z_filtered['result'].value_counts())"
   ]
  },
  {
   "cell_type": "markdown",
   "id": "e33258d5",
   "metadata": {},
   "source": [
    "C. /Discuss:/\n",
    "\n",
    "When comparing the sizes of the original and filtered data frames we can observe a reduction in size. df_x has lost 446 rows, df_y 427 and df_z 1170. Those correspond to reduction in size by about ~3.2%, ~3.1% and ~8.4% respectively. At this stage we need to evaluate whether the lost rows contained valuable information that might otherwise be lost - the answer is yes, since earlier we observed that a lot of the examples with length >10, contained the \"answer is\" pattern and they should not be lost. Additionally, removing the \"Note sure\" or \"None of the above\" patterns might also be a problem as they also carry information that might be valuable when comparing different models. For those cases we might want to consider an additional category."
   ]
  },
  {
   "cell_type": "code",
   "execution_count": 44,
   "id": "cfdf2d3d",
   "metadata": {},
   "outputs": [
    {
     "name": "stdout",
     "output_type": "stream",
     "text": [
      "Original df_x size: (13882, 2)\n",
      "Filtered df_x size: (13436, 2)\n",
      "---------------------------------\n",
      "Original df_y size: (13978, 2)\n",
      "Filtered df_y size: (13551, 2)\n",
      "---------------------------------\n",
      "Original df_z size: (13923, 2)\n",
      "Filtered df_z size: (12753, 2)\n"
     ]
    }
   ],
   "source": [
    "# Compare the sizes of the original and filtered dataframes\n",
    "print('Original df_x size:', df_x.shape)\n",
    "print('Filtered df_x size:', df_x_filtered.shape)\n",
    "print('---------------------------------')\n",
    "print('Original df_y size:', df_y.shape)\n",
    "print('Filtered df_y size:', df_y_filtered.shape)\n",
    "print('---------------------------------')\n",
    "print('Original df_z size:', df_z.shape)\n",
    "print('Filtered df_z size:', df_z_filtered.shape)"
   ]
  },
  {
   "cell_type": "markdown",
   "id": "4bda2920",
   "metadata": {},
   "source": [
    "### 1.4 (3 pt)\n",
    "\n",
    "Now that our answer columns are nicely formatted, let's take a look at model performance:\n",
    "\n",
    "A. Both the `MMLU` dataframes and the language model score data frames have the columns `question_id`. For each of the language model score data frames, use an inner join operation with the `df_test` dataframe on the `question_id` column.\n",
    "\n",
    "B. Add a new column to each of the resulting dataframes called `correct`, that checks if the model's answer in `result` is the same as the expected answer in the column `answer`. Then, print the average score of each model."
   ]
  },
  {
   "cell_type": "code",
   "execution_count": 46,
   "id": "5cfcb814",
   "metadata": {},
   "outputs": [
    {
     "name": "stdout",
     "output_type": "stream",
     "text": [
      "df_x_joined: (13436, 9)\n",
      "df_y_joined: (13551, 9)\n",
      "df_z_joined: (12753, 9)\n"
     ]
    }
   ],
   "source": [
    "# A\n",
    "df_x_joined = df_x_filtered.merge(df_test, on='question_id', how='inner')\n",
    "df_y_joined = df_y_filtered.merge(df_test, on='question_id', how='inner')\n",
    "df_z_joined = df_z_filtered.merge(df_test, on='question_id', how='inner')\n",
    "\n",
    "print('df_x_joined:', df_x_joined.shape)\n",
    "print('df_y_joined:', df_y_joined.shape)\n",
    "print('df_z_joined:', df_z_joined.shape)"
   ]
  },
  {
   "cell_type": "code",
   "execution_count": 47,
   "id": "80334bc5",
   "metadata": {},
   "outputs": [
    {
     "data": {
      "text/html": [
       "<div>\n",
       "<style scoped>\n",
       "    .dataframe tbody tr th:only-of-type {\n",
       "        vertical-align: middle;\n",
       "    }\n",
       "\n",
       "    .dataframe tbody tr th {\n",
       "        vertical-align: top;\n",
       "    }\n",
       "\n",
       "    .dataframe thead th {\n",
       "        text-align: right;\n",
       "    }\n",
       "</style>\n",
       "<table border=\"1\" class=\"dataframe\">\n",
       "  <thead>\n",
       "    <tr style=\"text-align: right;\">\n",
       "      <th></th>\n",
       "      <th>question_id</th>\n",
       "      <th>result</th>\n",
       "      <th>question</th>\n",
       "      <th>A</th>\n",
       "      <th>B</th>\n",
       "      <th>C</th>\n",
       "      <th>D</th>\n",
       "      <th>answer</th>\n",
       "      <th>subject</th>\n",
       "    </tr>\n",
       "  </thead>\n",
       "  <tbody>\n",
       "    <tr>\n",
       "      <th>0</th>\n",
       "      <td>0</td>\n",
       "      <td>B</td>\n",
       "      <td>Find the degree for the given field extension ...</td>\n",
       "      <td>0</td>\n",
       "      <td>4</td>\n",
       "      <td>2</td>\n",
       "      <td>6</td>\n",
       "      <td>B</td>\n",
       "      <td>abstract algebra</td>\n",
       "    </tr>\n",
       "    <tr>\n",
       "      <th>1</th>\n",
       "      <td>1</td>\n",
       "      <td>C</td>\n",
       "      <td>Let p = (1, 2, 5, 4)(2, 3) in S_5 . Find the i...</td>\n",
       "      <td>8</td>\n",
       "      <td>2</td>\n",
       "      <td>24</td>\n",
       "      <td>120</td>\n",
       "      <td>C</td>\n",
       "      <td>abstract algebra</td>\n",
       "    </tr>\n",
       "    <tr>\n",
       "      <th>2</th>\n",
       "      <td>2</td>\n",
       "      <td>D</td>\n",
       "      <td>Find all zeros in the indicated finite field o...</td>\n",
       "      <td>0</td>\n",
       "      <td>1</td>\n",
       "      <td>0,1</td>\n",
       "      <td>0,4</td>\n",
       "      <td>D</td>\n",
       "      <td>abstract algebra</td>\n",
       "    </tr>\n",
       "    <tr>\n",
       "      <th>3</th>\n",
       "      <td>3</td>\n",
       "      <td>B</td>\n",
       "      <td>Statement 1 | A factor group of a non-Abelian ...</td>\n",
       "      <td>True, True</td>\n",
       "      <td>False, False</td>\n",
       "      <td>True, False</td>\n",
       "      <td>False, True</td>\n",
       "      <td>B</td>\n",
       "      <td>abstract algebra</td>\n",
       "    </tr>\n",
       "    <tr>\n",
       "      <th>4</th>\n",
       "      <td>4</td>\n",
       "      <td>B</td>\n",
       "      <td>Find the product of the given polynomials in t...</td>\n",
       "      <td>2x^2 + 5</td>\n",
       "      <td>6x^2 + 4x + 6</td>\n",
       "      <td>0</td>\n",
       "      <td>x^2 + 1</td>\n",
       "      <td>B</td>\n",
       "      <td>abstract algebra</td>\n",
       "    </tr>\n",
       "  </tbody>\n",
       "</table>\n",
       "</div>"
      ],
      "text/plain": [
       "   question_id result                                           question  \\\n",
       "0            0      B  Find the degree for the given field extension ...   \n",
       "1            1      C  Let p = (1, 2, 5, 4)(2, 3) in S_5 . Find the i...   \n",
       "2            2      D  Find all zeros in the indicated finite field o...   \n",
       "3            3      B  Statement 1 | A factor group of a non-Abelian ...   \n",
       "4            4      B  Find the product of the given polynomials in t...   \n",
       "\n",
       "            A              B            C            D answer  \\\n",
       "0           0              4            2            6      B   \n",
       "1           8              2           24          120      C   \n",
       "2           0              1          0,1          0,4      D   \n",
       "3  True, True   False, False  True, False  False, True      B   \n",
       "4    2x^2 + 5  6x^2 + 4x + 6            0      x^2 + 1      B   \n",
       "\n",
       "            subject  \n",
       "0  abstract algebra  \n",
       "1  abstract algebra  \n",
       "2  abstract algebra  \n",
       "3  abstract algebra  \n",
       "4  abstract algebra  "
      ]
     },
     "metadata": {},
     "output_type": "display_data"
    }
   ],
   "source": [
    "display(df_x_joined.head())"
   ]
  },
  {
   "cell_type": "code",
   "execution_count": 48,
   "id": "4814bb7f",
   "metadata": {},
   "outputs": [
    {
     "name": "stdout",
     "output_type": "stream",
     "text": [
      "Average score for model X: 0.7674903245013397\n",
      "Average score for model Y: 0.7458490148328537\n",
      "Average score for model Z: 0.663294911001333\n"
     ]
    }
   ],
   "source": [
    "# B\n",
    "\n",
    "def calculate_avg_score(df):\n",
    "    df['correct'] = df['result'] == df['answer']\n",
    "    return df['correct'].mean()\n",
    "\n",
    "print('Average score for model X:', calculate_avg_score(df_x_joined))\n",
    "print('Average score for model Y:', calculate_avg_score(df_y_joined))\n",
    "print('Average score for model Z:', calculate_avg_score(df_z_joined))"
   ]
  },
  {
   "cell_type": "markdown",
   "id": "474d719d",
   "metadata": {},
   "source": [
    "### 1.5 (5 pt)\n",
    "\n",
    "Hmmm, something doesn't seem quite right. Let's investigate how \"balanced\" this dataset is:\n",
    "\n",
    "A. For each of the 57 subjects in the MMLU, compare the number of questions answered by each model. Print the subjects for which there is a more than 10% difference.\n",
    "\n",
    "B. Propose and implement a reasonable way to rebalance the results. (e.g., while throwing away 100% of the results perfectly rebalances the results, it is not reasonable).\n",
    "\n",
    "C. Finally, print the updated accuracy on the rebalanced data.\n",
    "\n",
    "**hint:**:\n",
    "- (A) For a given subject, let model X and model Y have answered 181 and 200 questions respectively. You can consider this a 10% difference from the perspective of X, i.e., (200 - 181) / 181 > 0.10"
   ]
  },
  {
   "cell_type": "code",
   "execution_count": 53,
   "id": "1634b29a",
   "metadata": {},
   "outputs": [
    {
     "data": {
      "text/plain": [
       "subject\n",
       "abstract algebra       95\n",
       "anatomy               129\n",
       "astronomy             144\n",
       "business ethics        98\n",
       "clinical knowledge    259\n",
       "Name: question_id, dtype: int64"
      ]
     },
     "metadata": {},
     "output_type": "display_data"
    }
   ],
   "source": [
    "#A\n",
    "# Get numbere of questions per subject\n",
    "df_x_subject_counts = df_x_joined.groupby('subject')['question_id'].count()\n",
    "df_y_subject_counts = df_y_joined.groupby('subject')['question_id'].count()\n",
    "df_z_subject_counts = df_z_joined.groupby('subject')['question_id'].count()\n",
    "\n",
    "display(df_x_subject_counts.head())"
   ]
  },
  {
   "cell_type": "markdown",
   "id": "70df4323",
   "metadata": {},
   "source": [
    "Just wrote out the combinations for myself and wanted to confirm whether it's a 2-way relationship.\n",
    "\n",
    "x y | 181 200 | 200 - 181 / 181 > 0.1\n",
    "\n",
    "x z\n",
    "\n",
    "y x | 200 181 | 181 - 200 / 200 = -0.095 | abs(-0.095) < 0.1\n",
    "\n",
    "y z\n",
    "\n",
    "z x\n",
    "\n",
    "z y"
   ]
  },
  {
   "cell_type": "code",
   "execution_count": 72,
   "id": "14e39b17",
   "metadata": {},
   "outputs": [
    {
     "data": {
      "text/html": [
       "<div>\n",
       "<style scoped>\n",
       "    .dataframe tbody tr th:only-of-type {\n",
       "        vertical-align: middle;\n",
       "    }\n",
       "\n",
       "    .dataframe tbody tr th {\n",
       "        vertical-align: top;\n",
       "    }\n",
       "\n",
       "    .dataframe thead th {\n",
       "        text-align: right;\n",
       "    }\n",
       "</style>\n",
       "<table border=\"1\" class=\"dataframe\">\n",
       "  <thead>\n",
       "    <tr style=\"text-align: right;\">\n",
       "      <th></th>\n",
       "      <th>subject</th>\n",
       "      <th>model_x</th>\n",
       "      <th>model_y</th>\n",
       "      <th>model_z</th>\n",
       "    </tr>\n",
       "  </thead>\n",
       "  <tbody>\n",
       "    <tr>\n",
       "      <th>0</th>\n",
       "      <td>abstract algebra</td>\n",
       "      <td>95</td>\n",
       "      <td>97</td>\n",
       "      <td>95</td>\n",
       "    </tr>\n",
       "    <tr>\n",
       "      <th>1</th>\n",
       "      <td>anatomy</td>\n",
       "      <td>129</td>\n",
       "      <td>130</td>\n",
       "      <td>125</td>\n",
       "    </tr>\n",
       "    <tr>\n",
       "      <th>2</th>\n",
       "      <td>astronomy</td>\n",
       "      <td>144</td>\n",
       "      <td>148</td>\n",
       "      <td>137</td>\n",
       "    </tr>\n",
       "    <tr>\n",
       "      <th>3</th>\n",
       "      <td>business ethics</td>\n",
       "      <td>98</td>\n",
       "      <td>96</td>\n",
       "      <td>92</td>\n",
       "    </tr>\n",
       "    <tr>\n",
       "      <th>4</th>\n",
       "      <td>clinical knowledge</td>\n",
       "      <td>259</td>\n",
       "      <td>261</td>\n",
       "      <td>244</td>\n",
       "    </tr>\n",
       "  </tbody>\n",
       "</table>\n",
       "</div>"
      ],
      "text/plain": [
       "              subject  model_x  model_y  model_z\n",
       "0    abstract algebra       95       97       95\n",
       "1             anatomy      129      130      125\n",
       "2           astronomy      144      148      137\n",
       "3     business ethics       98       96       92\n",
       "4  clinical knowledge      259      261      244"
      ]
     },
     "metadata": {},
     "output_type": "display_data"
    }
   ],
   "source": [
    "\n",
    "# Combine the counts into a single dataframe\n",
    "subject_counts = pd.DataFrame({\n",
    "    'model_x': df_x_subject_counts,\n",
    "    'model_y': df_y_subject_counts,\n",
    "    'model_z': df_z_subject_counts\n",
    "}).reset_index()\n",
    "\n",
    "display(subject_counts.head())"
   ]
  },
  {
   "cell_type": "code",
   "execution_count": null,
   "id": "f626a735",
   "metadata": {},
   "outputs": [],
   "source": [
    "# Calculate the percentage difference for each subject\n",
    "subject_counts['diff_x_y'] = (subject_counts['model_y'] - subject_counts['model_x']) / subject_counts['model_x']\n",
    "subject_counts['diff_x_z'] = (subject_counts['model_z'] - subject_counts['model_x']) / subject_counts['model_x']\n",
    "\n",
    "subject_counts['diff_y_x'] = (subject_counts['model_x'] - subject_counts['model_y']) / subject_counts['model_y']\n",
    "subject_counts['diff_y_z'] = (subject_counts['model_z'] - subject_counts['model_y']) / subject_counts['model_y']\n",
    "\n",
    "subject_counts['diff_z_x'] = (subject_counts['model_x'] - subject_counts['model_z']) / subject_counts['model_z']\n",
    "subject_counts['diff_z_y'] = (subject_counts['model_y'] - subject_counts['model_z']) / subject_counts['model_z']"
   ]
  },
  {
   "cell_type": "code",
   "execution_count": 60,
   "id": "aa0927bf",
   "metadata": {},
   "outputs": [
    {
     "data": {
      "text/html": [
       "<div>\n",
       "<style scoped>\n",
       "    .dataframe tbody tr th:only-of-type {\n",
       "        vertical-align: middle;\n",
       "    }\n",
       "\n",
       "    .dataframe tbody tr th {\n",
       "        vertical-align: top;\n",
       "    }\n",
       "\n",
       "    .dataframe thead th {\n",
       "        text-align: right;\n",
       "    }\n",
       "</style>\n",
       "<table border=\"1\" class=\"dataframe\">\n",
       "  <thead>\n",
       "    <tr style=\"text-align: right;\">\n",
       "      <th></th>\n",
       "      <th>subject</th>\n",
       "      <th>model_x</th>\n",
       "      <th>model_y</th>\n",
       "      <th>model_z</th>\n",
       "      <th>diff_x_y</th>\n",
       "      <th>diff_x_z</th>\n",
       "      <th>diff_y_x</th>\n",
       "      <th>diff_y_z</th>\n",
       "      <th>diff_z_x</th>\n",
       "      <th>diff_z_y</th>\n",
       "    </tr>\n",
       "  </thead>\n",
       "  <tbody>\n",
       "    <tr>\n",
       "      <th>0</th>\n",
       "      <td>abstract algebra</td>\n",
       "      <td>95</td>\n",
       "      <td>97</td>\n",
       "      <td>95</td>\n",
       "      <td>0.021053</td>\n",
       "      <td>0.000000</td>\n",
       "      <td>-0.020619</td>\n",
       "      <td>-0.020619</td>\n",
       "      <td>0.000000</td>\n",
       "      <td>0.021053</td>\n",
       "    </tr>\n",
       "    <tr>\n",
       "      <th>1</th>\n",
       "      <td>anatomy</td>\n",
       "      <td>129</td>\n",
       "      <td>130</td>\n",
       "      <td>125</td>\n",
       "      <td>0.007752</td>\n",
       "      <td>-0.031008</td>\n",
       "      <td>-0.007692</td>\n",
       "      <td>-0.038462</td>\n",
       "      <td>0.032000</td>\n",
       "      <td>0.040000</td>\n",
       "    </tr>\n",
       "    <tr>\n",
       "      <th>2</th>\n",
       "      <td>astronomy</td>\n",
       "      <td>144</td>\n",
       "      <td>148</td>\n",
       "      <td>137</td>\n",
       "      <td>0.027778</td>\n",
       "      <td>-0.048611</td>\n",
       "      <td>-0.027027</td>\n",
       "      <td>-0.074324</td>\n",
       "      <td>0.051095</td>\n",
       "      <td>0.080292</td>\n",
       "    </tr>\n",
       "    <tr>\n",
       "      <th>3</th>\n",
       "      <td>business ethics</td>\n",
       "      <td>98</td>\n",
       "      <td>96</td>\n",
       "      <td>92</td>\n",
       "      <td>-0.020408</td>\n",
       "      <td>-0.061224</td>\n",
       "      <td>0.020833</td>\n",
       "      <td>-0.041667</td>\n",
       "      <td>0.065217</td>\n",
       "      <td>0.043478</td>\n",
       "    </tr>\n",
       "    <tr>\n",
       "      <th>4</th>\n",
       "      <td>clinical knowledge</td>\n",
       "      <td>259</td>\n",
       "      <td>261</td>\n",
       "      <td>244</td>\n",
       "      <td>0.007722</td>\n",
       "      <td>-0.057915</td>\n",
       "      <td>-0.007663</td>\n",
       "      <td>-0.065134</td>\n",
       "      <td>0.061475</td>\n",
       "      <td>0.069672</td>\n",
       "    </tr>\n",
       "  </tbody>\n",
       "</table>\n",
       "</div>"
      ],
      "text/plain": [
       "              subject  model_x  model_y  model_z  diff_x_y  diff_x_z  \\\n",
       "0    abstract algebra       95       97       95  0.021053  0.000000   \n",
       "1             anatomy      129      130      125  0.007752 -0.031008   \n",
       "2           astronomy      144      148      137  0.027778 -0.048611   \n",
       "3     business ethics       98       96       92 -0.020408 -0.061224   \n",
       "4  clinical knowledge      259      261      244  0.007722 -0.057915   \n",
       "\n",
       "   diff_y_x  diff_y_z  diff_z_x  diff_z_y  \n",
       "0 -0.020619 -0.020619  0.000000  0.021053  \n",
       "1 -0.007692 -0.038462  0.032000  0.040000  \n",
       "2 -0.027027 -0.074324  0.051095  0.080292  \n",
       "3  0.020833 -0.041667  0.065217  0.043478  \n",
       "4 -0.007663 -0.065134  0.061475  0.069672  "
      ]
     },
     "metadata": {},
     "output_type": "display_data"
    }
   ],
   "source": [
    "display(subject_counts.head())"
   ]
  },
  {
   "cell_type": "code",
   "execution_count": 66,
   "id": "04bcd67b",
   "metadata": {},
   "outputs": [
    {
     "data": {
      "text/html": [
       "<div>\n",
       "<style scoped>\n",
       "    .dataframe tbody tr th:only-of-type {\n",
       "        vertical-align: middle;\n",
       "    }\n",
       "\n",
       "    .dataframe tbody tr th {\n",
       "        vertical-align: top;\n",
       "    }\n",
       "\n",
       "    .dataframe thead th {\n",
       "        text-align: right;\n",
       "    }\n",
       "</style>\n",
       "<table border=\"1\" class=\"dataframe\">\n",
       "  <thead>\n",
       "    <tr style=\"text-align: right;\">\n",
       "      <th></th>\n",
       "      <th>subject</th>\n",
       "      <th>model_x</th>\n",
       "      <th>model_y</th>\n",
       "      <th>model_z</th>\n",
       "      <th>diff_x_y</th>\n",
       "      <th>diff_x_z</th>\n",
       "      <th>diff_y_x</th>\n",
       "      <th>diff_y_z</th>\n",
       "      <th>diff_z_x</th>\n",
       "      <th>diff_z_y</th>\n",
       "    </tr>\n",
       "  </thead>\n",
       "  <tbody>\n",
       "    <tr>\n",
       "      <th>6</th>\n",
       "      <td>college chemistry</td>\n",
       "      <td>96</td>\n",
       "      <td>98</td>\n",
       "      <td>84</td>\n",
       "      <td>0.020833</td>\n",
       "      <td>-0.125000</td>\n",
       "      <td>-0.020408</td>\n",
       "      <td>-0.142857</td>\n",
       "      <td>0.142857</td>\n",
       "      <td>0.166667</td>\n",
       "    </tr>\n",
       "    <tr>\n",
       "      <th>7</th>\n",
       "      <td>college computer science</td>\n",
       "      <td>97</td>\n",
       "      <td>98</td>\n",
       "      <td>84</td>\n",
       "      <td>0.010309</td>\n",
       "      <td>-0.134021</td>\n",
       "      <td>-0.010204</td>\n",
       "      <td>-0.142857</td>\n",
       "      <td>0.154762</td>\n",
       "      <td>0.166667</td>\n",
       "    </tr>\n",
       "    <tr>\n",
       "      <th>11</th>\n",
       "      <td>computer security</td>\n",
       "      <td>95</td>\n",
       "      <td>98</td>\n",
       "      <td>87</td>\n",
       "      <td>0.031579</td>\n",
       "      <td>-0.084211</td>\n",
       "      <td>-0.030612</td>\n",
       "      <td>-0.112245</td>\n",
       "      <td>0.091954</td>\n",
       "      <td>0.126437</td>\n",
       "    </tr>\n",
       "    <tr>\n",
       "      <th>16</th>\n",
       "      <td>formal logic</td>\n",
       "      <td>109</td>\n",
       "      <td>123</td>\n",
       "      <td>113</td>\n",
       "      <td>0.128440</td>\n",
       "      <td>0.036697</td>\n",
       "      <td>-0.113821</td>\n",
       "      <td>-0.081301</td>\n",
       "      <td>-0.035398</td>\n",
       "      <td>0.088496</td>\n",
       "    </tr>\n",
       "    <tr>\n",
       "      <th>22</th>\n",
       "      <td>high school geography</td>\n",
       "      <td>195</td>\n",
       "      <td>193</td>\n",
       "      <td>176</td>\n",
       "      <td>-0.010256</td>\n",
       "      <td>-0.097436</td>\n",
       "      <td>0.010363</td>\n",
       "      <td>-0.088083</td>\n",
       "      <td>0.107955</td>\n",
       "      <td>0.096591</td>\n",
       "    </tr>\n",
       "    <tr>\n",
       "      <th>36</th>\n",
       "      <td>logical fallacies</td>\n",
       "      <td>154</td>\n",
       "      <td>136</td>\n",
       "      <td>147</td>\n",
       "      <td>-0.116883</td>\n",
       "      <td>-0.045455</td>\n",
       "      <td>0.132353</td>\n",
       "      <td>0.080882</td>\n",
       "      <td>0.047619</td>\n",
       "      <td>-0.074830</td>\n",
       "    </tr>\n",
       "    <tr>\n",
       "      <th>40</th>\n",
       "      <td>medical genetics</td>\n",
       "      <td>97</td>\n",
       "      <td>98</td>\n",
       "      <td>89</td>\n",
       "      <td>0.010309</td>\n",
       "      <td>-0.082474</td>\n",
       "      <td>-0.010204</td>\n",
       "      <td>-0.091837</td>\n",
       "      <td>0.089888</td>\n",
       "      <td>0.101124</td>\n",
       "    </tr>\n",
       "    <tr>\n",
       "      <th>42</th>\n",
       "      <td>moral disputes</td>\n",
       "      <td>329</td>\n",
       "      <td>304</td>\n",
       "      <td>250</td>\n",
       "      <td>-0.075988</td>\n",
       "      <td>-0.240122</td>\n",
       "      <td>0.082237</td>\n",
       "      <td>-0.177632</td>\n",
       "      <td>0.316000</td>\n",
       "      <td>0.216000</td>\n",
       "    </tr>\n",
       "    <tr>\n",
       "      <th>43</th>\n",
       "      <td>moral scenarios</td>\n",
       "      <td>737</td>\n",
       "      <td>865</td>\n",
       "      <td>774</td>\n",
       "      <td>0.173677</td>\n",
       "      <td>0.050204</td>\n",
       "      <td>-0.147977</td>\n",
       "      <td>-0.105202</td>\n",
       "      <td>-0.047804</td>\n",
       "      <td>0.117571</td>\n",
       "    </tr>\n",
       "  </tbody>\n",
       "</table>\n",
       "</div>"
      ],
      "text/plain": [
       "                     subject  model_x  model_y  model_z  diff_x_y  diff_x_z  \\\n",
       "6          college chemistry       96       98       84  0.020833 -0.125000   \n",
       "7   college computer science       97       98       84  0.010309 -0.134021   \n",
       "11         computer security       95       98       87  0.031579 -0.084211   \n",
       "16              formal logic      109      123      113  0.128440  0.036697   \n",
       "22     high school geography      195      193      176 -0.010256 -0.097436   \n",
       "36         logical fallacies      154      136      147 -0.116883 -0.045455   \n",
       "40          medical genetics       97       98       89  0.010309 -0.082474   \n",
       "42            moral disputes      329      304      250 -0.075988 -0.240122   \n",
       "43           moral scenarios      737      865      774  0.173677  0.050204   \n",
       "\n",
       "    diff_y_x  diff_y_z  diff_z_x  diff_z_y  \n",
       "6  -0.020408 -0.142857  0.142857  0.166667  \n",
       "7  -0.010204 -0.142857  0.154762  0.166667  \n",
       "11 -0.030612 -0.112245  0.091954  0.126437  \n",
       "16 -0.113821 -0.081301 -0.035398  0.088496  \n",
       "22  0.010363 -0.088083  0.107955  0.096591  \n",
       "36  0.132353  0.080882  0.047619 -0.074830  \n",
       "40 -0.010204 -0.091837  0.089888  0.101124  \n",
       "42  0.082237 -0.177632  0.316000  0.216000  \n",
       "43 -0.147977 -0.105202 -0.047804  0.117571  "
      ]
     },
     "metadata": {},
     "output_type": "display_data"
    },
    {
     "name": "stdout",
     "output_type": "stream",
     "text": [
      "(9, 10)\n"
     ]
    }
   ],
   "source": [
    "# Filter subjects where we have diff_col > 0.1\n",
    "filtered_subjects = subject_counts[\n",
    "    (subject_counts['diff_x_y'].abs() > 0.1) |\n",
    "    (subject_counts['diff_x_z'].abs() > 0.1) |\n",
    "    (subject_counts['diff_y_x'].abs() > 0.1) |\n",
    "    (subject_counts['diff_y_z'].abs() > 0.1) |\n",
    "    (subject_counts['diff_z_x'].abs() > 0.1) |\n",
    "    (subject_counts['diff_z_y'].abs() > 0.1)\n",
    "]\n",
    "\n",
    "display(filtered_subjects)\n",
    "print(filtered_subjects.shape) #9 subjects"
   ]
  },
  {
   "cell_type": "code",
   "execution_count": 65,
   "id": "075c59a0",
   "metadata": {},
   "outputs": [
    {
     "name": "stdout",
     "output_type": "stream",
     "text": [
      "Subjects for which there is a more than 10% difference.\n",
      "6            college chemistry\n",
      "7     college computer science\n",
      "11           computer security\n",
      "16                formal logic\n",
      "22       high school geography\n",
      "36           logical fallacies\n",
      "40            medical genetics\n",
      "42              moral disputes\n",
      "43             moral scenarios\n",
      "Name: subject, dtype: object\n"
     ]
    }
   ],
   "source": [
    "print('Subjects for which there is a more than 10% difference.')\n",
    "print(filtered_subjects['subject'])"
   ]
  },
  {
   "cell_type": "markdown",
   "id": "e4c40211",
   "metadata": {},
   "source": [
    "B. Propose and implement a reasonable way to rebalance the results. (e.g., while throwing away 100% of the results perfectly rebalances the results, it is not reasonable)."
   ]
  },
  {
   "cell_type": "markdown",
   "id": "8461d96d",
   "metadata": {},
   "source": [
    "Idea: we compute which of the 3 models has answered the fewest questions for a given subject. Then we proceed to group by subject and for each subject we can sample the min_answers number of questions for each model. This way we reduce overrepresentation by the models which have answered more questions. "
   ]
  },
  {
   "cell_type": "code",
   "execution_count": 95,
   "id": "88e6e9ec",
   "metadata": {},
   "outputs": [
    {
     "name": "stdout",
     "output_type": "stream",
     "text": [
      "{'abstract algebra': 95, 'anatomy': 125, 'astronomy': 137, 'business ethics': 92, 'clinical knowledge': 244, 'college biology': 131, 'college chemistry': 84, 'college computer science': 84, 'college mathematics': 93, 'college medicine': 161, 'college physics': 91, 'computer security': 87, 'conceptual physics': 212, 'econometrics': 103, 'electrical engineering': 138, 'elementary mathematics': 348, 'formal logic': 109, 'global facts': 92, 'high school biology': 277, 'high school chemistry': 185, 'high school computer science': 90, 'high school european history': 147, 'high school geography': 176, 'high school government and politics': 177, 'high school macroeconomics': 350, 'high school mathematics': 247, 'high school microeconomics': 221, 'high school physics': 136, 'high school psychology': 515, 'high school statistics': 207, 'high school us history': 192, 'high school world history': 222, 'human aging': 202, 'human sexuality': 122, 'international law': 114, 'jurisprudence': 100, 'logical fallacies': 136, 'machine learning': 103, 'management': 93, 'marketing': 217, 'medical genetics': 89, 'miscellaneous': 716, 'moral disputes': 250, 'moral scenarios': 737, 'nutrition': 286, 'philosophy': 282, 'prehistory': 299, 'professional accounting': 261, 'professional law': 1390, 'professional medicine': 257, 'professional psychology': 564, 'public relations': 97, 'security studies': 230, 'sociology': 188, 'us foreign policy': 92, 'virology': 150, 'world religions': 154}\n"
     ]
    }
   ],
   "source": [
    "#Find models that has answered the least question that is our min_count\n",
    "min_counts = subject_counts[['model_x', 'model_y', 'model_z']].min(axis=1)\n",
    "subject_counts['min_answers'] = min_counts\n",
    "#Get dict that maps subject to min_answers count\n",
    "min_answers_dict = subject_counts.set_index('subject')['min_answers'].to_dict()\n",
    "print(min_answers_dict)"
   ]
  },
  {
   "cell_type": "code",
   "execution_count": 98,
   "id": "27057574",
   "metadata": {},
   "outputs": [
    {
     "data": {
      "text/html": [
       "<div>\n",
       "<style scoped>\n",
       "    .dataframe tbody tr th:only-of-type {\n",
       "        vertical-align: middle;\n",
       "    }\n",
       "\n",
       "    .dataframe tbody tr th {\n",
       "        vertical-align: top;\n",
       "    }\n",
       "\n",
       "    .dataframe thead th {\n",
       "        text-align: right;\n",
       "    }\n",
       "</style>\n",
       "<table border=\"1\" class=\"dataframe\">\n",
       "  <thead>\n",
       "    <tr style=\"text-align: right;\">\n",
       "      <th></th>\n",
       "      <th>subject</th>\n",
       "      <th>model_x</th>\n",
       "      <th>model_y</th>\n",
       "      <th>model_z</th>\n",
       "    </tr>\n",
       "  </thead>\n",
       "  <tbody>\n",
       "    <tr>\n",
       "      <th>0</th>\n",
       "      <td>abstract algebra</td>\n",
       "      <td>95</td>\n",
       "      <td>95</td>\n",
       "      <td>95</td>\n",
       "    </tr>\n",
       "    <tr>\n",
       "      <th>1</th>\n",
       "      <td>anatomy</td>\n",
       "      <td>125</td>\n",
       "      <td>125</td>\n",
       "      <td>125</td>\n",
       "    </tr>\n",
       "    <tr>\n",
       "      <th>2</th>\n",
       "      <td>astronomy</td>\n",
       "      <td>137</td>\n",
       "      <td>137</td>\n",
       "      <td>137</td>\n",
       "    </tr>\n",
       "    <tr>\n",
       "      <th>3</th>\n",
       "      <td>business ethics</td>\n",
       "      <td>92</td>\n",
       "      <td>92</td>\n",
       "      <td>92</td>\n",
       "    </tr>\n",
       "    <tr>\n",
       "      <th>4</th>\n",
       "      <td>clinical knowledge</td>\n",
       "      <td>244</td>\n",
       "      <td>244</td>\n",
       "      <td>244</td>\n",
       "    </tr>\n",
       "  </tbody>\n",
       "</table>\n",
       "</div>"
      ],
      "text/plain": [
       "              subject  model_x  model_y  model_z\n",
       "0    abstract algebra       95       95       95\n",
       "1             anatomy      125      125      125\n",
       "2           astronomy      137      137      137\n",
       "3     business ethics       92       92       92\n",
       "4  clinical knowledge      244      244      244"
      ]
     },
     "metadata": {},
     "output_type": "display_data"
    }
   ],
   "source": [
    "def rebalance_model_df(df, min_dict):\n",
    "    # For each subject group in the dataframe, sample a number corresponding to the min_answers dict value\n",
    "    return df.groupby('subject', group_keys=False).apply(\n",
    "        lambda group: group.sample(n=int(min_dict[group.name]), random_state=27)\n",
    "    )\n",
    "\n",
    "# Rebalance each model dataframe\n",
    "df_x_rebalanced = rebalance_model_df(df_x_joined, min_answers_dict)\n",
    "df_y_rebalanced = rebalance_model_df(df_y_joined, min_answers_dict)\n",
    "df_z_rebalanced = rebalance_model_df(df_z_joined, min_answers_dict)\n",
    "\n",
    "# Sanity check: check the models have the same number of questions now\n",
    "df_x_subject_counts_rebalanced = df_x_rebalanced.groupby('subject')['question_id'].count()\n",
    "df_y_subject_counts_rebalanced = df_y_rebalanced.groupby('subject')['question_id'].count()\n",
    "df_z_subject_counts_rebalanced = df_z_rebalanced.groupby('subject')['question_id'].count()\n",
    "\n",
    "subject_counts_rebalanced = pd.DataFrame({\n",
    "    'model_x': df_x_subject_counts_rebalanced,\n",
    "    'model_y': df_y_subject_counts_rebalanced,\n",
    "    'model_z': df_z_subject_counts_rebalanced\n",
    "}).reset_index()\n",
    "\n",
    "display(subject_counts_rebalanced.head())"
   ]
  },
  {
   "cell_type": "markdown",
   "id": "d3b99bf1",
   "metadata": {},
   "source": [
    "Finally, print the updated accuracy on the rebalanced data."
   ]
  },
  {
   "cell_type": "code",
   "execution_count": 99,
   "id": "e558c3f8",
   "metadata": {},
   "outputs": [
    {
     "name": "stdout",
     "output_type": "stream",
     "text": [
      "Average score for model X after rebalancing: 0.7672678585492636\n",
      "Average score for model Y after rebalancing: 0.7471056154997243\n",
      "Average score for model Z after rebalancing: 0.6632275340631645\n",
      "---------------------------------\n",
      "Average score for model X before rebalancing: 0.7674903245013397\n",
      "Average score for model Y before rebalancing: 0.7458490148328537\n",
      "Average score for model Z before rebalancing: 0.663294911001333\n"
     ]
    }
   ],
   "source": [
    "#C\n",
    "print('Average score for model X after rebalancing:', calculate_avg_score(df_x_rebalanced))\n",
    "print('Average score for model Y after rebalancing:', calculate_avg_score(df_y_rebalanced))\n",
    "print('Average score for model Z after rebalancing:', calculate_avg_score(df_z_rebalanced))\n",
    "\n",
    "#check that they are not the same\n",
    "print('---------------------------------')\n",
    "print('Average score for model X before rebalancing:', calculate_avg_score(df_x_joined))\n",
    "print('Average score for model Y before rebalancing:', calculate_avg_score(df_y_joined))\n",
    "print('Average score for model Z before rebalancing:', calculate_avg_score(df_z_joined))"
   ]
  },
  {
   "cell_type": "markdown",
   "id": "1ae0547c",
   "metadata": {},
   "source": [
    "## Task 2 (26 points): What do you mean A > D > B > C...?\n",
    "\n",
    "Nice work! Having successfully inspected, cleaned, and rebalanced the provided data, you head over to director of the government's FIETS project operating under the code name Geronimo. He is happy with your work so far, but worried that the sloppy intern might have done more undetected damage. To be sure, he orders a new set of evaluations of all models on both MMLU and another dataset.\n",
    "\n",
    "After cleaning up and rebalancing, you are left with the concatenated score files in the second folder `task_2`:\n",
    "```\n",
    "task_2/\n",
    "│\n",
    "└── lm_scores_mmlu.csv\n",
    "│\n",
    "└── lm_scores_other.csv\n",
    "```\n",
    "\n",
    "Each has a new column called `model_name`, which is one of `X, Y` or `Z`.\n",
    "\n",
    "\n",
    "\n",
    "_NOTE: **only** use data from `task_2` and `task_2_5` for this assignment! The values in `lm_scores_mmlu.csv` will NOT be the same as the dataframes you finished in task 1. This is due to \"randomness\" or \"temperature\" in language model inference. This can slightly shift around generative results. (Conveniently: it also ensures any mistakes made in Task 1 don't propogate further ;) )_"
   ]
  },
  {
   "cell_type": "code",
   "execution_count": 100,
   "id": "2067ebe2",
   "metadata": {},
   "outputs": [],
   "source": [
    "# PROVIDED CODE\n",
    "df_mmlu = pd.read_csv('data/task_2/lm_scores_mmlu.csv')\n",
    "df_other = pd.read_csv('data/task_2/lm_scores_other.csv')"
   ]
  },
  {
   "cell_type": "markdown",
   "id": "d97ed869",
   "metadata": {},
   "source": [
    "### 2.1 (4 pt)\n",
    "\n",
    "Let's explore the new results:\n",
    "\n",
    "A. Compute the mean accuracy and standard errors of each model on both datasets and print the results.\n",
    "\n",
    "B. Then, show your results in a bar plot using standard errors with a 95% confidence interval around the mean. Make sure the plot is easy to read and well annotated.\n",
    "\n",
    "C. /Discuss:/ the plot you created: (i) can you say that one of the models is the best? (ii) is there anything that seems odd?"
   ]
  },
  {
   "cell_type": "code",
   "execution_count": 151,
   "id": "eb3275d9",
   "metadata": {},
   "outputs": [
    {
     "data": {
      "text/plain": [
       "(35088, 11)"
      ]
     },
     "metadata": {},
     "output_type": "display_data"
    },
    {
     "data": {
      "text/plain": [
       "(11277, 10)"
      ]
     },
     "metadata": {},
     "output_type": "display_data"
    }
   ],
   "source": [
    "display(df_mmlu.shape)\n",
    "display(df_other.shape)"
   ]
  },
  {
   "cell_type": "code",
   "execution_count": 108,
   "id": "6a40408a",
   "metadata": {},
   "outputs": [
    {
     "data": {
      "text/html": [
       "<div>\n",
       "<style scoped>\n",
       "    .dataframe tbody tr th:only-of-type {\n",
       "        vertical-align: middle;\n",
       "    }\n",
       "\n",
       "    .dataframe tbody tr th {\n",
       "        vertical-align: top;\n",
       "    }\n",
       "\n",
       "    .dataframe thead th {\n",
       "        text-align: right;\n",
       "    }\n",
       "</style>\n",
       "<table border=\"1\" class=\"dataframe\">\n",
       "  <thead>\n",
       "    <tr style=\"text-align: right;\">\n",
       "      <th></th>\n",
       "      <th>result</th>\n",
       "      <th>question_id</th>\n",
       "      <th>question</th>\n",
       "      <th>A</th>\n",
       "      <th>B</th>\n",
       "      <th>C</th>\n",
       "      <th>D</th>\n",
       "      <th>answer</th>\n",
       "      <th>subject</th>\n",
       "      <th>correct</th>\n",
       "      <th>model_name</th>\n",
       "    </tr>\n",
       "  </thead>\n",
       "  <tbody>\n",
       "    <tr>\n",
       "      <th>0</th>\n",
       "      <td>B</td>\n",
       "      <td>0</td>\n",
       "      <td>Find the degree for the given field extension ...</td>\n",
       "      <td>0</td>\n",
       "      <td>4</td>\n",
       "      <td>2</td>\n",
       "      <td>6</td>\n",
       "      <td>B</td>\n",
       "      <td>abstract algebra</td>\n",
       "      <td>True</td>\n",
       "      <td>X</td>\n",
       "    </tr>\n",
       "    <tr>\n",
       "      <th>1</th>\n",
       "      <td>C</td>\n",
       "      <td>1</td>\n",
       "      <td>Let p = (1, 2, 5, 4)(2, 3) in S_5 . Find the i...</td>\n",
       "      <td>8</td>\n",
       "      <td>2</td>\n",
       "      <td>24</td>\n",
       "      <td>120</td>\n",
       "      <td>C</td>\n",
       "      <td>abstract algebra</td>\n",
       "      <td>True</td>\n",
       "      <td>X</td>\n",
       "    </tr>\n",
       "    <tr>\n",
       "      <th>2</th>\n",
       "      <td>D</td>\n",
       "      <td>2</td>\n",
       "      <td>Find all zeros in the indicated finite field o...</td>\n",
       "      <td>0</td>\n",
       "      <td>1</td>\n",
       "      <td>0,1</td>\n",
       "      <td>0,4</td>\n",
       "      <td>D</td>\n",
       "      <td>abstract algebra</td>\n",
       "      <td>True</td>\n",
       "      <td>X</td>\n",
       "    </tr>\n",
       "    <tr>\n",
       "      <th>3</th>\n",
       "      <td>B</td>\n",
       "      <td>3</td>\n",
       "      <td>Statement 1 | A factor group of a non-Abelian ...</td>\n",
       "      <td>True, True</td>\n",
       "      <td>False, False</td>\n",
       "      <td>True, False</td>\n",
       "      <td>False, True</td>\n",
       "      <td>B</td>\n",
       "      <td>abstract algebra</td>\n",
       "      <td>True</td>\n",
       "      <td>X</td>\n",
       "    </tr>\n",
       "    <tr>\n",
       "      <th>4</th>\n",
       "      <td>D</td>\n",
       "      <td>7</td>\n",
       "      <td>Statement 1 | A ring homomorphism is one to on...</td>\n",
       "      <td>True, True</td>\n",
       "      <td>False, False</td>\n",
       "      <td>True, False</td>\n",
       "      <td>False, True</td>\n",
       "      <td>D</td>\n",
       "      <td>abstract algebra</td>\n",
       "      <td>True</td>\n",
       "      <td>X</td>\n",
       "    </tr>\n",
       "  </tbody>\n",
       "</table>\n",
       "</div>"
      ],
      "text/plain": [
       "  result  question_id                                           question  \\\n",
       "0      B            0  Find the degree for the given field extension ...   \n",
       "1      C            1  Let p = (1, 2, 5, 4)(2, 3) in S_5 . Find the i...   \n",
       "2      D            2  Find all zeros in the indicated finite field o...   \n",
       "3      B            3  Statement 1 | A factor group of a non-Abelian ...   \n",
       "4      D            7  Statement 1 | A ring homomorphism is one to on...   \n",
       "\n",
       "            A             B            C            D answer  \\\n",
       "0           0             4            2            6      B   \n",
       "1           8             2           24          120      C   \n",
       "2           0             1          0,1          0,4      D   \n",
       "3  True, True  False, False  True, False  False, True      B   \n",
       "4  True, True  False, False  True, False  False, True      D   \n",
       "\n",
       "            subject  correct model_name  \n",
       "0  abstract algebra     True          X  \n",
       "1  abstract algebra     True          X  \n",
       "2  abstract algebra     True          X  \n",
       "3  abstract algebra     True          X  \n",
       "4  abstract algebra     True          X  "
      ]
     },
     "metadata": {},
     "output_type": "display_data"
    }
   ],
   "source": [
    "display(df_mmlu.head())"
   ]
  },
  {
   "cell_type": "code",
   "execution_count": 112,
   "id": "b69b5615",
   "metadata": {},
   "outputs": [
    {
     "name": "stdout",
     "output_type": "stream",
     "text": [
      "MMLU:\n",
      "Model X - Mean Accuracy: 0.74, Standard Error: 0.004038\n",
      "Model Y - Mean Accuracy: 0.76, Standard Error: 0.003941\n",
      "Model Z - Mean Accuracy: 0.66, Standard Error: 0.004393\n",
      "\n",
      "Other:\n",
      "Model X - Mean Accuracy: 0.79, Standard Error: 0.0067\n",
      "Model Y - Mean Accuracy: 0.72, Standard Error: 0.0073\n",
      "Model Z - Mean Accuracy: 0.67, Standard Error: 0.0077\n"
     ]
    }
   ],
   "source": [
    "#A\n",
    "# mean acc grouped by model\n",
    "mean_accuracy_mmlu = df_mmlu.groupby('model_name')['correct'].mean()\n",
    "mean_accuracy_other = df_other.groupby('model_name')['correct'].mean()\n",
    "\n",
    "# std error = std / sqrt(n)\n",
    "std_error_mmlu = df_mmlu.groupby('model_name')['correct'].std() / np.sqrt(df_mmlu.groupby('model_name')['correct'].count())\n",
    "std_error_other = df_other.groupby('model_name')['correct'].std() / np.sqrt(df_other.groupby('model_name')['correct'].count())\n",
    "\n",
    "# Print the results\n",
    "\n",
    "print(\"MMLU:\")\n",
    "for model in mean_accuracy_mmlu.index:\n",
    "    print(f\"Model {model} - Mean Accuracy: {mean_accuracy_mmlu[model]:.2f}, Standard Error: {std_error_mmlu[model]:4f}\")\n",
    "\n",
    "print(\"\\nOther:\")\n",
    "for model in mean_accuracy_other.index:\n",
    "    print(f\"Model {model} - Mean Accuracy: {mean_accuracy_other[model]:.2f}, Standard Error: {std_error_other[model]:.4f}\")"
   ]
  },
  {
   "cell_type": "code",
   "execution_count": 170,
   "id": "680264fb",
   "metadata": {},
   "outputs": [
    {
     "data": {
      "image/png": "[encoded data removed]",
      "text/plain": [
       "<Figure size 1400x800 with 1 Axes>"
      ]
     },
     "metadata": {},
     "output_type": "display_data"
    }
   ],
   "source": [
    "#B\n",
    "import seaborn as sns\n",
    "plt.figure(figsize=(14, 8))\n",
    "data_combined = pd.concat([df_mmlu.assign(dataset='MMLU'), df_other.assign(dataset='Other')])\n",
    "ax = sns.barplot(x='model_name', y='correct', hue='dataset',\n",
    "                 errorbar=('ci', 95), capsize=0.1, data=data_combined)\n",
    "\n",
    "ax.set_title(\"Bar Plot with Mean Accuracy (using standard errors with a 95% confidence interval)\")\n",
    "ax.set_xlabel('Model Name')\n",
    "ax.set_ylabel('Mean Accuracy')\n",
    "ax.set_ylim(0, 1)\n",
    "ax.legend(title='Dataset')\n",
    "\n",
    "# Extract the x-axis model labels (assumes 3 models: X, Y, Z)\n",
    "models = [tick.get_text() for tick in ax.get_xticklabels()]\n",
    "n_models = len(models)\n",
    "\n",
    "# The labels were tough - I htought the order of labeling was: Index 0: Model X, MMLU, Index 1: Model X, Other BUT it turns out that the order is  Index 0: Model X, MMLU Index 1: Model Y, MMLU \n",
    "# Essentially, instead of going left to right, it first labels the MMLU bars and then the Other bars\n",
    "for i, p in enumerate(ax.patches):\n",
    "    height = p.get_height()\n",
    "    if height > 0:\n",
    "        if i < n_models:\n",
    "            dataset = \"MMLU\"\n",
    "            model = models[i]\n",
    "        else:\n",
    "            dataset = \"Other\"\n",
    "            model = models[i - n_models]\n",
    "        se = std_error_mmlu[model] if dataset == \"MMLU\" else std_error_other[model]\n",
    "        label = f\"{height:.2f}\\n±{1.96 * se:.4f}\" # -> 95% confidence interval\n",
    "        ax.annotate(label,\n",
    "                    (p.get_x() + p.get_width() / 2., height),\n",
    "                    ha='center', va='bottom',\n",
    "                    xytext=(0, 12),\n",
    "                    textcoords='offset points', fontsize=10)\n",
    "\n",
    "plt.tight_layout()\n",
    "plt.show()"
   ]
  },
  {
   "cell_type": "markdown",
   "id": "5af9c835",
   "metadata": {},
   "source": [
    "C. - It would seem that model Y has the highest mean accuracy on the MMLU dataset (0.76) while model X has the highest mean accuracy on the Other dataset (0.79). Given those results it is hard to declare one model better than the other. For this we might want to evaluate whether to us performance on one dataset is more critical than the other. What we can say definitively is that model Z has the lowest overall performance across the 2 datasets that we tested. What seemed odd is that the standard errors is always smaller for the MMLU dataset. Looking into the shapes of our data frames we could see -> MMLU: (35088, 11) Other: (11277, 10), therefore we have bigger sample size for the MMLU which generally leads to more precises estimates of the mean accuracy and more confidece in our results. Furthermore, from our visual inspection we can observe that standard errors with 95% confidence interval are not overlapping when comparing the perfromance of models X and Y on the 2 datasets, which implies that models X and Y, eahc perform significantly differently on the 2 datasets. "
   ]
  },
  {
   "cell_type": "markdown",
   "id": "5587c824",
   "metadata": {},
   "source": [
    "### 2.2 (5 pt)\n",
    "\n",
    "Geronimo has assured you that both datasets contain questions of similar difficulty, so, what could be going on here?\n",
    "\n",
    "A. What is the distribution of correct answers (A, B, C, D) for each dataset? Create a bar chart to visualize this.\n",
    "\n",
    "B. Perform a chi-square test at $\\alpha = 0.05$, of independence to determine if there's a significant difference in the distribution of correct answers between the two datasets. What do you conclude?\n",
    "\n",
    "**hints**:\n",
    "- for (A), keep in mind that df_mmlu and df_other contain the results of all models, i.e., the `question_id` column is duplicated.\n",
    "- for (A), take care to clearly annotate the bar chart, e.g., title, y-label, legend.\n",
    "- for (B), clearly state the null hypothesis and alternative hypothesis\n",
    "- use the `chi2_contingency` function from `scipy.stats`\n",
    "- format your results from answer (A) as a 2D array"
   ]
  },
  {
   "cell_type": "code",
   "execution_count": 166,
   "id": "74904507",
   "metadata": {},
   "outputs": [
    {
     "data": {
      "text/plain": [
       "(11696, 11)"
      ]
     },
     "metadata": {},
     "output_type": "display_data"
    },
    {
     "data": {
      "text/plain": [
       "(3759, 10)"
      ]
     },
     "metadata": {},
     "output_type": "display_data"
    },
    {
     "data": {
      "text/plain": [
       "answer\n",
       "A    1611\n",
       "B    2943\n",
       "C    3403\n",
       "D    3739\n",
       "Name: count, dtype: int64"
      ]
     },
     "metadata": {},
     "output_type": "display_data"
    },
    {
     "data": {
      "text/plain": [
       "answer\n",
       "A    1078\n",
       "B    1116\n",
       "C     924\n",
       "D     641\n",
       "Name: count, dtype: int64"
      ]
     },
     "metadata": {},
     "output_type": "display_data"
    }
   ],
   "source": [
    "#A \n",
    "\n",
    "# Remove duplicate questions\n",
    "df_mmlu_unique = df_mmlu.drop_duplicates(subset='question_id')\n",
    "df_other_unique = df_other.drop_duplicates(subset='question_id')\n",
    "\n",
    "# We see reduction by about 1/3 as we would expect\n",
    "display(df_mmlu_unique.shape)\n",
    "display(df_other_unique.shape)\n",
    "\n",
    "# See that distribution of answers is not very even (sort A,B,C,D)\n",
    "distribution_mmlu = df_mmlu_unique['answer'].value_counts().sort_index()\n",
    "distribution_other = df_other_unique['answer'].value_counts().sort_index()\n",
    "display(distribution_mmlu)\n",
    "display(distribution_other)"
   ]
  },
  {
   "cell_type": "code",
   "execution_count": 183,
   "id": "e60c216d",
   "metadata": {},
   "outputs": [
    {
     "name": "stdout",
     "output_type": "stream",
     "text": [
      "[[1611 2943 3403 3739]\n",
      " [1078 1116  924  641]]\n",
      "[[0.1377394  0.25162449 0.29095417 0.31968194]\n",
      " [0.2867784  0.29688747 0.24581006 0.17052408]]\n"
     ]
    }
   ],
   "source": [
    "# 2D array (mmlu, other)\n",
    "table = np.array([distribution_mmlu.values, distribution_other.values])\n",
    "# check correct values\n",
    "print(table)\n",
    "\n",
    "# Normalize so we can also plot with normalized counts since the 2 datasets have diff num of questions\n",
    "row_sums = table.sum(axis=1, keepdims=True)\n",
    "# divide elems by row sums\n",
    "normalized_table = table / row_sums\n",
    "# verify\n",
    "print(normalized_table)"
   ]
  },
  {
   "cell_type": "code",
   "execution_count": 197,
   "id": "d2b2815c",
   "metadata": {},
   "outputs": [],
   "source": [
    "def bar_chart_answer_distribution(table: np.array, title: str, xlabel: str = 'Correct Answer', ylabel: str = 'Frequency'):\n",
    "    x = np.arange(4) \n",
    "    width = 0.35\n",
    "    plt.figure(figsize=(14, 8))\n",
    "    bar1 = plt.bar(x - width/2, table[0], width, label='MMLU')\n",
    "    bar2 = plt.bar(x + width/2, table[1], width, label='Other')\n",
    "\n",
    "    plt.xlabel(xlabel)\n",
    "    plt.ylabel(ylabel)\n",
    "    plt.title(title)\n",
    "    plt.xticks(x, ['A', 'B', 'C', 'D'])\n",
    "    plt.legend(title='Dataset')\n",
    "    plt.grid(axis='y', linestyle='--', alpha=0.7)\n",
    "    plt.tight_layout()\n",
    "    plt.show()"
   ]
  },
  {
   "cell_type": "code",
   "execution_count": 198,
   "id": "bc3f6926",
   "metadata": {},
   "outputs": [
    {
     "data": {
      "image/png": "[encoded data removed]",
      "text/plain": [
       "<Figure size 1400x800 with 1 Axes>"
      ]
     },
     "metadata": {},
     "output_type": "display_data"
    }
   ],
   "source": [
    "bar_chart_answer_distribution(table=table, title='Bar Chart with Distribution of Correct Answers Per Dataset')"
   ]
  },
  {
   "cell_type": "code",
   "execution_count": 199,
   "id": "13481458",
   "metadata": {},
   "outputs": [
    {
     "data": {
      "image/png": "[encoded data removed]",
      "text/plain": [
       "<Figure size 1400x800 with 1 Axes>"
      ]
     },
     "metadata": {},
     "output_type": "display_data"
    }
   ],
   "source": [
    "bar_chart_answer_distribution(normalized_table, title='Bar Chart with Normalized Distribution of Correct Answers Per Dataset ')"
   ]
  },
  {
   "cell_type": "markdown",
   "id": "fd7af1e2",
   "metadata": {},
   "source": [
    "Perform a chi-square test at $\\alpha = 0.05$, of independence to determine if there's a significant difference in the distribution of correct answers between the two datasets. What do you conclude?\n",
    "\n",
    "### Null hypothsis: \n",
    "The distribution of correct answers across categories (A,B,C,D) is the same for both datasets (aka the distribution of answers is independent of the dataset).\n",
    "### Alternative hypothesis:\n",
    "The distribution of correct answers across categories (A,B,C,D) is dependent on the dataset.\n",
    "### Result:\n",
    "With p-value: 4.270849602795191e-136 < 0.05, we can reject the null hypothsis in favor of the alternative hypothesis."
   ]
  },
  {
   "cell_type": "code",
   "execution_count": 200,
   "id": "0c461f94",
   "metadata": {},
   "outputs": [
    {
     "name": "stdout",
     "output_type": "stream",
     "text": [
      "Chi2 Statistic: 629.3959\n",
      "p-value: 4.270849602795191e-136\n",
      "\n",
      "At α = 0.05, we reject the null hypothesis.\n"
     ]
    }
   ],
   "source": [
    "#B\n",
    "from scipy.stats import chi2_contingency\n",
    "\n",
    "chi2, p, dof, expected = chi2_contingency(table)\n",
    "print(f\"Chi2 Statistic: {chi2:.4f}\")\n",
    "print(f\"p-value: {p}\")\n",
    "\n",
    "\n",
    "alpha = 0.05\n",
    "if p < alpha:\n",
    "    conclusion = \"reject\"\n",
    "else:\n",
    "    conclusion = \"fail to reject\"\n",
    "print(f\"\\nAt α = {alpha}, we {conclusion} the null hypothesis.\")"
   ]
  },
  {
   "cell_type": "markdown",
   "id": "c50f875f",
   "metadata": {},
   "source": [
    "### 2.3 (7 pt)\n",
    "\n",
    "Let's dive in deeper:\n",
    "\n",
    "A. What is language model X's mean accuracy conditioned on the four answer options for each dataset?\n",
    "\n",
    "B. Compare LM X's performance when the correct answer is \"A\" between the two datasets. Use a T-test with CI = 0.95. What do you conclude?\n",
    "\n",
    "C. Compare LM X's performance when the correct answer is \"A\" vs. \"C or D\" for each dataset. Use a T-test with CI = 0.95. What do you conclude?"
   ]
  },
  {
   "cell_type": "code",
   "execution_count": 203,
   "id": "f2b265e3",
   "metadata": {},
   "outputs": [
    {
     "name": "stdout",
     "output_type": "stream",
     "text": [
      "LM X Mean Accuracy by Answer Option (MMLU):\n",
      "[0.97268777 0.79918451 0.70790479 0.63359187]\n",
      "\n",
      "LM X Mean Accuracy by Answer Option (Other):\n",
      "[0.97402597 0.80645161 0.67640693 0.60374415]\n"
     ]
    },
    {
     "data": {
      "image/png": "[encoded data removed]",
      "text/plain": [
       "<Figure size 1400x800 with 1 Axes>"
      ]
     },
     "metadata": {},
     "output_type": "display_data"
    }
   ],
   "source": [
    "#A\n",
    "# Get model X | Rem: model x has best performance on other and good preform on MMLU\n",
    "# Other most freq. answers A,B, least D\n",
    "# MMLU most freq. answers C,D, least A\n",
    "df_mmlu_X = df_mmlu[df_mmlu['model_name'] == 'X']\n",
    "df_other_X = df_other[df_other['model_name'] == 'X']\n",
    "\n",
    "answers = ['A', 'B', 'C', 'D']\n",
    "grouped_mmlu = df_mmlu_X.groupby('answer')['correct'].mean().reindex(answers)\n",
    "grouped_other = df_other_X.groupby('answer')['correct'].mean().reindex(answers)\n",
    "\n",
    "grouped_mmlu_array = np.array(grouped_mmlu)\n",
    "grouped_other_array = np.array(grouped_other)\n",
    "\n",
    "print(\"LM X Mean Accuracy by Answer Option (MMLU):\")\n",
    "print(grouped_mmlu_array)\n",
    "print(\"\\nLM X Mean Accuracy by Answer Option (Other):\")\n",
    "print(grouped_other_array)\n",
    "\n",
    "bar_chart_answer_distribution(np.array([grouped_mmlu_array, grouped_other_array]), title='Bar Chart with Mean Accuracy of Model X by Answer Option', xlabel='Answer Option', ylabel='Mean Accuracy (LM X)')\n"
   ]
  },
  {
   "cell_type": "markdown",
   "id": "4c0dd8b7",
   "metadata": {},
   "source": [
    " Compare LM X's performance when the correct answer is \"A\" between the two datasets. Use a T-test with CI = 0.95. What do you conclude?\n",
    "\n",
    "Note: I thought that we use t-test mostly for continuous data nad not binary like correct or not.\n",
    " ### Null hypothesis: LM X’s mean accuracy for questions with correct answer \"A\" is the same across the two datasets.\n",
    " \n",
    " ### Alternative hypothesis: The mean accuracy of LM X on questions with correct answer \"A\" is different between the two datasets\n",
    "\n",
    " ### Conclusion: With p-value: 0.8324 > 0.05 we fail to reject the null hypothesis\n",
    "*This makes sense as can be observed from the graph above\n"
   ]
  },
  {
   "cell_type": "code",
   "execution_count": 213,
   "id": "1e31fdd8",
   "metadata": {},
   "outputs": [
    {
     "name": "stdout",
     "output_type": "stream",
     "text": [
      "t-statistic: -0.2116\n",
      "p-value: 0.8324\n",
      "\n",
      "At α = 0.05, we fail to reject the null hypothesis.\n"
     ]
    }
   ],
   "source": [
    "#B\n",
    "sample_mmlu_A = df_mmlu_X[df_mmlu_X['answer'] == 'A']['correct']\n",
    "sample_other_A = df_other_X[df_other_X['answer'] == 'A']['correct']\n",
    "\n",
    "t_stat_A, p_value_A = ttest_ind(sample_mmlu_A, sample_other_A, equal_var=False)\n",
    "\n",
    "print(f\"t-statistic: {t_stat_A:.4f}\\np-value: {p_value_A:.4f}\")\n",
    "\n",
    "alpha = 0.05\n",
    "if p_value_A < alpha:\n",
    "    conclusion = \"reject\"\n",
    "else:\n",
    "    conclusion = \"fail to reject\"\n",
    "print(f\"\\nAt α = {alpha}, we {conclusion} the null hypothesis.\")\n"
   ]
  },
  {
   "cell_type": "code",
   "execution_count": 208,
   "id": "cd930e06",
   "metadata": {},
   "outputs": [
    {
     "data": {
      "text/plain": [
       "correct\n",
       "True     1567\n",
       "False      44\n",
       "Name: count, dtype: int64"
      ]
     },
     "metadata": {},
     "output_type": "display_data"
    },
    {
     "data": {
      "text/plain": [
       "correct\n",
       "True     1050\n",
       "False      28\n",
       "Name: count, dtype: int64"
      ]
     },
     "metadata": {},
     "output_type": "display_data"
    }
   ],
   "source": [
    "display(sample_mmlu_A.value_counts())\n",
    "display(sample_other_A.value_counts())"
   ]
  },
  {
   "cell_type": "markdown",
   "id": "7f07b936",
   "metadata": {},
   "source": [
    "Compare LM X's performance when the correct answer is \"A\" vs. \"C or D\" for each dataset. Use a T-test with CI = 0.95. What do you conclude?\n",
    "\n",
    "### Null hypothesis: LM X’s mean accuracy for questions with correct answer \"A\" is the same as questions with correct answer \"C\" or \"D\" for the selected dataset.\n",
    " \n",
    "### Alternative hypothesis: The mean accuracy of LM X on questions with correct answer \"A\" is different compared to questions with correct answer \"C\" or \"D\" given the selected dataset.\n",
    "\n",
    "### Conclusion: With p-values < 0.05 we reject the null hypothesis in favor of the alternative hypothesis for both datasets. \n",
    "We confirm this by observing the plot, which clearly indicates that model X performs worse on options C or D compoared to option A. This might indicate that the model is biased towards answering A, thus achieving a higher score there. "
   ]
  },
  {
   "cell_type": "code",
   "execution_count": 218,
   "id": "8f0ecae0",
   "metadata": {},
   "outputs": [
    {
     "name": "stdout",
     "output_type": "stream",
     "text": [
      "\n",
      "Dataset: MMLU\n",
      "t-statistic: 44.0588\n",
      "p-value: 0.0\n",
      "At α = 0.05, we reject the null hypothesis.\n",
      "\n",
      "Dataset: Other\n",
      "t-statistic: 25.1395\n",
      "p-value: 1.1880049447651482e-121\n",
      "At α = 0.05, we reject the null hypothesis.\n"
     ]
    }
   ],
   "source": [
    "#C\n",
    "def A_CD_compare(df, dataset_name):\n",
    "    sample_A = df[df['answer'] == 'A']['correct']\n",
    "    sample_CD = df[df['answer'].isin(['C','D'])]['correct']\n",
    "    t_stat, p_value = ttest_ind(sample_A, sample_CD, equal_var=False)\n",
    "    print(f\"\\nDataset: {dataset_name}\")\n",
    "    print(f\"t-statistic: {t_stat:.4f}\\np-value: {p_value}\")\n",
    "    alpha = 0.05\n",
    "    if p_value < alpha:\n",
    "        conclusion = \"reject\"\n",
    "    else:\n",
    "        conclusion = \"fail to reject\"\n",
    "    print(f\"At α = {alpha}, we {conclusion} the null hypothesis.\")\n",
    "\n",
    "A_CD_compare(df_mmlu_X, \"MMLU\")\n",
    "A_CD_compare(df_other_X, \"Other\")"
   ]
  },
  {
   "cell_type": "markdown",
   "id": "2e1d7754",
   "metadata": {},
   "source": [
    "### 2.4 (2 pt)\n",
    "\n",
    "What an intriguing finding! \n",
    "\n",
    "A. Print the mean accuracies conditioned on the correct answer for all LMs for each dataset.\n",
    "\n",
    "B. /Discuss:/ What do you observe?"
   ]
  },
  {
   "cell_type": "code",
   "execution_count": 222,
   "id": "77801937",
   "metadata": {},
   "outputs": [
    {
     "name": "stdout",
     "output_type": "stream",
     "text": [
      "MMLU - Mean Accuracies Conditioned on the Correct Answer:\n",
      "answer             A         B         C         D\n",
      "model_name                                        \n",
      "X           0.972688  0.799185  0.707905  0.633592\n",
      "Y           0.623836  0.688073  0.733470  0.904252\n",
      "Z           0.643079  0.641182  0.669115  0.661139\n",
      "\n",
      "Other - Mean Accuracies Conditioned on the Correct Answer:\n",
      "answer             A         B         C         D\n",
      "model_name                                        \n",
      "X           0.974026  0.806452  0.676407  0.603744\n",
      "Y           0.625232  0.663978  0.762987  0.920437\n",
      "Z           0.680891  0.667563  0.662338  0.677067\n"
     ]
    }
   ],
   "source": [
    "#A\n",
    "mmlu_answer_means = df_mmlu.groupby(['model_name', 'answer'])['correct'].mean()\n",
    "print(\"MMLU - Mean Accuracies Conditioned on the Correct Answer:\")\n",
    "print(mmlu_answer_means.unstack())\n",
    "\n",
    "other_cond_means = df_other.groupby(['model_name', 'answer'])['correct'].mean()\n",
    "print(\"\\nOther - Mean Accuracies Conditioned on the Correct Answer:\")\n",
    "print(other_cond_means.unstack())"
   ]
  },
  {
   "cell_type": "markdown",
   "id": "e812af06",
   "metadata": {},
   "source": [
    "B. /Discuss:/\n",
    "\n",
    "It seems that model X shows very high accuracy when the correct answer is A in both datasets, followd by B and noticably lower accuracies when the correct answer is C or d\n",
    "\n",
    "On the other hand, model Y is doing the inverse of X, meaning that we observe relatively low performance when the correct answer is A or B but high accuracies for C and D. \n",
    "\n",
    "Lastly, model Z shows somewhat uniform performance across all answer options meaning that we have the same accuracy regardless of which the correct answer is, which is good. However, we also observe a lower performance in general compared to the otehr models.\n",
    "\n",
    "Additionally, since we see similar mean accuracy scores across both datasets we can say that those difference between the 2 models are due to how the models were trained and developed rather than the characteristics of the dataset that they were trained on."
   ]
  },
  {
   "cell_type": "markdown",
   "id": "31947726",
   "metadata": {},
   "source": [
    "### 2.5 (2 pt)\n",
    "\n",
    "Concerned with your findings so far, you quickly consult with Geronimo. After thinking it over, Geronimo concludes that more tests are needed. He orders a second round of MMLU results. However, Geronimo thinks of the following twist: while keeping questions fixed, he randomly permutes the position of the correct answer. The new results can be found in the folder `data/task_2_5/`:\n",
    "```\n",
    "task_2_5/\n",
    "│\n",
    "└── lm_scores_mmlu_shuffle.csv\n",
    "```\n",
    "\n",
    "/Discuss:/ Why would Geronimo do this?\n",
    "\n",
    "When I first observed the mean accuracy for answer A in model X, which was about 0.97, I thought that we might have data leakage and the model was biased toward answering A based on the distribution of correct answers. By permuting the position of the correct answer we can check whether our model is biased towards giving a specific answer. This way we essentially check if the model is understanding and answering the questions or relying on the distribution of correct answers. Our expectation is that a robust model should maintain the same performance regardless of the of the position of hte correct answer."
   ]
  },
  {
   "cell_type": "code",
   "execution_count": 225,
   "id": "9d28e78f",
   "metadata": {},
   "outputs": [
    {
     "name": "stdout",
     "output_type": "stream",
     "text": [
      "MMLU - Mean Accuracies Conditioned on the Correct Answer For the Shuffled Answer Dataset:\n",
      "answer             A         B         C         D\n",
      "model_name                                        \n",
      "X           0.968496  0.804838  0.704530  0.644172\n",
      "Y           0.643293  0.677346  0.741249  0.911945\n",
      "Z           0.665989  0.667865  0.668840  0.661133\n",
      "MMLU - Mean Accuracies Conditioned on the Correct Answer:\n",
      "answer             A         B         C         D\n",
      "model_name                                        \n",
      "X           0.972688  0.799185  0.707905  0.633592\n",
      "Y           0.623836  0.688073  0.733470  0.904252\n",
      "Z           0.643079  0.641182  0.669115  0.661139\n"
     ]
    }
   ],
   "source": [
    "df_mmlu_shuffle = pd.read_csv('data/task_2_5/lm_scores_mmlu_shuffle.csv')\n",
    "mmlu_answer_means_shuffle = df_mmlu_shuffle.groupby(['model_name', 'answer'])['correct'].mean()\n",
    "print(\"MMLU - Mean Accuracies Conditioned on the Correct Answer For the Shuffled Answer Dataset:\")\n",
    "print(mmlu_answer_means_shuffle.unstack())\n",
    "\n",
    "mmlu_answer_means = df_mmlu.groupby(['model_name', 'answer'])['correct'].mean()\n",
    "print(\"MMLU - Mean Accuracies Conditioned on the Correct Answer:\")\n",
    "print(mmlu_answer_means.unstack())"
   ]
  },
  {
   "cell_type": "markdown",
   "id": "ca1ffc90",
   "metadata": {},
   "source": [
    "B. /Discuss:/ Here we can observe that the mean accuracy for A remains high in both the original and shuffled datasets. Similalry, all models have similar perfromance between the 2 datasets indicating that they are not biased towards a specific answer position. If we wanted a stronger confirmation we could perform a statistical test to validate this observation."
   ]
  },
  {
   "cell_type": "markdown",
   "id": "bb158adf",
   "metadata": {},
   "source": [
    "### 2.6 (4 pt)\n",
    "\n",
    "Increasingly sceptical of the language models' performance, you read up on proper testing practices. You stumble upon the concept of [test-rested stability](https://en.wikipedia.org/wiki/Repeatability), which roughtly states that:\n",
    "\n",
    "\"_Measurements taken by a single person or instrument on the same item, under the same conditions, and in a short period of time, should have the same results._\"\n",
    "\n",
    "In our case, we would assume an LM would have the same performance on a given question regardless of the correct answer position. One way of testing this is by using the following metric:\n",
    "\n",
    "$$\\text{test-retest metric} = \\frac{1}{N}\\sum_{i=1}^N \\frac{1}{M}\\sum_{j=1}^M c^i_0 c_j^i,$$\n",
    "\n",
    "where $c^i_0 \\in \\{0, 1\\}$ indicates whether the model answers the $i^{\\text{th}}$ question correctly (1 if correct, 0 if incorrect). $c_j^i$ indicates whether the model answers the $i^{\\text{th}}$ question correctly in the $j^{\\text{th}}$ shuffled version of the answer label content. Finally, $M$ is the total number of shuffles and $N$ is the dataset size.\n",
    "\n",
    "Task: compute the test-retest metric for each language model using the original `lm_scores_mmlu.csv` file and the new `lm_scores_mmlu_shuffle.csv` file. Using a bar plot, visualize your results by comparing the accuracy of the original `lm_scores_mmlu.csv` and the test-retest scores.\n",
    "\n",
    "**hints**\n",
    "- what is $M$ in our case?\n",
    "\n",
    "(bonus: no points, but so much sweet, sweet knowledge - check out [the following article](https://arxiv.org/pdf/2406.19470v1))"
   ]
  },
  {
   "cell_type": "code",
   "execution_count": 231,
   "id": "d7df143a",
   "metadata": {},
   "outputs": [
    {
     "data": {
      "text/plain": [
       "(35088, 11)"
      ]
     },
     "metadata": {},
     "output_type": "display_data"
    },
    {
     "data": {
      "text/plain": [
       "(35088, 11)"
      ]
     },
     "metadata": {},
     "output_type": "display_data"
    },
    {
     "data": {
      "text/html": [
       "<div>\n",
       "<style scoped>\n",
       "    .dataframe tbody tr th:only-of-type {\n",
       "        vertical-align: middle;\n",
       "    }\n",
       "\n",
       "    .dataframe tbody tr th {\n",
       "        vertical-align: top;\n",
       "    }\n",
       "\n",
       "    .dataframe thead th {\n",
       "        text-align: right;\n",
       "    }\n",
       "</style>\n",
       "<table border=\"1\" class=\"dataframe\">\n",
       "  <thead>\n",
       "    <tr style=\"text-align: right;\">\n",
       "      <th></th>\n",
       "      <th>result_orig</th>\n",
       "      <th>question_id</th>\n",
       "      <th>question_orig</th>\n",
       "      <th>A_orig</th>\n",
       "      <th>B_orig</th>\n",
       "      <th>C_orig</th>\n",
       "      <th>D_orig</th>\n",
       "      <th>answer_orig</th>\n",
       "      <th>subject_orig</th>\n",
       "      <th>correct_orig</th>\n",
       "      <th>model_name</th>\n",
       "      <th>result_shuf</th>\n",
       "      <th>question_shuf</th>\n",
       "      <th>A_shuf</th>\n",
       "      <th>B_shuf</th>\n",
       "      <th>C_shuf</th>\n",
       "      <th>D_shuf</th>\n",
       "      <th>answer_shuf</th>\n",
       "      <th>subject_shuf</th>\n",
       "      <th>correct_shuf</th>\n",
       "    </tr>\n",
       "  </thead>\n",
       "  <tbody>\n",
       "    <tr>\n",
       "      <th>0</th>\n",
       "      <td>B</td>\n",
       "      <td>0</td>\n",
       "      <td>Find the degree for the given field extension ...</td>\n",
       "      <td>0</td>\n",
       "      <td>4</td>\n",
       "      <td>2</td>\n",
       "      <td>6</td>\n",
       "      <td>B</td>\n",
       "      <td>abstract algebra</td>\n",
       "      <td>True</td>\n",
       "      <td>X</td>\n",
       "      <td>A</td>\n",
       "      <td>Find the degree for the given field extension ...</td>\n",
       "      <td>4</td>\n",
       "      <td>0</td>\n",
       "      <td>2</td>\n",
       "      <td>6</td>\n",
       "      <td>A</td>\n",
       "      <td>abstract algebra</td>\n",
       "      <td>True</td>\n",
       "    </tr>\n",
       "    <tr>\n",
       "      <th>1</th>\n",
       "      <td>C</td>\n",
       "      <td>1</td>\n",
       "      <td>Let p = (1, 2, 5, 4)(2, 3) in S_5 . Find the i...</td>\n",
       "      <td>8</td>\n",
       "      <td>2</td>\n",
       "      <td>24</td>\n",
       "      <td>120</td>\n",
       "      <td>C</td>\n",
       "      <td>abstract algebra</td>\n",
       "      <td>True</td>\n",
       "      <td>X</td>\n",
       "      <td>C</td>\n",
       "      <td>Let p = (1, 2, 5, 4)(2, 3) in S_5 . Find the i...</td>\n",
       "      <td>8</td>\n",
       "      <td>2</td>\n",
       "      <td>24</td>\n",
       "      <td>120</td>\n",
       "      <td>C</td>\n",
       "      <td>abstract algebra</td>\n",
       "      <td>True</td>\n",
       "    </tr>\n",
       "    <tr>\n",
       "      <th>2</th>\n",
       "      <td>D</td>\n",
       "      <td>2</td>\n",
       "      <td>Find all zeros in the indicated finite field o...</td>\n",
       "      <td>0</td>\n",
       "      <td>1</td>\n",
       "      <td>0,1</td>\n",
       "      <td>0,4</td>\n",
       "      <td>D</td>\n",
       "      <td>abstract algebra</td>\n",
       "      <td>True</td>\n",
       "      <td>X</td>\n",
       "      <td>D</td>\n",
       "      <td>Find all zeros in the indicated finite field o...</td>\n",
       "      <td>0</td>\n",
       "      <td>1</td>\n",
       "      <td>0,1</td>\n",
       "      <td>0,4</td>\n",
       "      <td>D</td>\n",
       "      <td>abstract algebra</td>\n",
       "      <td>True</td>\n",
       "    </tr>\n",
       "    <tr>\n",
       "      <th>3</th>\n",
       "      <td>B</td>\n",
       "      <td>3</td>\n",
       "      <td>Statement 1 | A factor group of a non-Abelian ...</td>\n",
       "      <td>True, True</td>\n",
       "      <td>False, False</td>\n",
       "      <td>True, False</td>\n",
       "      <td>False, True</td>\n",
       "      <td>B</td>\n",
       "      <td>abstract algebra</td>\n",
       "      <td>True</td>\n",
       "      <td>X</td>\n",
       "      <td>C</td>\n",
       "      <td>Statement 1 | A factor group of a non-Abelian ...</td>\n",
       "      <td>True, True</td>\n",
       "      <td>True, False</td>\n",
       "      <td>False, False</td>\n",
       "      <td>False, True</td>\n",
       "      <td>C</td>\n",
       "      <td>abstract algebra</td>\n",
       "      <td>True</td>\n",
       "    </tr>\n",
       "    <tr>\n",
       "      <th>4</th>\n",
       "      <td>D</td>\n",
       "      <td>7</td>\n",
       "      <td>Statement 1 | A ring homomorphism is one to on...</td>\n",
       "      <td>True, True</td>\n",
       "      <td>False, False</td>\n",
       "      <td>True, False</td>\n",
       "      <td>False, True</td>\n",
       "      <td>D</td>\n",
       "      <td>abstract algebra</td>\n",
       "      <td>True</td>\n",
       "      <td>X</td>\n",
       "      <td>D</td>\n",
       "      <td>Statement 1 | A ring homomorphism is one to on...</td>\n",
       "      <td>True, True</td>\n",
       "      <td>False, False</td>\n",
       "      <td>True, False</td>\n",
       "      <td>False, True</td>\n",
       "      <td>D</td>\n",
       "      <td>abstract algebra</td>\n",
       "      <td>True</td>\n",
       "    </tr>\n",
       "  </tbody>\n",
       "</table>\n",
       "</div>"
      ],
      "text/plain": [
       "  result_orig  question_id                                      question_orig  \\\n",
       "0           B            0  Find the degree for the given field extension ...   \n",
       "1           C            1  Let p = (1, 2, 5, 4)(2, 3) in S_5 . Find the i...   \n",
       "2           D            2  Find all zeros in the indicated finite field o...   \n",
       "3           B            3  Statement 1 | A factor group of a non-Abelian ...   \n",
       "4           D            7  Statement 1 | A ring homomorphism is one to on...   \n",
       "\n",
       "       A_orig        B_orig       C_orig       D_orig answer_orig  \\\n",
       "0           0             4            2            6           B   \n",
       "1           8             2           24          120           C   \n",
       "2           0             1          0,1          0,4           D   \n",
       "3  True, True  False, False  True, False  False, True           B   \n",
       "4  True, True  False, False  True, False  False, True           D   \n",
       "\n",
       "       subject_orig  correct_orig model_name result_shuf  \\\n",
       "0  abstract algebra          True          X           A   \n",
       "1  abstract algebra          True          X           C   \n",
       "2  abstract algebra          True          X           D   \n",
       "3  abstract algebra          True          X           C   \n",
       "4  abstract algebra          True          X           D   \n",
       "\n",
       "                                       question_shuf      A_shuf  \\\n",
       "0  Find the degree for the given field extension ...           4   \n",
       "1  Let p = (1, 2, 5, 4)(2, 3) in S_5 . Find the i...           8   \n",
       "2  Find all zeros in the indicated finite field o...           0   \n",
       "3  Statement 1 | A factor group of a non-Abelian ...  True, True   \n",
       "4  Statement 1 | A ring homomorphism is one to on...  True, True   \n",
       "\n",
       "         B_shuf        C_shuf       D_shuf answer_shuf      subject_shuf  \\\n",
       "0             0             2            6           A  abstract algebra   \n",
       "1             2            24          120           C  abstract algebra   \n",
       "2             1           0,1          0,4           D  abstract algebra   \n",
       "3   True, False  False, False  False, True           C  abstract algebra   \n",
       "4  False, False   True, False  False, True           D  abstract algebra   \n",
       "\n",
       "   correct_shuf  \n",
       "0          True  \n",
       "1          True  \n",
       "2          True  \n",
       "3          True  \n",
       "4          True  "
      ]
     },
     "metadata": {},
     "output_type": "display_data"
    }
   ],
   "source": [
    "display(df_mmlu.shape)\n",
    "display(df_mmlu_shuffle.shape)\n",
    "# Merge dataframes on question_id and model_name\n",
    "df_merged = pd.merge(df_mmlu, df_mmlu_shuffle, on=[\"question_id\", \"model_name\"], suffixes=(\"_orig\", \"_shuf\"))\n",
    "# Check that merge actually makes sense\n",
    "display(df_merged.head())"
   ]
  },
  {
   "cell_type": "code",
   "execution_count": 236,
   "id": "46ce6153",
   "metadata": {},
   "outputs": [
    {
     "name": "stdout",
     "output_type": "stream",
     "text": [
      "   Original Accuracy  Test-Retest Metric\n",
      "X           0.743588            0.588406\n",
      "Y           0.761542            0.571648\n",
      "Z           0.655951            0.441604\n"
     ]
    },
    {
     "data": {
      "image/png": "[encoded data removed]",
      "text/plain": [
       "<Figure size 1000x600 with 1 Axes>"
      ]
     },
     "metadata": {},
     "output_type": "display_data"
    }
   ],
   "source": [
    "#fancy code\n",
    "\n",
    "# Compute metrics for each language model\n",
    "lms = ['X', 'Y', 'Z']\n",
    "results = {}\n",
    "\n",
    "for lm in lms:\n",
    "    df_lm = df_merged[df_merged[\"model_name\"] == lm]\n",
    "    original_acc = df_lm[\"correct_orig\"].mean()\n",
    "    #The formula looked scary but once I figured M = 1 since we have 1 shuffle, it was easy to see \n",
    "    # that we just take the mean of the product of the two columns that tell us how the model answered in both original and shuffled datasets\n",
    "    test_retest = (df_lm[\"correct_orig\"] * df_lm[\"correct_shuf\"]).mean()\n",
    "    results[lm] = {\"Original Accuracy\": original_acc, \"Test-Retest Metric\": test_retest}\n",
    "\n",
    "results_df = pd.DataFrame(results).T\n",
    "print(results_df)\n",
    "\n",
    "# Plotting\n",
    "labels = results_df.index\n",
    "x = np.arange(len(labels))\n",
    "width = 0.35\n",
    "\n",
    "fig, ax = plt.subplots(figsize=(10, 6))\n",
    "ax.bar(x - width/2, results_df[\"Original Accuracy\"], width, label=\"Original Accuracy\")\n",
    "ax.bar(x + width/2, results_df[\"Test-Retest Metric\"], width, label=\"Test-Retest Metric\")\n",
    "\n",
    "ax.set_xlabel(\"Language Model\")\n",
    "ax.set_ylabel(\"Score\")\n",
    "ax.set_title(\"Original Accuracy vs. Test-Retest Metric\")\n",
    "ax.set_xticks(x)\n",
    "ax.set_xticklabels(labels)\n",
    "ax.legend()\n",
    "ax.set_ylim(0, 1)\n",
    "plt.tight_layout()\n",
    "plt.show()"
   ]
  },
  {
   "cell_type": "markdown",
   "id": "62d52d93",
   "metadata": {},
   "source": [
    "### 2.7 (2 pt)\n",
    "\n",
    "A. Using the unshuffled data: For each LM, print the distribution of the answers they give as well as the accuracy conditioned on the answer they give.\n",
    "\n",
    "B. /Discuss:/ Describe what you observe\n",
    "\n",
    "[bonus: not scored, but again _that sweet, sweet knowledge_] Could you think of a plausible explanation?"
   ]
  },
  {
   "cell_type": "code",
   "execution_count": 250,
   "id": "579c30cf",
   "metadata": {},
   "outputs": [
    {
     "name": "stdout",
     "output_type": "stream",
     "text": [
      "Model X:\n",
      "\n",
      "Distribution of answers given:\n",
      "result\n",
      "A    4259\n",
      "B    2659\n",
      "C    2409\n",
      "D    2369\n",
      "Name: count, dtype: int64\n",
      "\n",
      "Accuracy when giving each answer:\n",
      "result\n",
      "A    0.367927\n",
      "B    0.884543\n",
      "C    1.000000\n",
      "D    1.000000\n",
      "Name: correct, dtype: float64\n",
      "----------------------\n",
      "Model Y:\n",
      "\n",
      "Distribution of answers given:\n",
      "result\n",
      "A    1072\n",
      "B    2256\n",
      "C    3015\n",
      "D    5353\n",
      "Name: count, dtype: int64\n",
      "\n",
      "Accuracy when giving each answer:\n",
      "result\n",
      "A    0.937500\n",
      "B    0.897606\n",
      "C    0.827861\n",
      "D    0.631608\n",
      "Name: correct, dtype: float64\n",
      "----------------------\n",
      "Model Z:\n",
      "\n",
      "Distribution of answers given:\n",
      "result\n",
      "A    2176\n",
      "B    2885\n",
      "C    3237\n",
      "D    3398\n",
      "Name: count, dtype: int64\n",
      "\n",
      "Accuracy when giving each answer:\n",
      "result\n",
      "A    0.476103\n",
      "B    0.654073\n",
      "C    0.703429\n",
      "D    0.727487\n",
      "Name: correct, dtype: float64\n",
      "----------------------\n"
     ]
    }
   ],
   "source": [
    "#A\n",
    "for model in ['X', 'Y', 'Z']:\n",
    "    print(f\"Model {model}:\")\n",
    "    \n",
    "    # Filter for current model\n",
    "    df_model = df_mmlu[df_mmlu['model_name'] == model]\n",
    "    \n",
    "    # 1. Distribution of answers given\n",
    "    print(\"\\nDistribution of answers given:\")\n",
    "    answer_dist = df_model['result'].value_counts().sort_index()\n",
    "    print(answer_dist)\n",
    "    \n",
    "    # 2. Accuracy conditioned on answer given\n",
    "    print(\"\\nAccuracy when giving each answer:\")\n",
    "    conditional_acc = df_model.groupby('result')['correct'].mean()\n",
    "    print(conditional_acc)\n",
    "    \n",
    "    print(\"----------------------\")"
   ]
  },
  {
   "cell_type": "markdown",
   "id": "e9b4c2e8",
   "metadata": {},
   "source": [
    "B. /Discuss:/\n",
    "\n",
    "We can see that for model X the most frequent answer is A (4260 times) but the accuracy is only ~37%. In contrast, we have perfect accuracy when answering  C or D and a high accuracy when answering B (~88%). Mt guess is that the model simply picks A when it's not sure as it's performance for B,C & D is almost perfect.\n",
    "\n",
    "For model Y we see that D is most frequently picked (5353 times). Similarly, the performance when answering D is lower (~63%). The accuracy for A,B or C is rather high - consistently over 80%. This might suggest that Y employs a similar strategy to A with slightly more risk taking. For example it can pick an otpions when it is 90% certain and if not such option is found then it defaults to D.\n",
    "\n",
    "The answer distriubution for Z seems the most balanced out of the 3. The accuracy seems to improve the more answers this gives going from A (2176 with ~48% acc) to D (3398 with ~73% acc). This model might simply choose the option that has the highest probability of being correct."
   ]
  },
  {
   "cell_type": "markdown",
   "id": "2d45a77b",
   "metadata": {},
   "source": [
    "## Task 3 (16 points): What do Questions and Answers look like for a Language Model?\n",
    "\n",
    "While you feel pretty good about the tests you conducted so far, something still bothers you: what if the language models don't see the data like you do? Suddenly, you receive a phone call from a wise AI sage based in Maastricht named Yodata:\n",
    "\n",
    "```\n",
    "\"Hmmm, correct you are, jonge padawan, to question how the wereld is seen by large language models! Simple 'text,' it is not, nee nee nee! Characters and words, the way of gewone humans, this is not, heh heh heh.\n",
    "\n",
    "'Tokens,' they use, ja! Mysterious and powerful, these tokens are. Expand our vocabulary, they do, beyond the simple 'a to Z.' Chunky blocks of text, they become, yes! 'Hello world,' a simple phrase it may seem. But to a language model, '[24912, 2375]' it might appear, hmm? Verwarrend, it is!\n",
    "\n",
    "Wise, it would be, to explore these MMLU data points through the eyes of a language model, you think? Yes, yes! Much to learn, there is. The ways of the tokens, understand you must, if truly comprehend the great LMs, you wish to.\n",
    "\n",
    "Meditate on this, you should. The force of natural language processing, strong it is. But geduld, you must have, my jonge padawan. For only through great study and contemplation, will the mysteries of the tokens reveal themselves to you, they will. Ja, hmmm!\"\n",
    "```\n",
    "\n",
    "Admittingly, Yodata at times speaks in riddles... However, he was explaining a crucial aspect of modern LMs called [Tokenization](https://learn.microsoft.com/en-us/dotnet/ai/conceptual/understanding-tokens):\n",
    "\n",
    "\n",
    "“Tokens are words, character sets, or combinations of words and punctuation that are used by [language models (LMs)] to decompose text into. Tokenization is the first step in training”\n",
    "\n",
    "Instead of characters, LMs process natural language using “tokens”. While this is useful for a number of reasons, it does at times introduce some “unintuitive” behavior…"
   ]
  },
  {
   "cell_type": "code",
   "execution_count": 251,
   "id": "001c4c53",
   "metadata": {},
   "outputs": [
    {
     "name": "stdout",
     "output_type": "stream",
     "text": [
      "installing tiktoken package\n"
     ]
    },
    {
     "name": "stderr",
     "output_type": "stream",
     "text": [
      "\n",
      "[notice] A new release of pip is available: 23.3.2 -> 25.0\n",
      "[notice] To update, run: python.exe -m pip install --upgrade pip\n"
     ]
    },
    {
     "name": "stdout",
     "output_type": "stream",
     "text": [
      "Collecting tiktoken\n",
      "  Downloading tiktoken-0.8.0-cp312-cp312-win_amd64.whl.metadata (6.8 kB)\n",
      "Collecting regex>=2022.1.18 (from tiktoken)\n",
      "  Downloading regex-2024.11.6-cp312-cp312-win_amd64.whl.metadata (41 kB)\n",
      "     ---------------------------------------- 0.0/41.5 kB ? eta -:--:--\n",
      "     -------------------------------------  41.0/41.5 kB 991.0 kB/s eta 0:00:01\n",
      "     -------------------------------------- 41.5/41.5 kB 666.1 kB/s eta 0:00:00\n",
      "Requirement already satisfied: requests>=2.26.0 in c:\\users\\wk218\\appdata\\local\\programs\\python\\python312\\lib\\site-packages (from tiktoken) (2.28.1)\n",
      "Requirement already satisfied: charset-normalizer<3,>=2 in c:\\users\\wk218\\appdata\\local\\programs\\python\\python312\\lib\\site-packages (from requests>=2.26.0->tiktoken) (2.1.1)\n",
      "Requirement already satisfied: idna<4,>=2.5 in c:\\users\\wk218\\appdata\\local\\programs\\python\\python312\\lib\\site-packages (from requests>=2.26.0->tiktoken) (3.6)\n",
      "Requirement already satisfied: urllib3<1.27,>=1.21.1 in c:\\users\\wk218\\appdata\\local\\programs\\python\\python312\\lib\\site-packages (from requests>=2.26.0->tiktoken) (1.26.18)\n",
      "Requirement already satisfied: certifi>=2017.4.17 in c:\\users\\wk218\\appdata\\local\\programs\\python\\python312\\lib\\site-packages (from requests>=2.26.0->tiktoken) (2023.11.17)\n",
      "Downloading tiktoken-0.8.0-cp312-cp312-win_amd64.whl (883 kB)\n",
      "   ---------------------------------------- 0.0/883.8 kB ? eta -:--:--\n",
      "   - -------------------------------------- 30.7/883.8 kB 1.3 MB/s eta 0:00:01\n",
      "   -- ------------------------------------ 61.4/883.8 kB 656.4 kB/s eta 0:00:02\n",
      "   ---- --------------------------------- 112.6/883.8 kB 939.4 kB/s eta 0:00:01\n",
      "   ------- -------------------------------- 174.1/883.8 kB 1.1 MB/s eta 0:00:01\n",
      "   --------- ------------------------------ 204.8/883.8 kB 1.0 MB/s eta 0:00:01\n",
      "   ----------- ---------------------------- 256.0/883.8 kB 1.1 MB/s eta 0:00:01\n",
      "   -------------- ------------------------- 317.4/883.8 kB 1.0 MB/s eta 0:00:01\n",
      "   ---------------- ----------------------- 368.6/883.8 kB 1.0 MB/s eta 0:00:01\n",
      "   ------------------- -------------------- 419.8/883.8 kB 1.0 MB/s eta 0:00:01\n",
      "   ------------------- -------------------- 419.8/883.8 kB 1.0 MB/s eta 0:00:01\n",
      "   ------------------- -------------------- 419.8/883.8 kB 1.0 MB/s eta 0:00:01\n",
      "   ------------------- ------------------ 450.6/883.8 kB 880.6 kB/s eta 0:00:01\n",
      "   ------------------- ------------------ 450.6/883.8 kB 880.6 kB/s eta 0:00:01\n",
      "   ---------------------- --------------- 522.2/883.8 kB 819.2 kB/s eta 0:00:01\n",
      "   ------------------------- ------------ 583.7/883.8 kB 874.1 kB/s eta 0:00:01\n",
      "   --------------------------- ---------- 645.1/883.8 kB 903.1 kB/s eta 0:00:01\n",
      "   -------------------------------- ----- 747.5/883.8 kB 962.5 kB/s eta 0:00:01\n",
      "   ---------------------------------------  880.6/883.8 kB 1.1 MB/s eta 0:00:01\n",
      "   ---------------------------------------- 883.8/883.8 kB 1.1 MB/s eta 0:00:00\n",
      "Downloading regex-2024.11.6-cp312-cp312-win_amd64.whl (273 kB)\n",
      "   ---------------------------------------- 0.0/273.6 kB ? eta -:--:--\n",
      "   ---------------------- ----------------- 153.6/273.6 kB 3.1 MB/s eta 0:00:01\n",
      "   ---------------------------------- ----- 235.5/273.6 kB 2.9 MB/s eta 0:00:01\n",
      "   ---------------------------------------- 273.6/273.6 kB 2.4 MB/s eta 0:00:00\n",
      "Installing collected packages: regex, tiktoken\n",
      "Successfully installed regex-2024.11.6 tiktoken-0.8.0\n",
      "humans see: \"hello world\" --> language models see: [24912, 2375]\n"
     ]
    }
   ],
   "source": [
    "# PROVIDED CODE\n",
    "\n",
    "try:\n",
    "    import tiktoken\n",
    "except Exception as e:\n",
    "    print('installing tiktoken package')\n",
    "    \n",
    "    !pip install tiktoken\n",
    "    \n",
    "    import tiktoken\n",
    "\n",
    "def tokenize_text(s):\n",
    "    enc = tiktoken.encoding_for_model('gpt-4o')\n",
    "    tokens = enc.encode(str(s))\n",
    "    return tokens\n",
    "\n",
    "example_string = 'hello world'\n",
    "print(f'humans see: \"{example_string}\" --> language models see: {tokenize_text(example_string)}')"
   ]
  },
  {
   "cell_type": "markdown",
   "id": "0ab56227",
   "metadata": {},
   "source": [
    "### 3.1 (5 pt)\n",
    "\n",
    "Use the provided code in the cell above to \"see the world through the eyes of a language model\":\n",
    "\n",
    "A. Tokenize the questions of the original MMLU data provided in task 1: `task_1/mmlu_data/test.csv` and plot the token distribution (the frequency of each token).\n",
    "\n",
    "B. Same as (A), but now for the answers in columns (columns \"A\", \"B\", \"C\", and \"D\").\n",
    "\n",
    "C. Isolate the tokens for the strings \"A\", \"B\", \"C\", and \"D\", then, for their occurances in both questions and answers, print their relative distribution to each other.\n",
    "\n",
    "**hint**\n",
    "- There are a _lot_ of tokens, consider using a cutoff point and log scale\n",
    "- For (c), they should sum to 1"
   ]
  },
  {
   "cell_type": "code",
   "execution_count": 267,
   "id": "a00f69cf",
   "metadata": {
    "scrolled": true
   },
   "outputs": [
    {
     "data": {
      "image/png": "[encoded data removed]",
      "text/plain": [
       "<Figure size 1200x600 with 1 Axes>"
      ]
     },
     "metadata": {},
     "output_type": "display_data"
    }
   ],
   "source": [
    "#A\n",
    "from collections import Counter\n",
    "\n",
    "df = pd.read_csv(\"data/task_1/mmlu_data/test.csv\")\n",
    "question_tokens = []\n",
    "for q in df['question'].dropna():\n",
    "    question_tokens.extend(tokenize_text(q))\n",
    "\n",
    "# Count frequencies\n",
    "q_counter = Counter(question_tokens)\n",
    "\n",
    "# Curoff 20\n",
    "top_q = q_counter.most_common(20)\n",
    "tokens_top, freq_top = zip(*top_q)\n",
    "\n",
    "plt.figure(figsize=(12, 6))\n",
    "plt.bar(range(len(tokens_top)), freq_top)\n",
    "plt.xlabel(\"Tokens (top 20)\")\n",
    "plt.ylabel(\"Frequency (log scale)\")\n",
    "# Log scale\n",
    "plt.yscale('log')\n",
    "plt.title(\"Token Distribution in Questions (Top 20 Tokens)\")\n",
    "plt.xticks(range(len(tokens_top)), tokens_top)\n",
    "plt.tight_layout()\n",
    "plt.show()"
   ]
  },
  {
   "cell_type": "markdown",
   "id": "a9bf539b",
   "metadata": {},
   "source": [
    "Same as (A), but now for the answers in columns (columns \"A\", \"B\", \"C\", and \"D\")."
   ]
  },
  {
   "cell_type": "code",
   "execution_count": 266,
   "id": "7f4ce783",
   "metadata": {},
   "outputs": [
    {
     "data": {
      "image/png": "[encoded data removed]",
      "text/plain": [
       "<Figure size 1200x600 with 1 Axes>"
      ]
     },
     "metadata": {},
     "output_type": "display_data"
    }
   ],
   "source": [
    "#B\n",
    "answer_tokens = []\n",
    "# Combine all answers from the four columns\n",
    "for col in ['A', 'B', 'C', 'D']:\n",
    "    for ans in df[col]:\n",
    "        answer_tokens.extend(tokenize_text(ans))\n",
    "\n",
    "a_counter = Counter(answer_tokens)\n",
    "top_a = a_counter.most_common(20)\n",
    "tokens_top_a, freq_top_a = zip(*top_a)\n",
    "\n",
    "plt.figure(figsize=(12, 6))\n",
    "plt.bar(range(len(tokens_top_a)), freq_top_a)\n",
    "plt.xlabel(\"Token IDs (top 20)\")\n",
    "plt.ylabel(\"Frequency (log scale)\")\n",
    "plt.yscale('log')\n",
    "plt.title(\"Token Distribution in Answer Options (Top 20 Tokens)\")\n",
    "plt.xticks(range(len(tokens_top_a)), tokens_top_a)\n",
    "plt.tight_layout()\n",
    "plt.show()"
   ]
  },
  {
   "cell_type": "markdown",
   "id": "157d8c7e",
   "metadata": {},
   "source": [
    " Isolate the tokens for the strings \"A\", \"B\", \"C\", and \"D\", then, for their occurances in both questions and answers, print their relative distribution to each other."
   ]
  },
  {
   "cell_type": "code",
   "execution_count": 283,
   "id": "8015e92e",
   "metadata": {},
   "outputs": [
    {
     "name": "stdout",
     "output_type": "stream",
     "text": [
      "Token for letter 'A': [32]\n",
      "Token for letter 'B': [33]\n",
      "Token for letter 'C': [34]\n",
      "Token for letter 'D': [35]\n",
      "\n",
      "Letter counts:\n"
     ]
    },
    {
     "data": {
      "text/plain": [
       "{'A': 3314, 'B': 252, 'C': 425, 'D': 195}"
      ]
     },
     "metadata": {},
     "output_type": "display_data"
    },
    {
     "name": "stdout",
     "output_type": "stream",
     "text": [
      "Relative distribution:\n"
     ]
    },
    {
     "data": {
      "text/plain": [
       "{'A': 0.7916865742952699,\n",
       " 'B': 0.06020066889632107,\n",
       " 'C': 0.10152890587673197,\n",
       " 'D': 0.046583850931677016}"
      ]
     },
     "metadata": {},
     "output_type": "display_data"
    }
   ],
   "source": [
    "#C\n",
    "# We first tokenize each of the strings \"A\", \"B\", \"C\", and \"D\".\n",
    "letters = ['A', 'B', 'C', 'D']\n",
    "letter_tokens = {}\n",
    "for l in letters:\n",
    "    token_id = tokenize_text(l)\n",
    "    print(f\"Token for letter '{l}': {token_id}\")\n",
    "    letter_tokens[l] = token_id[0]\n",
    "\n",
    "# Combine all tokens from questions and answers into one list.\n",
    "all_tokens = question_tokens + answer_tokens\n",
    "\n",
    "all_counter = Counter(all_tokens)\n",
    "letter_counts = {}\n",
    "for l in letters:\n",
    "    token = letter_tokens[l] # get token for letter\n",
    "    count = all_counter[token] # get count for letter\n",
    "    letter_counts[l] = count # add count to letter_counts\n",
    "\n",
    "print(\"\\nLetter counts:\")\n",
    "display(letter_counts)\n",
    "# Compute relative distribution - individual_count / sum_total\n",
    "total = sum(letter_counts.values())\n",
    "rel_distribution = {l: letter_counts[l] / total for l in letters}\n",
    "print(\"Relative distribution:\")\n",
    "display(rel_distribution)"
   ]
  },
  {
   "cell_type": "markdown",
   "id": "2a9d0055",
   "metadata": {},
   "source": [
    "### 3.2 (3 pt)\n",
    "\n",
    "What if the number of \"A\", \"B\", \"C\", and \"D\" tokens in the question and answer pairs could influence a language model's decisions?\n",
    "\n",
    "A. For each question-answer pair, compute: \n",
    "1. the number of \"A\", \"B\", \"C\", and \"D\" tokens that occur in the combined question and answers; \n",
    "2. an the total number of tokens.\n",
    "3. then, group by the \"correct\" answer and compute the mean frequency of A, B, C, and D tokens and the total number of tokens. \n",
    "4. finally, print your results\n",
    "\n",
    "B. /Discuss:/ What do you think of the hypothesis that the frequency of A, B, C, and D tokens could influence answers?\n"
   ]
  },
  {
   "cell_type": "code",
   "execution_count": 323,
   "id": "243ed15c",
   "metadata": {},
   "outputs": [
    {
     "name": "stdout",
     "output_type": "stream",
     "text": [
      "        A_count  B_count  C_count  D_count  total_tokens\n",
      "answer                                                  \n",
      "A         0.157    0.007    0.013    0.004        92.820\n",
      "B         0.167    0.011    0.011    0.005        88.619\n",
      "C         0.158    0.010    0.016    0.005        92.449\n",
      "D         0.166    0.005    0.017    0.005        91.854\n"
     ]
    }
   ],
   "source": [
    "df = pd.read_csv(\"data/task_1/mmlu_data/test.csv\")\n",
    "\n",
    "def count_tokens_per_row(row):\n",
    "    # Combine question and answer options\n",
    "    combined = \" \".join([\n",
    "        str(row['question']),\n",
    "        str(row['A']),\n",
    "        str(row['B']),\n",
    "        str(row['C']),\n",
    "        str(row['D'])\n",
    "    ])\n",
    "    \n",
    "    # Tokenize\n",
    "    tokens = tokenize_text(combined)\n",
    "    token_counter = Counter(tokens)\n",
    "    \n",
    "    # Extract counts for each letter token using letter tokens from earlier\n",
    "    counts = {f\"{letter}_count\": token_counter.get(letter_tokens[letter], 0)\n",
    "              for letter in letters}\n",
    "    \n",
    "    counts[\"total_tokens\"] = len(tokens)\n",
    "    return pd.Series(counts)\n",
    "\n",
    "# Apply to all rows\n",
    "token_counts = df.apply(count_tokens_per_row, axis=1)\n",
    "\n",
    "# Merge counts with original data and remove duplicate columns\n",
    "df_combined = pd.concat([df, token_counts], axis=1)\n",
    "\n",
    "# Group by the correct answer and compute means\n",
    "grouped_results = df_combined.groupby('answer')[[\n",
    "    'A_count', 'B_count', 'C_count', 'D_count', 'total_tokens'\n",
    "]].mean()\n",
    "\n",
    "print(grouped_results.round(3))"
   ]
  },
  {
   "cell_type": "markdown",
   "id": "020511d4",
   "metadata": {},
   "source": [
    "B. /Discuss:/  What do you think of the hypothesis that the frequency of A, B, C, and D tokens could influence answers?\n",
    "\n",
    "we see that regardless of which answer is correct token A occurs most often and somewhat consistently. On the other hand, we see that the occurent of the D token is the most rare. The hypothesis that the frequency of A,B,C and D migth influence results might not hold since the general frequency of tokens is rather low compared to the average total_tokens that we observe. "
   ]
  },
  {
   "cell_type": "markdown",
   "id": "c2b42b74",
   "metadata": {},
   "source": [
    "### 3.3 (4 pt)\n",
    "\n",
    "Three of the most important considerations when deciding between language models are:\n",
    "\n",
    "Quality\n",
    "Costs\n",
    "Speed\n",
    "\n",
    "So far, much of your analysis has focused on quality. However, the government has indicated that they are quite concerned about both the total costs and speed as well. Specifically, it has been brought to their attention that a new `turbo` model has been launched! \n",
    "\n",
    "This model is both cheaper and faster than the models you evaluated so far. However, there is a catch: the context length* is much smaller than that of the other LMS. Namely, it can only process **300** tokens during inference. Meanwhile, the other models can process up to 100K tokens! \n",
    "\n",
    "*_The “context length” refers to the number of tokens that can be given to an LM as input._\n",
    "\n",
    "A. Are there subjects where using the cheaper model might be problematic? I.e., where part of the question and answer(s) might not fit completely in the context?\n",
    "\n",
    "B. /Discuss:/ Can you think of a strategy that would balance the needs of the government?\n",
    "\n",
    "**hint**:\n",
    "- An LM needs to have both the question and the different answer options in its context"
   ]
  },
  {
   "cell_type": "code",
   "execution_count": 16,
   "id": "f365f2b6",
   "metadata": {},
   "outputs": [],
   "source": [
    "#A"
   ]
  },
  {
   "cell_type": "markdown",
   "id": "4231fdc6",
   "metadata": {},
   "source": [
    "B. /Discuss:/"
   ]
  },
  {
   "cell_type": "markdown",
   "id": "44558c5d",
   "metadata": {},
   "source": [
    "### 3.4 (4 pt)\n",
    "\n",
    "/Discuss:/ The time has come to give your final recommendation on the use of LMs in education to the government! Taking into account everything you analyzed in all the preceding tasks (1, 2, and 3), please write a short recommendation consisting of 4 bullet points discussing your concerns."
   ]
  },
  {
   "cell_type": "markdown",
   "id": "61c2e634",
   "metadata": {},
   "source": [
    "B. /Discuss:/\n",
    "\n",
    "1.\n",
    "\n",
    "2.\n",
    "\n",
    "3.\n",
    "\n",
    "4."
   ]
  }
 ],
 "metadata": {
  "kernelspec": {
   "display_name": "Python 3",
   "language": "python",
   "name": "python3"
  },
  "language_info": {
   "codemirror_mode": {
    "name": "ipython",
    "version": 3
   },
   "file_extension": ".py",
   "mimetype": "text/x-python",
   "name": "python",
   "nbconvert_exporter": "python",
   "pygments_lexer": "ipython3",
   "version": "3.12.1"
  }
 },
 "nbformat": 4,
 "nbformat_minor": 5
}
