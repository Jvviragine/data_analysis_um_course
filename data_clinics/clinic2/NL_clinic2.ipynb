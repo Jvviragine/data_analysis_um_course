{
 "cells": [
  {
   "cell_type": "markdown",
   "id": "895feafc",
   "metadata": {},
   "source": [
    "(Placeholder for your group #)\n",
    "\n",
    "(Placeholder for your names)\n",
    "\n",
    "(Placeholder for your i-numbers)"
   ]
  },
  {
   "cell_type": "markdown",
   "id": "08c85891",
   "metadata": {},
   "source": [
    "**Use of genAI tools (e.g. chatGPT), websites (e.g. stackoverflow)**: *list websites where you found code (or other info) as well as include information on how you used genAI tools*"
   ]
  },
  {
   "cell_type": "markdown",
   "id": "6b08998c",
   "metadata": {},
   "source": [
    "# Data Analysis, Clinic 2\n",
    "\n",
    "By completing and delivering the clinic tasks you will know how to :\n",
    "\n",
    "- Preprocess data and make it amenable to statistical analysis and machine learning models;\n",
    "- Train and test out-of-the-box machine learning models in `sklearn`;\n",
    "- Carry out simple logistic regression analysis;\n",
    "- Evaluate classification models based on different metrics;\n",
    "- Assess how your model performance can improve\n",
    "- Reflect on the greater impact of the models you develop\n",
    "\n",
    "---\n",
    "\n",
    "## Important Dates\n",
    "\n",
    "- Homework release: Fri, 7th Feb\n",
    "- **Homework due**: Mon, 17th Feb late night (wildcards possible, apply to the group)\n",
    "\n",
    "---\n",
    "\n",
    "##  Some rules\n",
    "\n",
    "* We have provided `TODO` comments in the code cells that you need to fill out with your solutions. For some questions, we have also provided `Your response` comments, where you should provide a textual answer.\n",
    "\n",
    "* You are allowed to use any built-in Python library that is included in the `requirements.txt` for this homework. If you use any additional library, this may complicate the grading process, and we reserve the right to penalize your grade for unnecessary complexity of the solution. All the questions can be solved with the libraries in `requirements.txt`.\n",
    "\n",
    "* Make sure that you include a proper amount/mix of comments, results and code. More specifically, be sure to provide a concise textual description of your thought process, the assumptions you made, the solution you implemented, and explanations for your answers. A notebook that only has code cells will not suffice. To avoid confusion: use short comments for longer code answers.\n",
    "\n",
    "* Back up any hypotheses and claims with data, since this is an important aspect of the course.\n",
    "\n",
    "* Please write all your comments in English, and use meaningful variable names (as possible) in your code. \n",
    "\n",
    "* In the end, make sure that all cells are executed properly and everything you need to show is in your (execucted) notebook. We will not run your notebook for you! \n",
    "\n",
    "- In continuation to the previous point, interactive plots, such as those generated using the ‘plotly’ package, should be strictly avoided! Make sure to print results and/or dataframes that confirm you have properly addressed the task.\n",
    "\n",
    "* You are asked to deliver **only your executed notebook file, .ipnyb** and nothing else. If you deliver other files, we will not grade anything.\n",
    "\n",
    "* Honor code applies to these tasks. If you are not certain about an action, consult with Jerry.\n",
    "\n",
    "**A Note from Jerry on using Language Models (LMs)**\n",
    "\n",
    "If you try hard enough, you will likely get away with cheating (that does not only apply to LMs). Fortunately, my job is not to police, but rather to educate you. So, please consider the following:\n",
    "\n",
    "I assume that you are taking this course to learn something! LMs are not always right ([they often fail in silly ways](https://community.openai.com/t/why-9-11-is-larger-than-9-9-incredible/869824/4)). This course should prepare you to detect when they are wrong!\n",
    "\n",
    "I don't restrict the use of LMs because I see the value of being helped when coding (esp. in the context of pandas dataframes nightmare :)). Based on what we saw last year in your notebooks, it's pretty clear when you \"copy\" some code and then you struggle to interpret the results. This is the essence of this course and of the skills you should try build for yourself: Many people can run fancy models these days but not many people can interpret the results correctly. Try to be the latter ones.\n",
    "\n",
    "\n",
    "\n",
    "---\n",
    "\n",
    "\n",
    "## Grading \n",
    "- The homework has a total of 100 points, distributed as follows:\n",
    "    - Part 1: Data Preprocessing (20 points)\n",
    "    - Part 2: Linear Regression (30 points)\n",
    "    - Part 3: Supervised Learning (40 points)\n",
    "    - Part 4: The Aftermath (5 points)"
   ]
  },
  {
   "cell_type": "markdown",
   "id": "7c6f0a9b",
   "metadata": {},
   "source": [
    "## Context\n",
    "\n",
    "Within DACS, you are excited to start an internship as a data scientist.\n",
    "After rounds of interviews, you have been selected to work with the biggest car dealership in the Netherlands !\n",
    "\n",
    "Your mentor at the company Jerasimosu, has explained to you that the company is interested in a pricing model for used cars. \n",
    "\n",
    "- Jerasimosu: \"We have a lot of used cars in our inventory, and we need to determine the price at which we should sell these cars. We have some ideas about the factors that influence the price of a used car, but so far we have just been using our experience and intuition to determine the price of a used car. Sometimes it works, but probably we can do better and a more data-driven approach would also help our new employees in the sales team as they have less experience.\"\n",
    "\n",
    "- You: \"That sounds like a great project! What kind of data do we have?\"\n",
    "\n",
    "- Jerasimosu: \"We sell all kinds of cars here, but maybe we can start with a specific brand and model. For example, the Toyota Corolla is the best-selling car worldwide in 2023, and we have a lot of data on it. We can start by analyzing the data on used Toyota Corolla cars. If it works well, we can extend the analysis to other brands.\"\n",
    "\n",
    "The dataset contains the following columns:\n",
    "\n",
    "- `Age`: Age of the car in months.\n",
    "- `Mileage`: Number of distance the car has been driven. (km or miles)\n",
    "- `FuelType`: Fuel type of the car (Petrol, Diesel, or CNG)\n",
    "- `HP`: Horsepower\n",
    "- `MetColor`: Is the color of the car metallic? (Yes=1, No=0)\n",
    "- `Automatic`: Is the car automatic? (Yes=1, No=0)\n",
    "- `CC`: Cylinder volume in cubic centimeters\n",
    "- `Doors`: Number of doors\n",
    "- `Weight`: Weight of the car in kilograms\n",
    "- `Price`: Price of the car in euros\n",
    "\n",
    "\n",
    "## Data\n",
    "\n",
    "The data is provided in the `data` folder and it contains the following 3 csv files:\n",
    "- `Task1-2.ToyotaCorolla.csv` for Part 1 and Part 2\n",
    "- `Task3.ToyotaCorolla_sales_3months.csv` for Part 3\n",
    "\n",
    "You should not use any other data source for this homework.\n",
    "\n",
    "For some questions, you might need to slightly modify the data. But overall, you should avoid making any major changes to the data, which may affect your analysis.\n",
    "\n",
    "## References:\n",
    "\n",
    "The data is based on the ToyotaCorolla dataset from the UCI Machine Learning Repository [here](https://archive.ics.uci.edu/ml/datasets/Toyota+Corolla).\n",
    "We have made some modifications to the original dataset, so please use the data provided in the `data` folder in the course repo."
   ]
  },
  {
   "cell_type": "markdown",
   "id": "b36859d6",
   "metadata": {},
   "source": [
    "## Task 1 (20 pts) - Get to know the data"
   ]
  },
  {
   "cell_type": "code",
   "execution_count": 21,
   "id": "ccd6fa08",
   "metadata": {},
   "outputs": [],
   "source": [
    "import pandas as pd\n",
    "import numpy as np\n",
    "import matplotlib.pyplot as plt\n",
    "import statsmodels.api as sm\n",
    "import random\n",
    "import sklearn\n",
    "\n",
    "# fix random seed for reproducibility\n",
    "np.random.seed(42)\n",
    "random.seed(42)"
   ]
  },
  {
   "cell_type": "markdown",
   "id": "f502c087",
   "metadata": {},
   "source": [
    "\n",
    "**1.1 (2 pts)**: Load the data from the file `Task1-2.ToyotaCorolla-raw.csv` into a pandas DataFrame. Display the first 5 rows of the DataFrame. Hint: A naive loading of the data will raise an error. You will need to figure out how to load the data correctly. (Hint: localise which row is causing the error)"
   ]
  },
  {
   "cell_type": "code",
   "execution_count": 3,
   "id": "be0f8ee6",
   "metadata": {},
   "outputs": [
    {
     "data": {
      "text/html": [
       "<div>\n",
       "<style scoped>\n",
       "    .dataframe tbody tr th:only-of-type {\n",
       "        vertical-align: middle;\n",
       "    }\n",
       "\n",
       "    .dataframe tbody tr th {\n",
       "        vertical-align: top;\n",
       "    }\n",
       "\n",
       "    .dataframe thead th {\n",
       "        text-align: right;\n",
       "    }\n",
       "</style>\n",
       "<table border=\"1\" class=\"dataframe\">\n",
       "  <thead>\n",
       "    <tr style=\"text-align: right;\">\n",
       "      <th></th>\n",
       "      <th>Price</th>\n",
       "      <th>Age</th>\n",
       "      <th>Mileage</th>\n",
       "      <th>FuelType</th>\n",
       "      <th>HP</th>\n",
       "      <th>MetColor</th>\n",
       "      <th>Automatic</th>\n",
       "      <th>CC</th>\n",
       "      <th>Doors</th>\n",
       "      <th>Weight</th>\n",
       "      <th>Currency</th>\n",
       "    </tr>\n",
       "  </thead>\n",
       "  <tbody>\n",
       "    <tr>\n",
       "      <th>0</th>\n",
       "      <td>13500.0</td>\n",
       "      <td>23</td>\n",
       "      <td>46986.0</td>\n",
       "      <td>Diesel</td>\n",
       "      <td>90</td>\n",
       "      <td>1</td>\n",
       "      <td>0</td>\n",
       "      <td>2000</td>\n",
       "      <td>3</td>\n",
       "      <td>1165</td>\n",
       "      <td>EURO</td>\n",
       "    </tr>\n",
       "    <tr>\n",
       "      <th>1</th>\n",
       "      <td>11878.0</td>\n",
       "      <td>23</td>\n",
       "      <td>72937.0</td>\n",
       "      <td>Diesel</td>\n",
       "      <td>90</td>\n",
       "      <td>1</td>\n",
       "      <td>0</td>\n",
       "      <td>2000</td>\n",
       "      <td>3</td>\n",
       "      <td>1165</td>\n",
       "      <td>CHF</td>\n",
       "    </tr>\n",
       "    <tr>\n",
       "      <th>2</th>\n",
       "      <td>12050.0</td>\n",
       "      <td>24</td>\n",
       "      <td>41711.0</td>\n",
       "      <td>Diesel</td>\n",
       "      <td>90</td>\n",
       "      <td>1</td>\n",
       "      <td>0</td>\n",
       "      <td>2000</td>\n",
       "      <td>3</td>\n",
       "      <td>1165</td>\n",
       "      <td>CHF</td>\n",
       "    </tr>\n",
       "    <tr>\n",
       "      <th>3</th>\n",
       "      <td>12914.0</td>\n",
       "      <td>26</td>\n",
       "      <td>48000.0</td>\n",
       "      <td>Diesel</td>\n",
       "      <td>90</td>\n",
       "      <td>0</td>\n",
       "      <td>0</td>\n",
       "      <td>2000</td>\n",
       "      <td>3</td>\n",
       "      <td>1165</td>\n",
       "      <td>CHF</td>\n",
       "    </tr>\n",
       "    <tr>\n",
       "      <th>4</th>\n",
       "      <td>11878.0</td>\n",
       "      <td>30</td>\n",
       "      <td>38500.0</td>\n",
       "      <td>Diesel</td>\n",
       "      <td>90</td>\n",
       "      <td>0</td>\n",
       "      <td>0</td>\n",
       "      <td>2000</td>\n",
       "      <td>3</td>\n",
       "      <td>1170</td>\n",
       "      <td>CHF</td>\n",
       "    </tr>\n",
       "  </tbody>\n",
       "</table>\n",
       "</div>"
      ],
      "text/plain": [
       "     Price  Age  Mileage FuelType  HP  MetColor  Automatic    CC  Doors  \\\n",
       "0  13500.0   23  46986.0   Diesel  90         1          0  2000      3   \n",
       "1  11878.0   23  72937.0   Diesel  90         1          0  2000      3   \n",
       "2  12050.0   24  41711.0   Diesel  90         1          0  2000      3   \n",
       "3  12914.0   26  48000.0   Diesel  90         0          0  2000      3   \n",
       "4  11878.0   30  38500.0   Diesel  90         0          0  2000      3   \n",
       "\n",
       "   Weight Currency  \n",
       "0    1165     EURO  \n",
       "1    1165      CHF  \n",
       "2    1165      CHF  \n",
       "3    1165      CHF  \n",
       "4    1170      CHF  "
      ]
     },
     "metadata": {},
     "output_type": "display_data"
    },
    {
     "name": "stdout",
     "output_type": "stream",
     "text": [
      "(1437, 11)\n",
      "Price        float64\n",
      "Age            int64\n",
      "Mileage      float64\n",
      "FuelType      object\n",
      "HP             int64\n",
      "MetColor       int64\n",
      "Automatic      int64\n",
      "CC             int64\n",
      "Doors          int64\n",
      "Weight         int64\n",
      "Currency      object\n",
      "dtype: object\n"
     ]
    }
   ],
   "source": [
    "import io # I assume that using a default python library is fine\n",
    "# Read the entire file as text\n",
    "with open('data/Task1-2.ToyotaCorolla-raw.csv', 'r', encoding='utf-8') as f:\n",
    "    raw_text = f.read()\n",
    "\n",
    "# fix special cases where where the wrong delimiter is used\n",
    "fixed_text = raw_text.replace(';', ',')\n",
    "\n",
    "# Remove the first instance of a comma in line 33 so we can load the csv \n",
    "lines = fixed_text.split('\\n')\n",
    "lines[32] = lines[32].replace(',', '', 1)\n",
    "fixed_text = '\\n'.join(lines)\n",
    "\n",
    "# Use StringIO to create a file-like object from our fixed text.\n",
    "fixed_csv = io.StringIO(fixed_text)\n",
    "\n",
    "# Now we can load hte csv\n",
    "df = pd.read_csv(fixed_csv)\n",
    "\n",
    "# We clean the price column by removing special symbols and commas \n",
    "# (special cases 15,398,499999999998 - here the second comma has to be replaced with '.' )\n",
    "df['Price'] = (df['Price']\n",
    "               .astype(str)\n",
    "               .apply(lambda x: x.replace(',', '', 1).replace(',', '.', 1))\n",
    "               .str.replace('\"', '')\n",
    "               .str.replace('£', '')\n",
    "               .astype(float))\n",
    "\n",
    "# We clean the mileage column by removing a special symbol (ß) and converting to float\n",
    "df['Mileage'] = (df['Mileage']\n",
    "                 .astype(str)\n",
    "                 .str.replace('ß', '')  \n",
    "                 .astype(float))\n",
    "\n",
    "\n",
    "display(df.head(5))\n",
    "print(df.shape)\n",
    "print(df.dtypes)"
   ]
  },
  {
   "cell_type": "markdown",
   "id": "b0b5f57b",
   "metadata": {},
   "source": [
    "**1.2 (2 pts)**: Check if there are nan values in the Dataframe. If there are, try to find out which row is problematic and fix it. If you can't fix it, drop the row."
   ]
  },
  {
   "cell_type": "code",
   "execution_count": 8,
   "id": "a1197b0a",
   "metadata": {},
   "outputs": [
    {
     "data": {
      "text/html": [
       "<div>\n",
       "<style scoped>\n",
       "    .dataframe tbody tr th:only-of-type {\n",
       "        vertical-align: middle;\n",
       "    }\n",
       "\n",
       "    .dataframe tbody tr th {\n",
       "        vertical-align: top;\n",
       "    }\n",
       "\n",
       "    .dataframe thead th {\n",
       "        text-align: right;\n",
       "    }\n",
       "</style>\n",
       "<table border=\"1\" class=\"dataframe\">\n",
       "  <thead>\n",
       "    <tr style=\"text-align: right;\">\n",
       "      <th></th>\n",
       "      <th>Price</th>\n",
       "      <th>Age</th>\n",
       "      <th>Mileage</th>\n",
       "      <th>FuelType</th>\n",
       "      <th>HP</th>\n",
       "      <th>MetColor</th>\n",
       "      <th>Automatic</th>\n",
       "      <th>CC</th>\n",
       "      <th>Doors</th>\n",
       "      <th>Weight</th>\n",
       "      <th>Currency</th>\n",
       "    </tr>\n",
       "  </thead>\n",
       "  <tbody>\n",
       "    <tr>\n",
       "      <th>906</th>\n",
       "      <td>8423.0;68;58860.0;Petrol;110;1;0;1600;3;1055;CHF</td>\n",
       "      <td>NaN</td>\n",
       "      <td>NaN</td>\n",
       "      <td>NaN</td>\n",
       "      <td>NaN</td>\n",
       "      <td>NaN</td>\n",
       "      <td>NaN</td>\n",
       "      <td>NaN</td>\n",
       "      <td>NaN</td>\n",
       "      <td>NaN</td>\n",
       "      <td>NaN</td>\n",
       "    </tr>\n",
       "  </tbody>\n",
       "</table>\n",
       "</div>"
      ],
      "text/plain": [
       "                                                Price  Age Mileage FuelType  \\\n",
       "906  8423.0;68;58860.0;Petrol;110;1;0;1600;3;1055;CHF  NaN     NaN      NaN   \n",
       "\n",
       "     HP  MetColor  Automatic  CC  Doors  Weight Currency  \n",
       "906 NaN       NaN        NaN NaN    NaN     NaN      NaN  "
      ]
     },
     "metadata": {},
     "output_type": "display_data"
    }
   ],
   "source": [
    "#TODO\n",
    "nan_rows = df[df.isna().any(axis=1)]\n",
    "display(nan_rows)"
   ]
  },
  {
   "cell_type": "markdown",
   "id": "b21916c7",
   "metadata": {},
   "source": [
    "after fix (*the fix is now added in the file reading section at the top)"
   ]
  },
  {
   "cell_type": "code",
   "execution_count": 4,
   "id": "9c81eb88",
   "metadata": {},
   "outputs": [
    {
     "data": {
      "text/html": [
       "<div>\n",
       "<style scoped>\n",
       "    .dataframe tbody tr th:only-of-type {\n",
       "        vertical-align: middle;\n",
       "    }\n",
       "\n",
       "    .dataframe tbody tr th {\n",
       "        vertical-align: top;\n",
       "    }\n",
       "\n",
       "    .dataframe thead th {\n",
       "        text-align: right;\n",
       "    }\n",
       "</style>\n",
       "<table border=\"1\" class=\"dataframe\">\n",
       "  <thead>\n",
       "    <tr style=\"text-align: right;\">\n",
       "      <th></th>\n",
       "      <th>Price</th>\n",
       "      <th>Age</th>\n",
       "      <th>Mileage</th>\n",
       "      <th>FuelType</th>\n",
       "      <th>HP</th>\n",
       "      <th>MetColor</th>\n",
       "      <th>Automatic</th>\n",
       "      <th>CC</th>\n",
       "      <th>Doors</th>\n",
       "      <th>Weight</th>\n",
       "      <th>Currency</th>\n",
       "    </tr>\n",
       "  </thead>\n",
       "  <tbody>\n",
       "  </tbody>\n",
       "</table>\n",
       "</div>"
      ],
      "text/plain": [
       "Empty DataFrame\n",
       "Columns: [Price, Age, Mileage, FuelType, HP, MetColor, Automatic, CC, Doors, Weight, Currency]\n",
       "Index: []"
      ]
     },
     "metadata": {},
     "output_type": "display_data"
    }
   ],
   "source": [
    "nan_rows = df[df.isna().any(axis=1)]\n",
    "display(nan_rows)"
   ]
  },
  {
   "cell_type": "markdown",
   "id": "303e0f76",
   "metadata": {},
   "source": [
    "**1.3 (4 pts): Compute the mean, median of the `Price` column.**\n",
    "\n",
    "- Compute the mean and median of the `Price` column. If you encounter error, try to understand why this error is happening and propose a solution.\n",
    "\n",
    "Hint: Is all values in the `Price` column numerical?\n"
   ]
  },
  {
   "cell_type": "code",
   "execution_count": 5,
   "id": "5d7b18e2",
   "metadata": {},
   "outputs": [
    {
     "name": "stdout",
     "output_type": "stream",
     "text": [
      "count     1437.000000\n",
      "mean      9439.505810\n",
      "std       3223.323161\n",
      "min       3758.000000\n",
      "25%       7343.000000\n",
      "50%       8595.000000\n",
      "75%      10323.000000\n",
      "max      28074.000000\n",
      "Name: Price, dtype: float64\n",
      "\n",
      "Mean price: 9439.505809951286\n",
      "Median price: 8595.0\n"
     ]
    }
   ],
   "source": [
    "#TODO\n",
    "df['Price'] = (df['Price']\n",
    "               .astype(str)\n",
    "               .str.replace('\"', '')  # Remove quotes\n",
    "               .str.replace(',', '')  # Remove commas\n",
    "               .astype(float))        # Convert to float\n",
    "\n",
    "# We can check the dtype of the price now\n",
    "print(df['Price'].describe())\n",
    "\n",
    "# Compute mean price\n",
    "mean_price = df['Price'].mean()\n",
    "# Compute median price\n",
    "median_price = df['Price'].median()\n",
    "\n",
    "print(f'\\nMean price: {mean_price}')\n",
    "print(f'Median price: {median_price}')"
   ]
  },
  {
   "cell_type": "code",
   "execution_count": 6,
   "id": "7f294e77",
   "metadata": {},
   "outputs": [
    {
     "data": {
      "text/plain": [
       "15646.9"
      ]
     },
     "metadata": {},
     "output_type": "display_data"
    },
    {
     "data": {
      "text/plain": [
       "15398.499999999998"
      ]
     },
     "metadata": {},
     "output_type": "display_data"
    },
    {
     "data": {
      "text/plain": [
       "4089.9999"
      ]
     },
     "metadata": {},
     "output_type": "display_data"
    }
   ],
   "source": [
    "# Sanity check: some special cases were converted correctly\n",
    "display(df['Price'][31])\n",
    "display(df['Price'][34])\n",
    "display(df['Price'][1369])"
   ]
  },
  {
   "cell_type": "markdown",
   "id": "62a727c9",
   "metadata": {},
   "source": [
    "**1.4 (4 pts): Convert Units**\n",
    "\n",
    "You notice that some prices are in CHF (Swiss Francs), while others are in EUR (Euros) or GBP (British Pounds). Additionally, for cars priced in GBP, the mileage is in miles rather than kilometers.\n",
    "\n",
    "For consistency, convert all prices to EUR and all distances to kilometers.\n",
    "\n",
    "- Exchange rates:\n",
    "  - 1 CHF = 1.05 EUR\n",
    "  - 1 GBP = 1.15 EUR\n",
    "  - 1 mile = 1.61 km\n",
    "\n",
    "Make the following conversions:\n",
    "1. Convert prices in CHF or GBP to EUR, rounding to the nearest integer.\n",
    "2. Convert distances in miles (for GBP cars) to kilometers, rounding to the nearest integer.\n",
    "3. Drop the 'Currency' column.\n",
    "4. Calculate the min, mean, median and max of the 'Price' and 'Distance' columns after the conversion."
   ]
  },
  {
   "cell_type": "code",
   "execution_count": 7,
   "id": "b4fc4a86",
   "metadata": {},
   "outputs": [],
   "source": [
    "#TODO\n",
    "\n",
    "chf = 1.05\n",
    "gbp = 1.15\n",
    "mile = 1.61\n",
    "\n",
    "def convert_eur(row):\n",
    "    if row['Currency'] == 'CHF':\n",
    "        row['Price'] = row['Price'] * chf\n",
    "    elif row['Currency'] == 'GBP':\n",
    "        row['Price'] = row['Price'] * gbp\n",
    "    return round(row['Price'])\n",
    "\n",
    "def convert_km(row):\n",
    "    if row['Currency'] == 'GBP':\n",
    "        row['Mileage'] = row['Mileage'] * mile\n",
    "    return round(row['Mileage'])\n",
    "\n",
    "df['Price'] = df.apply(convert_eur, axis=1)\n",
    "df['Mileage'] = df.apply(convert_km, axis=1)\n",
    "\n",
    "df = df.drop('Currency', axis=1)"
   ]
  },
  {
   "cell_type": "code",
   "execution_count": 8,
   "id": "70333972",
   "metadata": {},
   "outputs": [
    {
     "name": "stdout",
     "output_type": "stream",
     "text": [
      "Price info (EUR):\n",
      "min        3946.000000\n",
      "mean       9879.322895\n",
      "median     9025.000000\n",
      "max       29478.000000\n",
      "Name: Price, dtype: float64\n",
      "\n",
      "Mileage info (km):\n",
      "min            1.000000\n",
      "mean       68491.092554\n",
      "median     63328.000000\n",
      "max       243000.000000\n",
      "Name: Mileage, dtype: float64\n"
     ]
    }
   ],
   "source": [
    "price_stats = df['Price'].agg(['min', 'mean', 'median', 'max'])\n",
    "mileage_stats = df['Mileage'].agg(['min', 'mean', 'median', 'max'])\n",
    "\n",
    "print(\"Price info (EUR):\")\n",
    "print(price_stats)\n",
    "print(\"\\nMileage info (km):\")\n",
    "print(mileage_stats)"
   ]
  },
  {
   "cell_type": "markdown",
   "id": "a0cf32bd",
   "metadata": {},
   "source": [
    "**1.5 (2 pts): Analyze Average Price**\n",
    "\n",
    "A.  Print the average price for each fuel type. Determine which fuel type has the highest average price.\n",
    "\n",
    "B.  Print the average price for different numbers of doors. Determine which number of doors has the highest average price."
   ]
  },
  {
   "cell_type": "code",
   "execution_count": 9,
   "id": "31e405cd",
   "metadata": {},
   "outputs": [
    {
     "data": {
      "text/plain": [
       "FuelType\n",
       "Petrol    1265\n",
       "Diesel     155\n",
       "CNG         17\n",
       "Name: count, dtype: int64"
      ]
     },
     "metadata": {},
     "output_type": "display_data"
    },
    {
     "data": {
      "text/plain": [
       "Doors\n",
       "5    674\n",
       "3    623\n",
       "4    138\n",
       "2      2\n",
       "Name: count, dtype: int64"
      ]
     },
     "metadata": {},
     "output_type": "display_data"
    }
   ],
   "source": [
    "#TODO\n",
    "display(df['FuelType'].value_counts())\n",
    "display(df['Doors'].value_counts())"
   ]
  },
  {
   "cell_type": "code",
   "execution_count": 10,
   "id": "374b0e1a",
   "metadata": {},
   "outputs": [
    {
     "name": "stdout",
     "output_type": "stream",
     "text": [
      "Average price by fuel type:\n"
     ]
    },
    {
     "data": {
      "text/plain": [
       "FuelType\n",
       "Diesel    10366.490323\n",
       "Petrol     9834.777866\n",
       "CNG        8752.176471\n",
       "Name: Price, dtype: float64"
      ]
     },
     "metadata": {},
     "output_type": "display_data"
    },
    {
     "name": "stdout",
     "output_type": "stream",
     "text": [
      "Fuel type with highest avg. price:  Diesel\n",
      "\n",
      "Average price by number of doors:\n"
     ]
    },
    {
     "data": {
      "text/plain": [
       "Doors\n",
       "5    10578.637982\n",
       "3     9320.285714\n",
       "4     9024.297101\n",
       "2     7347.000000\n",
       "Name: Price, dtype: float64"
      ]
     },
     "metadata": {},
     "output_type": "display_data"
    },
    {
     "name": "stdout",
     "output_type": "stream",
     "text": [
      "Num doors with highest avg. price:  5\n"
     ]
    }
   ],
   "source": [
    "avg_price_fuel_type = df.groupby('FuelType')['Price'].mean().sort_values(ascending=False)\n",
    "avg_price_num_doors = df.groupby('Doors')['Price'].mean().sort_values(ascending=False)\n",
    "\n",
    "print(\"Average price by fuel type:\")\n",
    "display(avg_price_fuel_type)\n",
    "print(\"Fuel type with highest avg. price: \", avg_price_fuel_type.index[0])\n",
    "\n",
    "print(\"\\nAverage price by number of doors:\")\n",
    "display(avg_price_num_doors)\n",
    "print(\"Num doors with highest avg. price: \", avg_price_num_doors.index[0])"
   ]
  },
  {
   "cell_type": "markdown",
   "id": "f9fa4698",
   "metadata": {},
   "source": [
    "**1.6 (2 pts): Relationship Between Car Age and Price**\n",
    "\n",
    "It is intuitive that an older car tends to be cheaper, and a car with more mileage might also be less expensive. \n",
    "\n",
    "To explore this intuition, create two scatter plots:\n",
    "1. Car Age vs Price\n",
    "2. Mileage vs Price"
   ]
  },
  {
   "cell_type": "code",
   "execution_count": 11,
   "id": "c1ac6aee",
   "metadata": {},
   "outputs": [
    {
     "data": {
      "image/png": "[encoded data removed]",
      "text/plain": [
       "<Figure size 1200x500 with 2 Axes>"
      ]
     },
     "metadata": {},
     "output_type": "display_data"
    }
   ],
   "source": [
    "#TODO\n",
    "# 2 subplots side by side\n",
    "fig, (ax1, ax2) = plt.subplots(1, 2, figsize=(12, 5))\n",
    "\n",
    "# First scatter plot: Age vs Price\n",
    "ax1.scatter(df['Age'], df['Price'], alpha=0.5)\n",
    "ax1.set_xlabel('Age (years)')\n",
    "ax1.set_ylabel('Price (EUR)')\n",
    "ax1.set_title('Car Age vs Price')\n",
    "\n",
    "# Second scatter plot: Mileage vs Price\n",
    "ax2.scatter(df['Mileage'], df['Price'], alpha=0.5)\n",
    "ax2.set_xlabel('Mileage (km)')\n",
    "ax2.set_ylabel('Price (EUR)')\n",
    "ax2.set_title('Mileage vs Price')\n",
    "\n",
    "plt.tight_layout()\n",
    "plt.show()"
   ]
  },
  {
   "cell_type": "markdown",
   "id": "0f6531d1",
   "metadata": {},
   "source": [
    "**1.7 (4 pts): Correlation Between Price and Mileage**\n",
    "\n",
    "The relationship between car price and mileage appears non-linear, with a steeper price drop initially followed by a flatter curve.\n",
    "\n",
    "A.(2 pts)  Calculate both the Pearson and Spearman correlations between the price of the car and the distance driven.\n"
   ]
  },
  {
   "cell_type": "code",
   "execution_count": 12,
   "id": "718ca9aa",
   "metadata": {},
   "outputs": [
    {
     "name": "stdout",
     "output_type": "stream",
     "text": [
      "Pearson correlation coefficient: -0.564\n",
      "Spearman correlation coefficient: -0.604\n"
     ]
    }
   ],
   "source": [
    "#TODO\n",
    "pearson_corr = df['Price'].corr(df['Mileage'], method='pearson')\n",
    "spearman_corr = df['Price'].corr(df['Mileage'], method='spearman')\n",
    "\n",
    "print(f\"Pearson correlation coefficient: {pearson_corr:.3f}\")\n",
    "print(f\"Spearman correlation coefficient: {spearman_corr:.3f}\")"
   ]
  },
  {
   "cell_type": "code",
   "execution_count": 13,
   "id": "c9281d25",
   "metadata": {},
   "outputs": [
    {
     "name": "stdout",
     "output_type": "stream",
     "text": [
      "Pearson correlation coefficient: -0.871\n",
      "Spearman correlation coefficient: -0.832\n"
     ]
    }
   ],
   "source": [
    "pearson_corr = df['Price'].corr(df['Age'], method='pearson')\n",
    "spearman_corr = df['Price'].corr(df['Age'], method='spearman')\n",
    "\n",
    "print(f\"Pearson correlation coefficient: {pearson_corr:.3f}\")\n",
    "print(f\"Spearman correlation coefficient: {spearman_corr:.3f}\")"
   ]
  },
  {
   "cell_type": "markdown",
   "id": "ee3638a1",
   "metadata": {},
   "source": [
    "\n",
    "B.(2 pts)  Which correlation value is higher? Does this result align with your expectations?"
   ]
  },
  {
   "cell_type": "markdown",
   "id": "addf1654",
   "metadata": {},
   "source": [
    "Your Response:\n",
    "\n",
    "//**//"
   ]
  },
  {
   "cell_type": "markdown",
   "id": "4827d3d8",
   "metadata": {},
   "source": [
    "## Part 2 Linear Regression (30 pts)\n",
    "\n",
    "You want to build a linear regression model to predict the price of a car based on the features you have.\n",
    "\n"
   ]
  },
  {
   "cell_type": "markdown",
   "id": "058120ef",
   "metadata": {},
   "source": [
    "**2.0 (8 pts) Helper functions**\n",
    "\n",
    "Before building the linear regression model, you need to implement some helper functions.\n",
    "\n",
    " Implement the `accuracy` , `precision`, `recall` and `f1_score` functions. \n",
    "\n",
    "1. These functions should take in the true labels(`np.array`) and the predicted labels(`np.array`) and return the corresponding metric. \n",
    "2. They should follow the convention that the positive class is 1 and the negative class is 0.\n",
    "3. Apply the functions to the following data:\n",
    "\n",
    "```python\n",
    "true_labels = np.array([1, 0, 1, 1, 0, 1, 0, 0, 1, 0])\n",
    "predicted_labels = np.array([1, 1, 1, 1, 0, 0, 1, 0, 1, 0])\n",
    "```\n",
    "\n",
    "- Compare the results with the implementation in `sklearn` and see if they match."
   ]
  },
  {
   "cell_type": "code",
   "execution_count": 14,
   "id": "7e5cff50",
   "metadata": {},
   "outputs": [],
   "source": [
    "#TODO\n",
    "\n",
    "true_labels =      np.array([1, 0, 1, 1, 0, 1, 0, 0, 1, 0])\n",
    "predicted_labels = np.array([1, 1, 1, 1, 0, 0, 1, 0, 1, 0])\n",
    "\n",
    "# Correct / Total\n",
    "def accuracy(true_labels, predicted_labels):\n",
    "    if len(true_labels) != len(predicted_labels):\n",
    "        raise ValueError(\"Arrays must have the same length\")\n",
    "    return np.sum(true_labels == predicted_labels) / len(true_labels)\n",
    "\n",
    "def precision(true_labels, predicted_labels):\n",
    "    if len(true_labels) != len(predicted_labels):\n",
    "        raise ValueError(\"Arrays must have the same length\")\n",
    "    # tp / tp + fp | tp how many correct positive (1) predictions, fp how many incorrect 1 predicrions\n",
    "    tp = np.sum((true_labels == 1) & (predicted_labels == 1))\n",
    "    fp = np.sum((true_labels == 0) & (predicted_labels == 1))\n",
    "    return tp / (tp + fp)\n",
    "\n",
    "def recall(true_labels, predicted_labels):\n",
    "    if len(true_labels) != len(predicted_labels):\n",
    "        raise ValueError(\"Arrays must have the same length\")\n",
    "    # tp / tp + fn | fn how many incorrect 0 predications\n",
    "    tp = np.sum((true_labels == 1) & (predicted_labels == 1))\n",
    "    fn = np.sum((true_labels==1) & (predicted_labels==0)) \n",
    "    return tp / (tp + fn)\n",
    "\n",
    "def f1_score(true_labels, predicted_labels):\n",
    "    if len(true_labels) != len(predicted_labels):\n",
    "        raise ValueError(\"Arrays must have the same length\")\n",
    "    prec = precision(true_labels, predicted_labels)\n",
    "    rec = recall(true_labels, predicted_labels)\n",
    "    return (2 * prec * rec) / (prec + rec)"
   ]
  },
  {
   "cell_type": "code",
   "execution_count": null,
   "id": "fa727889",
   "metadata": {},
   "outputs": [
    {
     "name": "stdout",
     "output_type": "stream",
     "text": [
      "My metrics: \n",
      "0.7\n",
      "0.6666666666666666\n",
      "0.8\n",
      "0.7272727272727272\n",
      "\n",
      "Sklearn metrics: \n",
      "0.7\n",
      "0.6666666666666666\n",
      "0.8\n",
      "0.7272727272727272\n"
     ]
    }
   ],
   "source": [
    "import sklearn.metrics\n",
    "\n",
    "\n",
    "print(\"My metrics: \")\n",
    "print(accuracy(true_labels, predicted_labels))\n",
    "print(precision(true_labels, predicted_labels))\n",
    "print(recall(true_labels, predicted_labels))\n",
    "print(f1_score(true_labels, predicted_labels))\n",
    "\n",
    "print(\"\\nSklearn metrics: \")\n",
    "print(sklearn.metrics.accuracy_score(true_labels, predicted_labels))\n",
    "print(sklearn.metrics.precision_score(true_labels, predicted_labels))\n",
    "print(sklearn.metrics.recall_score(true_labels, predicted_labels))\n",
    "print(sklearn.metrics.f1_score(true_labels, predicted_labels))"
   ]
  },
  {
   "cell_type": "markdown",
   "id": "06e49af9",
   "metadata": {},
   "source": [
    "\n",
    "**2.1 (6 pts) Preprocess the Data**\n",
    "\n",
    "To prepare your data for building a linear regression model, complete the following steps:\n",
    "\n",
    "A.(1 pts) Convert the categorical variables to one-hot encoding using the `pd.get_dummies()` function, how many columns do you have after the one-hot encoding? (P.S. You may want to avoid introducing multicollinearity with one-hot encoding, what should you do to avoid this?)\n"
   ]
  },
  {
   "cell_type": "code",
   "execution_count": 16,
   "id": "9adca1ea",
   "metadata": {},
   "outputs": [
    {
     "data": {
      "text/plain": [
       "(1437, 10)"
      ]
     },
     "metadata": {},
     "output_type": "display_data"
    }
   ],
   "source": [
    "display(df.shape)"
   ]
  },
  {
   "cell_type": "code",
   "execution_count": 18,
   "id": "8f65013a",
   "metadata": {},
   "outputs": [
    {
     "name": "stdout",
     "output_type": "stream",
     "text": [
      "Number of columns after one-hot encoding: 13\n"
     ]
    }
   ],
   "source": [
    "#TODO\n",
    "# Decided to one-hot encode FuelType (Petrol, Deisel, CNG) and Doors(2-5) columns\n",
    "df_encoded = pd.get_dummies(df, columns=['FuelType', 'Doors'], drop_first=True)\n",
    "\n",
    "# num cols\n",
    "num_columns = df_encoded.shape[1]\n",
    "print(f\"Number of columns after one-hot encoding: {num_columns}\")"
   ]
  },
  {
   "cell_type": "markdown",
   "id": "15f24e26",
   "metadata": {},
   "source": [
    "B.(1 pts) Split the data into features (X) and target (y) variables. The target variable is the 'Price' column. Then split the data into train test sets using a 80-20 split. Use `random_state=42` for reproducibility. How many samples are in the training set and how many samples are in the test set?\n"
   ]
  },
  {
   "cell_type": "code",
   "execution_count": null,
   "id": "9f3ea52d",
   "metadata": {},
   "outputs": [
    {
     "name": "stdout",
     "output_type": "stream",
     "text": [
      "Num samples in training set: 1149\n",
      "\n",
      "Num samples in testing set: 288\n"
     ]
    }
   ],
   "source": [
    "#TODO\n",
    "import sklearn.model_selection\n",
    "\n",
    "\n",
    "X = df_encoded.drop('Price', axis=1)\n",
    "y = df_encoded['Price']\n",
    "\n",
    "# 80-20 split\n",
    "X_train, X_test, y_train, y_test = sklearn.model_selection.train_test_split(X, y, test_size=0.2, random_state=42)\n",
    "print(f\"Num samples in training set: {X_train.shape[0]}\")\n",
    "print(f\"\\nNum samples in testing set: {X_test.shape[0]}\")"
   ]
  },
  {
   "cell_type": "markdown",
   "id": "f6992805",
   "metadata": {},
   "source": [
    "C.(1 pts) Why do we split the data into only train-test sets but not train-validation-test sets? "
   ]
  },
  {
   "cell_type": "markdown",
   "id": "038285f4",
   "metadata": {},
   "source": [
    "Your Response:\n",
    "\n",
    "//**//"
   ]
  },
  {
   "cell_type": "markdown",
   "id": "fe1b8bdf",
   "metadata": {},
   "source": [
    "D.(1 pts) **Standardize the Features**: Use `StandardScaler` from `sklearn.preprocessing` and then add a constant column using `sm.add_constant()`. Print the average and standard deviation of the training set after standardization."
   ]
  },
  {
   "cell_type": "code",
   "execution_count": null,
   "id": "0743e6d6",
   "metadata": {},
   "outputs": [
    {
     "name": "stdout",
     "output_type": "stream",
     "text": [
      "Average of the training set after standardization: [ 1.00000000e+00 -6.80241087e-17 -2.47360395e-17 -5.56560890e-17\n",
      " -4.63800741e-17 -4.32880692e-17  2.73642437e-16 -1.40299724e-15\n",
      "  0.00000000e+00  9.27601483e-17 -6.80241087e-17 -7.73001236e-18\n",
      " -6.80241087e-17]\n",
      "Standard deviation of the training set after standardization: [0. 1. 1. 1. 1. 1. 1. 1. 1. 1. 1. 1. 1.]\n"
     ]
    }
   ],
   "source": [
    "#TODO\n",
    "# standardize the features\n",
    "import sklearn.preprocessing\n",
    "scaler = sklearn.preprocessing.StandardScaler()\n",
    "X_train_scaled = scaler.fit_transform(X_train)\n",
    "# !important: use the same scaler for the test set - ensure test data scaled the same as training data\n",
    "X_test_scaled = scaler.transform(X_test)\n",
    "\n",
    "X_train_scaled = sm.add_constant(X_train_scaled)\n",
    "X_test_scaled = sm.add_constant(X_test_scaled)\n",
    "\n",
    "# Print the average and standard deviation of the training set after standardization\n",
    "print(f\"Average of the training set after standardization: {X_train_scaled.mean(axis=0)}\")\n",
    "print(f\"Standard deviation of the training set after standardization: {X_train_scaled.std(axis=0)}\")"
   ]
  },
  {
   "cell_type": "markdown",
   "id": "ebec9402",
   "metadata": {},
   "source": [
    "E.(2 pts) Should we first standardize the data and then split it into train and test sets or vice versa?   why?"
   ]
  },
  {
   "cell_type": "markdown",
   "id": "49dfe2b6",
   "metadata": {},
   "source": [
    "Your Response:\n",
    "\n",
    "//**//"
   ]
  },
  {
   "cell_type": "markdown",
   "id": "012c220d",
   "metadata": {},
   "source": [
    "**2.2 (10 pts) Train and Evaluate the Linear Regression Model**\n",
    "\n",
    "To train a linear regression model using and evaluate its performance, follow these steps:\n",
    "\n",
    "1. (2 pts) Train a linear regression model on the training dataset using `sm.OLS` from `statsmodels`, print the summary of the model using `model.summary()`.\n"
   ]
  },
  {
   "cell_type": "code",
   "execution_count": null,
   "id": "0f4b338d",
   "metadata": {},
   "outputs": [
    {
     "name": "stdout",
     "output_type": "stream",
     "text": [
      "                            OLS Regression Results                            \n",
      "==============================================================================\n",
      "Dep. Variable:                  Price   R-squared:                       0.854\n",
      "Model:                            OLS   Adj. R-squared:                  0.853\n",
      "Method:                 Least Squares   F-statistic:                     555.2\n",
      "Date:                Sat, 15 Feb 2025   Prob (F-statistic):               0.00\n",
      "Time:                        09:06:55   Log-Likelihood:                -9849.1\n",
      "No. Observations:                1149   AIC:                         1.972e+04\n",
      "Df Residuals:                    1136   BIC:                         1.979e+04\n",
      "Df Model:                          12                                         \n",
      "Covariance Type:            nonrobust                                         \n",
      "==============================================================================\n",
      "                 coef    std err          t      P>|t|      [0.025      0.975]\n",
      "------------------------------------------------------------------------------\n",
      "const       9897.8103     37.914    261.060      0.000    9823.421    9972.199\n",
      "x1         -2090.5956     53.300    -39.223      0.000   -2195.174   -1986.018\n",
      "x2          -507.3151     53.426     -9.496      0.000    -612.141    -402.490\n",
      "x3           498.7567     96.956      5.144      0.000     308.525     688.989\n",
      "x4            19.5791     38.321      0.511      0.610     -55.608      94.766\n",
      "x5           -29.9615     40.279     -0.744      0.457    -108.991      49.068\n",
      "x6          -493.9176    113.633     -4.347      0.000    -716.873    -270.963\n",
      "x7          1199.5142     77.912     15.396      0.000    1046.647    1352.382\n",
      "x8           468.4691    174.046      2.692      0.007     126.981     809.957\n",
      "x9           407.1422    108.328      3.758      0.000     194.597     619.688\n",
      "x10           43.6853    639.728      0.068      0.946   -1211.495    1298.866\n",
      "x11          113.7366    386.811      0.294      0.769    -645.209     872.682\n",
      "x12          -10.0184    642.788     -0.016      0.988   -1271.204    1251.168\n",
      "==============================================================================\n",
      "Omnibus:                      171.731   Durbin-Watson:                   2.097\n",
      "Prob(Omnibus):                  0.000   Jarque-Bera (JB):             2028.577\n",
      "Skew:                          -0.228   Prob(JB):                         0.00\n",
      "Kurtosis:                       9.493   Cond. No.                         48.5\n",
      "==============================================================================\n",
      "\n",
      "Notes:\n",
      "[1] Standard Errors assume that the covariance matrix of the errors is correctly specified.\n"
     ]
    }
   ],
   "source": [
    "#TODO\n",
    "lin_regression_model = sm.OLS(y_train, X_train_scaled).fit()\n",
    "print(lin_regression_model.summary())"
   ]
  },
  {
   "cell_type": "markdown",
   "id": "d5e4bdce",
   "metadata": {},
   "source": [
    "2. (2 pts) Evaluate the model on the test dataset using the square root of the mean squared error (RMSE) metric. \n",
    "   1. Report the RMSE value.\n",
    "   2. Your boss wants to know how far off the model's predictions are from the actual price of the car. What would you tell him? Given a number and explain how you got it.\n"
   ]
  },
  {
   "cell_type": "code",
   "execution_count": 30,
   "id": "7936208b",
   "metadata": {},
   "outputs": [
    {
     "name": "stdout",
     "output_type": "stream",
     "text": [
      "RMSE: 1451.9463222402062\n"
     ]
    }
   ],
   "source": [
    "#TODO\n",
    "# prediction on test data\n",
    "y_pred = lin_regression_model.predict(X_test_scaled)\n",
    "rmse = np.sqrt(sklearn.metrics.mean_squared_error(y_test, y_pred))\n",
    "\n",
    "print(f\"RMSE: {rmse}\")"
   ]
  },
  {
   "cell_type": "markdown",
   "id": "92955c02",
   "metadata": {},
   "source": [
    "Your Response:\n",
    "\n",
    "//**//"
   ]
  },
  {
   "cell_type": "markdown",
   "id": "39a1de71",
   "metadata": {},
   "source": [
    "3. (2 pts) Report the R² score on the test dataset and interpret it.\n"
   ]
  },
  {
   "cell_type": "code",
   "execution_count": 31,
   "id": "a1a4355f",
   "metadata": {},
   "outputs": [
    {
     "name": "stdout",
     "output_type": "stream",
     "text": [
      "R2: 0.8218053455502459\n"
     ]
    }
   ],
   "source": [
    "#TODO\n",
    "# calculate r2\n",
    "r2 = sklearn.metrics.r2_score(y_test, y_pred)\n",
    "print(f\"R2: {r2}\")"
   ]
  },
  {
   "cell_type": "markdown",
   "id": "4fe57aee",
   "metadata": {},
   "source": [
    "Your Response:\n",
    "\n",
    "//**//"
   ]
  },
  {
   "cell_type": "markdown",
   "id": "d9191203",
   "metadata": {},
   "source": [
    "4.  (2 pts) Which features are statistically significant at a 5% significance level? "
   ]
  },
  {
   "cell_type": "code",
   "execution_count": null,
   "id": "782d34e6",
   "metadata": {},
   "outputs": [
    {
     "name": "stdout",
     "output_type": "stream",
     "text": [
      "Age\n",
      "Mileage\n",
      "HP\n",
      "MetColor\n",
      "Automatic\n",
      "CC\n",
      "Weight\n",
      "FuelType_Diesel\n",
      "FuelType_Petrol\n",
      "Doors_3\n",
      "Doors_4\n",
      "Doors_5\n"
     ]
    }
   ],
   "source": [
    "#TODO\n",
    "# print the features so I can match them with the table of values\n",
    "features = list(X_train.columns)\n",
    "for f in features:\n",
    "    print(f)"
   ]
  },
  {
   "cell_type": "markdown",
   "id": "8eff41e0",
   "metadata": {},
   "source": [
    "5.  (2 pts) Determine which two feature have the highest coefficient? What does it imply?"
   ]
  },
  {
   "cell_type": "markdown",
   "id": "7dd51a86",
   "metadata": {},
   "source": [
    "Your Response:\n",
    "\n",
    "//**//"
   ]
  },
  {
   "cell_type": "markdown",
   "id": "9af624b8",
   "metadata": {},
   "source": [
    "**2.3 (2 pts): Improvement Discussion**\n",
    "\n",
    "- Suggest a few additional features that could potentially explain this remaining variance in the data ( at least 2 features)."
   ]
  },
  {
   "cell_type": "markdown",
   "id": "81d36c87",
   "metadata": {},
   "source": [
    "Your Response:\n",
    "\n",
    "//**//"
   ]
  },
  {
   "cell_type": "markdown",
   "id": "94ca03f3",
   "metadata": {},
   "source": [
    "**2.4 (2 pts): Identifying Confounding Variables**\n",
    "\n",
    "The feature \"Weight\" shows a very low p-value and a high coefficient, but it doesn't seem to be a major factor for customers buying a second-hand car. You go to your mentor Jerasimosu to discuss this issue. Indeed, Jerasimosu suggests that never in his career has he seen a customer who asked for the weight of a car before buying it.\n",
    "You suspect that there might be a confounding variable that is correlated with the car's weight and significantly influences its price.\n",
    "\n",
    "- Suggest a possible confounding variable that may be correlated with the car's weight and significantly influence its price (it doesn't need to be a variable in the dataset). Explain why this variable could be a confounding variable."
   ]
  },
  {
   "cell_type": "markdown",
   "id": "c677c957",
   "metadata": {},
   "source": [
    "Your Response:\n",
    "\n",
    "//**//\n"
   ]
  },
  {
   "cell_type": "markdown",
   "id": "0c2854b8",
   "metadata": {},
   "source": [
    "**2.5 (2 pts): Adding an Inverse Mileage Term**\n",
    "\n",
    "From the previous scatter plot, the relationship between car price and mileage appears non-linear, with a steep price drop initially and then a flattening. A suitable approach to model this behavior is by incorporating an inverse term of mileage.\n",
    "\n",
    "- Add the inverse mileage term to the model and retrain it using the code provided. Print the model summary and interpret the effect of the inverse mileage term."
   ]
  },
  {
   "cell_type": "code",
   "execution_count": 39,
   "id": "8a4b261e",
   "metadata": {},
   "outputs": [
    {
     "name": "stdout",
     "output_type": "stream",
     "text": [
      "                            OLS Regression Results                            \n",
      "==============================================================================\n",
      "Dep. Variable:                  Price   R-squared:                       0.855\n",
      "Model:                            OLS   Adj. R-squared:                  0.854\n",
      "Method:                 Least Squares   F-statistic:                     516.0\n",
      "Date:                Sat, 15 Feb 2025   Prob (F-statistic):               0.00\n",
      "Time:                        15:41:19   Log-Likelihood:                -9845.3\n",
      "No. Observations:                1149   AIC:                         1.972e+04\n",
      "Df Residuals:                    1135   BIC:                         1.979e+04\n",
      "Df Model:                          13                                         \n",
      "Covariance Type:            nonrobust                                         \n",
      "==============================================================================\n",
      "                 coef    std err          t      P>|t|      [0.025      0.975]\n",
      "------------------------------------------------------------------------------\n",
      "const       9897.8103     37.807    261.801      0.000    9823.631    9971.989\n",
      "x1         -2089.3940     53.151    -39.310      0.000   -2193.680   -1985.108\n",
      "x2          -523.1450     53.590     -9.762      0.000    -628.292    -417.998\n",
      "x3           490.2307     96.732      5.068      0.000     300.437     680.024\n",
      "x4            18.8002     38.213      0.492      0.623     -56.176      93.777\n",
      "x5           -36.0339     40.227     -0.896      0.371    -114.961      42.893\n",
      "x6          -492.4873    113.313     -4.346      0.000    -714.815    -270.160\n",
      "x7          1222.9927     78.166     15.646      0.000    1069.626    1376.360\n",
      "x8           458.9809    173.589      2.644      0.008     118.390     799.572\n",
      "x9           406.8037    108.022      3.766      0.000     194.859     618.749\n",
      "x10           39.2687    637.921      0.062      0.951   -1212.369    1290.906\n",
      "x11          115.8030    385.719      0.300      0.764    -640.999     872.605\n",
      "x12          -18.7322    640.979     -0.029      0.977   -1276.370    1238.905\n",
      "x13         -105.7770     38.754     -2.729      0.006    -181.815     -29.739\n",
      "==============================================================================\n",
      "Omnibus:                      164.875   Durbin-Watson:                   2.092\n",
      "Prob(Omnibus):                  0.000   Jarque-Bera (JB):             1943.887\n",
      "Skew:                          -0.165   Prob(JB):                         0.00\n",
      "Kurtosis:                       9.363   Cond. No.                         48.5\n",
      "==============================================================================\n",
      "\n",
      "Notes:\n",
      "[1] Standard Errors assume that the covariance matrix of the errors is correctly specified.\n"
     ]
    }
   ],
   "source": [
    "#TODO\n",
    "# add inverse_mileage\n",
    "df_encoded['inverse_mileage'] = 1 / df_encoded['Mileage']\n",
    "# train test split again\n",
    "X = df_encoded.drop('Price', axis=1)\n",
    "y = df_encoded['Price']\n",
    "\n",
    "# 80-20 split\n",
    "X_train, X_test, y_train, y_test = sklearn.model_selection.train_test_split(X, y, test_size=0.2, random_state=42)\n",
    "# scale\n",
    "scaler = sklearn.preprocessing.StandardScaler()\n",
    "X_train_scaled = scaler.fit_transform(X_train)\n",
    "# !important: use the same scaler for the test set - ensure test data scaled the same as training data\n",
    "X_test_scaled = scaler.transform(X_test)\n",
    "\n",
    "X_train_scaled = sm.add_constant(X_train_scaled)\n",
    "X_test_scaled = sm.add_constant(X_test_scaled)\n",
    "\n",
    "lin_regression_model = sm.OLS(y_train, X_train_scaled).fit()\n",
    "print(lin_regression_model.summary())"
   ]
  },
  {
   "cell_type": "markdown",
   "id": "1a3c61dc",
   "metadata": {},
   "source": [
    "## Part 3 Supervised Learning (40 pts)\n",
    "\n",
    "\n",
    "After completing your analysis, you're satisfied with the results. You handed the Jupyter notebook over to your mentor.\n",
    "\n",
    "(Fun fact: The name \"Jupyter\" is derived from Julia, Python, and R—three programming languages that the platform was originally designed for.)\n",
    "\n",
    "Your mentor Jerasimosu is very impressed with your work and asks you the following question:\n",
    "\n",
    "“\n",
    "This looks great! It will be very useful for our sales team. While looking at the results, I realized that there might be one thing that we can improve. \n",
    "For companies like us, it is important to sell the cars quickly. If we are patient, we might be able to sell the car for a higher price, but that’s not always the best strategy. We need to consider the maintenance costs for the car, the cash flow and the fact that the price of the car decreases over time.\"\n",
    "\n",
    "He then continues:\n",
    "\"Three months is a sweet spot for us. If we can sell the car within the first three months, it is great. If not, it is worth considering lowering the price to sell it faster and increase our cash flow. I can ask Ivan from Sales to collect data in the last few months on whether the car was sold within the first three months or not. This would be great if you could have a model that tells us if the car will be sold in the first three months or not. \"\n",
    "\n",
    "This sparks your interest, and soon Ivan has provided you with the new data containing an additional column `sold_within_3_months` which is a binary variable indicating whether the car was sold within the first three months or not.\n",
    "\n",
    "Note: The data for this part is in the file `Task3.ToyotaCorolla_sales_3months.csv` and it has already unified the currency and distance units."
   ]
  },
  {
   "cell_type": "code",
   "execution_count": 42,
   "id": "5371de93",
   "metadata": {},
   "outputs": [
    {
     "data": {
      "text/html": [
       "<div>\n",
       "<style scoped>\n",
       "    .dataframe tbody tr th:only-of-type {\n",
       "        vertical-align: middle;\n",
       "    }\n",
       "\n",
       "    .dataframe tbody tr th {\n",
       "        vertical-align: top;\n",
       "    }\n",
       "\n",
       "    .dataframe thead th {\n",
       "        text-align: right;\n",
       "    }\n",
       "</style>\n",
       "<table border=\"1\" class=\"dataframe\">\n",
       "  <thead>\n",
       "    <tr style=\"text-align: right;\">\n",
       "      <th></th>\n",
       "      <th>Price</th>\n",
       "      <th>Age</th>\n",
       "      <th>KM</th>\n",
       "      <th>FuelType</th>\n",
       "      <th>HP</th>\n",
       "      <th>MetColor</th>\n",
       "      <th>Automatic</th>\n",
       "      <th>CC</th>\n",
       "      <th>Doors</th>\n",
       "      <th>Weight</th>\n",
       "      <th>sold_within_3_months</th>\n",
       "    </tr>\n",
       "  </thead>\n",
       "  <tbody>\n",
       "    <tr>\n",
       "      <th>0</th>\n",
       "      <td>13500</td>\n",
       "      <td>23</td>\n",
       "      <td>46986</td>\n",
       "      <td>Diesel</td>\n",
       "      <td>90</td>\n",
       "      <td>1</td>\n",
       "      <td>0</td>\n",
       "      <td>2000</td>\n",
       "      <td>3</td>\n",
       "      <td>1165</td>\n",
       "      <td>0</td>\n",
       "    </tr>\n",
       "    <tr>\n",
       "      <th>1</th>\n",
       "      <td>13750</td>\n",
       "      <td>23</td>\n",
       "      <td>72937</td>\n",
       "      <td>Diesel</td>\n",
       "      <td>90</td>\n",
       "      <td>1</td>\n",
       "      <td>0</td>\n",
       "      <td>2000</td>\n",
       "      <td>3</td>\n",
       "      <td>1165</td>\n",
       "      <td>0</td>\n",
       "    </tr>\n",
       "    <tr>\n",
       "      <th>2</th>\n",
       "      <td>13950</td>\n",
       "      <td>24</td>\n",
       "      <td>41711</td>\n",
       "      <td>Diesel</td>\n",
       "      <td>90</td>\n",
       "      <td>1</td>\n",
       "      <td>0</td>\n",
       "      <td>2000</td>\n",
       "      <td>3</td>\n",
       "      <td>1165</td>\n",
       "      <td>0</td>\n",
       "    </tr>\n",
       "    <tr>\n",
       "      <th>3</th>\n",
       "      <td>14950</td>\n",
       "      <td>26</td>\n",
       "      <td>48000</td>\n",
       "      <td>Diesel</td>\n",
       "      <td>90</td>\n",
       "      <td>0</td>\n",
       "      <td>0</td>\n",
       "      <td>2000</td>\n",
       "      <td>3</td>\n",
       "      <td>1165</td>\n",
       "      <td>0</td>\n",
       "    </tr>\n",
       "    <tr>\n",
       "      <th>4</th>\n",
       "      <td>13750</td>\n",
       "      <td>30</td>\n",
       "      <td>38500</td>\n",
       "      <td>Diesel</td>\n",
       "      <td>90</td>\n",
       "      <td>0</td>\n",
       "      <td>0</td>\n",
       "      <td>2000</td>\n",
       "      <td>3</td>\n",
       "      <td>1170</td>\n",
       "      <td>0</td>\n",
       "    </tr>\n",
       "  </tbody>\n",
       "</table>\n",
       "</div>"
      ],
      "text/plain": [
       "   Price  Age     KM FuelType  HP  MetColor  Automatic    CC  Doors  Weight  \\\n",
       "0  13500   23  46986   Diesel  90         1          0  2000      3    1165   \n",
       "1  13750   23  72937   Diesel  90         1          0  2000      3    1165   \n",
       "2  13950   24  41711   Diesel  90         1          0  2000      3    1165   \n",
       "3  14950   26  48000   Diesel  90         0          0  2000      3    1165   \n",
       "4  13750   30  38500   Diesel  90         0          0  2000      3    1170   \n",
       "\n",
       "   sold_within_3_months  \n",
       "0                     0  \n",
       "1                     0  \n",
       "2                     0  \n",
       "3                     0  \n",
       "4                     0  "
      ]
     },
     "metadata": {},
     "output_type": "display_data"
    },
    {
     "data": {
      "text/plain": [
       "(1436, 11)"
      ]
     },
     "metadata": {},
     "output_type": "display_data"
    }
   ],
   "source": [
    "data_df = pd.read_csv('data/Task3.ToyotaCorolla_sales_3months.csv', index_col=0)\n",
    "display(data_df.head())\n",
    "display(data_df.shape)"
   ]
  },
  {
   "cell_type": "markdown",
   "id": "87af3424",
   "metadata": {},
   "source": [
    "\n",
    "**3.1 (2 pts): Preprocess the Data**\n",
    "- （1 pts）How many cars in the dataset were sold in the first three months, and how many were not? "
   ]
  },
  {
   "cell_type": "code",
   "execution_count": 43,
   "id": "714cefb1",
   "metadata": {},
   "outputs": [
    {
     "data": {
      "text/plain": [
       "sold_within_3_months\n",
       "1    880\n",
       "0    556\n",
       "Name: count, dtype: int64"
      ]
     },
     "metadata": {},
     "output_type": "display_data"
    }
   ],
   "source": [
    "#TODO\n",
    "display(data_df['sold_within_3_months'].value_counts())"
   ]
  },
  {
   "cell_type": "markdown",
   "id": "eb49dc91",
   "metadata": {},
   "source": [
    "- (1 pts) Preprocess the categorical variables to one-hot encoding using the `pd.get_dummies()` function."
   ]
  },
  {
   "cell_type": "code",
   "execution_count": 44,
   "id": "e9ca7824",
   "metadata": {},
   "outputs": [],
   "source": [
    "#TODO\n",
    "df_encoded = pd.get_dummies(data_df, columns=['FuelType', 'Doors'], drop_first=True)\n"
   ]
  },
  {
   "cell_type": "markdown",
   "id": "1449cf1c",
   "metadata": {},
   "source": [
    "**3.2 (20 pts):  Logistic Regression Model**\n",
    "1. (2 pts) Split the data into features (X) and target (y) variables. The target variable is the 'sold_within_3_months' column. The `Price` column should be included as a feature."
   ]
  },
  {
   "cell_type": "code",
   "execution_count": 45,
   "id": "bda17a69",
   "metadata": {},
   "outputs": [],
   "source": [
    "#TODO\n",
    "X = df_encoded.drop('sold_within_3_months', axis=1)\n",
    "y = df_encoded['sold_within_3_months']"
   ]
  },
  {
   "cell_type": "markdown",
   "id": "28393827",
   "metadata": {},
   "source": [
    "2. (2 pts) Then split the data into train test sets using a 80-20 split. Use `random_state=42` for reproducibility. "
   ]
  },
  {
   "cell_type": "code",
   "execution_count": null,
   "id": "7416161f",
   "metadata": {},
   "outputs": [],
   "source": [
    "#TODO\n",
    "X_train, X_test, y_train, y_test = sklearn.model_selection.train_test_split(X, y, test_size=0.2, random_state=42)"
   ]
  },
  {
   "cell_type": "markdown",
   "id": "d43f0fbf",
   "metadata": {},
   "source": [
    "3. (2 pts) Standardize the features using `StandardScaler` from `sklearn.preprocessing` and then add a constant column using `sm.add_constant()`."
   ]
  },
  {
   "cell_type": "code",
   "execution_count": 47,
   "id": "16bfc69e",
   "metadata": {},
   "outputs": [],
   "source": [
    "#TODO\n",
    "scaler = sklearn.preprocessing.StandardScaler()\n",
    "X_train_scaled = scaler.fit_transform(X_train)\n",
    "X_test_scaled = scaler.transform(X_test)\n",
    "\n",
    "X_train_scaled = sm.add_constant(X_train_scaled)\n",
    "X_test_scaled = sm.add_constant(X_test_scaled)"
   ]
  },
  {
   "cell_type": "markdown",
   "id": "1b7029f6",
   "metadata": {},
   "source": [
    "4. (2 pts) Fit a logistic regression model on the training dataset. Feel free to use either `statsmodels` or `sklearn`."
   ]
  },
  {
   "cell_type": "code",
   "execution_count": 48,
   "id": "4d7e52e6",
   "metadata": {},
   "outputs": [],
   "source": [
    "#TODO\n",
    "from sklearn.linear_model import LogisticRegression\n",
    "log_regression_model = LogisticRegression(random_state=42)\n",
    "log_regression_model.fit(X_train_scaled, y_train)\n",
    "# predict on test data\n",
    "y_pred = log_regression_model.predict(X_test_scaled)"
   ]
  },
  {
   "cell_type": "markdown",
   "id": "e0c3b275",
   "metadata": {},
   "source": [
    "5. (2 pts) Evaluate the model on the test dataset using the accuracy score metric. Report the accuracy score."
   ]
  },
  {
   "cell_type": "code",
   "execution_count": 53,
   "id": "2152d2dc",
   "metadata": {},
   "outputs": [
    {
     "name": "stdout",
     "output_type": "stream",
     "text": [
      "Accuracy: 0.931\n"
     ]
    }
   ],
   "source": [
    "#TODO\n",
    "accuracy = sklearn.metrics.accuracy_score(y_test, y_pred)\n",
    "print(f\"Accuracy: {accuracy:.3f}\")"
   ]
  },
  {
   "cell_type": "markdown",
   "id": "07b5d10b",
   "metadata": {},
   "source": [
    "6. (2 pts) Calculate the precision, recall, and F1-score."
   ]
  },
  {
   "cell_type": "code",
   "execution_count": 55,
   "id": "93ef377c",
   "metadata": {},
   "outputs": [
    {
     "name": "stdout",
     "output_type": "stream",
     "text": [
      "Precision: 0.933\n",
      "Recall: 0.954\n",
      "F1 score: 0.943\n"
     ]
    }
   ],
   "source": [
    "#TODO\n",
    "precision = sklearn.metrics.precision_score(y_test, y_pred)\n",
    "recall = sklearn.metrics.recall_score(y_test, y_pred)\n",
    "f1 = sklearn.metrics.f1_score(y_test, y_pred)\n",
    "print(f\"Precision: {precision:.3f}\")\n",
    "print(f\"Recall: {recall:.3f}\")\n",
    "print(f\"F1 score: {f1:.3f}\")"
   ]
  },
  {
   "cell_type": "code",
   "execution_count": 59,
   "id": "780241b9",
   "metadata": {},
   "outputs": [
    {
     "name": "stdout",
     "output_type": "stream",
     "text": [
      "Confusion matrix:\n",
      " [[102  12]\n",
      " [  8 166]]\n"
     ]
    },
    {
     "data": {
      "image/png": "[encoded data removed]",
      "text/plain": [
       "<Figure size 640x480 with 2 Axes>"
      ]
     },
     "metadata": {},
     "output_type": "display_data"
    }
   ],
   "source": [
    "confusion_matrix = sklearn.metrics.confusion_matrix(y_test, y_pred)\n",
    "print(f\"Confusion matrix:\\n {confusion_matrix}\")\n",
    "disp = sklearn.metrics.ConfusionMatrixDisplay(confusion_matrix=confusion_matrix, display_labels=log_regression_model.classes_)\n",
    "disp.plot()\n",
    "plt.show()"
   ]
  },
  {
   "cell_type": "markdown",
   "id": "b83bb422",
   "metadata": {},
   "source": [
    "7. (2 pts) Suppose that your company is running short on cash flow and needs to sell the cars quickly, for example by running some offer (special discount on cars). But which ones? How should you adjust the threshold for the decision boundary of the logistic regression model to ensure that the company can sell the cars as quickly as possible?\n",
    "    - A. Increase the threshold\n",
    "    - B. Decrease the threshold\n",
    "\n",
    "In a more general sense, how does the choice of threshold affect the precision and recall of the model?"
   ]
  },
  {
   "cell_type": "markdown",
   "id": "e1951dc8",
   "metadata": {},
   "source": [
    "Your Response:\n",
    "\n",
    "//**//"
   ]
  },
  {
   "cell_type": "markdown",
   "id": "f77a1414",
   "metadata": {},
   "source": [
    "8. (6 pts) Try to find the optimal threshold that maximizes the F1-score. Implement any kind of method you see fit (e.g. binary search or grid search). What is the optimal threshold and what difference does the optimal threshold make in the F1-score?\n",
    "\n",
    "If you notice anything odd, report it and try to identify the reasons behind it."
   ]
  },
  {
   "cell_type": "code",
   "execution_count": 27,
   "id": "ecc90348",
   "metadata": {
    "scrolled": true
   },
   "outputs": [],
   "source": [
    "#TODO"
   ]
  },
  {
   "cell_type": "markdown",
   "id": "53796e48",
   "metadata": {},
   "source": [
    "**3.3(23 pts) Free model exploration**\n",
    "\n",
    "Use any model from `sklearn` to predict whether a car will be sold within the first three months.\n",
    "\n",
    "Follow these steps to complete the task:\n",
    "\n",
    "1. (2 pts) Train your own classifier model to predict the target variable (`sold_within_3_months`).You can reuse the train and test sets from the previous section. Set `random_state=42` for reproducibility if needed. At this stage no need to optimize (yet). That will come at step 4."
   ]
  },
  {
   "cell_type": "code",
   "execution_count": 28,
   "id": "847d2270",
   "metadata": {},
   "outputs": [],
   "source": [
    "#TODO"
   ]
  },
  {
   "cell_type": "markdown",
   "id": "339e84a7",
   "metadata": {},
   "source": [
    "2. (2 pts) Evaluate the model on the test set and report on hyperparameters or other details of the algorithm you chose."
   ]
  },
  {
   "cell_type": "code",
   "execution_count": 29,
   "id": "f91de524",
   "metadata": {},
   "outputs": [],
   "source": [
    "#TODO"
   ]
  },
  {
   "cell_type": "markdown",
   "id": "aeacddbc",
   "metadata": {},
   "source": [
    "3. (2 pts) Come up with a visualization (could be related to the model or to some variables (e.g. EDA plots) to demonstrate the difficulty (or not) of the problem. "
   ]
  },
  {
   "cell_type": "code",
   "execution_count": 30,
   "id": "3899ce00",
   "metadata": {},
   "outputs": [],
   "source": [
    "#TODO"
   ]
  },
  {
   "cell_type": "markdown",
   "id": "294f27b0",
   "metadata": {},
   "source": [
    "4. (17 pts) Try to come up with a model that improves the results both in the previous seciton but also your baseline model in 3.1. Make to sure to properly evaluate the model. No need to provide a visualization here but feel free to add any supporting evidence to your modeling.\n",
    "\n",
    "Minimally (and for a high-grade) you should consider some form of regularization and proper cross-validation. \n",
    "\n",
    "Other things you can consider (in no particular order) are feature engineering, model robustness, hyperparameter tuning, ..."
   ]
  },
  {
   "cell_type": "code",
   "execution_count": 31,
   "id": "c23ea3be",
   "metadata": {},
   "outputs": [],
   "source": [
    "#TODO"
   ]
  },
  {
   "cell_type": "markdown",
   "id": "89384315",
   "metadata": {},
   "source": [
    "## Part 4 The Aftermath (5 pts)\n",
    "\n",
    "Machine learning models are often evaluated based on accuracy, precision and recall, but these metrics do not always capture fairness. Fairness is a broader concept that depends on the context of the dataset and the decisions influenced by the model.\n",
    "\n",
    "For this last question, you are asked to reflect on what fairness means in the context of this problem. More specifically, identify potential fairness concerns (at least 2) and suggest how they could be measured or mitigated.\n",
    "Explain why fairness matters (or doesn’t) in this specific context.\n",
    "\n",
    "*Hint: Think of the whole pipeline of data science: data collection, modeling, evaluation and identify sources of where the model might be unfair.*\n"
   ]
  },
  {
   "cell_type": "markdown",
   "id": "5cd5ceda",
   "metadata": {},
   "source": [
    "Your Response:\n",
    "\n",
    "//**//"
   ]
  }
 ],
 "metadata": {
  "kernelspec": {
   "display_name": "Python 3",
   "language": "python",
   "name": "python3"
  },
  "language_info": {
   "codemirror_mode": {
    "name": "ipython",
    "version": 3
   },
   "file_extension": ".py",
   "mimetype": "text/x-python",
   "name": "python",
   "nbconvert_exporter": "python",
   "pygments_lexer": "ipython3",
   "version": "3.12.1"
  }
 },
 "nbformat": 4,
 "nbformat_minor": 5
}
