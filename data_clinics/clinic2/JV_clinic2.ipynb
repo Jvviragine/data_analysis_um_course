{
 "cells": [
  {
   "cell_type": "markdown",
   "id": "895feafc",
   "metadata": {},
   "source": [
    "(Placeholder for your group #)\n",
    "\n",
    "(Placeholder for your names)\n",
    "\n",
    "(Placeholder for your i-numbers)"
   ]
  },
  {
   "cell_type": "markdown",
   "id": "08c85891",
   "metadata": {},
   "source": [
    "**Use of genAI tools (e.g. chatGPT), websites (e.g. stackoverflow)**: *list websites where you found code (or other info) as well as include information on how you used genAI tools*"
   ]
  },
  {
   "cell_type": "markdown",
   "id": "6b08998c",
   "metadata": {},
   "source": [
    "# Data Analysis, Clinic 2\n",
    "\n",
    "By completing and delivering the clinic tasks you will know how to :\n",
    "\n",
    "- Preprocess data and make it amenable to statistical analysis and machine learning models;\n",
    "- Train and test out-of-the-box machine learning models in `sklearn`;\n",
    "- Carry out simple logistic regression analysis;\n",
    "- Evaluate classification models based on different metrics;\n",
    "- Assess how your model performance can improve\n",
    "- Reflect on the greater impact of the models you develop\n",
    "\n",
    "---\n",
    "\n",
    "## Important Dates\n",
    "\n",
    "- Homework release: Fri, 7th Feb\n",
    "- **Homework due**: Mon, 17th Feb late night (wildcards possible, apply to the group)\n",
    "\n",
    "---\n",
    "\n",
    "##  Some rules\n",
    "\n",
    "* We have provided `TODO` comments in the code cells that you need to fill out with your solutions. For some questions, we have also provided `Your response` comments, where you should provide a textual answer.\n",
    "\n",
    "* You are allowed to use any built-in Python library that is included in the `requirements.txt` for this homework. If you use any additional library, this may complicate the grading process, and we reserve the right to penalize your grade for unnecessary complexity of the solution. All the questions can be solved with the libraries in `requirements.txt`.\n",
    "\n",
    "* Make sure that you include a proper amount/mix of comments, results and code. More specifically, be sure to provide a concise textual description of your thought process, the assumptions you made, the solution you implemented, and explanations for your answers. A notebook that only has code cells will not suffice. To avoid confusion: use short comments for longer code answers.\n",
    "\n",
    "* Back up any hypotheses and claims with data, since this is an important aspect of the course.\n",
    "\n",
    "* Please write all your comments in English, and use meaningful variable names (as possible) in your code. \n",
    "\n",
    "* In the end, make sure that all cells are executed properly and everything you need to show is in your (execucted) notebook. We will not run your notebook for you! \n",
    "\n",
    "- In continuation to the previous point, interactive plots, such as those generated using the ‘plotly’ package, should be strictly avoided! Make sure to print results and/or dataframes that confirm you have properly addressed the task.\n",
    "\n",
    "* You are asked to deliver **only your executed notebook file, .ipnyb** and nothing else. If you deliver other files, we will not grade anything.\n",
    "\n",
    "* Honor code applies to these tasks. If you are not certain about an action, consult with Jerry.\n",
    "\n",
    "**A Note from Jerry on using Language Models (LMs)**\n",
    "\n",
    "If you try hard enough, you will likely get away with cheating (that does not only apply to LMs). Fortunately, my job is not to police, but rather to educate you. So, please consider the following:\n",
    "\n",
    "I assume that you are taking this course to learn something! LMs are not always right ([they often fail in silly ways](https://community.openai.com/t/why-9-11-is-larger-than-9-9-incredible/869824/4)). This course should prepare you to detect when they are wrong!\n",
    "\n",
    "I don't restrict the use of LMs because I see the value of being helped when coding (esp. in the context of pandas dataframes nightmare :)). Based on what we saw last year in your notebooks, it's pretty clear when you \"copy\" some code and then you struggle to interpret the results. This is the essence of this course and of the skills you should try build for yourself: Many people can run fancy models these days but not many people can interpret the results correctly. Try to be the latter ones.\n",
    "\n",
    "\n",
    "\n",
    "---\n",
    "\n",
    "\n",
    "## Grading \n",
    "- The homework has a total of 100 points, distributed as follows:\n",
    "    - Part 1: Data Preprocessing (20 points)\n",
    "    - Part 2: Linear Regression (30 points)\n",
    "    - Part 3: Supervised Learning (40 points)\n",
    "    - Part 4: The Aftermath (5 points)"
   ]
  },
  {
   "cell_type": "markdown",
   "id": "7c6f0a9b",
   "metadata": {},
   "source": [
    "## Context\n",
    "\n",
    "Within DACS, you are excited to start an internship as a data scientist.\n",
    "After rounds of interviews, you have been selected to work with the biggest car dealership in the Netherlands !\n",
    "\n",
    "Your mentor at the company Jerasimosu, has explained to you that the company is interested in a pricing model for used cars. \n",
    "\n",
    "- Jerasimosu: \"We have a lot of used cars in our inventory, and we need to determine the price at which we should sell these cars. We have some ideas about the factors that influence the price of a used car, but so far we have just been using our experience and intuition to determine the price of a used car. Sometimes it works, but probably we can do better and a more data-driven approach would also help our new employees in the sales team as they have less experience.\"\n",
    "\n",
    "- You: \"That sounds like a great project! What kind of data do we have?\"\n",
    "\n",
    "- Jerasimosu: \"We sell all kinds of cars here, but maybe we can start with a specific brand and model. For example, the Toyota Corolla is the best-selling car worldwide in 2023, and we have a lot of data on it. We can start by analyzing the data on used Toyota Corolla cars. If it works well, we can extend the analysis to other brands.\"\n",
    "\n",
    "The dataset contains the following columns:\n",
    "\n",
    "- `Age`: Age of the car in months.\n",
    "- `Mileage`: Number of distance the car has been driven. (km or miles)\n",
    "- `FuelType`: Fuel type of the car (Petrol, Diesel, or CNG)\n",
    "- `HP`: Horsepower\n",
    "- `MetColor`: Is the color of the car metallic? (Yes=1, No=0)\n",
    "- `Automatic`: Is the car automatic? (Yes=1, No=0)\n",
    "- `CC`: Cylinder volume in cubic centimeters\n",
    "- `Doors`: Number of doors\n",
    "- `Weight`: Weight of the car in kilograms\n",
    "- `Price`: Price of the car in euros\n",
    "\n",
    "\n",
    "## Data\n",
    "\n",
    "The data is provided in the `data` folder and it contains the following 3 csv files:\n",
    "- `Task1-2.ToyotaCorolla.csv` for Part 1 and Part 2\n",
    "- `Task3.ToyotaCorolla_sales_3months.csv` for Part 3\n",
    "\n",
    "You should not use any other data source for this homework.\n",
    "\n",
    "For some questions, you might need to slightly modify the data. But overall, you should avoid making any major changes to the data, which may affect your analysis.\n",
    "\n",
    "## References:\n",
    "\n",
    "The data is based on the ToyotaCorolla dataset from the UCI Machine Learning Repository [here](https://archive.ics.uci.edu/ml/datasets/Toyota+Corolla).\n",
    "We have made some modifications to the original dataset, so please use the data provided in the `data` folder in the course repo."
   ]
  },
  {
   "cell_type": "markdown",
   "id": "b36859d6",
   "metadata": {},
   "source": [
    "## Task 1 (20 pts) - Get to know the data"
   ]
  },
  {
   "cell_type": "code",
   "id": "ccd6fa08",
   "metadata": {
    "ExecuteTime": {
     "end_time": "2025-02-15T18:23:11.283775Z",
     "start_time": "2025-02-15T18:23:10.537850Z"
    }
   },
   "source": [
    "import pandas as pd\n",
    "import numpy as np\n",
    "import matplotlib.pyplot as plt\n",
    "import statsmodels.api as sm\n",
    "import random\n",
    "import sklearn\n",
    "\n",
    "# fix random seed for reproducibility\n",
    "np.random.seed(42)\n",
    "random.seed(42)"
   ],
   "outputs": [],
   "execution_count": 1
  },
  {
   "cell_type": "markdown",
   "id": "f502c087",
   "metadata": {},
   "source": [
    "\n",
    "**1.1 (2 pts)**: Load the data from the file `Task1-2.ToyotaCorolla-raw.csv` into a pandas DataFrame. Display the first 5 rows of the DataFrame. Hint: A naive loading of the data will raise an error. You will need to figure out how to load the data correctly. (Hint: localise which row is causing the error)"
   ]
  },
  {
   "metadata": {
    "ExecuteTime": {
     "end_time": "2025-02-15T18:23:11.302017Z",
     "start_time": "2025-02-15T18:23:11.289809Z"
    }
   },
   "cell_type": "code",
   "source": [
    "import io # I assume that using a default python library is fine\n",
    "# Read the entire file as text\n",
    "with open('data/Task1-2.ToyotaCorolla-raw.csv', 'r', encoding='utf-8') as f:\n",
    "    raw_text = f.read()\n",
    "\n",
    "# fix special cases where where the wrong delimiter is used\n",
    "fixed_text = raw_text.replace(';', ',')\n",
    "\n",
    "# Remove the first instance of a comma in line 33 so we can load the csv\n",
    "lines = fixed_text.split('\\n')\n",
    "lines[32] = lines[32].replace(',', '', 1)\n",
    "fixed_text = '\\n'.join(lines)\n",
    "\n",
    "# Use StringIO to create a file-like object from our fixed text.\n",
    "fixed_csv = io.StringIO(fixed_text)\n",
    "\n",
    "# Now we can load hte csv\n",
    "df = pd.read_csv(fixed_csv)\n",
    "\n",
    "# We clean the price column by removing special symbols and commas\n",
    "# (special cases 15,398,499999999998 - here the second comma has to be replaced with '.' )\n",
    "df['Price'] = (df['Price']\n",
    "               .astype(str)\n",
    "               .apply(lambda x: x.replace(',', '', 1).replace(',', '.', 1))\n",
    "               .str.replace('\"', '')\n",
    "               .str.replace('£', '')\n",
    "               .astype(float))\n",
    "\n",
    "# We clean the mileage column by removing a special symbol (ß) and converting to float\n",
    "df['Mileage'] = (df['Mileage']\n",
    "                 .astype(str)\n",
    "                 .str.replace('ß', '')\n",
    "                 .astype(float))\n",
    "\n",
    "\n",
    "display(df.head(5))\n",
    "print(df.shape)\n",
    "print(df.dtypes)\n",
    "\n",
    "df_cleaned = df.copy(deep=True)"
   ],
   "id": "4b6770a0eb44bdb0",
   "outputs": [
    {
     "data": {
      "text/plain": [
       "     Price  Age  Mileage FuelType  HP  MetColor  Automatic    CC  Doors  \\\n",
       "0  13500.0   23  46986.0   Diesel  90         1          0  2000      3   \n",
       "1  11878.0   23  72937.0   Diesel  90         1          0  2000      3   \n",
       "2  12050.0   24  41711.0   Diesel  90         1          0  2000      3   \n",
       "3  12914.0   26  48000.0   Diesel  90         0          0  2000      3   \n",
       "4  11878.0   30  38500.0   Diesel  90         0          0  2000      3   \n",
       "\n",
       "   Weight Currency  \n",
       "0    1165     EURO  \n",
       "1    1165      CHF  \n",
       "2    1165      CHF  \n",
       "3    1165      CHF  \n",
       "4    1170      CHF  "
      ],
      "text/html": [
       "<div>\n",
       "<style scoped>\n",
       "    .dataframe tbody tr th:only-of-type {\n",
       "        vertical-align: middle;\n",
       "    }\n",
       "\n",
       "    .dataframe tbody tr th {\n",
       "        vertical-align: top;\n",
       "    }\n",
       "\n",
       "    .dataframe thead th {\n",
       "        text-align: right;\n",
       "    }\n",
       "</style>\n",
       "<table border=\"1\" class=\"dataframe\">\n",
       "  <thead>\n",
       "    <tr style=\"text-align: right;\">\n",
       "      <th></th>\n",
       "      <th>Price</th>\n",
       "      <th>Age</th>\n",
       "      <th>Mileage</th>\n",
       "      <th>FuelType</th>\n",
       "      <th>HP</th>\n",
       "      <th>MetColor</th>\n",
       "      <th>Automatic</th>\n",
       "      <th>CC</th>\n",
       "      <th>Doors</th>\n",
       "      <th>Weight</th>\n",
       "      <th>Currency</th>\n",
       "    </tr>\n",
       "  </thead>\n",
       "  <tbody>\n",
       "    <tr>\n",
       "      <th>0</th>\n",
       "      <td>13500.0</td>\n",
       "      <td>23</td>\n",
       "      <td>46986.0</td>\n",
       "      <td>Diesel</td>\n",
       "      <td>90</td>\n",
       "      <td>1</td>\n",
       "      <td>0</td>\n",
       "      <td>2000</td>\n",
       "      <td>3</td>\n",
       "      <td>1165</td>\n",
       "      <td>EURO</td>\n",
       "    </tr>\n",
       "    <tr>\n",
       "      <th>1</th>\n",
       "      <td>11878.0</td>\n",
       "      <td>23</td>\n",
       "      <td>72937.0</td>\n",
       "      <td>Diesel</td>\n",
       "      <td>90</td>\n",
       "      <td>1</td>\n",
       "      <td>0</td>\n",
       "      <td>2000</td>\n",
       "      <td>3</td>\n",
       "      <td>1165</td>\n",
       "      <td>CHF</td>\n",
       "    </tr>\n",
       "    <tr>\n",
       "      <th>2</th>\n",
       "      <td>12050.0</td>\n",
       "      <td>24</td>\n",
       "      <td>41711.0</td>\n",
       "      <td>Diesel</td>\n",
       "      <td>90</td>\n",
       "      <td>1</td>\n",
       "      <td>0</td>\n",
       "      <td>2000</td>\n",
       "      <td>3</td>\n",
       "      <td>1165</td>\n",
       "      <td>CHF</td>\n",
       "    </tr>\n",
       "    <tr>\n",
       "      <th>3</th>\n",
       "      <td>12914.0</td>\n",
       "      <td>26</td>\n",
       "      <td>48000.0</td>\n",
       "      <td>Diesel</td>\n",
       "      <td>90</td>\n",
       "      <td>0</td>\n",
       "      <td>0</td>\n",
       "      <td>2000</td>\n",
       "      <td>3</td>\n",
       "      <td>1165</td>\n",
       "      <td>CHF</td>\n",
       "    </tr>\n",
       "    <tr>\n",
       "      <th>4</th>\n",
       "      <td>11878.0</td>\n",
       "      <td>30</td>\n",
       "      <td>38500.0</td>\n",
       "      <td>Diesel</td>\n",
       "      <td>90</td>\n",
       "      <td>0</td>\n",
       "      <td>0</td>\n",
       "      <td>2000</td>\n",
       "      <td>3</td>\n",
       "      <td>1170</td>\n",
       "      <td>CHF</td>\n",
       "    </tr>\n",
       "  </tbody>\n",
       "</table>\n",
       "</div>"
      ]
     },
     "metadata": {},
     "output_type": "display_data"
    },
    {
     "name": "stdout",
     "output_type": "stream",
     "text": [
      "(1437, 11)\n",
      "Price        float64\n",
      "Age            int64\n",
      "Mileage      float64\n",
      "FuelType      object\n",
      "HP             int64\n",
      "MetColor       int64\n",
      "Automatic      int64\n",
      "CC             int64\n",
      "Doors          int64\n",
      "Weight         int64\n",
      "Currency      object\n",
      "dtype: object\n"
     ]
    }
   ],
   "execution_count": 2
  },
  {
   "metadata": {},
   "cell_type": "markdown",
   "source": "* Some lines have more fields than it's defined based on columns. I will essentially just skip those then (when I opened in Excel, it seems to be the case that there are more problematics records besides the one in line 33).",
   "id": "937414316e05f96b"
  },
  {
   "cell_type": "markdown",
   "id": "b0b5f57b",
   "metadata": {},
   "source": [
    "**1.2 (2 pts)**: Check if there are nan values in the Dataframe. If there are, try to find out which row is problematic and fix it. If you can't fix it, drop the row."
   ]
  },
  {
   "cell_type": "code",
   "id": "a1197b0a",
   "metadata": {
    "ExecuteTime": {
     "end_time": "2025-02-15T18:23:11.333241Z",
     "start_time": "2025-02-15T18:23:11.330695Z"
    }
   },
   "source": [
    "# Check if there are any NaN values in the DataFrame\n",
    "has_nan = df_cleaned.isna().any().any()\n",
    "\n",
    "# Print the result\n",
    "if has_nan:\n",
    "    print(\"There are NaN values in the DataFrame.\")\n",
    "else:\n",
    "    print(\"No NaN values found in the DataFrame.\")\n"
   ],
   "outputs": [
    {
     "name": "stdout",
     "output_type": "stream",
     "text": [
      "No NaN values found in the DataFrame.\n"
     ]
    }
   ],
   "execution_count": 3
  },
  {
   "cell_type": "markdown",
   "id": "303e0f76",
   "metadata": {},
   "source": [
    "**1.3 (4 pts): Compute the mean, median of the `Price` column.**\n",
    "\n",
    "- Compute the mean and median of the `Price` column. If you encounter error, try to understand why this error is happening and propose a solution.\n",
    "\n",
    "Hint: Is all values in the `Price` column numerical?\n"
   ]
  },
  {
   "cell_type": "code",
   "id": "5d7b18e2",
   "metadata": {
    "ExecuteTime": {
     "end_time": "2025-02-15T18:23:11.375376Z",
     "start_time": "2025-02-15T18:23:11.370309Z"
    }
   },
   "source": [
    "# Ensure the Price column is a string first (to handle potential non-numeric values)\n",
    "df_cleaned[\"Price\"] = df_cleaned[\"Price\"].astype(str)\n",
    "\n",
    "# Convert the Price column to numeric, removing non-numeric characters\n",
    "df_cleaned[\"Price\"] = df_cleaned[\"Price\"].str.replace(r\"[£,]\", \"\", regex=True)  # Remove £ and thousands separators\n",
    "df_cleaned[\"Price\"] = pd.to_numeric(df_cleaned[\"Price\"], errors=\"coerce\")  # Convert to numeric\n",
    "\n",
    "# Check for any rows that could not be converted\n",
    "invalid_price_rows = df_cleaned[df_cleaned[\"Price\"].isna()]\n",
    "\n",
    "# Print problematic rows if any exist\n",
    "if not invalid_price_rows.empty:\n",
    "    print(\"\\nThe following rows had non-convertible 'Price' values:\")\n",
    "    display(invalid_price_rows)\n",
    "\n",
    "# Compute mean and median after conversion\n",
    "mean_price = df_cleaned[\"Price\"].mean()\n",
    "median_price = df_cleaned[\"Price\"].median()\n",
    "\n",
    "# Print results\n",
    "print(f\"\\nMean Price: {mean_price}\")\n",
    "print(f\"Median Price: {median_price}\")\n"
   ],
   "outputs": [
    {
     "name": "stdout",
     "output_type": "stream",
     "text": [
      "\n",
      "Mean Price: 9439.505809951286\n",
      "Median Price: 8595.0\n"
     ]
    }
   ],
   "execution_count": 4
  },
  {
   "metadata": {},
   "cell_type": "markdown",
   "source": "* With th different currencies, this is not very informative...",
   "id": "d165859ee1d50e8"
  },
  {
   "cell_type": "markdown",
   "id": "62a727c9",
   "metadata": {},
   "source": [
    "**1.4 (4 pts): Convert Units**\n",
    "\n",
    "You notice that some prices are in CHF (Swiss Francs), while others are in EUR (Euros) or GBP (British Pounds). Additionally, for cars priced in GBP, the mileage is in miles rather than kilometers.\n",
    "\n",
    "For consistency, convert all prices to EUR and all distances to kilometers.\n",
    "\n",
    "- Exchange rates:\n",
    "  - 1 CHF = 1.05 EUR\n",
    "  - 1 GBP = 1.15 EUR\n",
    "  - 1 mile = 1.61 km\n",
    "\n",
    "Make the following conversions:\n",
    "1. Convert prices in CHF or GBP to EUR, rounding to the nearest integer.\n",
    "2. Convert distances in miles (for GBP cars) to kilometers, rounding to the nearest integer.\n",
    "3. Drop the 'Currency' column.\n",
    "4. Calculate the min, mean, median and max of the 'Price' and 'Distance' columns after the conversion."
   ]
  },
  {
   "cell_type": "code",
   "id": "b4fc4a86",
   "metadata": {
    "ExecuteTime": {
     "end_time": "2025-02-15T18:23:11.415536Z",
     "start_time": "2025-02-15T18:23:11.406680Z"
    }
   },
   "source": [
    "# Exchange rates\n",
    "chf_to_eur = 1.05\n",
    "gbp_to_eur = 1.15\n",
    "mile_to_km = 1.61\n",
    "\n",
    "# Ensure the 'Currency' column exists before processing\n",
    "if \"Currency\" in df_cleaned.columns:\n",
    "\n",
    "    # Ensure 'Price' is numeric\n",
    "    df_cleaned[\"Price\"] = pd.to_numeric(df_cleaned[\"Price\"], errors=\"coerce\")\n",
    "\n",
    "    # Ensure 'Mileage' is numeric before conversion\n",
    "    df_cleaned[\"Mileage\"] = pd.to_numeric(df_cleaned[\"Mileage\"], errors=\"coerce\")\n",
    "\n",
    "    # Convert Prices to EUR\n",
    "    df_cleaned.loc[df_cleaned[\"Currency\"] == \"CHF\", \"Price\"] *= chf_to_eur\n",
    "    df_cleaned.loc[df_cleaned[\"Currency\"] == \"GBP\", \"Price\"] *= gbp_to_eur\n",
    "\n",
    "    # Round prices to the nearest integer\n",
    "    df_cleaned[\"Price\"] = df_cleaned[\"Price\"].round(0).astype(\"Int64\")\n",
    "\n",
    "    # Convert Mileage from miles to km for GBP cars\n",
    "    df_cleaned.loc[df_cleaned[\"Currency\"] == \"GBP\", \"Mileage\"] *= mile_to_km\n",
    "\n",
    "    # Round mileage to the nearest integer\n",
    "    df_cleaned[\"Mileage\"] = df_cleaned[\"Mileage\"].round(0).astype(\"Int64\")\n",
    "\n",
    "    # Drop the 'Currency' column after conversion\n",
    "    df_cleaned = df_cleaned.drop(columns=[\"Currency\"])\n",
    "\n",
    "else:\n",
    "    print(\"⚠️ The 'Currency' column is missing. Skipping currency-based conversions.\")\n",
    "\n",
    "# Calculate min, mean, median, and max for 'Price' and 'Mileage' with 2 decimal places\n",
    "price_stats = {\n",
    "    \"Min Price (EUR)\": f\"{df_cleaned['Price'].min():,.2f} EUR\",\n",
    "    \"Mean Price (EUR)\": f\"{df_cleaned['Price'].mean():,.2f} EUR\",\n",
    "    \"Median Price (EUR)\": f\"{df_cleaned['Price'].median():,.2f} EUR\",\n",
    "    \"Max Price (EUR)\": f\"{df_cleaned['Price'].max():,.2f} EUR\",\n",
    "}\n",
    "\n",
    "mileage_stats = {\n",
    "    \"Min Mileage (km)\": f\"{df_cleaned['Mileage'].min():,.2f} km\",\n",
    "    \"Mean Mileage (km)\": f\"{df_cleaned['Mileage'].mean():,.2f} km\",\n",
    "    \"Median Mileage (km)\": f\"{df_cleaned['Mileage'].median():,.2f} km\",\n",
    "    \"Max Mileage (km)\": f\"{df_cleaned['Mileage'].max():,.2f} km\",\n",
    "}\n",
    "\n",
    "# Print final statistics nicely formatted\n",
    "print(\"\\n📌 **Final Converted Values**:\")\n",
    "print(\"   - Prices are now in **EUR (€)**\")\n",
    "print(\"   - Mileage is now in **Kilometers (km)**\")\n",
    "\n",
    "print(\"\\n📊 **Price Statistics (EUR):**\")\n",
    "for key, value in price_stats.items():\n",
    "    print(f\"   {key}: {value}\")\n",
    "\n",
    "print(\"\\n📊 **Mileage Statistics (km):**\")\n",
    "for key, value in mileage_stats.items():\n",
    "    print(f\"   {key}: {value}\")\n"
   ],
   "outputs": [
    {
     "name": "stdout",
     "output_type": "stream",
     "text": [
      "\n",
      "📌 **Final Converted Values**:\n",
      "   - Prices are now in **EUR (€)**\n",
      "   - Mileage is now in **Kilometers (km)**\n",
      "\n",
      "📊 **Price Statistics (EUR):**\n",
      "   Min Price (EUR): 3,946.00 EUR\n",
      "   Mean Price (EUR): 9,879.32 EUR\n",
      "   Median Price (EUR): 9,025.00 EUR\n",
      "   Max Price (EUR): 29,478.00 EUR\n",
      "\n",
      "📊 **Mileage Statistics (km):**\n",
      "   Min Mileage (km): 1.00 km\n",
      "   Mean Mileage (km): 68,491.09 km\n",
      "   Median Mileage (km): 63,328.00 km\n",
      "   Max Mileage (km): 243,000.00 km\n"
     ]
    }
   ],
   "execution_count": 5
  },
  {
   "cell_type": "markdown",
   "id": "a0cf32bd",
   "metadata": {},
   "source": [
    "**1.5 (2 pts): Analyze Average Price**\n",
    "\n",
    "A.  Print the average price for each fuel type. Determine which fuel type has the highest average price.\n",
    "\n",
    "B.  Print the average price for different numbers of doors. Determine which number of doors has the highest average price."
   ]
  },
  {
   "cell_type": "code",
   "id": "31e405cd",
   "metadata": {
    "ExecuteTime": {
     "end_time": "2025-02-15T18:23:11.439447Z",
     "start_time": "2025-02-15T18:23:11.434576Z"
    }
   },
   "source": [
    "#TODO\n",
    "# Ensure 'FuelType' and 'Doors' are present in the DataFrame\n",
    "if \"FuelType\" in df_cleaned.columns and \"Doors\" in df_cleaned.columns:\n",
    "\n",
    "    # A. Average price for each fuel type\n",
    "    avg_price_fuel = df_cleaned.groupby(\"FuelType\")[\"Price\"].mean().round(2)\n",
    "\n",
    "    # Determine the fuel type with the highest average price\n",
    "    highest_fuel = avg_price_fuel.idxmax()\n",
    "    highest_fuel_price = avg_price_fuel.max()\n",
    "\n",
    "    print(\"\\n⛽ **Average Price by Fuel Type (EUR):**\")\n",
    "    print(avg_price_fuel.to_string())\n",
    "    print(f\"\\n🚀 The fuel type with the highest average price is **{highest_fuel}** with an average price of **{highest_fuel_price:,.2f} EUR**.\")\n",
    "\n",
    "    # B. Average price for different numbers of doors\n",
    "    avg_price_doors = df_cleaned.groupby(\"Doors\")[\"Price\"].mean().round(2)\n",
    "\n",
    "    # Determine the number of doors with the highest average price\n",
    "    highest_doors = avg_price_doors.idxmax()\n",
    "    highest_doors_price = avg_price_doors.max()\n",
    "\n",
    "    print(\"\\n🚗 **Average Price by Number of Doors (EUR):**\")\n",
    "    print(avg_price_doors.to_string())\n",
    "    print(f\"\\n🏆 The cars with **{highest_doors} doors** have the highest average price of **{highest_doors_price:,.2f} EUR**.\")\n",
    "\n",
    "else:\n",
    "    print(\"⚠️ The 'FuelType' or 'Doors' column is missing. Cannot analyze average price.\")\n"
   ],
   "outputs": [
    {
     "name": "stdout",
     "output_type": "stream",
     "text": [
      "\n",
      "⛽ **Average Price by Fuel Type (EUR):**\n",
      "FuelType\n",
      "CNG        8752.18\n",
      "Diesel    10366.49\n",
      "Petrol     9834.78\n",
      "\n",
      "🚀 The fuel type with the highest average price is **Diesel** with an average price of **10,366.49 EUR**.\n",
      "\n",
      "🚗 **Average Price by Number of Doors (EUR):**\n",
      "Doors\n",
      "2      7347.0\n",
      "3     9320.29\n",
      "4      9024.3\n",
      "5    10578.64\n",
      "\n",
      "🏆 The cars with **5 doors** have the highest average price of **10,578.64 EUR**.\n"
     ]
    }
   ],
   "execution_count": 6
  },
  {
   "cell_type": "markdown",
   "id": "f9fa4698",
   "metadata": {},
   "source": [
    "**1.6 (2 pts): Relationship Between Car Age and Price**\n",
    "\n",
    "It is intuitive that an older car tends to be cheaper, and a car with more mileage might also be less expensive. \n",
    "\n",
    "To explore this intuition, create two scatter plots:\n",
    "1. Car Age vs Price\n",
    "2. Mileage vs Price"
   ]
  },
  {
   "cell_type": "code",
   "id": "c1ac6aee",
   "metadata": {
    "ExecuteTime": {
     "end_time": "2025-02-15T18:23:11.685238Z",
     "start_time": "2025-02-15T18:23:11.462379Z"
    }
   },
   "source": [
    "# Ensure 'Age' and 'Price' are numeric\n",
    "df_cleaned[\"Age\"] = pd.to_numeric(df_cleaned[\"Age\"], errors=\"coerce\")\n",
    "df_cleaned[\"Price\"] = pd.to_numeric(df_cleaned[\"Price\"], errors=\"coerce\")\n",
    "df_cleaned[\"Mileage\"] = pd.to_numeric(df_cleaned[\"Mileage\"], errors=\"coerce\")\n",
    "\n",
    "# Drop any rows with NaN values in required columns\n",
    "df_valid = df_cleaned.dropna(subset=[\"Age\", \"Mileage\", \"Price\"])\n",
    "\n",
    "# Scatter plot: Car Age vs Price\n",
    "plt.figure(figsize=(10, 6))\n",
    "plt.scatter(df_valid[\"Age\"], df_valid[\"Price\"], alpha=0.4, color=\"blue\", s=15)  # Larger dots\n",
    "plt.xlabel(\"Car Age (years)\")\n",
    "plt.ylabel(\"Price (EUR)\")\n",
    "plt.title(\"Car Age vs Price\")\n",
    "\n",
    "# Ensure Age column is numeric before setting x-ticks\n",
    "plt.xticks(np.arange(0, int(df_valid[\"Age\"].max()) + 1, step=2))  # Show every 2 years\n",
    "\n",
    "plt.grid(True, linestyle=\"--\", alpha=0.5)  # Dashed grid for better readability\n",
    "plt.show()\n",
    "\n",
    "# Scatter plot: Mileage vs Price\n",
    "plt.figure(figsize=(10, 6))\n",
    "plt.scatter(df_valid[\"Mileage\"], df_valid[\"Price\"], alpha=0.4, color=\"orange\", s=15)\n",
    "plt.xlabel(\"Mileage (km)\")\n",
    "plt.ylabel(\"Price (EUR)\")\n",
    "plt.title(\"Mileage vs Price\")\n",
    "\n",
    "plt.grid(True, linestyle=\"--\", alpha=0.5)\n",
    "plt.show()\n"
   ],
   "outputs": [
    {
     "data": {
      "text/plain": [
       "<Figure size 1000x600 with 1 Axes>"
      ],
      "image/png": "[encoded data removed]"
     },
     "metadata": {},
     "output_type": "display_data"
    },
    {
     "data": {
      "text/plain": [
       "<Figure size 1000x600 with 1 Axes>"
      ],
      "image/png": "[encoded data removed]"
     },
     "metadata": {},
     "output_type": "display_data"
    }
   ],
   "execution_count": 7
  },
  {
   "cell_type": "markdown",
   "id": "0f6531d1",
   "metadata": {},
   "source": [
    "**1.7 (4 pts): Correlation Between Price and Mileage**\n",
    "\n",
    "The relationship between car price and mileage appears non-linear, with a steeper price drop initially followed by a flatter curve.\n",
    "\n",
    "A.(2 pts)  Calculate both the Pearson and Spearman correlations between the price of the car and the distance driven.\n"
   ]
  },
  {
   "cell_type": "code",
   "id": "718ca9aa",
   "metadata": {
    "ExecuteTime": {
     "end_time": "2025-02-15T18:23:11.700210Z",
     "start_time": "2025-02-15T18:23:11.693577Z"
    }
   },
   "source": [
    "# Ensure 'Price' and 'Mileage' are numeric\n",
    "df_cleaned[\"Price\"] = pd.to_numeric(df_cleaned[\"Price\"], errors=\"coerce\")\n",
    "df_cleaned[\"Mileage\"] = pd.to_numeric(df_cleaned[\"Mileage\"], errors=\"coerce\")\n",
    "\n",
    "# Drop rows with NaN values in 'Price' and 'Mileage'\n",
    "df_valid = df_cleaned.dropna(subset=[\"Price\", \"Mileage\"]).copy()\n",
    "\n",
    "# Ensure they are numpy arrays with the correct shape\n",
    "mileage_values = df_valid[\"Mileage\"].to_numpy().astype(float)\n",
    "price_values = df_valid[\"Price\"].to_numpy().astype(float)\n",
    "\n",
    "# Compute Pearson Correlation\n",
    "if len(mileage_values) > 1 and len(price_values) > 1:\n",
    "    pearson_corr = np.corrcoef(mileage_values, price_values)[0, 1]\n",
    "else:\n",
    "    pearson_corr = np.nan  # Handle case where not enough data exists\n",
    "\n",
    "# Compute Spearman Correlation Manually\n",
    "df_valid[\"Mileage_Rank\"] = df_valid[\"Mileage\"].rank(method=\"average\")\n",
    "df_valid[\"Price_Rank\"] = df_valid[\"Price\"].rank(method=\"average\")\n",
    "\n",
    "mileage_rank_values = df_valid[\"Mileage_Rank\"].to_numpy().astype(float)\n",
    "price_rank_values = df_valid[\"Price_Rank\"].to_numpy().astype(float)\n",
    "\n",
    "if len(mileage_rank_values) > 1 and len(price_rank_values) > 1:\n",
    "    spearman_corr = np.corrcoef(mileage_rank_values, price_rank_values)[0, 1]\n",
    "else:\n",
    "    spearman_corr = np.nan  # Handle case where not enough data exists\n",
    "\n",
    "# Print results formatted to 3 decimal places\n",
    "print(f\"Pearson Correlation: {pearson_corr:.3f}\")\n",
    "print(f\"Spearman Correlation: {spearman_corr:.3f}\")\n"
   ],
   "outputs": [
    {
     "name": "stdout",
     "output_type": "stream",
     "text": [
      "Pearson Correlation: -0.564\n",
      "Spearman Correlation: -0.604\n"
     ]
    }
   ],
   "execution_count": 8
  },
  {
   "cell_type": "markdown",
   "id": "ee3638a1",
   "metadata": {},
   "source": [
    "\n",
    "B.(2 pts)  Which correlation value is higher? Does this result align with your expectations?"
   ]
  },
  {
   "cell_type": "markdown",
   "id": "addf1654",
   "metadata": {},
   "source": [
    "Your Response:\n",
    "The value of the Spearman Correlation is higher. This makes sense since the Spearman Correlation is more robust to outliers since it is a non-parametric measure based on the rank of the data and not simply the values themselves. When we see the Graph, we can clearly see that there is a strong Negative Correlation, but that the relationship is not linear (Spearman only measures this type of relationship). From experience, this sudden drop we see in the beginning makes a lot of sense, since there is a big difference between a car with 0km and a car that is not brand new anymore.\n",
    "//**//"
   ]
  },
  {
   "cell_type": "markdown",
   "id": "4827d3d8",
   "metadata": {},
   "source": [
    "## Part 2 Linear Regression (30 pts)\n",
    "\n",
    "You want to build a linear regression model to predict the price of a car based on the features you have.\n",
    "\n"
   ]
  },
  {
   "cell_type": "markdown",
   "id": "058120ef",
   "metadata": {},
   "source": [
    "**2.0 (8 pts) Helper functions**\n",
    "\n",
    "Before building the linear regression model, you need to implement some helper functions.\n",
    "\n",
    " Implement the `accuracy` , `precision`, `recall` and `f1_score` functions. \n",
    "\n",
    "1. These functions should take in the true labels(`np.array`) and the predicted labels(`np.array`) and return the corresponding metric. \n",
    "2. They should follow the convention that the positive class is 1 and the negative class is 0.\n",
    "3. Apply the functions to the following data:\n",
    "\n",
    "```python\n",
    "true_labels = np.array([1, 0, 1, 1, 0, 1, 0, 0, 1, 0])\n",
    "predicted_labels = np.array([1, 1, 1, 1, 0, 0, 1, 0, 1, 0])\n",
    "```\n",
    "\n",
    "- Compare the results with the implementation in `sklearn` and see if they match."
   ]
  },
  {
   "cell_type": "code",
   "id": "7e5cff50",
   "metadata": {
    "ExecuteTime": {
     "end_time": "2025-02-15T18:23:11.761078Z",
     "start_time": "2025-02-15T18:23:11.719628Z"
    }
   },
   "source": [
    "#TODO\n",
    "from sklearn.metrics import accuracy_score, precision_score, recall_score, f1_score\n",
    "\n",
    "# Implement accuracy function\n",
    "def accuracy(true_labels: np.array, predicted_labels: np.array) -> float:\n",
    "    \"\"\"\n",
    "    Computes accuracy: (TP + TN) / (TP + TN + FP + FN)\n",
    "    \"\"\"\n",
    "    return np.sum(true_labels == predicted_labels) / len(true_labels)\n",
    "\n",
    "# Implement precision function\n",
    "def precision(true_labels: np.array, predicted_labels: np.array) -> float:\n",
    "    \"\"\"\n",
    "    Computes precision: TP / (TP + FP)\n",
    "    \"\"\"\n",
    "    tp = np.sum((true_labels == 1) & (predicted_labels == 1))\n",
    "    fp = np.sum((true_labels == 0) & (predicted_labels == 1))\n",
    "    return tp / (tp + fp) if (tp + fp) > 0 else 0\n",
    "\n",
    "# Implement recall function\n",
    "def recall(true_labels: np.array, predicted_labels: np.array) -> float:\n",
    "    \"\"\"\n",
    "    Computes recall: TP / (TP + FN)\n",
    "    \"\"\"\n",
    "    tp = np.sum((true_labels == 1) & (predicted_labels == 1))\n",
    "    fn = np.sum((true_labels == 1) & (predicted_labels == 0))\n",
    "    return tp / (tp + fn) if (tp + fn) > 0 else 0\n",
    "\n",
    "# Implement F1-score function\n",
    "def f1_score_custom(true_labels: np.array, predicted_labels: np.array) -> float:\n",
    "    \"\"\"\n",
    "    Computes F1 score: 2 * (Precision * Recall) / (Precision + Recall)\n",
    "    \"\"\"\n",
    "    p = precision(true_labels, predicted_labels)\n",
    "    r = recall(true_labels, predicted_labels)\n",
    "    return 2 * (p * r) / (p + r) if (p + r) > 0 else 0\n",
    "\n",
    "# Given data\n",
    "true_labels = np.array([1, 0, 1, 1, 0, 1, 0, 0, 1, 0])\n",
    "predicted_labels = np.array([1, 1, 1, 1, 0, 0, 1, 0, 1, 0])\n",
    "\n",
    "# Compute metrics using custom functions\n",
    "acc = accuracy(true_labels, predicted_labels)\n",
    "prec = precision(true_labels, predicted_labels)\n",
    "rec = recall(true_labels, predicted_labels)\n",
    "f1 = f1_score_custom(true_labels, predicted_labels)\n",
    "\n",
    "# Compute metrics using sklearn for comparison\n",
    "acc_sklearn = accuracy_score(true_labels, predicted_labels)\n",
    "prec_sklearn = precision_score(true_labels, predicted_labels)\n",
    "rec_sklearn = recall_score(true_labels, predicted_labels)\n",
    "f1_sklearn = f1_score(true_labels, predicted_labels)\n",
    "\n",
    "# Print results\n",
    "print(\"Custom vs Sklearn Metrics Comparison:\")\n",
    "print(f\"Accuracy: Custom = {acc:.4f}, Sklearn = {acc_sklearn:.4f}\")\n",
    "print(f\"Precision: Custom = {prec:.4f}, Sklearn = {prec_sklearn:.4f}\")\n",
    "print(f\"Recall: Custom = {rec:.4f}, Sklearn = {rec_sklearn:.4f}\")\n",
    "print(f\"F1 Score: Custom = {f1:.4f}, Sklearn = {f1_sklearn:.4f}\")\n"
   ],
   "outputs": [
    {
     "name": "stdout",
     "output_type": "stream",
     "text": [
      "Custom vs Sklearn Metrics Comparison:\n",
      "Accuracy: Custom = 0.7000, Sklearn = 0.7000\n",
      "Precision: Custom = 0.6667, Sklearn = 0.6667\n",
      "Recall: Custom = 0.8000, Sklearn = 0.8000\n",
      "F1 Score: Custom = 0.7273, Sklearn = 0.7273\n"
     ]
    }
   ],
   "execution_count": 9
  },
  {
   "cell_type": "markdown",
   "id": "06e49af9",
   "metadata": {},
   "source": [
    "\n",
    "**2.1 (6 pts) Preprocess the Data**\n",
    "\n",
    "To prepare your data for building a linear regression model, complete the following steps:\n",
    "\n",
    "A.(1 pts) Convert the categorical variables to one-hot encoding using the `pd.get_dummies()` function, how many columns do you have after the one-hot encoding? (P.S. You may want to avoid introducing multicollinearity with one-hot encoding, what should you do to avoid this?)\n"
   ]
  },
  {
   "metadata": {
    "ExecuteTime": {
     "end_time": "2025-02-15T18:23:11.779341Z",
     "start_time": "2025-02-15T18:23:11.773550Z"
    }
   },
   "cell_type": "code",
   "source": [
    "# Iterate through columns and display value counts for each\n",
    "for col in df_cleaned.columns:\n",
    "    print(f\"\\nColumn: {col}\")\n",
    "    print(df[col].value_counts(dropna=False))  # Show counts including NaN values\n",
    "    print(\"-\" * 40)  # Separator for readability\n"
   ],
   "id": "9e504697af10542a",
   "outputs": [
    {
     "name": "stdout",
     "output_type": "stream",
     "text": [
      "\n",
      "Column: Price\n",
      "Price\n",
      "7731.0     94\n",
      "8595.0     78\n",
      "6868.0     57\n",
      "9459.0     53\n",
      "10323.0    42\n",
      "           ..\n",
      "9493.0      1\n",
      "13649.0     1\n",
      "12017.5     1\n",
      "10250.0     1\n",
      "9369.0      1\n",
      "Name: count, Length: 310, dtype: int64\n",
      "----------------------------------------\n",
      "\n",
      "Column: Age\n",
      "Age\n",
      "68    69\n",
      "65    63\n",
      "80    59\n",
      "78    47\n",
      "62    42\n",
      "      ..\n",
      "2      2\n",
      "1      2\n",
      "10     1\n",
      "18     1\n",
      "6      1\n",
      "Name: count, Length: 77, dtype: int64\n",
      "----------------------------------------\n",
      "\n",
      "Column: Mileage\n",
      "Mileage\n",
      "36000.000000    9\n",
      "1.000000        8\n",
      "43000.000000    7\n",
      "59000.000000    7\n",
      "10000.000000    6\n",
      "               ..\n",
      "63792.000000    1\n",
      "39871.428571    1\n",
      "65170.000000    1\n",
      "65471.000000    1\n",
      "16916.000000    1\n",
      "Name: count, Length: 1268, dtype: int64\n",
      "----------------------------------------\n",
      "\n",
      "Column: FuelType\n",
      "FuelType\n",
      "Petrol    1265\n",
      "Diesel     155\n",
      "CNG         17\n",
      "Name: count, dtype: int64\n",
      "----------------------------------------\n",
      "\n",
      "Column: HP\n",
      "HP\n",
      "110    836\n",
      "86     249\n",
      "97     164\n",
      "72      73\n",
      "90      36\n",
      "69      34\n",
      "107     21\n",
      "192     11\n",
      "116      9\n",
      "98       2\n",
      "71       1\n",
      "73       1\n",
      "Name: count, dtype: int64\n",
      "----------------------------------------\n",
      "\n",
      "Column: MetColor\n",
      "MetColor\n",
      "1    969\n",
      "0    468\n",
      "Name: count, dtype: int64\n",
      "----------------------------------------\n",
      "\n",
      "Column: Automatic\n",
      "Automatic\n",
      "0    1357\n",
      "1      80\n",
      "Name: count, dtype: int64\n",
      "----------------------------------------\n",
      "\n",
      "Column: CC\n",
      "CC\n",
      "1600    847\n",
      "1300    248\n",
      "1400    164\n",
      "2000    119\n",
      "1900     30\n",
      "1800     14\n",
      "1598      4\n",
      "1587      4\n",
      "1995      2\n",
      "1398      2\n",
      "1332      2\n",
      "1975      1\n",
      "Name: count, dtype: int64\n",
      "----------------------------------------\n",
      "\n",
      "Column: Doors\n",
      "Doors\n",
      "5    674\n",
      "3    623\n",
      "4    138\n",
      "2      2\n",
      "Name: count, dtype: int64\n",
      "----------------------------------------\n",
      "\n",
      "Column: Weight\n",
      "Weight\n",
      "1075    193\n",
      "1050    168\n",
      "1015    117\n",
      "1035    106\n",
      "1070     89\n",
      "1025     70\n",
      "1065     51\n",
      "1080     47\n",
      "1055     43\n",
      "1060     40\n",
      "1085     40\n",
      "1100     40\n",
      "1115     39\n",
      "1110     38\n",
      "1040     35\n",
      "1135     33\n",
      "1105     31\n",
      "1045     31\n",
      "1130     29\n",
      "1030     24\n",
      "1000     17\n",
      "1120     17\n",
      "1140     16\n",
      "1090     10\n",
      "1114     10\n",
      "1020      9\n",
      "1185      9\n",
      "1165      8\n",
      "1150      7\n",
      "1255      7\n",
      "1180      5\n",
      "1260      5\n",
      "1170      4\n",
      "1095      4\n",
      "1480      4\n",
      "1205      4\n",
      "1010      4\n",
      "1270      3\n",
      "1320      3\n",
      "1119      3\n",
      "1245      3\n",
      "1195      2\n",
      "1275      2\n",
      "1155      2\n",
      "1160      1\n",
      "1109      1\n",
      "1079      1\n",
      "1172      1\n",
      "1094      1\n",
      "1084      1\n",
      "1103      1\n",
      "1078      1\n",
      "1280      1\n",
      "1265      1\n",
      "1125      1\n",
      "1067      1\n",
      "1615      1\n",
      "1121      1\n",
      "1083      1\n",
      "Name: count, dtype: int64\n",
      "----------------------------------------\n"
     ]
    }
   ],
   "execution_count": 10
  },
  {
   "cell_type": "code",
   "id": "8f65013a",
   "metadata": {
    "ExecuteTime": {
     "end_time": "2025-02-15T18:23:11.797943Z",
     "start_time": "2025-02-15T18:23:11.790697Z"
    }
   },
   "source": [
    "#TODO\n",
    "# Make a deep copy of df_cleaned\n",
    "df = df_cleaned.copy(deep=True)\n",
    "\n",
    "# One-Hot Encode categorical variables, dropping one column to avoid multicollinearity\n",
    "df = pd.get_dummies(df, columns=['FuelType', 'Doors'], drop_first=True)\n",
    "\n",
    "# Print column count after encoding\n",
    "print(f\"Number of columns after encoding: {df.shape[1]}\")\n",
    "\n",
    "# Display first few rows\n",
    "df.head()"
   ],
   "outputs": [
    {
     "name": "stdout",
     "output_type": "stream",
     "text": [
      "Number of columns after encoding: 13\n"
     ]
    },
    {
     "data": {
      "text/plain": [
       "   Price  Age  Mileage  HP  MetColor  Automatic    CC  Weight  \\\n",
       "0  13500   23    46986  90         1          0  2000    1165   \n",
       "1  12472   23    72937  90         1          0  2000    1165   \n",
       "2  12652   24    41711  90         1          0  2000    1165   \n",
       "3  13560   26    48000  90         0          0  2000    1165   \n",
       "4  12472   30    38500  90         0          0  2000    1170   \n",
       "\n",
       "   FuelType_Diesel  FuelType_Petrol  Doors_3  Doors_4  Doors_5  \n",
       "0             True            False     True    False    False  \n",
       "1             True            False     True    False    False  \n",
       "2             True            False     True    False    False  \n",
       "3             True            False     True    False    False  \n",
       "4             True            False     True    False    False  "
      ],
      "text/html": [
       "<div>\n",
       "<style scoped>\n",
       "    .dataframe tbody tr th:only-of-type {\n",
       "        vertical-align: middle;\n",
       "    }\n",
       "\n",
       "    .dataframe tbody tr th {\n",
       "        vertical-align: top;\n",
       "    }\n",
       "\n",
       "    .dataframe thead th {\n",
       "        text-align: right;\n",
       "    }\n",
       "</style>\n",
       "<table border=\"1\" class=\"dataframe\">\n",
       "  <thead>\n",
       "    <tr style=\"text-align: right;\">\n",
       "      <th></th>\n",
       "      <th>Price</th>\n",
       "      <th>Age</th>\n",
       "      <th>Mileage</th>\n",
       "      <th>HP</th>\n",
       "      <th>MetColor</th>\n",
       "      <th>Automatic</th>\n",
       "      <th>CC</th>\n",
       "      <th>Weight</th>\n",
       "      <th>FuelType_Diesel</th>\n",
       "      <th>FuelType_Petrol</th>\n",
       "      <th>Doors_3</th>\n",
       "      <th>Doors_4</th>\n",
       "      <th>Doors_5</th>\n",
       "    </tr>\n",
       "  </thead>\n",
       "  <tbody>\n",
       "    <tr>\n",
       "      <th>0</th>\n",
       "      <td>13500</td>\n",
       "      <td>23</td>\n",
       "      <td>46986</td>\n",
       "      <td>90</td>\n",
       "      <td>1</td>\n",
       "      <td>0</td>\n",
       "      <td>2000</td>\n",
       "      <td>1165</td>\n",
       "      <td>True</td>\n",
       "      <td>False</td>\n",
       "      <td>True</td>\n",
       "      <td>False</td>\n",
       "      <td>False</td>\n",
       "    </tr>\n",
       "    <tr>\n",
       "      <th>1</th>\n",
       "      <td>12472</td>\n",
       "      <td>23</td>\n",
       "      <td>72937</td>\n",
       "      <td>90</td>\n",
       "      <td>1</td>\n",
       "      <td>0</td>\n",
       "      <td>2000</td>\n",
       "      <td>1165</td>\n",
       "      <td>True</td>\n",
       "      <td>False</td>\n",
       "      <td>True</td>\n",
       "      <td>False</td>\n",
       "      <td>False</td>\n",
       "    </tr>\n",
       "    <tr>\n",
       "      <th>2</th>\n",
       "      <td>12652</td>\n",
       "      <td>24</td>\n",
       "      <td>41711</td>\n",
       "      <td>90</td>\n",
       "      <td>1</td>\n",
       "      <td>0</td>\n",
       "      <td>2000</td>\n",
       "      <td>1165</td>\n",
       "      <td>True</td>\n",
       "      <td>False</td>\n",
       "      <td>True</td>\n",
       "      <td>False</td>\n",
       "      <td>False</td>\n",
       "    </tr>\n",
       "    <tr>\n",
       "      <th>3</th>\n",
       "      <td>13560</td>\n",
       "      <td>26</td>\n",
       "      <td>48000</td>\n",
       "      <td>90</td>\n",
       "      <td>0</td>\n",
       "      <td>0</td>\n",
       "      <td>2000</td>\n",
       "      <td>1165</td>\n",
       "      <td>True</td>\n",
       "      <td>False</td>\n",
       "      <td>True</td>\n",
       "      <td>False</td>\n",
       "      <td>False</td>\n",
       "    </tr>\n",
       "    <tr>\n",
       "      <th>4</th>\n",
       "      <td>12472</td>\n",
       "      <td>30</td>\n",
       "      <td>38500</td>\n",
       "      <td>90</td>\n",
       "      <td>0</td>\n",
       "      <td>0</td>\n",
       "      <td>2000</td>\n",
       "      <td>1170</td>\n",
       "      <td>True</td>\n",
       "      <td>False</td>\n",
       "      <td>True</td>\n",
       "      <td>False</td>\n",
       "      <td>False</td>\n",
       "    </tr>\n",
       "  </tbody>\n",
       "</table>\n",
       "</div>"
      ]
     },
     "execution_count": 11,
     "metadata": {},
     "output_type": "execute_result"
    }
   ],
   "execution_count": 11
  },
  {
   "cell_type": "markdown",
   "id": "15f24e26",
   "metadata": {},
   "source": [
    "B.(1 pts) Split the data into features (X) and target (y) variables. The target variable is the 'Price' column. Then split the data into train test sets using a 80-20 split. Use `random_state=42` for reproducibility. How many samples are in the training set and how many samples are in the test set?\n"
   ]
  },
  {
   "cell_type": "code",
   "id": "9f3ea52d",
   "metadata": {
    "ExecuteTime": {
     "end_time": "2025-02-15T18:23:11.839263Z",
     "start_time": "2025-02-15T18:23:11.829664Z"
    }
   },
   "source": [
    "#TODO\n",
    "from sklearn.model_selection import train_test_split\n",
    "\n",
    "# Convert all columns to numeric (ensuring no categorical or object types)\n",
    "df = df.apply(pd.to_numeric, errors='coerce')\n",
    "\n",
    "# Split the data into features (X) and target variable (y)\n",
    "X = df.drop(columns=['Price'])  # Features\n",
    "y = df['Price']  # Target variable\n",
    "\n",
    "# Perform an 80-20 train-test split\n",
    "X_train, X_test, y_train, y_test = train_test_split(X, y, test_size=0.2, random_state=42)\n",
    "\n",
    "# Print the number of samples in train and test sets\n",
    "print(f\"Training set size: {X_train.shape[0]} samples\")\n",
    "print(f\"Test set size: {X_test.shape[0]} samples\")"
   ],
   "outputs": [
    {
     "name": "stdout",
     "output_type": "stream",
     "text": [
      "Training set size: 1149 samples\n",
      "Test set size: 288 samples\n"
     ]
    }
   ],
   "execution_count": 12
  },
  {
   "cell_type": "markdown",
   "id": "f6992805",
   "metadata": {},
   "source": [
    "C.(1 pts) Why do we split the data into only train-test sets but not train-validation-test sets? "
   ]
  },
  {
   "cell_type": "markdown",
   "id": "038285f4",
   "metadata": {},
   "source": [
    "Your Response:\n",
    "\n",
    "//**//"
   ]
  },
  {
   "cell_type": "markdown",
   "id": "fe1b8bdf",
   "metadata": {},
   "source": [
    "D.(1 pts) **Standardize the Features**: Use `StandardScaler` from `sklearn.preprocessing` and then add a constant column using `sm.add_constant()`. Print the average and standard deviation of the training set after standardization."
   ]
  },
  {
   "cell_type": "code",
   "id": "0743e6d6",
   "metadata": {
    "ExecuteTime": {
     "end_time": "2025-02-15T18:23:11.873278Z",
     "start_time": "2025-02-15T18:23:11.861300Z"
    }
   },
   "source": [
    "from sklearn.preprocessing import StandardScaler\n",
    "import statsmodels.api as sm\n",
    "\n",
    "# Initialize the StandardScaler\n",
    "scaler = StandardScaler()\n",
    "\n",
    "# Print mean and std before standardization\n",
    "print(\"Before Standardization:\")\n",
    "print(\"Mean of each feature:\")\n",
    "print(X_train.mean())\n",
    "print(\"\\nStandard deviation of each feature:\")\n",
    "print(X_train.std())\n",
    "\n",
    "# Fit and transform the training data\n",
    "X_train_scaled = scaler.fit_transform(X_train)\n",
    "\n",
    "# Transform the test data (using the same scaler fitted on training data)\n",
    "X_test_scaled = scaler.transform(X_test)\n",
    "\n",
    "# Convert back to DataFrame (for easier readability)\n",
    "X_train_scaled = pd.DataFrame(X_train_scaled, columns=X_train.columns)\n",
    "X_test_scaled = pd.DataFrame(X_test_scaled, columns=X_test.columns)\n",
    "\n",
    "# Print mean and std after standardization (should be ~0 mean, ~1 std)\n",
    "print(\"\\nAfter Standardization:\")\n",
    "print(\"Mean of each feature:\")\n",
    "print(X_train_scaled.mean())\n",
    "\n",
    "print(\"\\nStandard deviation of each feature:\")\n",
    "print(X_train_scaled.std())\n",
    "\n",
    "# Add a constant column to the training and test sets **AFTER** standardization\n",
    "X_train_scaled = sm.add_constant(X_train_scaled)\n",
    "X_test_scaled = sm.add_constant(X_test_scaled)\n",
    "\n",
    "# Print mean and std after adding constant (to check constant column)\n",
    "print(\"\\nAfter Adding Constant Term:\")\n",
    "print(\"Mean of each feature (including constant):\")\n",
    "print(X_train_scaled.mean())\n",
    "\n",
    "print(\"\\nStandard deviation of each feature (including constant):\")\n",
    "print(X_train_scaled.std())\n"
   ],
   "outputs": [
    {
     "name": "stdout",
     "output_type": "stream",
     "text": [
      "Before Standardization:\n",
      "Mean of each feature:\n",
      "Age                   55.777198\n",
      "Mileage            68736.848564\n",
      "HP                   101.521323\n",
      "MetColor               0.664926\n",
      "Automatic              0.057441\n",
      "CC                  1567.839861\n",
      "Weight              1072.496084\n",
      "FuelType_Diesel        0.108790\n",
      "FuelType_Petrol        0.876414\n",
      "Doors_3                0.440383\n",
      "Doors_4                0.099217\n",
      "Doors_5                0.459530\n",
      "dtype: float64\n",
      "\n",
      "Standard deviation of each feature:\n",
      "Age                   18.736969\n",
      "Mileage            37769.373214\n",
      "HP                    14.719584\n",
      "MetColor               0.472222\n",
      "Automatic              0.232785\n",
      "CC                   187.030351\n",
      "Weight                50.782237\n",
      "FuelType_Diesel        0.311511\n",
      "FuelType_Petrol        0.329252\n",
      "Doors_3                0.496649\n",
      "Doors_4                0.299083\n",
      "Doors_5                0.498576\n",
      "dtype: float64\n",
      "\n",
      "After Standardization:\n",
      "Mean of each feature:\n",
      "Age               -6.802411e-17\n",
      "Mileage           -2.473604e-17\n",
      "HP                -5.565609e-17\n",
      "MetColor          -4.638007e-17\n",
      "Automatic         -4.328807e-17\n",
      "CC                 2.736424e-16\n",
      "Weight            -1.402997e-15\n",
      "FuelType_Diesel    0.000000e+00\n",
      "FuelType_Petrol    9.276015e-17\n",
      "Doors_3           -6.802411e-17\n",
      "Doors_4           -7.730012e-18\n",
      "Doors_5           -6.802411e-17\n",
      "dtype: float64\n",
      "\n",
      "Standard deviation of each feature:\n",
      "Age                1.000435\n",
      "Mileage            1.000435\n",
      "HP                 1.000435\n",
      "MetColor           1.000435\n",
      "Automatic          1.000435\n",
      "CC                 1.000435\n",
      "Weight             1.000435\n",
      "FuelType_Diesel    1.000435\n",
      "FuelType_Petrol    1.000435\n",
      "Doors_3            1.000435\n",
      "Doors_4            1.000435\n",
      "Doors_5            1.000435\n",
      "dtype: float64\n",
      "\n",
      "After Adding Constant Term:\n",
      "Mean of each feature (including constant):\n",
      "const              1.000000e+00\n",
      "Age               -6.802411e-17\n",
      "Mileage           -2.473604e-17\n",
      "HP                -5.565609e-17\n",
      "MetColor          -4.638007e-17\n",
      "Automatic         -4.328807e-17\n",
      "CC                 2.736424e-16\n",
      "Weight            -1.402997e-15\n",
      "FuelType_Diesel    0.000000e+00\n",
      "FuelType_Petrol    9.276015e-17\n",
      "Doors_3           -6.802411e-17\n",
      "Doors_4           -7.730012e-18\n",
      "Doors_5           -6.802411e-17\n",
      "dtype: float64\n",
      "\n",
      "Standard deviation of each feature (including constant):\n",
      "const              0.000000\n",
      "Age                1.000435\n",
      "Mileage            1.000435\n",
      "HP                 1.000435\n",
      "MetColor           1.000435\n",
      "Automatic          1.000435\n",
      "CC                 1.000435\n",
      "Weight             1.000435\n",
      "FuelType_Diesel    1.000435\n",
      "FuelType_Petrol    1.000435\n",
      "Doors_3            1.000435\n",
      "Doors_4            1.000435\n",
      "Doors_5            1.000435\n",
      "dtype: float64\n"
     ]
    }
   ],
   "execution_count": 13
  },
  {
   "cell_type": "markdown",
   "id": "ebec9402",
   "metadata": {},
   "source": [
    "E.(2 pts) Should we first standardize the data and then split it into train and test sets or vice versa?   why?"
   ]
  },
  {
   "cell_type": "markdown",
   "id": "49dfe2b6",
   "metadata": {},
   "source": [
    "Your Response:\n",
    "\n",
    "//**//"
   ]
  },
  {
   "cell_type": "markdown",
   "id": "012c220d",
   "metadata": {},
   "source": [
    "**2.2 (10 pts) Train and Evaluate the Linear Regression Model**\n",
    "\n",
    "To train a linear regression model using and evaluate its performance, follow these steps:\n",
    "\n",
    "1. (2 pts) Train a linear regression model on the training dataset using `sm.OLS` from `statsmodels`, print the summary of the model using `model.summary()`.\n"
   ]
  },
  {
   "cell_type": "code",
   "id": "0f4b338d",
   "metadata": {
    "ExecuteTime": {
     "end_time": "2025-02-15T18:23:12.005437Z",
     "start_time": "2025-02-15T18:23:11.907938Z"
    }
   },
   "source": [
    "import numpy as np\n",
    "import statsmodels.api as sm\n",
    "\n",
    "# Ensure y_train is a numeric NumPy array\n",
    "y_train = np.asarray(y_train).astype(float)\n",
    "\n",
    "# Ensure X_train_scaled is a numeric NumPy array\n",
    "X_train_scaled = np.asarray(X_train_scaled).astype(float)\n",
    "\n",
    "# Train the OLS model\n",
    "model = sm.OLS(y_train, X_train_scaled).fit()\n",
    "\n",
    "# Print the summary\n",
    "print(model.summary())\n"
   ],
   "outputs": [
    {
     "name": "stdout",
     "output_type": "stream",
     "text": [
      "                            OLS Regression Results                            \n",
      "==============================================================================\n",
      "Dep. Variable:                      y   R-squared:                       0.854\n",
      "Model:                            OLS   Adj. R-squared:                  0.853\n",
      "Method:                 Least Squares   F-statistic:                     555.2\n",
      "Date:                Sat, 15 Feb 2025   Prob (F-statistic):               0.00\n",
      "Time:                        19:23:11   Log-Likelihood:                -9849.1\n",
      "No. Observations:                1149   AIC:                         1.972e+04\n",
      "Df Residuals:                    1136   BIC:                         1.979e+04\n",
      "Df Model:                          12                                         \n",
      "Covariance Type:            nonrobust                                         \n",
      "==============================================================================\n",
      "                 coef    std err          t      P>|t|      [0.025      0.975]\n",
      "------------------------------------------------------------------------------\n",
      "const       9897.8103     37.914    261.060      0.000    9823.421    9972.199\n",
      "x1         -2090.5956     53.300    -39.223      0.000   -2195.174   -1986.018\n",
      "x2          -507.3151     53.426     -9.496      0.000    -612.141    -402.490\n",
      "x3           498.7567     96.956      5.144      0.000     308.525     688.989\n",
      "x4            19.5791     38.321      0.511      0.610     -55.608      94.766\n",
      "x5           -29.9615     40.279     -0.744      0.457    -108.991      49.068\n",
      "x6          -493.9176    113.633     -4.347      0.000    -716.873    -270.963\n",
      "x7          1199.5142     77.912     15.396      0.000    1046.647    1352.382\n",
      "x8           468.4691    174.046      2.692      0.007     126.981     809.957\n",
      "x9           407.1422    108.328      3.758      0.000     194.597     619.688\n",
      "x10           43.6853    639.728      0.068      0.946   -1211.495    1298.866\n",
      "x11          113.7366    386.811      0.294      0.769    -645.209     872.682\n",
      "x12          -10.0184    642.788     -0.016      0.988   -1271.204    1251.168\n",
      "==============================================================================\n",
      "Omnibus:                      171.731   Durbin-Watson:                   2.097\n",
      "Prob(Omnibus):                  0.000   Jarque-Bera (JB):             2028.577\n",
      "Skew:                          -0.228   Prob(JB):                         0.00\n",
      "Kurtosis:                       9.493   Cond. No.                         48.5\n",
      "==============================================================================\n",
      "\n",
      "Notes:\n",
      "[1] Standard Errors assume that the covariance matrix of the errors is correctly specified.\n"
     ]
    }
   ],
   "execution_count": 14
  },
  {
   "cell_type": "markdown",
   "id": "d5e4bdce",
   "metadata": {},
   "source": [
    "2. (2 pts) Evaluate the model on the test dataset using the square root of the mean squared error (RMSE) metric. \n",
    "   1. Report the RMSE value.\n",
    "   2. Your boss wants to know how far off the model's predictions are from the actual price of the car. What would you tell him? Given a number and explain how you got it.\n"
   ]
  },
  {
   "metadata": {
    "ExecuteTime": {
     "end_time": "2025-02-15T18:23:12.109446Z",
     "start_time": "2025-02-15T18:23:12.046882Z"
    }
   },
   "cell_type": "code",
   "source": [
    "# Predict the prices on the training set\n",
    "from sklearn.metrics import mean_squared_error\n",
    "y_train_pred = model.predict(X_train_scaled)\n",
    "\n",
    "# Calculate RMSE for training data\n",
    "rmse_train = np.sqrt(mean_squared_error(y_train, y_train_pred))\n",
    "\n",
    "# Print RMSE for training data\n",
    "print(f\"Root Mean Squared Error (RMSE) on training data: {rmse_train:.2f}\")\n"
   ],
   "id": "d5db9c71d798c291",
   "outputs": [
    {
     "name": "stdout",
     "output_type": "stream",
     "text": [
      "Root Mean Squared Error (RMSE) on training data: 1277.87\n"
     ]
    }
   ],
   "execution_count": 15
  },
  {
   "cell_type": "code",
   "id": "7936208b",
   "metadata": {
    "ExecuteTime": {
     "end_time": "2025-02-15T18:23:12.152510Z",
     "start_time": "2025-02-15T18:23:12.144589Z"
    }
   },
   "source": [
    "#TODO\n",
    "# Predict the prices on the test set\n",
    "y_pred = model.predict(X_test_scaled)\n",
    "\n",
    "# Calculate RMSE\n",
    "rmse = np.sqrt(mean_squared_error(y_test, y_pred))\n",
    "\n",
    "# Print RMSE\n",
    "print(f\"Root Mean Squared Error (RMSE) on test data: {rmse:.2f}\")\n"
   ],
   "outputs": [
    {
     "name": "stdout",
     "output_type": "stream",
     "text": [
      "Root Mean Squared Error (RMSE) on test data: 1451.95\n"
     ]
    }
   ],
   "execution_count": 16
  },
  {
   "cell_type": "markdown",
   "id": "92955c02",
   "metadata": {},
   "source": [
    "Your Response:\n",
    "\n",
    "//**//"
   ]
  },
  {
   "cell_type": "markdown",
   "id": "39a1de71",
   "metadata": {},
   "source": [
    "3. (2 pts) Report the R² score on the test dataset and interpret it.\n"
   ]
  },
  {
   "cell_type": "code",
   "id": "a1a4355f",
   "metadata": {
    "ExecuteTime": {
     "end_time": "2025-02-15T18:23:12.190319Z",
     "start_time": "2025-02-15T18:23:12.182775Z"
    }
   },
   "source": [
    "#TODO\n",
    "from sklearn.metrics import r2_score\n",
    "\n",
    "# Predict on the test set\n",
    "y_pred = model.predict(X_test_scaled)\n",
    "\n",
    "# Compute R² score\n",
    "r2 = r2_score(y_test, y_pred)\n",
    "\n",
    "# Print the result\n",
    "print(f\"R² Score on Test Data: {r2:.4f}\")\n"
   ],
   "outputs": [
    {
     "name": "stdout",
     "output_type": "stream",
     "text": [
      "R² Score on Test Data: 0.8218\n"
     ]
    }
   ],
   "execution_count": 17
  },
  {
   "cell_type": "markdown",
   "id": "4fe57aee",
   "metadata": {},
   "source": [
    "Your Response:\n",
    "\n",
    "//**//"
   ]
  },
  {
   "cell_type": "markdown",
   "id": "d9191203",
   "metadata": {},
   "source": [
    "4.  (2 pts) Which features are statistically significant at a 5% significance level? "
   ]
  },
  {
   "cell_type": "code",
   "id": "782d34e6",
   "metadata": {
    "ExecuteTime": {
     "end_time": "2025-02-15T18:23:13.934015Z",
     "start_time": "2025-02-15T18:23:13.927392Z"
    }
   },
   "source": [
    "# Extract p-values and coefficients from the model\n",
    "p_values = model.pvalues\n",
    "coefficients = model.params  # Extract coefficients\n",
    "\n",
    "# Retrieve feature names (excluding the index)\n",
    "feature_names = ['const'] + list(X_train.columns)  # Manually add 'const' for intercept\n",
    "\n",
    "# Create a DataFrame to display feature names, coefficients, p-values, and significance\n",
    "significance_df = pd.DataFrame({\n",
    "    \"Feature\": feature_names,  # Manually set feature names\n",
    "    \"Coefficient\": coefficients,  # Coefficients from model\n",
    "    \"P-Value\": p_values,  # P-values from model\n",
    "    \"Statistically Significant (p < 0.05)\": p_values < 0.05  # Boolean flag for significance\n",
    "})\n",
    "\n",
    "# Print the results\n",
    "print(significance_df)\n",
    "\n",
    "# Find the two features with the highest absolute coefficients (ignoring the intercept)\n",
    "top_features = significance_df.iloc[1:].loc[significance_df.iloc[1:][\"Coefficient\"].abs().nlargest(2).index]\n",
    "\n",
    "# Print the top two features with highest coefficients\n",
    "print(\"\\nTop 2 features with highest absolute coefficients:\")\n",
    "print(top_features)\n"
   ],
   "outputs": [
    {
     "name": "stdout",
     "output_type": "stream",
     "text": [
      "            Feature  Coefficient        P-Value  \\\n",
      "0             const  9897.810270   0.000000e+00   \n",
      "1               Age -2090.595645  1.905576e-213   \n",
      "2           Mileage  -507.315109   1.244847e-20   \n",
      "3                HP   498.756730   3.162996e-07   \n",
      "4          MetColor    19.579052   6.095001e-01   \n",
      "5         Automatic   -29.961511   4.571196e-01   \n",
      "6                CC  -493.917594   1.506588e-05   \n",
      "7            Weight  1199.514190   1.015058e-48   \n",
      "8   FuelType_Diesel   468.469129   7.214667e-03   \n",
      "9   FuelType_Petrol   407.142162   1.796845e-04   \n",
      "10          Doors_3    43.685322   9.455689e-01   \n",
      "11          Doors_4   113.736626   7.687838e-01   \n",
      "12          Doors_5   -10.018362   9.875676e-01   \n",
      "\n",
      "    Statistically Significant (p < 0.05)  \n",
      "0                                   True  \n",
      "1                                   True  \n",
      "2                                   True  \n",
      "3                                   True  \n",
      "4                                  False  \n",
      "5                                  False  \n",
      "6                                   True  \n",
      "7                                   True  \n",
      "8                                   True  \n",
      "9                                   True  \n",
      "10                                 False  \n",
      "11                                 False  \n",
      "12                                 False  \n",
      "\n",
      "Top 2 features with highest absolute coefficients:\n",
      "  Feature  Coefficient        P-Value  Statistically Significant (p < 0.05)\n",
      "1     Age -2090.595645  1.905576e-213                                  True\n",
      "7  Weight  1199.514190   1.015058e-48                                  True\n"
     ]
    }
   ],
   "execution_count": 18
  },
  {
   "cell_type": "markdown",
   "id": "8eff41e0",
   "metadata": {},
   "source": [
    "5.  (2 pts) Determine which two feature have the highest coefficient? What does it imply?"
   ]
  },
  {
   "cell_type": "markdown",
   "id": "7dd51a86",
   "metadata": {},
   "source": [
    "Your Response:\n",
    "\n",
    "//**//"
   ]
  },
  {
   "cell_type": "markdown",
   "id": "9af624b8",
   "metadata": {},
   "source": [
    "**2.3 (2 pts): Improvement Discussion**\n",
    "\n",
    "- Suggest a few additional features that could potentially explain this remaining variance in the data ( at least 2 features)."
   ]
  },
  {
   "cell_type": "markdown",
   "id": "81d36c87",
   "metadata": {},
   "source": [
    "Your Response:\n",
    "\n",
    "//**//"
   ]
  },
  {
   "cell_type": "markdown",
   "id": "94ca03f3",
   "metadata": {},
   "source": [
    "**2.4 (2 pts): Identifying Confounding Variables**\n",
    "\n",
    "The feature \"Weight\" shows a very low p-value and a high coefficient, but it doesn't seem to be a major factor for customers buying a second-hand car. You go to your mentor Jerasimosu to discuss this issue. Indeed, Jerasimosu suggests that never in his career has he seen a customer who asked for the weight of a car before buying it.\n",
    "You suspect that there might be a confounding variable that is correlated with the car's weight and significantly influences its price.\n",
    "\n",
    "- Suggest a possible confounding variable that may be correlated with the car's weight and significantly influence its price (it doesn't need to be a variable in the dataset). Explain why this variable could be a confounding variable."
   ]
  },
  {
   "cell_type": "markdown",
   "id": "c677c957",
   "metadata": {},
   "source": [
    "Your Response:\n",
    "\n",
    "//**//"
   ]
  },
  {
   "cell_type": "markdown",
   "id": "0c2854b8",
   "metadata": {},
   "source": [
    "**2.5 (2 pts): Adding an Inverse Mileage Term**\n",
    "\n",
    "From the previous scatter plot, the relationship between car price and mileage appears non-linear, with a steep price drop initially and then a flattening. A suitable approach to model this behavior is by incorporating an inverse term of mileage.\n",
    "\n",
    "- Add the inverse mileage term to the model and retrain it using the code provided. Print the model summary and interpret the effect of the inverse mileage term."
   ]
  },
  {
   "cell_type": "code",
   "id": "8a4b261e",
   "metadata": {
    "ExecuteTime": {
     "end_time": "2025-02-15T18:36:45.376225Z",
     "start_time": "2025-02-15T18:36:45.348843Z"
    }
   },
   "source": [
    "#TODO\n",
    "# Create deep copies to avoid modifying the original datasets\n",
    "X_train = X_train.copy(deep=True)\n",
    "X_test = X_test.copy(deep=True)\n",
    "\n",
    "# Add the inverse mileage feature (avoiding division by zero)\n",
    "X_train[\"Inverse_Mileage\"] = 1 / X_train[\"Mileage\"]\n",
    "X_test[\"Inverse_Mileage\"] = 1 / X_test[\"Mileage\"]\n",
    "\n",
    "# Re-fit the StandardScaler on the updated training data\n",
    "scaler = StandardScaler()  # Re-initialize\n",
    "X_train_scaled = scaler.fit_transform(X_train)  # Fit and transform on new train data\n",
    "X_test_scaled = scaler.transform(X_test)  # Transform test data using new scaler\n",
    "\n",
    "# Convert back to DataFrame for readability\n",
    "X_train_scaled = pd.DataFrame(X_train_scaled, columns=X_train.columns)\n",
    "X_test_scaled = pd.DataFrame(X_test_scaled, columns=X_test.columns)\n",
    "\n",
    "# Add a constant term for the intercept\n",
    "X_train_scaled = sm.add_constant(X_train_scaled)\n",
    "X_test_scaled = sm.add_constant(X_test_scaled)\n",
    "\n",
    "# Retrain the model with the new feature\n",
    "model_with_inverse = sm.OLS(y_train, X_train_scaled).fit()\n",
    "\n",
    "# Print the model summary\n",
    "print(model_with_inverse.summary())\n"
   ],
   "outputs": [
    {
     "name": "stdout",
     "output_type": "stream",
     "text": [
      "                            OLS Regression Results                            \n",
      "==============================================================================\n",
      "Dep. Variable:                      y   R-squared:                       0.855\n",
      "Model:                            OLS   Adj. R-squared:                  0.854\n",
      "Method:                 Least Squares   F-statistic:                     516.0\n",
      "Date:                Sat, 15 Feb 2025   Prob (F-statistic):               0.00\n",
      "Time:                        19:36:45   Log-Likelihood:                -9845.3\n",
      "No. Observations:                1149   AIC:                         1.972e+04\n",
      "Df Residuals:                    1135   BIC:                         1.979e+04\n",
      "Df Model:                          13                                         \n",
      "Covariance Type:            nonrobust                                         \n",
      "===================================================================================\n",
      "                      coef    std err          t      P>|t|      [0.025      0.975]\n",
      "-----------------------------------------------------------------------------------\n",
      "const            9897.8103     37.807    261.801      0.000    9823.631    9971.989\n",
      "Age             -2089.3940     53.151    -39.310      0.000   -2193.680   -1985.108\n",
      "Mileage          -523.1450     53.590     -9.762      0.000    -628.292    -417.998\n",
      "HP                490.2307     96.732      5.068      0.000     300.437     680.024\n",
      "MetColor           18.8002     38.213      0.492      0.623     -56.176      93.777\n",
      "Automatic         -36.0339     40.227     -0.896      0.371    -114.961      42.893\n",
      "CC               -492.4873    113.313     -4.346      0.000    -714.815    -270.160\n",
      "Weight           1222.9927     78.166     15.646      0.000    1069.626    1376.360\n",
      "FuelType_Diesel   458.9809    173.589      2.644      0.008     118.390     799.572\n",
      "FuelType_Petrol   406.8037    108.022      3.766      0.000     194.859     618.749\n",
      "Doors_3            39.2687    637.921      0.062      0.951   -1212.369    1290.906\n",
      "Doors_4           115.8030    385.719      0.300      0.764    -640.999     872.605\n",
      "Doors_5           -18.7322    640.979     -0.029      0.977   -1276.370    1238.905\n",
      "Inverse_Mileage  -105.7770     38.754     -2.729      0.006    -181.815     -29.739\n",
      "==============================================================================\n",
      "Omnibus:                      164.875   Durbin-Watson:                   2.092\n",
      "Prob(Omnibus):                  0.000   Jarque-Bera (JB):             1943.887\n",
      "Skew:                          -0.165   Prob(JB):                         0.00\n",
      "Kurtosis:                       9.363   Cond. No.                         48.5\n",
      "==============================================================================\n",
      "\n",
      "Notes:\n",
      "[1] Standard Errors assume that the covariance matrix of the errors is correctly specified.\n"
     ]
    }
   ],
   "execution_count": 19
  },
  {
   "cell_type": "markdown",
   "id": "1a3c61dc",
   "metadata": {},
   "source": [
    "## Part 3 Supervised Learning (40 pts)\n",
    "\n",
    "\n",
    "After completing your analysis, you're satisfied with the results. You handed the Jupyter notebook over to your mentor.\n",
    "\n",
    "(Fun fact: The name \"Jupyter\" is derived from Julia, Python, and R—three programming languages that the platform was originally designed for.)\n",
    "\n",
    "Your mentor Jerasimosu is very impressed with your work and asks you the following question:\n",
    "\n",
    "“\n",
    "This looks great! It will be very useful for our sales team. While looking at the results, I realized that there might be one thing that we can improve. \n",
    "For companies like us, it is important to sell the cars quickly. If we are patient, we might be able to sell the car for a higher price, but that’s not always the best strategy. We need to consider the maintenance costs for the car, the cash flow and the fact that the price of the car decreases over time.\"\n",
    "\n",
    "He then continues:\n",
    "\"Three months is a sweet spot for us. If we can sell the car within the first three months, it is great. If not, it is worth considering lowering the price to sell it faster and increase our cash flow. I can ask Ivan from Sales to collect data in the last few months on whether the car was sold within the first three months or not. This would be great if you could have a model that tells us if the car will be sold in the first three months or not. \"\n",
    "\n",
    "This sparks your interest, and soon Ivan has provided you with the new data containing an additional column `sold_within_3_months` which is a binary variable indicating whether the car was sold within the first three months or not.\n",
    "\n",
    "Note: The data for this part is in the file `Task3.ToyotaCorolla_sales_3months.csv` and it has already unified the currency and distance units."
   ]
  },
  {
   "cell_type": "code",
   "execution_count": 17,
   "id": "5371de93",
   "metadata": {},
   "outputs": [
    {
     "ename": "NameError",
     "evalue": "name 'pd' is not defined",
     "output_type": "error",
     "traceback": [
      "\u001B[0;31m---------------------------------------------------------------------------\u001B[0m",
      "\u001B[0;31mNameError\u001B[0m                                 Traceback (most recent call last)",
      "Cell \u001B[0;32mIn[17], line 1\u001B[0m\n\u001B[0;32m----> 1\u001B[0m data_df \u001B[38;5;241m=\u001B[39m \u001B[43mpd\u001B[49m\u001B[38;5;241m.\u001B[39mread_csv(\u001B[38;5;124m'\u001B[39m\u001B[38;5;124mdata/Task3.ToyotaCorolla_sales_3months.csv\u001B[39m\u001B[38;5;124m'\u001B[39m, index_col\u001B[38;5;241m=\u001B[39m\u001B[38;5;241m0\u001B[39m)\n\u001B[1;32m      2\u001B[0m \u001B[38;5;28mprint\u001B[39m(data_df\u001B[38;5;241m.\u001B[39mhead())\n",
      "\u001B[0;31mNameError\u001B[0m: name 'pd' is not defined"
     ]
    }
   ],
   "source": [
    "data_df = pd.read_csv('data/Task3.ToyotaCorolla_sales_3months.csv', index_col=0)\n",
    "print(data_df.head())"
   ]
  },
  {
   "cell_type": "markdown",
   "id": "87af3424",
   "metadata": {},
   "source": [
    "\n",
    "**3.1 (2 pts): Preprocess the Data**\n",
    "- （1 pts）How many cars in the dataset were sold in the first three months, and how many were not? "
   ]
  },
  {
   "cell_type": "code",
   "execution_count": 18,
   "id": "714cefb1",
   "metadata": {},
   "outputs": [],
   "source": [
    "#TODO"
   ]
  },
  {
   "cell_type": "markdown",
   "id": "eb49dc91",
   "metadata": {},
   "source": [
    "- (1 pts) Preprocess the categorical variables to one-hot encoding using the `pd.get_dummies()` function."
   ]
  },
  {
   "cell_type": "code",
   "execution_count": 19,
   "id": "e9ca7824",
   "metadata": {},
   "outputs": [],
   "source": [
    "#TODO"
   ]
  },
  {
   "cell_type": "markdown",
   "id": "1449cf1c",
   "metadata": {},
   "source": [
    "**3.2 (20 pts):  Logistic Regression Model**\n",
    "1. (2 pts) Split the data into features (X) and target (y) variables. The target variable is the 'sold_within_3_months' column. The `Price` column should be included as a feature."
   ]
  },
  {
   "cell_type": "code",
   "execution_count": 20,
   "id": "bda17a69",
   "metadata": {},
   "outputs": [],
   "source": [
    "#TODO"
   ]
  },
  {
   "cell_type": "markdown",
   "id": "28393827",
   "metadata": {},
   "source": [
    "2. (2 pts) Then split the data into train test sets using a 80-20 split. Use `random_state=42` for reproducibility. "
   ]
  },
  {
   "cell_type": "code",
   "execution_count": 21,
   "id": "7416161f",
   "metadata": {},
   "outputs": [],
   "source": [
    "#TODO"
   ]
  },
  {
   "cell_type": "markdown",
   "id": "d43f0fbf",
   "metadata": {},
   "source": [
    "3. (2 pts) Standardize the features using `StandardScaler` from `sklearn.preprocessing` and then add a constant column using `sm.add_constant()`."
   ]
  },
  {
   "cell_type": "code",
   "execution_count": 22,
   "id": "16bfc69e",
   "metadata": {},
   "outputs": [],
   "source": [
    "#TODO"
   ]
  },
  {
   "cell_type": "markdown",
   "id": "1b7029f6",
   "metadata": {},
   "source": [
    "4. (2 pts) Fit a logistic regression model on the training dataset. Feel free to use either `statsmodels` or `sklearn`."
   ]
  },
  {
   "cell_type": "code",
   "execution_count": 23,
   "id": "4d7e52e6",
   "metadata": {},
   "outputs": [],
   "source": [
    "#TODO"
   ]
  },
  {
   "cell_type": "markdown",
   "id": "e0c3b275",
   "metadata": {},
   "source": [
    "5. (2 pts) Evaluate the model on the test dataset using the accuracy score metric. Report the accuracy score."
   ]
  },
  {
   "cell_type": "code",
   "execution_count": 24,
   "id": "2152d2dc",
   "metadata": {},
   "outputs": [],
   "source": [
    "#TODO"
   ]
  },
  {
   "cell_type": "markdown",
   "id": "07b5d10b",
   "metadata": {},
   "source": [
    "6. (2 pts) Calculate the precision, recall, and F1-score."
   ]
  },
  {
   "cell_type": "code",
   "execution_count": 25,
   "id": "93ef377c",
   "metadata": {},
   "outputs": [],
   "source": [
    "#TODO"
   ]
  },
  {
   "cell_type": "markdown",
   "id": "b83bb422",
   "metadata": {},
   "source": [
    "7. (2 pts) Suppose that your company is running short on cash flow and needs to sell the cars quickly, for example by running some offer (special discount on cars). But which ones? How should you adjust the threshold for the decision boundary of the logistic regression model to ensure that the company can sell the cars as quickly as possible?\n",
    "    - A. Increase the threshold\n",
    "    - B. Decrease the threshold\n",
    "\n",
    "In a more general sense, how does the choice of threshold affect the precision and recall of the model?"
   ]
  },
  {
   "cell_type": "markdown",
   "id": "e1951dc8",
   "metadata": {},
   "source": [
    "Your Response:\n",
    "\n",
    "//**//"
   ]
  },
  {
   "cell_type": "markdown",
   "id": "f77a1414",
   "metadata": {},
   "source": [
    "8. (6 pts) Try to find the optimal threshold that maximizes the F1-score. Implement any kind of method you see fit (e.g. binary search or grid search). What is the optimal threshold and what difference does the optimal threshold make in the F1-score?\n",
    "\n",
    "If you notice anything odd, report it and try to identify the reasons behind it."
   ]
  },
  {
   "cell_type": "code",
   "execution_count": 27,
   "id": "ecc90348",
   "metadata": {
    "scrolled": true
   },
   "outputs": [],
   "source": [
    "#TODO"
   ]
  },
  {
   "cell_type": "markdown",
   "id": "53796e48",
   "metadata": {},
   "source": [
    "**3.3(23 pts) Free model exploration**\n",
    "\n",
    "Use any model from `sklearn` to predict whether a car will be sold within the first three months.\n",
    "\n",
    "Follow these steps to complete the task:\n",
    "\n",
    "1. (2 pts) Train your own classifier model to predict the target variable (`sold_within_3_months`).You can reuse the train and test sets from the previous section. Set `random_state=42` for reproducibility if needed. At this stage no need to optimize (yet). That will come at step 4."
   ]
  },
  {
   "cell_type": "code",
   "execution_count": 28,
   "id": "847d2270",
   "metadata": {},
   "outputs": [],
   "source": [
    "#TODO"
   ]
  },
  {
   "cell_type": "markdown",
   "id": "339e84a7",
   "metadata": {},
   "source": [
    "2. (2 pts) Evaluate the model on the test set and report on hyperparameters or other details of the algorithm you chose."
   ]
  },
  {
   "cell_type": "code",
   "execution_count": 29,
   "id": "f91de524",
   "metadata": {},
   "outputs": [],
   "source": [
    "#TODO"
   ]
  },
  {
   "cell_type": "markdown",
   "id": "aeacddbc",
   "metadata": {},
   "source": [
    "3. (2 pts) Come up with a visualization (could be related to the model or to some variables (e.g. EDA plots) to demonstrate the difficulty (or not) of the problem. "
   ]
  },
  {
   "cell_type": "code",
   "execution_count": 30,
   "id": "3899ce00",
   "metadata": {},
   "outputs": [],
   "source": [
    "#TODO"
   ]
  },
  {
   "cell_type": "markdown",
   "id": "294f27b0",
   "metadata": {},
   "source": [
    "4. (17 pts) Try to come up with a model that improves the results both in the previous seciton but also your baseline model in 3.1. Make to sure to properly evaluate the model. No need to provide a visualization here but feel free to add any supporting evidence to your modeling.\n",
    "\n",
    "Minimally (and for a high-grade) you should consider some form of regularization and proper cross-validation. \n",
    "\n",
    "Other things you can consider (in no particular order) are feature engineering, model robustness, hyperparameter tuning, ..."
   ]
  },
  {
   "cell_type": "code",
   "execution_count": 31,
   "id": "c23ea3be",
   "metadata": {},
   "outputs": [],
   "source": [
    "#TODO"
   ]
  },
  {
   "cell_type": "markdown",
   "id": "89384315",
   "metadata": {},
   "source": [
    "## Part 4 The Aftermath (5 pts)\n",
    "\n",
    "Machine learning models are often evaluated based on accuracy, precision and recall, but these metrics do not always capture fairness. Fairness is a broader concept that depends on the context of the dataset and the decisions influenced by the model.\n",
    "\n",
    "For this last question, you are asked to reflect on what fairness means in the context of this problem. More specifically, identify potential fairness concerns (at least 2) and suggest how they could be measured or mitigated.\n",
    "Explain why fairness matters (or doesn’t) in this specific context.\n",
    "\n",
    "*Hint: Think of the whole pipeline of data science: data collection, modeling, evaluation and identify sources of where the model might be unfair.*\n"
   ]
  },
  {
   "cell_type": "markdown",
   "id": "5cd5ceda",
   "metadata": {},
   "source": [
    "Your Response:\n",
    "\n",
    "//**//"
   ]
  }
 ],
 "metadata": {
  "kernelspec": {
   "display_name": "Python 3 (ipykernel)",
   "language": "python",
   "name": "python3"
  },
  "language_info": {
   "codemirror_mode": {
    "name": "ipython",
    "version": 3
   },
   "file_extension": ".py",
   "mimetype": "text/x-python",
   "name": "python",
   "nbconvert_exporter": "python",
   "pygments_lexer": "ipython3",
   "version": "3.8.3"
  }
 },
 "nbformat": 4,
 "nbformat_minor": 5
}
